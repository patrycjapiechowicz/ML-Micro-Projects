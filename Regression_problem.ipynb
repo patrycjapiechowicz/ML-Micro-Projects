{
  "cells": [
    {
      "cell_type": "markdown",
      "metadata": {
        "id": "view-in-github",
        "colab_type": "text"
      },
      "source": [
        "<a href=\"https://colab.research.google.com/github/patrycjapiechowicz/hobby-projects/blob/main/Regression_problem.ipynb\" target=\"_parent\"><img src=\"https://colab.research.google.com/assets/colab-badge.svg\" alt=\"Open In Colab\"/></a>"
      ]
    },
    {
      "cell_type": "markdown",
      "id": "f0d6f412",
      "metadata": {
        "id": "f0d6f412"
      },
      "source": [
        "# Regression problem - diamond prices prediction\n"
      ]
    },
    {
      "cell_type": "code",
      "source": [
        "pip install rapids"
      ],
      "metadata": {
        "id": "hHSgaqDA3FBp"
      },
      "id": "hHSgaqDA3FBp",
      "execution_count": null,
      "outputs": []
    },
    {
      "cell_type": "code",
      "source": [
        "!pip install cuml-cu11 --extra-index-url=https://pypi.ngc.nvidia.com\n",
        "!pip install cudf-cu11 --extra-index-url=https://pypi.ngc.nvidia.com\n",
        "!rm -rf /usr/local/lib/python3.8/dist-packages/cupy*\n",
        "!pip install cupy-cuda11x"
      ],
      "metadata": {
        "id": "5gCT1AY33FwE"
      },
      "id": "5gCT1AY33FwE",
      "execution_count": null,
      "outputs": []
    },
    {
      "cell_type": "code",
      "execution_count": null,
      "id": "25f87e92",
      "metadata": {
        "id": "25f87e92"
      },
      "outputs": [],
      "source": [
        "import numpy as np        \n",
        "import pandas as pd       \n",
        "import matplotlib.pyplot as plt\n",
        "import seaborn as sns \n",
        "\n",
        "import cudf\n",
        "import cupy as cp\n",
        "import cuml"
      ]
    },
    {
      "cell_type": "markdown",
      "id": "a7bddd11",
      "metadata": {
        "id": "a7bddd11"
      },
      "source": [
        "\n",
        "### Data import and preprocessing"
      ]
    },
    {
      "cell_type": "code",
      "source": [
        "from google.colab import drive\n",
        "drive.mount('/content/drive')"
      ],
      "metadata": {
        "id": "e2p_jayn3Nxx"
      },
      "id": "e2p_jayn3Nxx",
      "execution_count": null,
      "outputs": []
    },
    {
      "cell_type": "code",
      "execution_count": null,
      "id": "62c7f380",
      "metadata": {
        "id": "62c7f380"
      },
      "outputs": [],
      "source": [
        "df = cudf.read_csv(\"/content/diamonds.csv\")"
      ]
    },
    {
      "cell_type": "code",
      "execution_count": null,
      "id": "f488c5ca",
      "metadata": {
        "id": "f488c5ca",
        "outputId": "a79312ad-7060-4a9c-8bf2-fbad0a786455"
      },
      "outputs": [
        {
          "name": "stdout",
          "output_type": "stream",
          "text": [
            "<class 'cudf.core.dataframe.DataFrame'>\n",
            "RangeIndex: 53940 entries, 0 to 53939\n",
            "Data columns (total 11 columns):\n",
            " #   Column      Non-Null Count  Dtype\n",
            "---  ------      --------------  -----\n",
            " 0   Unnamed: 0  53940 non-null  object\n",
            " 1   carat       53940 non-null  float64\n",
            " 2   cut         53940 non-null  object\n",
            " 3   color       53940 non-null  object\n",
            " 4   clarity     53940 non-null  object\n",
            " 5   depth       53940 non-null  float64\n",
            " 6   table       53940 non-null  float64\n",
            " 7   price       53940 non-null  int64\n",
            " 8   x           53940 non-null  float64\n",
            " 9   y           53940 non-null  float64\n",
            " 10  z           53940 non-null  float64\n",
            "dtypes: float64(6), int64(1), object(4)\n",
            "memory usage: 4.5+ MB\n"
          ]
        }
      ],
      "source": [
        "df.info()"
      ]
    },
    {
      "cell_type": "code",
      "execution_count": null,
      "id": "8f822141",
      "metadata": {
        "id": "8f822141"
      },
      "outputs": [],
      "source": [
        "df.drop(columns = \"Unnamed: 0\",inplace=True)"
      ]
    },
    {
      "cell_type": "code",
      "execution_count": null,
      "id": "13fc6320",
      "metadata": {
        "id": "13fc6320"
      },
      "outputs": [],
      "source": [
        "# train/test split\n",
        "\n",
        "from sklearn.model_selection import train_test_split as sk_train_test_split\n",
        "from cuml.model_selection import train_test_split\n",
        "\n",
        "X = df.drop(columns = \"price\")\n",
        "y = df['price']"
      ]
    },
    {
      "cell_type": "code",
      "execution_count": null,
      "id": "25198a4f",
      "metadata": {
        "id": "25198a4f",
        "outputId": "4bceb0f8-20c6-480a-fd24-7b230bab9309"
      },
      "outputs": [
        {
          "data": {
            "text/plain": [
              "carat      431520\n",
              "cut        554858\n",
              "color      269704\n",
              "clarity    383774\n",
              "depth      431520\n",
              "table      431520\n",
              "x          431520\n",
              "y          431520\n",
              "z          431520\n",
              "Index           0\n",
              "dtype: int64"
            ]
          },
          "execution_count": 6,
          "metadata": {},
          "output_type": "execute_result"
        }
      ],
      "source": [
        "X.memory_usage()"
      ]
    },
    {
      "cell_type": "code",
      "execution_count": null,
      "id": "aef5714f",
      "metadata": {
        "id": "aef5714f"
      },
      "outputs": [],
      "source": [
        "# cast na typ category i podanie do xgboost takich danych - istotna redukcja utylizacji pamieci\n",
        "X['color'] = X['color'].astype(\"category\")\n",
        "X['cut'] = X['cut'].astype(\"category\")\n",
        "X['clarity'] = X['clarity'].astype(\"category\")\n"
      ]
    },
    {
      "cell_type": "code",
      "execution_count": null,
      "id": "abf7ae98",
      "metadata": {
        "id": "abf7ae98",
        "outputId": "6678dce3-4c61-49f1-b8a8-91fa8660876d"
      },
      "outputs": [
        {
          "data": {
            "text/plain": [
              "Ideal        21551\n",
              "Premium      13791\n",
              "Very Good    12082\n",
              "Good          4906\n",
              "Fair          1610\n",
              "Name: cut, dtype: int32"
            ]
          },
          "execution_count": 8,
          "metadata": {},
          "output_type": "execute_result"
        }
      ],
      "source": [
        "df.cut.value_counts()"
      ]
    },
    {
      "cell_type": "code",
      "execution_count": null,
      "id": "d4d75eba",
      "metadata": {
        "id": "d4d75eba",
        "outputId": "01c4910c-290c-4dc3-dfea-7cd5f8bc79fb"
      },
      "outputs": [
        {
          "data": {
            "text/plain": [
              "carat      431520\n",
              "cut         53993\n",
              "color       53979\n",
              "clarity     54000\n",
              "depth      431520\n",
              "table      431520\n",
              "x          431520\n",
              "y          431520\n",
              "z          431520\n",
              "Index           0\n",
              "dtype: int64"
            ]
          },
          "execution_count": 9,
          "metadata": {},
          "output_type": "execute_result"
        }
      ],
      "source": [
        "X.memory_usage()"
      ]
    },
    {
      "cell_type": "code",
      "execution_count": null,
      "id": "81de66a8",
      "metadata": {
        "id": "81de66a8"
      },
      "outputs": [],
      "source": [
        "X_train, X_test,y_train,y_test = \\\n",
        "train_test_split(X,y,test_size=.3,random_state=42)"
      ]
    },
    {
      "cell_type": "code",
      "execution_count": null,
      "id": "c79f3cc4",
      "metadata": {
        "id": "c79f3cc4"
      },
      "outputs": [],
      "source": [
        "?sk_train_test_split"
      ]
    },
    {
      "cell_type": "code",
      "execution_count": null,
      "id": "3135136d",
      "metadata": {
        "id": "3135136d",
        "outputId": "ca6fb767-bcb1-458b-d5a2-851c4f293ac1"
      },
      "outputs": [
        {
          "name": "stdout",
          "output_type": "stream",
          "text": [
            "<class 'cudf.core.dataframe.DataFrame'>\n",
            "Int64Index: 37758 entries, 45886 to 2363\n",
            "Data columns (total 9 columns):\n",
            " #   Column   Non-Null Count  Dtype\n",
            "---  ------   --------------  -----\n",
            " 0   carat    37758 non-null  float64\n",
            " 1   cut      37758 non-null  object\n",
            " 2   color    37758 non-null  object\n",
            " 3   clarity  37758 non-null  object\n",
            " 4   depth    37758 non-null  float64\n",
            " 5   table    37758 non-null  float64\n",
            " 6   x        37758 non-null  float64\n",
            " 7   y        37758 non-null  float64\n",
            " 8   z        37758 non-null  float64\n",
            "dtypes: float64(6), object(3)\n",
            "memory usage: 2.8+ MB\n"
          ]
        }
      ],
      "source": [
        "X_train.info()"
      ]
    },
    {
      "cell_type": "code",
      "execution_count": null,
      "id": "eced2791",
      "metadata": {
        "id": "eced2791"
      },
      "outputs": [],
      "source": [
        "df_p = X.to_pandas()"
      ]
    },
    {
      "cell_type": "code",
      "execution_count": null,
      "id": "a23c89da",
      "metadata": {
        "scrolled": true,
        "id": "a23c89da",
        "outputId": "205feef6-f1ff-4dfe-d86f-96d4910875c5"
      },
      "outputs": [
        {
          "data": {
            "text/plain": [
              "(array([0, 0, 0, ..., 6, 3, 6]),\n",
              " CategoricalIndex(['E', 'I', 'J', 'H', 'F', 'G', 'D'], categories=['D', 'E', 'F', 'G', 'H', 'I', 'J'], ordered=False, dtype='category'))"
            ]
          },
          "execution_count": 12,
          "metadata": {},
          "output_type": "execute_result"
        }
      ],
      "source": [
        "df_p['color'].astype(\"category\").factorize()"
      ]
    },
    {
      "cell_type": "code",
      "execution_count": null,
      "id": "f51a3a05",
      "metadata": {
        "id": "f51a3a05"
      },
      "outputs": [],
      "source": [
        "?pd.Series.factorize"
      ]
    },
    {
      "cell_type": "code",
      "execution_count": null,
      "id": "00081b78",
      "metadata": {
        "id": "00081b78"
      },
      "outputs": [],
      "source": [
        "from cuml.preprocessing import StandardScaler, FunctionTransformer,OneHotEncoder\n",
        "from cuml.compose import ColumnTransformer\n",
        "from cuml.pipeline import Pipeline"
      ]
    },
    {
      "cell_type": "code",
      "execution_count": null,
      "id": "6670e698",
      "metadata": {
        "id": "6670e698",
        "outputId": "c189c70f-e96b-42c8-f291-a798abfa089e"
      },
      "outputs": [
        {
          "data": {
            "text/plain": [
              "Ideal        21551\n",
              "Premium      13791\n",
              "Very Good    12082\n",
              "Good          4906\n",
              "Fair          1610\n",
              "Name: cut, dtype: int32"
            ]
          },
          "execution_count": 23,
          "metadata": {},
          "output_type": "execute_result"
        }
      ],
      "source": [
        "df['cut'].value_counts()"
      ]
    },
    {
      "cell_type": "code",
      "execution_count": null,
      "id": "98905799",
      "metadata": {
        "id": "98905799",
        "outputId": "a4966832-ef24-4393-a702-022226976b5e"
      },
      "outputs": [
        {
          "data": {
            "text/html": [
              "<div>\n",
              "<style scoped>\n",
              "    .dataframe tbody tr th:only-of-type {\n",
              "        vertical-align: middle;\n",
              "    }\n",
              "\n",
              "    .dataframe tbody tr th {\n",
              "        vertical-align: top;\n",
              "    }\n",
              "\n",
              "    .dataframe thead th {\n",
              "        text-align: right;\n",
              "    }\n",
              "</style>\n",
              "<table border=\"1\" class=\"dataframe\">\n",
              "  <thead>\n",
              "    <tr style=\"text-align: right;\">\n",
              "      <th></th>\n",
              "      <th>Fair</th>\n",
              "      <th>Good</th>\n",
              "      <th>Ideal</th>\n",
              "      <th>Premium</th>\n",
              "      <th>Very Good</th>\n",
              "    </tr>\n",
              "  </thead>\n",
              "  <tbody>\n",
              "    <tr>\n",
              "      <th>0</th>\n",
              "      <td>0</td>\n",
              "      <td>0</td>\n",
              "      <td>1</td>\n",
              "      <td>0</td>\n",
              "      <td>0</td>\n",
              "    </tr>\n",
              "    <tr>\n",
              "      <th>1</th>\n",
              "      <td>0</td>\n",
              "      <td>0</td>\n",
              "      <td>0</td>\n",
              "      <td>1</td>\n",
              "      <td>0</td>\n",
              "    </tr>\n",
              "    <tr>\n",
              "      <th>2</th>\n",
              "      <td>0</td>\n",
              "      <td>1</td>\n",
              "      <td>0</td>\n",
              "      <td>0</td>\n",
              "      <td>0</td>\n",
              "    </tr>\n",
              "    <tr>\n",
              "      <th>3</th>\n",
              "      <td>0</td>\n",
              "      <td>0</td>\n",
              "      <td>0</td>\n",
              "      <td>1</td>\n",
              "      <td>0</td>\n",
              "    </tr>\n",
              "    <tr>\n",
              "      <th>4</th>\n",
              "      <td>0</td>\n",
              "      <td>1</td>\n",
              "      <td>0</td>\n",
              "      <td>0</td>\n",
              "      <td>0</td>\n",
              "    </tr>\n",
              "    <tr>\n",
              "      <th>...</th>\n",
              "      <td>...</td>\n",
              "      <td>...</td>\n",
              "      <td>...</td>\n",
              "      <td>...</td>\n",
              "      <td>...</td>\n",
              "    </tr>\n",
              "    <tr>\n",
              "      <th>53935</th>\n",
              "      <td>0</td>\n",
              "      <td>0</td>\n",
              "      <td>1</td>\n",
              "      <td>0</td>\n",
              "      <td>0</td>\n",
              "    </tr>\n",
              "    <tr>\n",
              "      <th>53936</th>\n",
              "      <td>0</td>\n",
              "      <td>1</td>\n",
              "      <td>0</td>\n",
              "      <td>0</td>\n",
              "      <td>0</td>\n",
              "    </tr>\n",
              "    <tr>\n",
              "      <th>53937</th>\n",
              "      <td>0</td>\n",
              "      <td>0</td>\n",
              "      <td>0</td>\n",
              "      <td>0</td>\n",
              "      <td>1</td>\n",
              "    </tr>\n",
              "    <tr>\n",
              "      <th>53938</th>\n",
              "      <td>0</td>\n",
              "      <td>0</td>\n",
              "      <td>0</td>\n",
              "      <td>1</td>\n",
              "      <td>0</td>\n",
              "    </tr>\n",
              "    <tr>\n",
              "      <th>53939</th>\n",
              "      <td>0</td>\n",
              "      <td>0</td>\n",
              "      <td>1</td>\n",
              "      <td>0</td>\n",
              "      <td>0</td>\n",
              "    </tr>\n",
              "  </tbody>\n",
              "</table>\n",
              "<p>53940 rows × 5 columns</p>\n",
              "</div>"
            ],
            "text/plain": [
              "       Fair  Good  Ideal  Premium  Very Good\n",
              "0         0     0      1        0          0\n",
              "1         0     0      0        1          0\n",
              "2         0     1      0        0          0\n",
              "3         0     0      0        1          0\n",
              "4         0     1      0        0          0\n",
              "...     ...   ...    ...      ...        ...\n",
              "53935     0     0      1        0          0\n",
              "53936     0     1      0        0          0\n",
              "53937     0     0      0        0          1\n",
              "53938     0     0      0        1          0\n",
              "53939     0     0      1        0          0\n",
              "\n",
              "[53940 rows x 5 columns]"
            ]
          },
          "execution_count": 24,
          "metadata": {},
          "output_type": "execute_result"
        }
      ],
      "source": [
        "# one hot encoding\n",
        "cudf.get_dummies(df['cut'])"
      ]
    },
    {
      "cell_type": "code",
      "execution_count": null,
      "id": "5a6c9144",
      "metadata": {
        "id": "5a6c9144"
      },
      "outputs": [],
      "source": [
        "num_labels = X_train.select_dtypes(\"number\").columns\n",
        "cat_labels = X_train.select_dtypes(\"category\").columns\n"
      ]
    },
    {
      "cell_type": "code",
      "execution_count": null,
      "id": "b98ab380",
      "metadata": {
        "id": "b98ab380"
      },
      "outputs": [],
      "source": [
        "cat_preprocessor = OneHotEncoder()\n",
        "num_preprocessor = FunctionTransformer()"
      ]
    },
    {
      "cell_type": "code",
      "execution_count": null,
      "id": "a5677579",
      "metadata": {
        "collapsed": true,
        "id": "a5677579",
        "outputId": "04f40861-c49c-4262-f394-31e04f58242c"
      },
      "outputs": [
        {
          "data": {
            "text/plain": [
              "Index(['cut', 'color', 'clarity'], dtype='object')"
            ]
          },
          "execution_count": 42,
          "metadata": {},
          "output_type": "execute_result"
        }
      ],
      "source": [
        "cat_labels"
      ]
    },
    {
      "cell_type": "code",
      "execution_count": null,
      "id": "d3ba1c84",
      "metadata": {
        "id": "d3ba1c84"
      },
      "outputs": [],
      "source": [
        "preprocessor = ColumnTransformer([\n",
        "    (\"cat\",cat_preprocessor, cat_labels),\n",
        "    (\"num\",num_preprocessor, num_labels)\n",
        "\n",
        "])"
      ]
    },
    {
      "cell_type": "code",
      "execution_count": null,
      "id": "b2ac2fd6",
      "metadata": {
        "id": "b2ac2fd6",
        "outputId": "5099c822-b8e0-4b03-ef32-3438d8a31d0a"
      },
      "outputs": [
        {
          "data": {
            "text/plain": [
              "ColumnTransformer()"
            ]
          },
          "execution_count": 17,
          "metadata": {},
          "output_type": "execute_result"
        }
      ],
      "source": [
        "preprocessor"
      ]
    },
    {
      "cell_type": "code",
      "execution_count": null,
      "id": "cced00ed",
      "metadata": {
        "id": "cced00ed"
      },
      "outputs": [],
      "source": [
        "X_train_prep = preprocessor.fit_transform(X_train)\n",
        "X_test_prep = preprocessor.fit_transform(X_test)#tutaj powinien byc tylko transform!\n"
      ]
    },
    {
      "cell_type": "code",
      "execution_count": null,
      "id": "e652c913",
      "metadata": {
        "id": "e652c913"
      },
      "outputs": [],
      "source": [
        "feature_labels = preprocessor.transformers_[0][1]\\\n",
        ".get_feature_names(cat_labels).tolist()\n",
        "feature_labels.extend(num_labels)"
      ]
    },
    {
      "cell_type": "code",
      "execution_count": null,
      "id": "783a20e2",
      "metadata": {
        "id": "783a20e2"
      },
      "outputs": [],
      "source": [
        "X_train_prep.columns = feature_labels\n",
        "X_test_prep.columns = feature_labels\n"
      ]
    },
    {
      "cell_type": "code",
      "execution_count": null,
      "id": "cbf6a5be",
      "metadata": {
        "id": "cbf6a5be",
        "outputId": "7699c6b1-3caa-4f21-a260-0f3dbd09c790"
      },
      "outputs": [
        {
          "data": {
            "text/html": [
              "<div>\n",
              "<style scoped>\n",
              "    .dataframe tbody tr th:only-of-type {\n",
              "        vertical-align: middle;\n",
              "    }\n",
              "\n",
              "    .dataframe tbody tr th {\n",
              "        vertical-align: top;\n",
              "    }\n",
              "\n",
              "    .dataframe thead th {\n",
              "        text-align: right;\n",
              "    }\n",
              "</style>\n",
              "<table border=\"1\" class=\"dataframe\">\n",
              "  <thead>\n",
              "    <tr style=\"text-align: right;\">\n",
              "      <th></th>\n",
              "      <th>cut_Fair</th>\n",
              "      <th>cut_Good</th>\n",
              "      <th>cut_Ideal</th>\n",
              "      <th>cut_Premium</th>\n",
              "      <th>cut_Very Good</th>\n",
              "      <th>color_D</th>\n",
              "      <th>color_E</th>\n",
              "      <th>color_F</th>\n",
              "      <th>color_G</th>\n",
              "      <th>color_H</th>\n",
              "      <th>...</th>\n",
              "      <th>clarity_VS1</th>\n",
              "      <th>clarity_VS2</th>\n",
              "      <th>clarity_VVS1</th>\n",
              "      <th>clarity_VVS2</th>\n",
              "      <th>carat</th>\n",
              "      <th>depth</th>\n",
              "      <th>table</th>\n",
              "      <th>x</th>\n",
              "      <th>y</th>\n",
              "      <th>z</th>\n",
              "    </tr>\n",
              "  </thead>\n",
              "  <tbody>\n",
              "    <tr>\n",
              "      <th>0</th>\n",
              "      <td>0.0</td>\n",
              "      <td>0.0</td>\n",
              "      <td>0.0</td>\n",
              "      <td>1.0</td>\n",
              "      <td>0.0</td>\n",
              "      <td>0.0</td>\n",
              "      <td>0.0</td>\n",
              "      <td>0.0</td>\n",
              "      <td>0.0</td>\n",
              "      <td>1.0</td>\n",
              "      <td>...</td>\n",
              "      <td>0.0</td>\n",
              "      <td>1.0</td>\n",
              "      <td>0.0</td>\n",
              "      <td>0.0</td>\n",
              "      <td>0.61</td>\n",
              "      <td>62.8</td>\n",
              "      <td>59.0</td>\n",
              "      <td>5.44</td>\n",
              "      <td>5.30</td>\n",
              "      <td>3.37</td>\n",
              "    </tr>\n",
              "    <tr>\n",
              "      <th>1</th>\n",
              "      <td>0.0</td>\n",
              "      <td>0.0</td>\n",
              "      <td>1.0</td>\n",
              "      <td>0.0</td>\n",
              "      <td>0.0</td>\n",
              "      <td>0.0</td>\n",
              "      <td>0.0</td>\n",
              "      <td>0.0</td>\n",
              "      <td>0.0</td>\n",
              "      <td>0.0</td>\n",
              "      <td>...</td>\n",
              "      <td>0.0</td>\n",
              "      <td>1.0</td>\n",
              "      <td>0.0</td>\n",
              "      <td>0.0</td>\n",
              "      <td>1.24</td>\n",
              "      <td>61.7</td>\n",
              "      <td>55.0</td>\n",
              "      <td>6.91</td>\n",
              "      <td>6.96</td>\n",
              "      <td>4.28</td>\n",
              "    </tr>\n",
              "    <tr>\n",
              "      <th>2</th>\n",
              "      <td>0.0</td>\n",
              "      <td>0.0</td>\n",
              "      <td>0.0</td>\n",
              "      <td>1.0</td>\n",
              "      <td>0.0</td>\n",
              "      <td>0.0</td>\n",
              "      <td>0.0</td>\n",
              "      <td>0.0</td>\n",
              "      <td>0.0</td>\n",
              "      <td>0.0</td>\n",
              "      <td>...</td>\n",
              "      <td>1.0</td>\n",
              "      <td>0.0</td>\n",
              "      <td>0.0</td>\n",
              "      <td>0.0</td>\n",
              "      <td>1.19</td>\n",
              "      <td>59.9</td>\n",
              "      <td>61.0</td>\n",
              "      <td>6.91</td>\n",
              "      <td>6.85</td>\n",
              "      <td>4.12</td>\n",
              "    </tr>\n",
              "    <tr>\n",
              "      <th>3</th>\n",
              "      <td>0.0</td>\n",
              "      <td>0.0</td>\n",
              "      <td>0.0</td>\n",
              "      <td>1.0</td>\n",
              "      <td>0.0</td>\n",
              "      <td>0.0</td>\n",
              "      <td>0.0</td>\n",
              "      <td>1.0</td>\n",
              "      <td>0.0</td>\n",
              "      <td>0.0</td>\n",
              "      <td>...</td>\n",
              "      <td>0.0</td>\n",
              "      <td>1.0</td>\n",
              "      <td>0.0</td>\n",
              "      <td>0.0</td>\n",
              "      <td>0.54</td>\n",
              "      <td>58.9</td>\n",
              "      <td>59.0</td>\n",
              "      <td>5.37</td>\n",
              "      <td>5.32</td>\n",
              "      <td>3.15</td>\n",
              "    </tr>\n",
              "    <tr>\n",
              "      <th>4</th>\n",
              "      <td>0.0</td>\n",
              "      <td>0.0</td>\n",
              "      <td>0.0</td>\n",
              "      <td>1.0</td>\n",
              "      <td>0.0</td>\n",
              "      <td>0.0</td>\n",
              "      <td>0.0</td>\n",
              "      <td>0.0</td>\n",
              "      <td>0.0</td>\n",
              "      <td>0.0</td>\n",
              "      <td>...</td>\n",
              "      <td>0.0</td>\n",
              "      <td>0.0</td>\n",
              "      <td>0.0</td>\n",
              "      <td>0.0</td>\n",
              "      <td>2.01</td>\n",
              "      <td>62.7</td>\n",
              "      <td>58.0</td>\n",
              "      <td>8.02</td>\n",
              "      <td>7.97</td>\n",
              "      <td>5.01</td>\n",
              "    </tr>\n",
              "    <tr>\n",
              "      <th>...</th>\n",
              "      <td>...</td>\n",
              "      <td>...</td>\n",
              "      <td>...</td>\n",
              "      <td>...</td>\n",
              "      <td>...</td>\n",
              "      <td>...</td>\n",
              "      <td>...</td>\n",
              "      <td>...</td>\n",
              "      <td>...</td>\n",
              "      <td>...</td>\n",
              "      <td>...</td>\n",
              "      <td>...</td>\n",
              "      <td>...</td>\n",
              "      <td>...</td>\n",
              "      <td>...</td>\n",
              "      <td>...</td>\n",
              "      <td>...</td>\n",
              "      <td>...</td>\n",
              "      <td>...</td>\n",
              "      <td>...</td>\n",
              "      <td>...</td>\n",
              "    </tr>\n",
              "    <tr>\n",
              "      <th>37753</th>\n",
              "      <td>0.0</td>\n",
              "      <td>0.0</td>\n",
              "      <td>1.0</td>\n",
              "      <td>0.0</td>\n",
              "      <td>0.0</td>\n",
              "      <td>0.0</td>\n",
              "      <td>0.0</td>\n",
              "      <td>1.0</td>\n",
              "      <td>0.0</td>\n",
              "      <td>0.0</td>\n",
              "      <td>...</td>\n",
              "      <td>0.0</td>\n",
              "      <td>0.0</td>\n",
              "      <td>0.0</td>\n",
              "      <td>0.0</td>\n",
              "      <td>0.80</td>\n",
              "      <td>62.4</td>\n",
              "      <td>57.0</td>\n",
              "      <td>5.90</td>\n",
              "      <td>5.87</td>\n",
              "      <td>3.67</td>\n",
              "    </tr>\n",
              "    <tr>\n",
              "      <th>37754</th>\n",
              "      <td>0.0</td>\n",
              "      <td>0.0</td>\n",
              "      <td>0.0</td>\n",
              "      <td>0.0</td>\n",
              "      <td>1.0</td>\n",
              "      <td>0.0</td>\n",
              "      <td>0.0</td>\n",
              "      <td>0.0</td>\n",
              "      <td>0.0</td>\n",
              "      <td>1.0</td>\n",
              "      <td>...</td>\n",
              "      <td>0.0</td>\n",
              "      <td>0.0</td>\n",
              "      <td>0.0</td>\n",
              "      <td>0.0</td>\n",
              "      <td>0.53</td>\n",
              "      <td>61.7</td>\n",
              "      <td>55.0</td>\n",
              "      <td>5.20</td>\n",
              "      <td>5.24</td>\n",
              "      <td>3.22</td>\n",
              "    </tr>\n",
              "    <tr>\n",
              "      <th>37755</th>\n",
              "      <td>0.0</td>\n",
              "      <td>0.0</td>\n",
              "      <td>1.0</td>\n",
              "      <td>0.0</td>\n",
              "      <td>0.0</td>\n",
              "      <td>0.0</td>\n",
              "      <td>0.0</td>\n",
              "      <td>0.0</td>\n",
              "      <td>1.0</td>\n",
              "      <td>0.0</td>\n",
              "      <td>...</td>\n",
              "      <td>0.0</td>\n",
              "      <td>0.0</td>\n",
              "      <td>0.0</td>\n",
              "      <td>1.0</td>\n",
              "      <td>1.20</td>\n",
              "      <td>61.0</td>\n",
              "      <td>56.0</td>\n",
              "      <td>6.86</td>\n",
              "      <td>6.88</td>\n",
              "      <td>4.19</td>\n",
              "    </tr>\n",
              "    <tr>\n",
              "      <th>37756</th>\n",
              "      <td>0.0</td>\n",
              "      <td>1.0</td>\n",
              "      <td>0.0</td>\n",
              "      <td>0.0</td>\n",
              "      <td>0.0</td>\n",
              "      <td>0.0</td>\n",
              "      <td>1.0</td>\n",
              "      <td>0.0</td>\n",
              "      <td>0.0</td>\n",
              "      <td>0.0</td>\n",
              "      <td>...</td>\n",
              "      <td>0.0</td>\n",
              "      <td>0.0</td>\n",
              "      <td>1.0</td>\n",
              "      <td>0.0</td>\n",
              "      <td>0.38</td>\n",
              "      <td>62.4</td>\n",
              "      <td>64.0</td>\n",
              "      <td>4.61</td>\n",
              "      <td>4.59</td>\n",
              "      <td>2.87</td>\n",
              "    </tr>\n",
              "    <tr>\n",
              "      <th>37757</th>\n",
              "      <td>0.0</td>\n",
              "      <td>0.0</td>\n",
              "      <td>0.0</td>\n",
              "      <td>1.0</td>\n",
              "      <td>0.0</td>\n",
              "      <td>0.0</td>\n",
              "      <td>0.0</td>\n",
              "      <td>0.0</td>\n",
              "      <td>0.0</td>\n",
              "      <td>0.0</td>\n",
              "      <td>...</td>\n",
              "      <td>1.0</td>\n",
              "      <td>0.0</td>\n",
              "      <td>0.0</td>\n",
              "      <td>0.0</td>\n",
              "      <td>0.90</td>\n",
              "      <td>62.3</td>\n",
              "      <td>56.0</td>\n",
              "      <td>6.23</td>\n",
              "      <td>6.19</td>\n",
              "      <td>3.87</td>\n",
              "    </tr>\n",
              "  </tbody>\n",
              "</table>\n",
              "<p>37758 rows × 26 columns</p>\n",
              "</div>"
            ],
            "text/plain": [
              "       cut_Fair  cut_Good  cut_Ideal  cut_Premium  cut_Very Good  color_D  \\\n",
              "0           0.0       0.0        0.0          1.0            0.0      0.0   \n",
              "1           0.0       0.0        1.0          0.0            0.0      0.0   \n",
              "2           0.0       0.0        0.0          1.0            0.0      0.0   \n",
              "3           0.0       0.0        0.0          1.0            0.0      0.0   \n",
              "4           0.0       0.0        0.0          1.0            0.0      0.0   \n",
              "...         ...       ...        ...          ...            ...      ...   \n",
              "37753       0.0       0.0        1.0          0.0            0.0      0.0   \n",
              "37754       0.0       0.0        0.0          0.0            1.0      0.0   \n",
              "37755       0.0       0.0        1.0          0.0            0.0      0.0   \n",
              "37756       0.0       1.0        0.0          0.0            0.0      0.0   \n",
              "37757       0.0       0.0        0.0          1.0            0.0      0.0   \n",
              "\n",
              "       color_E  color_F  color_G  color_H  ...  clarity_VS1  clarity_VS2  \\\n",
              "0          0.0      0.0      0.0      1.0  ...          0.0          1.0   \n",
              "1          0.0      0.0      0.0      0.0  ...          0.0          1.0   \n",
              "2          0.0      0.0      0.0      0.0  ...          1.0          0.0   \n",
              "3          0.0      1.0      0.0      0.0  ...          0.0          1.0   \n",
              "4          0.0      0.0      0.0      0.0  ...          0.0          0.0   \n",
              "...        ...      ...      ...      ...  ...          ...          ...   \n",
              "37753      0.0      1.0      0.0      0.0  ...          0.0          0.0   \n",
              "37754      0.0      0.0      0.0      1.0  ...          0.0          0.0   \n",
              "37755      0.0      0.0      1.0      0.0  ...          0.0          0.0   \n",
              "37756      1.0      0.0      0.0      0.0  ...          0.0          0.0   \n",
              "37757      0.0      0.0      0.0      0.0  ...          1.0          0.0   \n",
              "\n",
              "       clarity_VVS1  clarity_VVS2  carat  depth  table     x     y     z  \n",
              "0               0.0           0.0   0.61   62.8   59.0  5.44  5.30  3.37  \n",
              "1               0.0           0.0   1.24   61.7   55.0  6.91  6.96  4.28  \n",
              "2               0.0           0.0   1.19   59.9   61.0  6.91  6.85  4.12  \n",
              "3               0.0           0.0   0.54   58.9   59.0  5.37  5.32  3.15  \n",
              "4               0.0           0.0   2.01   62.7   58.0  8.02  7.97  5.01  \n",
              "...             ...           ...    ...    ...    ...   ...   ...   ...  \n",
              "37753           0.0           0.0   0.80   62.4   57.0  5.90  5.87  3.67  \n",
              "37754           0.0           0.0   0.53   61.7   55.0  5.20  5.24  3.22  \n",
              "37755           0.0           1.0   1.20   61.0   56.0  6.86  6.88  4.19  \n",
              "37756           1.0           0.0   0.38   62.4   64.0  4.61  4.59  2.87  \n",
              "37757           0.0           0.0   0.90   62.3   56.0  6.23  6.19  3.87  \n",
              "\n",
              "[37758 rows x 26 columns]"
            ]
          },
          "execution_count": 21,
          "metadata": {},
          "output_type": "execute_result"
        }
      ],
      "source": [
        "X_train_prep"
      ]
    },
    {
      "cell_type": "code",
      "execution_count": null,
      "id": "21e4aad5",
      "metadata": {
        "id": "21e4aad5",
        "outputId": "66efa52e-fa6f-436d-baf6-02bbe64da501"
      },
      "outputs": [
        {
          "data": {
            "text/plain": [
              "Index(['carat', 'cut', 'color', 'clarity', 'depth', 'table', 'x', 'y', 'z'], dtype='object')"
            ]
          },
          "execution_count": 25,
          "metadata": {},
          "output_type": "execute_result"
        }
      ],
      "source": [
        "X.columns"
      ]
    },
    {
      "cell_type": "code",
      "execution_count": null,
      "id": "f22d0312",
      "metadata": {
        "id": "f22d0312",
        "outputId": "21079874-6580-46f7-ade8-588974df9d1d"
      },
      "outputs": [
        {
          "data": {
            "text/plain": [
              "Index(['cut_Fair', 'cut_Good', 'cut_Ideal', 'cut_Premium', 'cut_Very Good',\n",
              "       'color_D', 'color_E', 'color_F', 'color_G', 'color_H', 'color_I',\n",
              "       'color_J', 'clarity_I1', 'clarity_IF', 'clarity_SI1', 'clarity_SI2',\n",
              "       'clarity_VS1', 'clarity_VS2', 'clarity_VVS1', 'clarity_VVS2', 'carat',\n",
              "       'depth', 'table', 'x', 'y', 'z'],\n",
              "      dtype='object')"
            ]
          },
          "execution_count": 26,
          "metadata": {},
          "output_type": "execute_result"
        }
      ],
      "source": [
        "X_train_prep.columns"
      ]
    },
    {
      "cell_type": "markdown",
      "id": "bcde7f33",
      "metadata": {
        "id": "bcde7f33"
      },
      "source": [
        "# Xgboost"
      ]
    },
    {
      "cell_type": "markdown",
      "id": "bed3bab8",
      "metadata": {
        "id": "bed3bab8"
      },
      "source": [
        "We are ready to build the XGBoost model. Let's go over the popular parameter settings the XGBoost first.\n",
        "\n",
        "## General Parameters\n",
        "\n",
        "These define the overall functionality of XGBoost.\n",
        "\n",
        "1. booster [default=gbtree]\n",
        "    - Select the type of model to run at each iteration. It has 2 options:\n",
        "        - gbtree: tree-based models\n",
        "        - gblinear: linear models\n",
        "2. silent [default=0]:\n",
        "    - Silent mode is activated is set to 1, i.e. no running messages will be printed.\n",
        "    - It’s generally good to keep it 0 as the messages might help in understanding the model.\n",
        " \n",
        "\n",
        "## Booster Parameters\n",
        "Though there are 2 types of boosters, I’ll consider only tree booster here because it always outperforms the linear booster and thus the later is rarely used.\n",
        "\n",
        "1. eta [default=0.3]\n",
        "    - Makes the model more robust by shrinking the weights on each step\n",
        "    - Typical final values to be used: 0.01-0.2\n",
        "2. min_child_weight [default=1]\n",
        "    - Defines the minimum sum of weights of all observations required in a child.\n",
        "3. max_depth [default=6]\n",
        "    - Used to control over-fitting as higher depth will allow model to learn relations very specific to a particular sample.\n",
        "    - Should be tuned using CV.\n",
        "    - Typical values: 3-10\n",
        "4. max_leaf_nodes\n",
        "    - The maximum number of terminal nodes or leaves in a tree.\n",
        "    - Can be defined in place of max_depth. Since binary trees are created, a depth of ‘n’ would produce a maximum of 2^n leaves.\n",
        "5. gamma [default=0]\n",
        "    - A node is split only when the resulting split gives a positive reduction in the loss function. Gamma specifies the minimum loss reduction required to make a split.\n",
        "    - Makes the algorithm conservative. The values can vary depending on the loss function and should be tuned.\n",
        "6. subsample [default=1]\n",
        "    - Denotes the fraction of observations to be randomly samples for each tree.\n",
        "    - Lower values make the algorithm more conservative and prevents overfitting but too small values might lead to under-fitting.\n",
        "    - Typical values: 0.5-1\n",
        "7. colsample_bytree [default=1]\n",
        "    - Denotes the fraction of columns to be randomly samples for each tree.\n",
        "    - Typical values: 0.5-1\n",
        "8. colsample_bylevel [default=1]\n",
        "    - Denotes the subsample ratio of columns for each split, in each level.\n",
        "    - I don’t use this often because subsample and colsample_bytree will do the job for you. but you can explore further if you feel so.\n",
        "9. lambda [default=1]\n",
        "    - L2 regularization term on weights (analogous to Ridge regression)\n",
        "    - This used to handle the regularization part of XGBoost. Though many data scientists don’t use it often, it should be explored to reduce overfitting.\n",
        "10. alpha [default=0]\n",
        "    - L1 regularization term on weight (analogous to Lasso regression)\n",
        "    - Can be used in case of very high dimensionality so that the algorithm runs faster when implemented\n",
        "11. scale_pos_weight [default=1]\n",
        "    - A value greater than 0 should be used in case of high class imbalance as it helps in faster convergence.\n",
        " \n",
        "\n",
        "## Learning Task Parameters\n",
        "These parameters are used to define the optimization objective the metric to be calculated at each step.\n",
        "\n",
        "1. objective [default=reg:linear]\n",
        "    - This defines the loss function to be minimized. Mostly used values are:\n",
        "        - binary:logistic –logistic regression for binary classification, returns predicted probability (not class)\n",
        "        - multi:softmax –multiclass classification using the softmax objective, returns predicted class (not probabilities)\n",
        "            you also need to set an additional num_class (number of classes) parameter defining the number of unique classes\n",
        "        - multi:softprob –same as softmax, but returns predicted probability of each data point belonging to each class.\n",
        "2. eval_metric [ default according to objective ]\n",
        "    - The metric to be used for validation data.\n",
        "    - The default values are rmse for regression and error for classification.\n",
        "    - Typical values are:\n",
        "        - rmse – root mean square error\n",
        "        - mae – mean absolute error\n",
        "        - logloss – negative log-likelihood\n",
        "        - error – Binary classification error rate (0.5 threshold)\n",
        "        - merror – Multiclass classification error rate\n",
        "        - mlogloss – Multiclass logloss\n",
        "        - auc: Area under the curve\n",
        "3. seed [default=0]\n",
        "    - The random number seed.\n",
        "    - Can be used for generating reproducible results and also for parameter tuning.\n",
        "    \n",
        "Let's start with a set of parameter to train the model. We will come back to tune the parameters later."
      ]
    },
    {
      "cell_type": "markdown",
      "id": "6cb0f06a",
      "metadata": {
        "id": "6cb0f06a"
      },
      "source": [
        "## Training XGBoost"
      ]
    },
    {
      "cell_type": "code",
      "execution_count": null,
      "id": "81a0a3d1",
      "metadata": {
        "id": "81a0a3d1"
      },
      "outputs": [],
      "source": [
        "import xgboost as xgb"
      ]
    },
    {
      "cell_type": "code",
      "execution_count": null,
      "id": "85a0f9a0",
      "metadata": {
        "id": "85a0f9a0"
      },
      "outputs": [],
      "source": [
        "?xgb.DMatrix #format for xgb"
      ]
    },
    {
      "cell_type": "code",
      "execution_count": null,
      "id": "3987df82",
      "metadata": {
        "id": "3987df82"
      },
      "outputs": [],
      "source": [
        "val_frac = .2\n",
        "val_split = int(X_train_prep.shape[0]*(1-val_frac))"
      ]
    },
    {
      "cell_type": "code",
      "execution_count": null,
      "id": "b969e9a1",
      "metadata": {
        "id": "b969e9a1",
        "outputId": "adc2c3c6-b8d7-4ae6-c31b-a066694734fe"
      },
      "outputs": [
        {
          "data": {
            "text/plain": [
              "30206"
            ]
          },
          "execution_count": 77,
          "metadata": {},
          "output_type": "execute_result"
        }
      ],
      "source": [
        "val_split"
      ]
    },
    {
      "cell_type": "code",
      "execution_count": null,
      "id": "0c4ab246",
      "metadata": {
        "id": "0c4ab246",
        "outputId": "9bb4dea9-26b6-414e-9212-9612fc28e9d8"
      },
      "outputs": [
        {
          "data": {
            "text/plain": [
              "RangeIndex(start=0, stop=37758, step=1)"
            ]
          },
          "execution_count": 29,
          "metadata": {},
          "output_type": "execute_result"
        }
      ],
      "source": [
        "X_train_prep.index"
      ]
    },
    {
      "cell_type": "code",
      "execution_count": null,
      "id": "f1ca1465",
      "metadata": {
        "id": "f1ca1465"
      },
      "outputs": [],
      "source": [
        "dtrain = xgb.DMatrix(X_train_prep.iloc[:val_split], y_train[:val_split])\n",
        "dval = xgb.DMatrix(X_train_prep.iloc[val_split:], y_train[val_split:])\n",
        "dtest = xgb.DMatrix(X_test_prep, y_test)\n"
      ]
    },
    {
      "cell_type": "code",
      "execution_count": null,
      "id": "7c548aeb",
      "metadata": {
        "id": "7c548aeb",
        "outputId": "18aea8eb-8d12-4aa1-f08c-6283a58db552"
      },
      "outputs": [
        {
          "name": "stdout",
          "output_type": "stream",
          "text": [
            "[0]\ttrain-rmse:4003.86650\tval-rmse:4005.01887\n",
            "[1]\ttrain-rmse:2891.44040\tval-rmse:2886.43908\n",
            "[2]\ttrain-rmse:2127.93177\tval-rmse:2123.25831\n",
            "[3]\ttrain-rmse:1610.80969\tval-rmse:1605.25515\n",
            "[4]\ttrain-rmse:1268.31853\tval-rmse:1270.25888\n",
            "[5]\ttrain-rmse:1033.05207\tval-rmse:1041.29982\n",
            "[6]\ttrain-rmse:883.96418\tval-rmse:899.95327\n",
            "[7]\ttrain-rmse:790.73341\tval-rmse:814.42358\n",
            "[8]\ttrain-rmse:722.14391\tval-rmse:751.25210\n",
            "[9]\ttrain-rmse:678.17122\tval-rmse:716.25917\n",
            "[10]\ttrain-rmse:647.22049\tval-rmse:688.03040\n",
            "[11]\ttrain-rmse:619.40613\tval-rmse:666.72873\n",
            "[12]\ttrain-rmse:603.87973\tval-rmse:655.63534\n",
            "[13]\ttrain-rmse:589.51574\tval-rmse:644.93790\n",
            "[14]\ttrain-rmse:577.96548\tval-rmse:635.67213\n",
            "[15]\ttrain-rmse:566.73752\tval-rmse:628.00511\n",
            "[16]\ttrain-rmse:557.98720\tval-rmse:623.10204\n",
            "[17]\ttrain-rmse:550.43904\tval-rmse:619.39353\n",
            "[18]\ttrain-rmse:543.62535\tval-rmse:618.13450\n",
            "[19]\ttrain-rmse:534.27995\tval-rmse:611.72611\n",
            "[20]\ttrain-rmse:530.22253\tval-rmse:609.47797\n",
            "[21]\ttrain-rmse:523.42376\tval-rmse:606.44929\n",
            "[22]\ttrain-rmse:520.23779\tval-rmse:604.34089\n",
            "[23]\ttrain-rmse:513.24339\tval-rmse:602.78958\n",
            "[24]\ttrain-rmse:508.52525\tval-rmse:601.30695\n",
            "[25]\ttrain-rmse:502.25982\tval-rmse:599.78472\n",
            "[26]\ttrain-rmse:496.98827\tval-rmse:598.35581\n",
            "[27]\ttrain-rmse:493.68161\tval-rmse:595.67941\n",
            "[28]\ttrain-rmse:491.13567\tval-rmse:594.94816\n",
            "[29]\ttrain-rmse:488.58267\tval-rmse:594.78509\n",
            "[30]\ttrain-rmse:484.58653\tval-rmse:591.11009\n",
            "[31]\ttrain-rmse:480.56870\tval-rmse:589.60825\n",
            "[32]\ttrain-rmse:477.29464\tval-rmse:588.07829\n",
            "[33]\ttrain-rmse:474.94780\tval-rmse:587.11189\n",
            "[34]\ttrain-rmse:469.13052\tval-rmse:587.40212\n",
            "[35]\ttrain-rmse:466.41404\tval-rmse:587.25794\n",
            "[36]\ttrain-rmse:463.57883\tval-rmse:586.49179\n",
            "[37]\ttrain-rmse:460.47618\tval-rmse:585.86665\n",
            "[38]\ttrain-rmse:459.46072\tval-rmse:585.83512\n",
            "[39]\ttrain-rmse:458.95688\tval-rmse:585.56302\n",
            "[40]\ttrain-rmse:455.77606\tval-rmse:586.07569\n",
            "[41]\ttrain-rmse:455.58239\tval-rmse:585.96545\n",
            "[42]\ttrain-rmse:452.17662\tval-rmse:586.37552\n",
            "[43]\ttrain-rmse:448.04129\tval-rmse:585.42524\n",
            "[44]\ttrain-rmse:446.35934\tval-rmse:584.69897\n",
            "[45]\ttrain-rmse:444.99063\tval-rmse:584.20251\n",
            "[46]\ttrain-rmse:444.34384\tval-rmse:583.83222\n",
            "[47]\ttrain-rmse:441.20135\tval-rmse:583.17203\n",
            "[48]\ttrain-rmse:438.47358\tval-rmse:582.01477\n",
            "[49]\ttrain-rmse:436.78090\tval-rmse:581.10543\n",
            "[50]\ttrain-rmse:435.11582\tval-rmse:581.06530\n",
            "[51]\ttrain-rmse:433.35558\tval-rmse:580.10990\n",
            "[52]\ttrain-rmse:433.22146\tval-rmse:580.03116\n",
            "[53]\ttrain-rmse:432.25347\tval-rmse:580.47723\n",
            "[54]\ttrain-rmse:427.24282\tval-rmse:579.31876\n",
            "[55]\ttrain-rmse:424.12117\tval-rmse:579.87502\n",
            "[56]\ttrain-rmse:421.69665\tval-rmse:581.16435\n",
            "[57]\ttrain-rmse:420.90961\tval-rmse:580.29958\n",
            "[58]\ttrain-rmse:420.06716\tval-rmse:579.65918\n",
            "[59]\ttrain-rmse:417.66608\tval-rmse:580.16729\n",
            "[60]\ttrain-rmse:415.67710\tval-rmse:580.42955\n",
            "[61]\ttrain-rmse:414.48724\tval-rmse:580.59491\n",
            "[62]\ttrain-rmse:413.50267\tval-rmse:580.34646\n",
            "[63]\ttrain-rmse:411.95278\tval-rmse:580.06350\n",
            "[64]\ttrain-rmse:409.83831\tval-rmse:580.61543\n",
            "[65]\ttrain-rmse:409.62707\tval-rmse:580.42346\n",
            "[66]\ttrain-rmse:407.38493\tval-rmse:579.77619\n",
            "[67]\ttrain-rmse:406.37662\tval-rmse:579.82318\n",
            "[68]\ttrain-rmse:405.79995\tval-rmse:580.24455\n",
            "[69]\ttrain-rmse:405.56308\tval-rmse:580.07565\n",
            "[70]\ttrain-rmse:403.83613\tval-rmse:579.24404\n",
            "[71]\ttrain-rmse:402.51130\tval-rmse:579.18341\n",
            "[72]\ttrain-rmse:400.90059\tval-rmse:579.56597\n",
            "[73]\ttrain-rmse:398.93307\tval-rmse:580.40339\n",
            "[74]\ttrain-rmse:396.90036\tval-rmse:579.93702\n",
            "[75]\ttrain-rmse:394.87191\tval-rmse:580.62079\n",
            "[76]\ttrain-rmse:393.96086\tval-rmse:581.06627\n",
            "[77]\ttrain-rmse:393.47831\tval-rmse:580.81210\n",
            "[78]\ttrain-rmse:391.51205\tval-rmse:581.24708\n",
            "[79]\ttrain-rmse:390.60843\tval-rmse:581.34477\n",
            "[80]\ttrain-rmse:390.18501\tval-rmse:581.19752\n",
            "[81]\ttrain-rmse:387.90849\tval-rmse:580.38392\n",
            "[82]\ttrain-rmse:386.20352\tval-rmse:580.82853\n",
            "[83]\ttrain-rmse:385.76640\tval-rmse:580.69320\n",
            "[84]\ttrain-rmse:384.63428\tval-rmse:580.69508\n",
            "[85]\ttrain-rmse:383.72857\tval-rmse:580.55661\n",
            "[86]\ttrain-rmse:382.76709\tval-rmse:580.71015\n",
            "[87]\ttrain-rmse:380.30162\tval-rmse:581.22618\n",
            "[88]\ttrain-rmse:379.78042\tval-rmse:581.54631\n",
            "[89]\ttrain-rmse:377.94152\tval-rmse:582.26621\n",
            "[90]\ttrain-rmse:377.51482\tval-rmse:582.11719\n",
            "[91]\ttrain-rmse:376.96126\tval-rmse:582.07996\n",
            "[92]\ttrain-rmse:376.61708\tval-rmse:582.06740\n",
            "[93]\ttrain-rmse:374.93699\tval-rmse:582.06745\n",
            "[94]\ttrain-rmse:373.82556\tval-rmse:581.82573\n",
            "[95]\ttrain-rmse:373.27726\tval-rmse:581.67686\n",
            "[96]\ttrain-rmse:371.24520\tval-rmse:581.51299\n",
            "[97]\ttrain-rmse:369.77746\tval-rmse:581.61623\n",
            "[98]\ttrain-rmse:367.76722\tval-rmse:581.11216\n",
            "[99]\ttrain-rmse:367.61144\tval-rmse:581.02588\n",
            "[100]\ttrain-rmse:366.28687\tval-rmse:581.36580\n",
            "[101]\ttrain-rmse:365.51432\tval-rmse:581.02525\n",
            "[102]\ttrain-rmse:364.03958\tval-rmse:580.24806\n",
            "[103]\ttrain-rmse:363.04898\tval-rmse:579.90536\n",
            "[104]\ttrain-rmse:361.96403\tval-rmse:579.59757\n",
            "[105]\ttrain-rmse:361.23265\tval-rmse:579.72165\n",
            "[106]\ttrain-rmse:360.68937\tval-rmse:579.57428\n",
            "[107]\ttrain-rmse:359.62400\tval-rmse:579.65076\n",
            "[108]\ttrain-rmse:358.75747\tval-rmse:579.36414\n",
            "[109]\ttrain-rmse:357.76292\tval-rmse:579.08639\n",
            "[110]\ttrain-rmse:357.03871\tval-rmse:578.82191\n",
            "[111]\ttrain-rmse:356.03611\tval-rmse:578.67403\n",
            "[112]\ttrain-rmse:354.31607\tval-rmse:578.70669\n",
            "[113]\ttrain-rmse:352.58531\tval-rmse:578.81742\n",
            "[114]\ttrain-rmse:351.08692\tval-rmse:579.62131\n",
            "[115]\ttrain-rmse:350.31621\tval-rmse:579.91912\n",
            "[116]\ttrain-rmse:349.82968\tval-rmse:579.82098\n",
            "[117]\ttrain-rmse:348.65167\tval-rmse:579.90966\n",
            "[118]\ttrain-rmse:348.30818\tval-rmse:580.35784\n",
            "[119]\ttrain-rmse:347.12484\tval-rmse:580.29684\n",
            "[120]\ttrain-rmse:345.84189\tval-rmse:580.47301\n",
            "[121]\ttrain-rmse:344.25521\tval-rmse:580.60576\n",
            "[122]\ttrain-rmse:342.64287\tval-rmse:580.51044\n",
            "[123]\ttrain-rmse:341.00866\tval-rmse:581.09063\n",
            "[124]\ttrain-rmse:340.02796\tval-rmse:581.04770\n",
            "[125]\ttrain-rmse:338.63709\tval-rmse:581.17211\n",
            "[126]\ttrain-rmse:337.65247\tval-rmse:581.09991\n",
            "[127]\ttrain-rmse:336.68277\tval-rmse:581.17555\n",
            "[128]\ttrain-rmse:336.31262\tval-rmse:580.90082\n",
            "[129]\ttrain-rmse:336.06510\tval-rmse:580.81980\n",
            "[130]\ttrain-rmse:334.87299\tval-rmse:580.86837\n",
            "[131]\ttrain-rmse:334.29871\tval-rmse:580.89564\n",
            "[132]\ttrain-rmse:333.38583\tval-rmse:580.18680\n",
            "[133]\ttrain-rmse:332.98778\tval-rmse:580.14612\n",
            "[134]\ttrain-rmse:332.07515\tval-rmse:580.49385\n",
            "[135]\ttrain-rmse:330.94073\tval-rmse:580.43032\n",
            "[136]\ttrain-rmse:330.30771\tval-rmse:580.41139\n",
            "[137]\ttrain-rmse:329.91569\tval-rmse:580.35926\n",
            "[138]\ttrain-rmse:329.34764\tval-rmse:580.18601\n",
            "[139]\ttrain-rmse:328.17058\tval-rmse:580.49009\n",
            "[140]\ttrain-rmse:327.33611\tval-rmse:580.03309\n",
            "[141]\ttrain-rmse:325.91873\tval-rmse:580.73188\n",
            "[142]\ttrain-rmse:325.08316\tval-rmse:580.81841\n",
            "[143]\ttrain-rmse:323.79194\tval-rmse:581.11363\n",
            "[144]\ttrain-rmse:323.00078\tval-rmse:581.11165\n",
            "[145]\ttrain-rmse:322.40747\tval-rmse:581.39828\n",
            "[146]\ttrain-rmse:321.74897\tval-rmse:581.31430\n",
            "[147]\ttrain-rmse:321.71410\tval-rmse:581.30170\n",
            "[148]\ttrain-rmse:321.56273\tval-rmse:581.21124\n",
            "[149]\ttrain-rmse:321.46078\tval-rmse:581.16956\n",
            "[150]\ttrain-rmse:320.34397\tval-rmse:581.19816\n",
            "[151]\ttrain-rmse:319.96419\tval-rmse:581.07816\n",
            "[152]\ttrain-rmse:318.85398\tval-rmse:580.79478\n",
            "[153]\ttrain-rmse:318.10422\tval-rmse:580.56634\n",
            "[154]\ttrain-rmse:317.12321\tval-rmse:580.51462\n",
            "[155]\ttrain-rmse:315.37332\tval-rmse:582.29108\n",
            "[156]\ttrain-rmse:314.60276\tval-rmse:581.92689\n",
            "[157]\ttrain-rmse:313.23841\tval-rmse:581.62273\n",
            "[158]\ttrain-rmse:312.36491\tval-rmse:581.96709\n",
            "[159]\ttrain-rmse:311.42112\tval-rmse:582.03688\n",
            "[160]\ttrain-rmse:310.14935\tval-rmse:582.62168\n",
            "[161]\ttrain-rmse:309.05848\tval-rmse:582.99381\n",
            "[162]\ttrain-rmse:307.52772\tval-rmse:583.10381\n",
            "[163]\ttrain-rmse:307.34479\tval-rmse:583.13099\n",
            "[164]\ttrain-rmse:306.32078\tval-rmse:583.29159\n",
            "[165]\ttrain-rmse:305.38954\tval-rmse:583.93056\n",
            "[166]\ttrain-rmse:305.26831\tval-rmse:583.98017\n",
            "[167]\ttrain-rmse:305.04890\tval-rmse:583.86907\n",
            "[168]\ttrain-rmse:304.17624\tval-rmse:583.75859\n",
            "[169]\ttrain-rmse:303.82520\tval-rmse:583.60972\n",
            "[170]\ttrain-rmse:302.84064\tval-rmse:583.69914\n",
            "[171]\ttrain-rmse:302.31932\tval-rmse:583.93709\n",
            "[172]\ttrain-rmse:301.62355\tval-rmse:583.58808\n",
            "[173]\ttrain-rmse:300.59049\tval-rmse:583.57133\n",
            "[174]\ttrain-rmse:300.35998\tval-rmse:583.48225\n",
            "[175]\ttrain-rmse:299.07970\tval-rmse:583.46781\n",
            "[176]\ttrain-rmse:298.40535\tval-rmse:583.45596\n",
            "[177]\ttrain-rmse:297.44864\tval-rmse:583.44485\n",
            "[178]\ttrain-rmse:296.68322\tval-rmse:583.22864\n",
            "[179]\ttrain-rmse:296.51160\tval-rmse:583.30754\n",
            "[180]\ttrain-rmse:296.13616\tval-rmse:583.32702\n"
          ]
        },
        {
          "name": "stdout",
          "output_type": "stream",
          "text": [
            "[181]\ttrain-rmse:295.24228\tval-rmse:583.26322\n",
            "[182]\ttrain-rmse:294.40141\tval-rmse:583.47743\n",
            "[183]\ttrain-rmse:293.83802\tval-rmse:583.56575\n",
            "[184]\ttrain-rmse:293.45117\tval-rmse:583.42134\n",
            "[185]\ttrain-rmse:292.13740\tval-rmse:583.69804\n",
            "[186]\ttrain-rmse:291.87483\tval-rmse:583.65845\n",
            "[187]\ttrain-rmse:291.79828\tval-rmse:583.69887\n",
            "[188]\ttrain-rmse:291.75698\tval-rmse:583.68290\n",
            "[189]\ttrain-rmse:291.38081\tval-rmse:583.80672\n",
            "[190]\ttrain-rmse:290.62096\tval-rmse:583.76177\n",
            "[191]\ttrain-rmse:290.16260\tval-rmse:583.70793\n",
            "[192]\ttrain-rmse:289.83706\tval-rmse:583.79954\n",
            "[193]\ttrain-rmse:288.48460\tval-rmse:584.23931\n",
            "[194]\ttrain-rmse:287.40286\tval-rmse:584.38945\n",
            "[195]\ttrain-rmse:286.62160\tval-rmse:584.41241\n",
            "[196]\ttrain-rmse:286.26242\tval-rmse:584.43106\n",
            "[197]\ttrain-rmse:285.04275\tval-rmse:584.57283\n",
            "[198]\ttrain-rmse:284.37170\tval-rmse:584.60203\n",
            "[199]\ttrain-rmse:284.15297\tval-rmse:584.61671\n",
            "[200]\ttrain-rmse:283.71524\tval-rmse:584.66806\n",
            "[201]\ttrain-rmse:283.27620\tval-rmse:584.52709\n",
            "[202]\ttrain-rmse:282.52624\tval-rmse:584.49001\n",
            "[203]\ttrain-rmse:281.91566\tval-rmse:584.49771\n",
            "[204]\ttrain-rmse:281.18293\tval-rmse:584.52801\n",
            "[205]\ttrain-rmse:280.41755\tval-rmse:585.46075\n",
            "[206]\ttrain-rmse:279.81617\tval-rmse:585.49739\n",
            "[207]\ttrain-rmse:278.81872\tval-rmse:585.42029\n",
            "[208]\ttrain-rmse:278.15650\tval-rmse:585.39734\n",
            "[209]\ttrain-rmse:277.76547\tval-rmse:585.47252\n",
            "[210]\ttrain-rmse:276.88553\tval-rmse:585.69532\n",
            "[211]\ttrain-rmse:276.29902\tval-rmse:585.70294\n",
            "[212]\ttrain-rmse:275.78532\tval-rmse:586.01849\n",
            "[213]\ttrain-rmse:275.07185\tval-rmse:586.25546\n",
            "[214]\ttrain-rmse:274.80618\tval-rmse:586.14294\n",
            "[215]\ttrain-rmse:273.73183\tval-rmse:586.58075\n",
            "[216]\ttrain-rmse:273.59539\tval-rmse:586.42898\n",
            "[217]\ttrain-rmse:273.44242\tval-rmse:586.39674\n",
            "[218]\ttrain-rmse:272.95775\tval-rmse:586.50321\n",
            "[219]\ttrain-rmse:271.92198\tval-rmse:586.67700\n",
            "[220]\ttrain-rmse:270.60581\tval-rmse:586.60646\n",
            "[221]\ttrain-rmse:270.11916\tval-rmse:586.71816\n",
            "[222]\ttrain-rmse:269.98984\tval-rmse:586.68864\n",
            "[223]\ttrain-rmse:269.34916\tval-rmse:586.89111\n",
            "[224]\ttrain-rmse:268.53574\tval-rmse:587.07844\n",
            "[225]\ttrain-rmse:267.73753\tval-rmse:587.17698\n",
            "[226]\ttrain-rmse:266.70442\tval-rmse:587.32058\n",
            "[227]\ttrain-rmse:266.13476\tval-rmse:587.45616\n",
            "[228]\ttrain-rmse:266.07939\tval-rmse:587.39832\n",
            "[229]\ttrain-rmse:265.56285\tval-rmse:587.38414\n",
            "[230]\ttrain-rmse:265.40513\tval-rmse:587.35266\n",
            "[231]\ttrain-rmse:265.37888\tval-rmse:587.34993\n",
            "[232]\ttrain-rmse:265.03138\tval-rmse:587.35676\n",
            "[233]\ttrain-rmse:264.89158\tval-rmse:587.36881\n",
            "[234]\ttrain-rmse:264.43455\tval-rmse:587.37821\n",
            "[235]\ttrain-rmse:264.29759\tval-rmse:587.35593\n",
            "[236]\ttrain-rmse:263.49070\tval-rmse:587.16133\n",
            "[237]\ttrain-rmse:262.96407\tval-rmse:587.14858\n",
            "[238]\ttrain-rmse:262.10437\tval-rmse:586.92801\n",
            "[239]\ttrain-rmse:261.14917\tval-rmse:587.07528\n",
            "[240]\ttrain-rmse:260.33813\tval-rmse:586.95681\n",
            "[241]\ttrain-rmse:259.79356\tval-rmse:586.90187\n",
            "[242]\ttrain-rmse:259.62551\tval-rmse:586.87109\n",
            "[243]\ttrain-rmse:259.12195\tval-rmse:586.86541\n",
            "[244]\ttrain-rmse:258.27874\tval-rmse:586.94298\n",
            "[245]\ttrain-rmse:257.81086\tval-rmse:587.00964\n",
            "[246]\ttrain-rmse:257.43233\tval-rmse:587.00209\n",
            "[247]\ttrain-rmse:257.36968\tval-rmse:586.98527\n",
            "[248]\ttrain-rmse:256.64943\tval-rmse:586.88533\n",
            "[249]\ttrain-rmse:256.11096\tval-rmse:586.92621\n",
            "[250]\ttrain-rmse:255.60187\tval-rmse:586.97861\n",
            "[251]\ttrain-rmse:255.30431\tval-rmse:586.88282\n",
            "[252]\ttrain-rmse:255.20374\tval-rmse:586.87955\n",
            "[253]\ttrain-rmse:254.77142\tval-rmse:586.87753\n",
            "[254]\ttrain-rmse:254.30681\tval-rmse:586.83571\n",
            "[255]\ttrain-rmse:254.11499\tval-rmse:587.14811\n",
            "[256]\ttrain-rmse:253.91037\tval-rmse:587.04425\n",
            "[257]\ttrain-rmse:253.24065\tval-rmse:587.08913\n",
            "[258]\ttrain-rmse:253.18899\tval-rmse:587.07507\n",
            "[259]\ttrain-rmse:252.27693\tval-rmse:587.15980\n",
            "[260]\ttrain-rmse:252.17657\tval-rmse:587.13233\n",
            "[261]\ttrain-rmse:252.09974\tval-rmse:587.17264\n",
            "[262]\ttrain-rmse:251.42114\tval-rmse:587.23376\n",
            "[263]\ttrain-rmse:251.27235\tval-rmse:587.36436\n",
            "[264]\ttrain-rmse:250.81778\tval-rmse:587.22453\n",
            "[265]\ttrain-rmse:250.55034\tval-rmse:587.33681\n",
            "[266]\ttrain-rmse:249.95730\tval-rmse:587.51867\n",
            "[267]\ttrain-rmse:249.40446\tval-rmse:587.78515\n",
            "[268]\ttrain-rmse:249.14593\tval-rmse:587.78481\n",
            "[269]\ttrain-rmse:248.43856\tval-rmse:587.91484\n",
            "[270]\ttrain-rmse:248.22903\tval-rmse:587.81973\n",
            "[271]\ttrain-rmse:248.20594\tval-rmse:587.81029\n",
            "[272]\ttrain-rmse:248.11073\tval-rmse:587.75978\n",
            "[273]\ttrain-rmse:247.69645\tval-rmse:587.77456\n",
            "[274]\ttrain-rmse:247.04032\tval-rmse:587.95593\n",
            "[275]\ttrain-rmse:246.20517\tval-rmse:588.25979\n",
            "[276]\ttrain-rmse:245.55511\tval-rmse:588.41009\n",
            "[277]\ttrain-rmse:245.02799\tval-rmse:588.55052\n",
            "[278]\ttrain-rmse:244.78069\tval-rmse:588.51449\n",
            "[279]\ttrain-rmse:244.48109\tval-rmse:588.61342\n",
            "[280]\ttrain-rmse:244.07840\tval-rmse:588.72236\n",
            "[281]\ttrain-rmse:243.78613\tval-rmse:588.66553\n",
            "[282]\ttrain-rmse:243.32232\tval-rmse:588.66561\n",
            "[283]\ttrain-rmse:242.79247\tval-rmse:589.08156\n",
            "[284]\ttrain-rmse:242.46129\tval-rmse:589.28969\n",
            "[285]\ttrain-rmse:242.04029\tval-rmse:589.34287\n",
            "[286]\ttrain-rmse:241.76837\tval-rmse:589.36292\n",
            "[287]\ttrain-rmse:241.69227\tval-rmse:589.34193\n",
            "[288]\ttrain-rmse:241.64278\tval-rmse:589.34768\n",
            "[289]\ttrain-rmse:241.20445\tval-rmse:589.32191\n",
            "[290]\ttrain-rmse:241.02155\tval-rmse:589.46842\n",
            "[291]\ttrain-rmse:240.39214\tval-rmse:589.31612\n",
            "[292]\ttrain-rmse:239.88548\tval-rmse:589.26835\n",
            "[293]\ttrain-rmse:239.53220\tval-rmse:589.32148\n",
            "[294]\ttrain-rmse:239.06906\tval-rmse:589.30568\n",
            "[295]\ttrain-rmse:239.03086\tval-rmse:589.30354\n",
            "[296]\ttrain-rmse:238.85103\tval-rmse:589.26539\n",
            "[297]\ttrain-rmse:238.71051\tval-rmse:589.23952\n",
            "[298]\ttrain-rmse:238.20964\tval-rmse:589.41226\n",
            "[299]\ttrain-rmse:237.73130\tval-rmse:589.47824\n",
            "[300]\ttrain-rmse:237.20525\tval-rmse:589.48452\n",
            "[301]\ttrain-rmse:236.54475\tval-rmse:589.36926\n",
            "[302]\ttrain-rmse:235.84124\tval-rmse:589.43779\n",
            "[303]\ttrain-rmse:235.76830\tval-rmse:589.41282\n",
            "[304]\ttrain-rmse:235.36451\tval-rmse:589.49021\n",
            "[305]\ttrain-rmse:234.73472\tval-rmse:589.76601\n",
            "[306]\ttrain-rmse:234.71588\tval-rmse:589.70222\n",
            "[307]\ttrain-rmse:234.19594\tval-rmse:589.62595\n",
            "[308]\ttrain-rmse:234.00122\tval-rmse:589.49673\n",
            "[309]\ttrain-rmse:233.86381\tval-rmse:589.52981\n",
            "[310]\ttrain-rmse:233.54834\tval-rmse:589.51261\n",
            "[311]\ttrain-rmse:233.12758\tval-rmse:589.56876\n",
            "[312]\ttrain-rmse:232.63501\tval-rmse:589.55037\n",
            "[313]\ttrain-rmse:232.52337\tval-rmse:589.63047\n",
            "[314]\ttrain-rmse:232.44185\tval-rmse:589.68645\n",
            "[315]\ttrain-rmse:231.92706\tval-rmse:589.63905\n",
            "[316]\ttrain-rmse:231.56291\tval-rmse:589.67739\n",
            "[317]\ttrain-rmse:231.39363\tval-rmse:589.65615\n",
            "[318]\ttrain-rmse:230.71223\tval-rmse:589.79945\n",
            "[319]\ttrain-rmse:230.28478\tval-rmse:589.91336\n",
            "[320]\ttrain-rmse:229.64153\tval-rmse:589.99968\n",
            "[321]\ttrain-rmse:229.07294\tval-rmse:589.80526\n",
            "[322]\ttrain-rmse:229.01415\tval-rmse:589.79680\n",
            "[323]\ttrain-rmse:228.35373\tval-rmse:589.85265\n",
            "[324]\ttrain-rmse:227.65529\tval-rmse:589.88390\n",
            "[325]\ttrain-rmse:227.29954\tval-rmse:590.08530\n",
            "[326]\ttrain-rmse:226.87049\tval-rmse:590.23111\n",
            "[327]\ttrain-rmse:226.43745\tval-rmse:590.15821\n",
            "[328]\ttrain-rmse:226.04684\tval-rmse:590.25027\n",
            "[329]\ttrain-rmse:225.87008\tval-rmse:590.21967\n",
            "[330]\ttrain-rmse:225.53421\tval-rmse:590.51920\n",
            "[331]\ttrain-rmse:225.08049\tval-rmse:590.82494\n",
            "[332]\ttrain-rmse:224.47141\tval-rmse:590.87227\n",
            "[333]\ttrain-rmse:224.37105\tval-rmse:590.81074\n",
            "[334]\ttrain-rmse:224.03595\tval-rmse:590.71904\n",
            "[335]\ttrain-rmse:223.60566\tval-rmse:590.77724\n",
            "[336]\ttrain-rmse:223.17020\tval-rmse:590.89194\n",
            "[337]\ttrain-rmse:223.02164\tval-rmse:590.86736\n",
            "[338]\ttrain-rmse:222.41066\tval-rmse:590.98949\n",
            "[339]\ttrain-rmse:222.26187\tval-rmse:590.97460\n",
            "[340]\ttrain-rmse:221.80834\tval-rmse:591.12161\n",
            "[341]\ttrain-rmse:221.56050\tval-rmse:591.11345\n",
            "[342]\ttrain-rmse:221.54688\tval-rmse:591.11245\n",
            "[343]\ttrain-rmse:221.44311\tval-rmse:591.12315\n",
            "[344]\ttrain-rmse:220.68664\tval-rmse:591.11391\n",
            "[345]\ttrain-rmse:220.67430\tval-rmse:591.11030\n",
            "[346]\ttrain-rmse:220.34646\tval-rmse:591.24359\n",
            "[347]\ttrain-rmse:220.32760\tval-rmse:591.23966\n",
            "[348]\ttrain-rmse:219.85047\tval-rmse:591.19908\n",
            "[349]\ttrain-rmse:219.40612\tval-rmse:591.21176\n",
            "[350]\ttrain-rmse:218.93156\tval-rmse:591.22307\n",
            "[351]\ttrain-rmse:218.29533\tval-rmse:591.14010\n",
            "[352]\ttrain-rmse:218.10085\tval-rmse:591.10013\n",
            "[353]\ttrain-rmse:217.67771\tval-rmse:591.03901\n",
            "[354]\ttrain-rmse:217.58051\tval-rmse:590.99581\n",
            "[355]\ttrain-rmse:216.88859\tval-rmse:591.02387\n",
            "[356]\ttrain-rmse:216.50243\tval-rmse:590.89504\n",
            "[357]\ttrain-rmse:216.04494\tval-rmse:591.09718\n",
            "[358]\ttrain-rmse:215.50354\tval-rmse:591.12140\n",
            "[359]\ttrain-rmse:215.28934\tval-rmse:591.21939\n"
          ]
        },
        {
          "name": "stdout",
          "output_type": "stream",
          "text": [
            "[360]\ttrain-rmse:214.52119\tval-rmse:591.53672\n",
            "[361]\ttrain-rmse:213.81529\tval-rmse:591.42752\n",
            "[362]\ttrain-rmse:213.43485\tval-rmse:591.41823\n",
            "[363]\ttrain-rmse:213.28936\tval-rmse:591.38895\n",
            "[364]\ttrain-rmse:213.24069\tval-rmse:591.37374\n",
            "[365]\ttrain-rmse:212.76525\tval-rmse:591.35100\n",
            "[366]\ttrain-rmse:212.22026\tval-rmse:591.56570\n",
            "[367]\ttrain-rmse:211.79252\tval-rmse:591.47027\n",
            "[368]\ttrain-rmse:211.58094\tval-rmse:591.51204\n",
            "[369]\ttrain-rmse:211.34469\tval-rmse:591.48229\n",
            "[370]\ttrain-rmse:210.94984\tval-rmse:591.65272\n",
            "[371]\ttrain-rmse:210.62581\tval-rmse:591.69052\n",
            "[372]\ttrain-rmse:210.11797\tval-rmse:591.62394\n",
            "[373]\ttrain-rmse:209.78541\tval-rmse:591.84146\n",
            "[374]\ttrain-rmse:209.64986\tval-rmse:591.80626\n",
            "[375]\ttrain-rmse:209.64264\tval-rmse:591.82536\n",
            "[376]\ttrain-rmse:209.62017\tval-rmse:591.82290\n",
            "[377]\ttrain-rmse:209.05492\tval-rmse:591.90942\n",
            "[378]\ttrain-rmse:208.48246\tval-rmse:592.11134\n",
            "[379]\ttrain-rmse:208.40471\tval-rmse:592.08720\n",
            "[380]\ttrain-rmse:208.18536\tval-rmse:591.99552\n",
            "[381]\ttrain-rmse:207.91489\tval-rmse:591.95505\n",
            "[382]\ttrain-rmse:207.67283\tval-rmse:591.80435\n",
            "[383]\ttrain-rmse:207.44638\tval-rmse:591.80389\n",
            "[384]\ttrain-rmse:207.13191\tval-rmse:591.70979\n",
            "[385]\ttrain-rmse:206.55619\tval-rmse:591.73732\n",
            "[386]\ttrain-rmse:206.49781\tval-rmse:591.55941\n",
            "[387]\ttrain-rmse:205.91730\tval-rmse:591.54775\n",
            "[388]\ttrain-rmse:205.56402\tval-rmse:591.54663\n",
            "[389]\ttrain-rmse:205.32781\tval-rmse:591.45278\n",
            "[390]\ttrain-rmse:205.06561\tval-rmse:591.58204\n",
            "[391]\ttrain-rmse:204.92306\tval-rmse:591.59813\n",
            "[392]\ttrain-rmse:204.67732\tval-rmse:591.47449\n",
            "[393]\ttrain-rmse:204.56173\tval-rmse:591.54674\n",
            "[394]\ttrain-rmse:204.53345\tval-rmse:591.56003\n",
            "[395]\ttrain-rmse:204.29377\tval-rmse:591.39371\n",
            "[396]\ttrain-rmse:204.13382\tval-rmse:591.25138\n",
            "[397]\ttrain-rmse:203.79235\tval-rmse:591.29999\n",
            "[398]\ttrain-rmse:203.72172\tval-rmse:591.31358\n",
            "[399]\ttrain-rmse:203.25624\tval-rmse:591.27314\n",
            "[400]\ttrain-rmse:202.79257\tval-rmse:591.36841\n",
            "[401]\ttrain-rmse:202.77053\tval-rmse:591.37174\n",
            "[402]\ttrain-rmse:202.27432\tval-rmse:591.43580\n",
            "[403]\ttrain-rmse:201.97269\tval-rmse:591.66037\n",
            "[404]\ttrain-rmse:201.65133\tval-rmse:591.71250\n",
            "[405]\ttrain-rmse:200.99215\tval-rmse:591.97278\n",
            "[406]\ttrain-rmse:200.50474\tval-rmse:592.07254\n",
            "[407]\ttrain-rmse:200.27080\tval-rmse:592.04619\n",
            "[408]\ttrain-rmse:200.17252\tval-rmse:592.04091\n",
            "[409]\ttrain-rmse:199.88832\tval-rmse:592.04369\n",
            "[410]\ttrain-rmse:199.40096\tval-rmse:592.08973\n",
            "[411]\ttrain-rmse:198.91136\tval-rmse:592.12518\n",
            "[412]\ttrain-rmse:198.48746\tval-rmse:592.27247\n",
            "[413]\ttrain-rmse:198.12133\tval-rmse:592.31211\n",
            "[414]\ttrain-rmse:197.85285\tval-rmse:592.17652\n",
            "[415]\ttrain-rmse:197.70887\tval-rmse:592.13024\n",
            "[416]\ttrain-rmse:197.61997\tval-rmse:592.15838\n",
            "[417]\ttrain-rmse:197.14937\tval-rmse:592.23238\n",
            "[418]\ttrain-rmse:196.71724\tval-rmse:592.23875\n",
            "[419]\ttrain-rmse:196.32530\tval-rmse:592.17811\n",
            "[420]\ttrain-rmse:195.78779\tval-rmse:592.18585\n",
            "[421]\ttrain-rmse:195.41926\tval-rmse:592.22020\n",
            "[422]\ttrain-rmse:195.00002\tval-rmse:592.39705\n",
            "[423]\ttrain-rmse:194.90871\tval-rmse:592.39468\n",
            "[424]\ttrain-rmse:194.45846\tval-rmse:592.52137\n",
            "[425]\ttrain-rmse:194.25502\tval-rmse:592.52101\n",
            "[426]\ttrain-rmse:194.07479\tval-rmse:592.53801\n",
            "[427]\ttrain-rmse:193.93648\tval-rmse:592.54744\n",
            "[428]\ttrain-rmse:193.91802\tval-rmse:592.54104\n",
            "[429]\ttrain-rmse:193.64517\tval-rmse:592.51304\n",
            "[430]\ttrain-rmse:193.28966\tval-rmse:592.53690\n",
            "[431]\ttrain-rmse:192.84761\tval-rmse:592.54887\n",
            "[432]\ttrain-rmse:192.51068\tval-rmse:592.58994\n",
            "[433]\ttrain-rmse:192.44965\tval-rmse:592.59372\n",
            "[434]\ttrain-rmse:192.24197\tval-rmse:592.62247\n",
            "[435]\ttrain-rmse:192.07216\tval-rmse:592.66219\n",
            "[436]\ttrain-rmse:191.58223\tval-rmse:592.72898\n",
            "[437]\ttrain-rmse:191.47210\tval-rmse:592.82320\n",
            "[438]\ttrain-rmse:191.19634\tval-rmse:592.89133\n",
            "[439]\ttrain-rmse:191.02515\tval-rmse:592.88895\n",
            "[440]\ttrain-rmse:190.69321\tval-rmse:592.95829\n",
            "[441]\ttrain-rmse:190.42339\tval-rmse:592.99862\n",
            "[442]\ttrain-rmse:190.12489\tval-rmse:593.25266\n",
            "[443]\ttrain-rmse:190.08642\tval-rmse:593.20564\n",
            "[444]\ttrain-rmse:189.96849\tval-rmse:593.21188\n",
            "[445]\ttrain-rmse:189.76861\tval-rmse:593.11637\n",
            "[446]\ttrain-rmse:189.50159\tval-rmse:593.24983\n",
            "[447]\ttrain-rmse:189.40166\tval-rmse:593.24135\n",
            "[448]\ttrain-rmse:189.36213\tval-rmse:593.31240\n",
            "[449]\ttrain-rmse:188.82872\tval-rmse:593.32748\n",
            "[450]\ttrain-rmse:188.54833\tval-rmse:593.23092\n",
            "[451]\ttrain-rmse:188.12081\tval-rmse:593.23971\n",
            "[452]\ttrain-rmse:188.02060\tval-rmse:593.22919\n",
            "[453]\ttrain-rmse:187.56873\tval-rmse:593.26158\n",
            "[454]\ttrain-rmse:187.45664\tval-rmse:593.31306\n",
            "[455]\ttrain-rmse:187.36008\tval-rmse:593.34472\n",
            "[456]\ttrain-rmse:187.05211\tval-rmse:593.34763\n",
            "[457]\ttrain-rmse:187.01991\tval-rmse:593.32246\n",
            "[458]\ttrain-rmse:186.95966\tval-rmse:593.27946\n",
            "[459]\ttrain-rmse:186.93168\tval-rmse:593.27428\n",
            "[460]\ttrain-rmse:186.60546\tval-rmse:593.31763\n",
            "[461]\ttrain-rmse:186.29720\tval-rmse:593.38388\n",
            "[462]\ttrain-rmse:186.21129\tval-rmse:593.38809\n",
            "[463]\ttrain-rmse:185.73144\tval-rmse:593.30198\n",
            "[464]\ttrain-rmse:185.54958\tval-rmse:593.30911\n",
            "[465]\ttrain-rmse:185.25612\tval-rmse:593.32568\n",
            "[466]\ttrain-rmse:185.01265\tval-rmse:593.24121\n",
            "[467]\ttrain-rmse:184.78122\tval-rmse:593.26115\n",
            "[468]\ttrain-rmse:184.38894\tval-rmse:593.26539\n",
            "[469]\ttrain-rmse:184.32000\tval-rmse:593.33243\n",
            "[470]\ttrain-rmse:183.90401\tval-rmse:593.38659\n",
            "[471]\ttrain-rmse:183.83486\tval-rmse:593.38135\n",
            "[472]\ttrain-rmse:183.72658\tval-rmse:593.30337\n",
            "[473]\ttrain-rmse:183.69296\tval-rmse:593.28047\n",
            "[474]\ttrain-rmse:183.30872\tval-rmse:593.31689\n",
            "[475]\ttrain-rmse:182.77102\tval-rmse:593.37251\n",
            "[476]\ttrain-rmse:182.60409\tval-rmse:593.45541\n",
            "[477]\ttrain-rmse:182.31916\tval-rmse:593.53331\n",
            "[478]\ttrain-rmse:181.95919\tval-rmse:593.59045\n",
            "[479]\ttrain-rmse:181.61660\tval-rmse:593.58355\n",
            "[480]\ttrain-rmse:181.35948\tval-rmse:593.65477\n",
            "[481]\ttrain-rmse:180.91083\tval-rmse:593.64707\n",
            "[482]\ttrain-rmse:180.47075\tval-rmse:593.71257\n",
            "[483]\ttrain-rmse:180.45030\tval-rmse:593.73455\n",
            "[484]\ttrain-rmse:180.19372\tval-rmse:593.66313\n",
            "[485]\ttrain-rmse:179.89571\tval-rmse:593.63926\n",
            "[486]\ttrain-rmse:179.51135\tval-rmse:593.58981\n",
            "[487]\ttrain-rmse:179.31104\tval-rmse:593.56594\n",
            "[488]\ttrain-rmse:179.24743\tval-rmse:593.57488\n",
            "[489]\ttrain-rmse:179.21997\tval-rmse:593.57207\n",
            "[490]\ttrain-rmse:178.94912\tval-rmse:593.71622\n",
            "[491]\ttrain-rmse:178.74437\tval-rmse:593.91796\n",
            "[492]\ttrain-rmse:178.71302\tval-rmse:593.93393\n",
            "[493]\ttrain-rmse:178.32243\tval-rmse:593.96317\n",
            "[494]\ttrain-rmse:178.03483\tval-rmse:593.94435\n",
            "[495]\ttrain-rmse:177.69876\tval-rmse:593.93339\n",
            "[496]\ttrain-rmse:177.58802\tval-rmse:594.00534\n",
            "[497]\ttrain-rmse:177.29965\tval-rmse:594.00792\n",
            "[498]\ttrain-rmse:177.02089\tval-rmse:594.04929\n",
            "[499]\ttrain-rmse:176.86116\tval-rmse:594.05952\n"
          ]
        }
      ],
      "source": [
        "params = {\n",
        "    'objective': 'reg:squarederror',\n",
        "    'tree_method': \"gpu_hist\",\n",
        "    'eval_metric': 'rmse'\n",
        "}\n",
        "\n",
        "trained_model = xgb.train(params,dtrain, \n",
        "                          num_boost_round=500,\n",
        "                         evals = [(dtrain,'train'),\n",
        "                                 (dval, \"val\")])"
      ]
    },
    {
      "cell_type": "code",
      "execution_count": null,
      "id": "1c7289b1",
      "metadata": {
        "id": "1c7289b1",
        "outputId": "844c018b-62a7-4399-fd0f-e4e77c688f57"
      },
      "outputs": [
        {
          "data": {
            "text/plain": [
              "numpy.ndarray"
            ]
          },
          "execution_count": 34,
          "metadata": {},
          "output_type": "execute_result"
        }
      ],
      "source": [
        "y_test_pred = trained_model.predict(dtest)\n",
        "y_test_pred\n"
      ]
    },
    {
      "cell_type": "code",
      "execution_count": null,
      "id": "5b148c88",
      "metadata": {
        "id": "5b148c88",
        "outputId": "32b7f268-eea7-4b8c-ac10-c519b247a55f"
      },
      "outputs": [
        {
          "data": {
            "text/plain": [
              "571.8253474596264"
            ]
          },
          "execution_count": 35,
          "metadata": {},
          "output_type": "execute_result"
        }
      ],
      "source": [
        "from sklearn.metrics import mean_squared_error\n",
        "mean_squared_error(y_test.to_numpy(), y_test_pred, squared = False)"
      ]
    },
    {
      "cell_type": "markdown",
      "id": "24f8fbc9",
      "metadata": {
        "id": "24f8fbc9"
      },
      "source": [
        "\n",
        "Try to adjust the `num_boost_round` to see the effect in training"
      ]
    },
    {
      "cell_type": "markdown",
      "id": "4eff9c94",
      "metadata": {
        "id": "4eff9c94"
      },
      "source": [
        "num_boost_round 250\n",
        "learning_rate .05 .1 .2"
      ]
    },
    {
      "cell_type": "code",
      "execution_count": null,
      "id": "de8a3c25",
      "metadata": {
        "id": "de8a3c25"
      },
      "outputs": [],
      "source": [
        "params = {\n",
        "    'learning_rate': .1,\n",
        "    'objective': 'reg:squarederror',\n",
        "    'tree_method': \"gpu_hist\",\n",
        "    'eval_metric': 'rmse'\n",
        "}"
      ]
    },
    {
      "cell_type": "code",
      "execution_count": null,
      "id": "f71fc46d",
      "metadata": {
        "id": "f71fc46d"
      },
      "outputs": [],
      "source": [
        "verbose"
      ]
    },
    {
      "cell_type": "code",
      "execution_count": null,
      "id": "68ee2b00",
      "metadata": {
        "id": "68ee2b00",
        "outputId": "90fed005-bf69-439c-b358-5381e6436b71"
      },
      "outputs": [
        {
          "name": "stdout",
          "output_type": "stream",
          "text": [
            "1.4 s ± 8.73 ms per loop (mean ± std. dev. of 7 runs, 1 loop each)\n"
          ]
        }
      ],
      "source": [
        "%%timeit\n",
        "trained_model = xgb.train(params,dtrain, \n",
        "                          num_boost_round=500)#,\n",
        "                         #evals = [(dtrain,'train'),\n",
        "                          #       (dval, \"val\")])"
      ]
    },
    {
      "cell_type": "code",
      "execution_count": null,
      "id": "e6eb57cf",
      "metadata": {
        "id": "e6eb57cf",
        "outputId": "ae9b58b1-8586-4189-8d7a-6808658f720a"
      },
      "outputs": [
        {
          "data": {
            "text/plain": [
              "array([ 786.93365, 1571.508  ,  634.70416, ..., 4377.552  ,  405.1752 ,\n",
              "        836.00696], dtype=float32)"
            ]
          },
          "execution_count": 52,
          "metadata": {},
          "output_type": "execute_result"
        }
      ],
      "source": [
        "y_test_pred = trained_model.predict(dtest)\n",
        "y_test_pred\n"
      ]
    },
    {
      "cell_type": "code",
      "execution_count": null,
      "id": "26af556f",
      "metadata": {
        "id": "26af556f",
        "outputId": "021ef31d-11a4-4d8a-b75e-bc2e8a189a82"
      },
      "outputs": [
        {
          "data": {
            "text/plain": [
              "551.3741411385047"
            ]
          },
          "execution_count": 53,
          "metadata": {},
          "output_type": "execute_result"
        }
      ],
      "source": [
        "from sklearn.metrics import mean_squared_error\n",
        "mean_squared_error(y_test.to_numpy(), y_test_pred, squared = False)"
      ]
    },
    {
      "cell_type": "markdown",
      "id": "2fb6aab9",
      "metadata": {
        "id": "2fb6aab9"
      },
      "source": [
        "## XGBoost in Sklearn API\n",
        "XGBoost also provides a Scikit-learn wrapper interface for XGBoost model, which makes it easy to use the tools inside Scikit-learn library. Let's train it with Scikit-learning API. "
      ]
    },
    {
      "cell_type": "code",
      "execution_count": null,
      "id": "d8af5fca",
      "metadata": {
        "id": "d8af5fca",
        "outputId": "5f983f1f-fd23-445e-91a0-57083fe610b7"
      },
      "outputs": [
        {
          "data": {
            "text/html": [
              "<style>#sk-container-id-4 {color: black;background-color: white;}#sk-container-id-4 pre{padding: 0;}#sk-container-id-4 div.sk-toggleable {background-color: white;}#sk-container-id-4 label.sk-toggleable__label {cursor: pointer;display: block;width: 100%;margin-bottom: 0;padding: 0.3em;box-sizing: border-box;text-align: center;}#sk-container-id-4 label.sk-toggleable__label-arrow:before {content: \"▸\";float: left;margin-right: 0.25em;color: #696969;}#sk-container-id-4 label.sk-toggleable__label-arrow:hover:before {color: black;}#sk-container-id-4 div.sk-estimator:hover label.sk-toggleable__label-arrow:before {color: black;}#sk-container-id-4 div.sk-toggleable__content {max-height: 0;max-width: 0;overflow: hidden;text-align: left;background-color: #f0f8ff;}#sk-container-id-4 div.sk-toggleable__content pre {margin: 0.2em;color: black;border-radius: 0.25em;background-color: #f0f8ff;}#sk-container-id-4 input.sk-toggleable__control:checked~div.sk-toggleable__content {max-height: 200px;max-width: 100%;overflow: auto;}#sk-container-id-4 input.sk-toggleable__control:checked~label.sk-toggleable__label-arrow:before {content: \"▾\";}#sk-container-id-4 div.sk-estimator input.sk-toggleable__control:checked~label.sk-toggleable__label {background-color: #d4ebff;}#sk-container-id-4 div.sk-label input.sk-toggleable__control:checked~label.sk-toggleable__label {background-color: #d4ebff;}#sk-container-id-4 input.sk-hidden--visually {border: 0;clip: rect(1px 1px 1px 1px);clip: rect(1px, 1px, 1px, 1px);height: 1px;margin: -1px;overflow: hidden;padding: 0;position: absolute;width: 1px;}#sk-container-id-4 div.sk-estimator {font-family: monospace;background-color: #f0f8ff;border: 1px dotted black;border-radius: 0.25em;box-sizing: border-box;margin-bottom: 0.5em;}#sk-container-id-4 div.sk-estimator:hover {background-color: #d4ebff;}#sk-container-id-4 div.sk-parallel-item::after {content: \"\";width: 100%;border-bottom: 1px solid gray;flex-grow: 1;}#sk-container-id-4 div.sk-label:hover label.sk-toggleable__label {background-color: #d4ebff;}#sk-container-id-4 div.sk-serial::before {content: \"\";position: absolute;border-left: 1px solid gray;box-sizing: border-box;top: 0;bottom: 0;left: 50%;z-index: 0;}#sk-container-id-4 div.sk-serial {display: flex;flex-direction: column;align-items: center;background-color: white;padding-right: 0.2em;padding-left: 0.2em;position: relative;}#sk-container-id-4 div.sk-item {position: relative;z-index: 1;}#sk-container-id-4 div.sk-parallel {display: flex;align-items: stretch;justify-content: center;background-color: white;position: relative;}#sk-container-id-4 div.sk-item::before, #sk-container-id-4 div.sk-parallel-item::before {content: \"\";position: absolute;border-left: 1px solid gray;box-sizing: border-box;top: 0;bottom: 0;left: 50%;z-index: -1;}#sk-container-id-4 div.sk-parallel-item {display: flex;flex-direction: column;z-index: 1;position: relative;background-color: white;}#sk-container-id-4 div.sk-parallel-item:first-child::after {align-self: flex-end;width: 50%;}#sk-container-id-4 div.sk-parallel-item:last-child::after {align-self: flex-start;width: 50%;}#sk-container-id-4 div.sk-parallel-item:only-child::after {width: 0;}#sk-container-id-4 div.sk-dashed-wrapped {border: 1px dashed gray;margin: 0 0.4em 0.5em 0.4em;box-sizing: border-box;padding-bottom: 0.4em;background-color: white;}#sk-container-id-4 div.sk-label label {font-family: monospace;font-weight: bold;display: inline-block;line-height: 1.2em;}#sk-container-id-4 div.sk-label-container {text-align: center;}#sk-container-id-4 div.sk-container {/* jupyter's `normalize.less` sets `[hidden] { display: none; }` but bootstrap.min.css set `[hidden] { display: none !important; }` so we also need the `!important` here to be able to override the default hidden behavior on the sphinx rendered scikit-learn.org. See: https://github.com/scikit-learn/scikit-learn/issues/21755 */display: inline-block !important;position: relative;}#sk-container-id-4 div.sk-text-repr-fallback {display: none;}</style><div id=\"sk-container-id-4\" class=\"sk-top-container\"><div class=\"sk-text-repr-fallback\"><pre>XGBRegressor(base_score=0.5, booster=&#x27;gbtree&#x27;, callbacks=None,\n",
              "             colsample_bylevel=1, colsample_bynode=1, colsample_bytree=1,\n",
              "             early_stopping_rounds=None, enable_categorical=False,\n",
              "             eval_metric=&#x27;rmse&#x27;, gamma=0, gpu_id=0, grow_policy=&#x27;depthwise&#x27;,\n",
              "             importance_type=None, interaction_constraints=&#x27;&#x27;,\n",
              "             learning_rate=0.1, max_bin=256, max_cat_to_onehot=4,\n",
              "             max_delta_step=0, max_depth=6, max_leaves=0, min_child_weight=1,\n",
              "             missing=nan, monotone_constraints=&#x27;()&#x27;, n_estimators=500, n_jobs=0,\n",
              "             num_parallel_tree=1, predictor=&#x27;auto&#x27;, random_state=0, reg_alpha=0,\n",
              "             reg_lambda=1, ...)</pre><b>In a Jupyter environment, please rerun this cell to show the HTML representation or trust the notebook. <br />On GitHub, the HTML representation is unable to render, please try loading this page with nbviewer.org.</b></div><div class=\"sk-container\" hidden><div class=\"sk-item\"><div class=\"sk-estimator sk-toggleable\"><input class=\"sk-toggleable__control sk-hidden--visually\" id=\"sk-estimator-id-4\" type=\"checkbox\" checked><label for=\"sk-estimator-id-4\" class=\"sk-toggleable__label sk-toggleable__label-arrow\">XGBRegressor</label><div class=\"sk-toggleable__content\"><pre>XGBRegressor(base_score=0.5, booster=&#x27;gbtree&#x27;, callbacks=None,\n",
              "             colsample_bylevel=1, colsample_bynode=1, colsample_bytree=1,\n",
              "             early_stopping_rounds=None, enable_categorical=False,\n",
              "             eval_metric=&#x27;rmse&#x27;, gamma=0, gpu_id=0, grow_policy=&#x27;depthwise&#x27;,\n",
              "             importance_type=None, interaction_constraints=&#x27;&#x27;,\n",
              "             learning_rate=0.1, max_bin=256, max_cat_to_onehot=4,\n",
              "             max_delta_step=0, max_depth=6, max_leaves=0, min_child_weight=1,\n",
              "             missing=nan, monotone_constraints=&#x27;()&#x27;, n_estimators=500, n_jobs=0,\n",
              "             num_parallel_tree=1, predictor=&#x27;auto&#x27;, random_state=0, reg_alpha=0,\n",
              "             reg_lambda=1, ...)</pre></div></div></div></div></div>"
            ],
            "text/plain": [
              "XGBRegressor(base_score=0.5, booster='gbtree', callbacks=None,\n",
              "             colsample_bylevel=1, colsample_bynode=1, colsample_bytree=1,\n",
              "             early_stopping_rounds=None, enable_categorical=False,\n",
              "             eval_metric='rmse', gamma=0, gpu_id=0, grow_policy='depthwise',\n",
              "             importance_type=None, interaction_constraints='',\n",
              "             learning_rate=0.1, max_bin=256, max_cat_to_onehot=4,\n",
              "             max_delta_step=0, max_depth=6, max_leaves=0, min_child_weight=1,\n",
              "             missing=nan, monotone_constraints='()', n_estimators=500, n_jobs=0,\n",
              "             num_parallel_tree=1, predictor='auto', random_state=0, reg_alpha=0,\n",
              "             reg_lambda=1, ...)"
            ]
          },
          "execution_count": 54,
          "metadata": {},
          "output_type": "execute_result"
        }
      ],
      "source": [
        "from xgboost import XGBRegressor\n",
        "model = XGBRegressor(**params,n_estimators = 500)\n",
        "model.fit(X_train_prep.iloc[:val_split], y_train[:val_split])"
      ]
    },
    {
      "cell_type": "code",
      "execution_count": null,
      "id": "ae00dc43",
      "metadata": {
        "id": "ae00dc43",
        "outputId": "3e46d49b-0718-42ff-8955-5ccf89ee21ee"
      },
      "outputs": [
        {
          "name": "stdout",
          "output_type": "stream",
          "text": [
            "1.42 s ± 9.71 ms per loop (mean ± std. dev. of 7 runs, 1 loop each)\n"
          ]
        }
      ],
      "source": [
        "%%timeit\n",
        "model.fit(X_train_prep.iloc[:val_split], y_train[:val_split])"
      ]
    },
    {
      "cell_type": "code",
      "execution_count": 1,
      "id": "3c3c61f7",
      "metadata": {
        "colab": {
          "base_uri": "https://localhost:8080/",
          "height": 164
        },
        "id": "3c3c61f7",
        "outputId": "074efc12-4815-46e9-e0d2-d8792f95cf13"
      },
      "outputs": [
        {
          "output_type": "error",
          "ename": "NameError",
          "evalue": "ignored",
          "traceback": [
            "\u001b[0;31m---------------------------------------------------------------------------\u001b[0m",
            "\u001b[0;31mNameError\u001b[0m                                 Traceback (most recent call last)",
            "\u001b[0;32m<ipython-input-1-bfd368200e6b>\u001b[0m in \u001b[0;36m<module>\u001b[0;34m\u001b[0m\n\u001b[0;32m----> 1\u001b[0;31m \u001b[0mparams\u001b[0m\u001b[0;34m\u001b[0m\u001b[0;34m\u001b[0m\u001b[0m\n\u001b[0m",
            "\u001b[0;31mNameError\u001b[0m: name 'params' is not defined"
          ]
        }
      ],
      "source": [
        "params"
      ]
    },
    {
      "cell_type": "code",
      "execution_count": null,
      "id": "722bf5e3",
      "metadata": {
        "id": "722bf5e3",
        "outputId": "ff5b4654-a427-42b5-d65f-50ef8d7565b5"
      },
      "outputs": [
        {
          "data": {
            "text/plain": [
              "551.3741411385047"
            ]
          },
          "execution_count": 49,
          "metadata": {},
          "output_type": "execute_result"
        }
      ],
      "source": [
        "y_test_pred = model.predict(X_test_prep)\n",
        "mean_squared_error(y_test.to_numpy(), y_test_pred, squared = False)"
      ]
    },
    {
      "cell_type": "markdown",
      "id": "fd4dfb3c",
      "metadata": {
        "id": "fd4dfb3c"
      },
      "source": [
        "## Improving the performance of our models - Hyperparameters tuning\n",
        "\n",
        "One of the most useful components beyond basic models that Scikit-learn offers is hyperparameter optimization for its models. Hyperparameter optimization means looking for the values of parameters that maximize how well our model can predict observations in `X_test`. \n",
        "\n",
        "Fortunately cuML is compatible with Scikit-learn hyperparameter optimization!!! Note: It also is compatible with other libraries, such as dask-ml that perform hyperparameter optimization with more advanced strategies/levels of parallelization.\n",
        "\n",
        "For this lets use the `GridSearchCV` class of Scikit-learn, which like the name suggest performs a search in a grid of values of the parameters that we specify:"
      ]
    },
    {
      "cell_type": "code",
      "execution_count": null,
      "id": "7c5d479a",
      "metadata": {
        "id": "7c5d479a"
      },
      "outputs": [],
      "source": [
        "from sklearn.tree import DecisionTreeRegressor, export_graphviz"
      ]
    },
    {
      "cell_type": "code",
      "execution_count": null,
      "id": "47bff2e9",
      "metadata": {
        "id": "47bff2e9"
      },
      "outputs": [],
      "source": [
        "sk_tree = DecisionTreeRegressor(max_depth = 5,random_state=42)\n",
        "\n",
        "sk_tree.fit(X_train_prep.to_pandas(),y_train.to_pandas())\n",
        "\n",
        "export_graphviz(sk_tree, \"tree.dot\",feature_names=feature_labels)"
      ]
    },
    {
      "cell_type": "code",
      "execution_count": null,
      "id": "34775be9",
      "metadata": {
        "id": "34775be9"
      },
      "outputs": [],
      "source": [
        "!dot -Tpng tree.dot -o tree.png"
      ]
    },
    {
      "cell_type": "code",
      "execution_count": null,
      "id": "aa544b07",
      "metadata": {
        "id": "aa544b07",
        "outputId": "1e735d6e-125c-4665-db88-99019426a299"
      },
      "outputs": [
        {
          "data": {
            "text/plain": [
              "(37758, 26)"
            ]
          },
          "execution_count": 61,
          "metadata": {},
          "output_type": "execute_result"
        }
      ],
      "source": [
        "X_train_prep.shape"
      ]
    },
    {
      "cell_type": "code",
      "execution_count": null,
      "id": "7b069f39",
      "metadata": {
        "id": "7b069f39",
        "outputId": "16ab9e07-54d4-4399-d5bf-16a2aef20bb1"
      },
      "outputs": [
        {
          "data": {
            "text/plain": [
              "3933.1851528152974"
            ]
          },
          "execution_count": 62,
          "metadata": {},
          "output_type": "execute_result"
        }
      ],
      "source": [
        "y_train.mean()"
      ]
    },
    {
      "cell_type": "code",
      "execution_count": null,
      "id": "2ca84562",
      "metadata": {
        "id": "2ca84562"
      },
      "outputs": [],
      "source": [
        "from sklearn.model_selection import GridSearchCV, KFold\n",
        "\n",
        "model = XGBRegressor()\n",
        "\n",
        "hyper_params = {\n",
        "    'learning_rate': [.1],\n",
        "    'colsample_bytree': [.6,.8,1],\n",
        "    'colsample_bylevel': [1],#[.8,1],\n",
        "    'alpha': [0,5],\n",
        "    'max_depth': [6,7,8],\n",
        "    'n_estimators': [200,500],\n",
        "    'objective': ['reg:squarederror'],\n",
        "    'tree_method': [\"gpu_hist\"],\n",
        "    'eval_metric': ['rmse']\n",
        "}\n",
        "\n",
        "kfold = KFold(n_splits=5,shuffle=True,random_state=42)\n",
        "\n",
        "grid_search = GridSearchCV(model,hyper_params,\n",
        "                           scoring = \"neg_root_mean_squared_error\",\n",
        "                          cv = kfold,\n",
        "                           verbose = 1)"
      ]
    },
    {
      "cell_type": "code",
      "execution_count": null,
      "id": "b15a9fb3",
      "metadata": {
        "id": "b15a9fb3"
      },
      "outputs": [],
      "source": [
        "X_train_prep_numpy = X_train_prep.values.get()\n",
        "y_train_numpy = y_train.values.get()"
      ]
    },
    {
      "cell_type": "code",
      "execution_count": null,
      "id": "151f64ed",
      "metadata": {
        "id": "151f64ed",
        "outputId": "61f0d2e3-f615-4eb3-8464-aa6eb2f8401d"
      },
      "outputs": [
        {
          "name": "stdout",
          "output_type": "stream",
          "text": [
            "Fitting 5 folds for each of 36 candidates, totalling 180 fits\n"
          ]
        },
        {
          "data": {
            "text/html": [
              "<style>#sk-container-id-7 {color: black;background-color: white;}#sk-container-id-7 pre{padding: 0;}#sk-container-id-7 div.sk-toggleable {background-color: white;}#sk-container-id-7 label.sk-toggleable__label {cursor: pointer;display: block;width: 100%;margin-bottom: 0;padding: 0.3em;box-sizing: border-box;text-align: center;}#sk-container-id-7 label.sk-toggleable__label-arrow:before {content: \"▸\";float: left;margin-right: 0.25em;color: #696969;}#sk-container-id-7 label.sk-toggleable__label-arrow:hover:before {color: black;}#sk-container-id-7 div.sk-estimator:hover label.sk-toggleable__label-arrow:before {color: black;}#sk-container-id-7 div.sk-toggleable__content {max-height: 0;max-width: 0;overflow: hidden;text-align: left;background-color: #f0f8ff;}#sk-container-id-7 div.sk-toggleable__content pre {margin: 0.2em;color: black;border-radius: 0.25em;background-color: #f0f8ff;}#sk-container-id-7 input.sk-toggleable__control:checked~div.sk-toggleable__content {max-height: 200px;max-width: 100%;overflow: auto;}#sk-container-id-7 input.sk-toggleable__control:checked~label.sk-toggleable__label-arrow:before {content: \"▾\";}#sk-container-id-7 div.sk-estimator input.sk-toggleable__control:checked~label.sk-toggleable__label {background-color: #d4ebff;}#sk-container-id-7 div.sk-label input.sk-toggleable__control:checked~label.sk-toggleable__label {background-color: #d4ebff;}#sk-container-id-7 input.sk-hidden--visually {border: 0;clip: rect(1px 1px 1px 1px);clip: rect(1px, 1px, 1px, 1px);height: 1px;margin: -1px;overflow: hidden;padding: 0;position: absolute;width: 1px;}#sk-container-id-7 div.sk-estimator {font-family: monospace;background-color: #f0f8ff;border: 1px dotted black;border-radius: 0.25em;box-sizing: border-box;margin-bottom: 0.5em;}#sk-container-id-7 div.sk-estimator:hover {background-color: #d4ebff;}#sk-container-id-7 div.sk-parallel-item::after {content: \"\";width: 100%;border-bottom: 1px solid gray;flex-grow: 1;}#sk-container-id-7 div.sk-label:hover label.sk-toggleable__label {background-color: #d4ebff;}#sk-container-id-7 div.sk-serial::before {content: \"\";position: absolute;border-left: 1px solid gray;box-sizing: border-box;top: 0;bottom: 0;left: 50%;z-index: 0;}#sk-container-id-7 div.sk-serial {display: flex;flex-direction: column;align-items: center;background-color: white;padding-right: 0.2em;padding-left: 0.2em;position: relative;}#sk-container-id-7 div.sk-item {position: relative;z-index: 1;}#sk-container-id-7 div.sk-parallel {display: flex;align-items: stretch;justify-content: center;background-color: white;position: relative;}#sk-container-id-7 div.sk-item::before, #sk-container-id-7 div.sk-parallel-item::before {content: \"\";position: absolute;border-left: 1px solid gray;box-sizing: border-box;top: 0;bottom: 0;left: 50%;z-index: -1;}#sk-container-id-7 div.sk-parallel-item {display: flex;flex-direction: column;z-index: 1;position: relative;background-color: white;}#sk-container-id-7 div.sk-parallel-item:first-child::after {align-self: flex-end;width: 50%;}#sk-container-id-7 div.sk-parallel-item:last-child::after {align-self: flex-start;width: 50%;}#sk-container-id-7 div.sk-parallel-item:only-child::after {width: 0;}#sk-container-id-7 div.sk-dashed-wrapped {border: 1px dashed gray;margin: 0 0.4em 0.5em 0.4em;box-sizing: border-box;padding-bottom: 0.4em;background-color: white;}#sk-container-id-7 div.sk-label label {font-family: monospace;font-weight: bold;display: inline-block;line-height: 1.2em;}#sk-container-id-7 div.sk-label-container {text-align: center;}#sk-container-id-7 div.sk-container {/* jupyter's `normalize.less` sets `[hidden] { display: none; }` but bootstrap.min.css set `[hidden] { display: none !important; }` so we also need the `!important` here to be able to override the default hidden behavior on the sphinx rendered scikit-learn.org. See: https://github.com/scikit-learn/scikit-learn/issues/21755 */display: inline-block !important;position: relative;}#sk-container-id-7 div.sk-text-repr-fallback {display: none;}</style><div id=\"sk-container-id-7\" class=\"sk-top-container\"><div class=\"sk-text-repr-fallback\"><pre>GridSearchCV(cv=KFold(n_splits=5, random_state=42, shuffle=True),\n",
              "             estimator=XGBRegressor(base_score=None, booster=None,\n",
              "                                    callbacks=None, colsample_bylevel=None,\n",
              "                                    colsample_bynode=None,\n",
              "                                    colsample_bytree=None,\n",
              "                                    early_stopping_rounds=None,\n",
              "                                    enable_categorical=False, eval_metric=None,\n",
              "                                    gamma=None, gpu_id=None, grow_policy=None,\n",
              "                                    importance_type=None,\n",
              "                                    interaction_constraints...\n",
              "                                    n_jobs=None, num_parallel_tree=None,\n",
              "                                    predictor=None, random_state=None,\n",
              "                                    reg_alpha=None, reg_lambda=None, ...),\n",
              "             param_grid={&#x27;alpha&#x27;: [0, 5], &#x27;colsample_bylevel&#x27;: [1],\n",
              "                         &#x27;colsample_bytree&#x27;: [0.6, 0.8, 1],\n",
              "                         &#x27;eval_metric&#x27;: [&#x27;rmse&#x27;], &#x27;learning_rate&#x27;: [0.1],\n",
              "                         &#x27;max_depth&#x27;: [6, 7, 8], &#x27;n_estimators&#x27;: [200, 500],\n",
              "                         &#x27;objective&#x27;: [&#x27;reg:squarederror&#x27;],\n",
              "                         &#x27;tree_method&#x27;: [&#x27;gpu_hist&#x27;]},\n",
              "             scoring=&#x27;neg_root_mean_squared_error&#x27;, verbose=1)</pre><b>In a Jupyter environment, please rerun this cell to show the HTML representation or trust the notebook. <br />On GitHub, the HTML representation is unable to render, please try loading this page with nbviewer.org.</b></div><div class=\"sk-container\" hidden><div class=\"sk-item sk-dashed-wrapped\"><div class=\"sk-label-container\"><div class=\"sk-label sk-toggleable\"><input class=\"sk-toggleable__control sk-hidden--visually\" id=\"sk-estimator-id-9\" type=\"checkbox\" ><label for=\"sk-estimator-id-9\" class=\"sk-toggleable__label sk-toggleable__label-arrow\">GridSearchCV</label><div class=\"sk-toggleable__content\"><pre>GridSearchCV(cv=KFold(n_splits=5, random_state=42, shuffle=True),\n",
              "             estimator=XGBRegressor(base_score=None, booster=None,\n",
              "                                    callbacks=None, colsample_bylevel=None,\n",
              "                                    colsample_bynode=None,\n",
              "                                    colsample_bytree=None,\n",
              "                                    early_stopping_rounds=None,\n",
              "                                    enable_categorical=False, eval_metric=None,\n",
              "                                    gamma=None, gpu_id=None, grow_policy=None,\n",
              "                                    importance_type=None,\n",
              "                                    interaction_constraints...\n",
              "                                    n_jobs=None, num_parallel_tree=None,\n",
              "                                    predictor=None, random_state=None,\n",
              "                                    reg_alpha=None, reg_lambda=None, ...),\n",
              "             param_grid={&#x27;alpha&#x27;: [0, 5], &#x27;colsample_bylevel&#x27;: [1],\n",
              "                         &#x27;colsample_bytree&#x27;: [0.6, 0.8, 1],\n",
              "                         &#x27;eval_metric&#x27;: [&#x27;rmse&#x27;], &#x27;learning_rate&#x27;: [0.1],\n",
              "                         &#x27;max_depth&#x27;: [6, 7, 8], &#x27;n_estimators&#x27;: [200, 500],\n",
              "                         &#x27;objective&#x27;: [&#x27;reg:squarederror&#x27;],\n",
              "                         &#x27;tree_method&#x27;: [&#x27;gpu_hist&#x27;]},\n",
              "             scoring=&#x27;neg_root_mean_squared_error&#x27;, verbose=1)</pre></div></div></div><div class=\"sk-parallel\"><div class=\"sk-parallel-item\"><div class=\"sk-item\"><div class=\"sk-label-container\"><div class=\"sk-label sk-toggleable\"><input class=\"sk-toggleable__control sk-hidden--visually\" id=\"sk-estimator-id-10\" type=\"checkbox\" ><label for=\"sk-estimator-id-10\" class=\"sk-toggleable__label sk-toggleable__label-arrow\">estimator: XGBRegressor</label><div class=\"sk-toggleable__content\"><pre>XGBRegressor(base_score=None, booster=None, callbacks=None,\n",
              "             colsample_bylevel=None, colsample_bynode=None,\n",
              "             colsample_bytree=None, early_stopping_rounds=None,\n",
              "             enable_categorical=False, eval_metric=None, gamma=None,\n",
              "             gpu_id=None, grow_policy=None, importance_type=None,\n",
              "             interaction_constraints=None, learning_rate=None, max_bin=None,\n",
              "             max_cat_to_onehot=None, max_delta_step=None, max_depth=None,\n",
              "             max_leaves=None, min_child_weight=None, missing=nan,\n",
              "             monotone_constraints=None, n_estimators=100, n_jobs=None,\n",
              "             num_parallel_tree=None, predictor=None, random_state=None,\n",
              "             reg_alpha=None, reg_lambda=None, ...)</pre></div></div></div><div class=\"sk-serial\"><div class=\"sk-item\"><div class=\"sk-estimator sk-toggleable\"><input class=\"sk-toggleable__control sk-hidden--visually\" id=\"sk-estimator-id-11\" type=\"checkbox\" ><label for=\"sk-estimator-id-11\" class=\"sk-toggleable__label sk-toggleable__label-arrow\">XGBRegressor</label><div class=\"sk-toggleable__content\"><pre>XGBRegressor(base_score=None, booster=None, callbacks=None,\n",
              "             colsample_bylevel=None, colsample_bynode=None,\n",
              "             colsample_bytree=None, early_stopping_rounds=None,\n",
              "             enable_categorical=False, eval_metric=None, gamma=None,\n",
              "             gpu_id=None, grow_policy=None, importance_type=None,\n",
              "             interaction_constraints=None, learning_rate=None, max_bin=None,\n",
              "             max_cat_to_onehot=None, max_delta_step=None, max_depth=None,\n",
              "             max_leaves=None, min_child_weight=None, missing=nan,\n",
              "             monotone_constraints=None, n_estimators=100, n_jobs=None,\n",
              "             num_parallel_tree=None, predictor=None, random_state=None,\n",
              "             reg_alpha=None, reg_lambda=None, ...)</pre></div></div></div></div></div></div></div></div></div></div>"
            ],
            "text/plain": [
              "GridSearchCV(cv=KFold(n_splits=5, random_state=42, shuffle=True),\n",
              "             estimator=XGBRegressor(base_score=None, booster=None,\n",
              "                                    callbacks=None, colsample_bylevel=None,\n",
              "                                    colsample_bynode=None,\n",
              "                                    colsample_bytree=None,\n",
              "                                    early_stopping_rounds=None,\n",
              "                                    enable_categorical=False, eval_metric=None,\n",
              "                                    gamma=None, gpu_id=None, grow_policy=None,\n",
              "                                    importance_type=None,\n",
              "                                    interaction_constraints...\n",
              "                                    n_jobs=None, num_parallel_tree=None,\n",
              "                                    predictor=None, random_state=None,\n",
              "                                    reg_alpha=None, reg_lambda=None, ...),\n",
              "             param_grid={'alpha': [0, 5], 'colsample_bylevel': [1],\n",
              "                         'colsample_bytree': [0.6, 0.8, 1],\n",
              "                         'eval_metric': ['rmse'], 'learning_rate': [0.1],\n",
              "                         'max_depth': [6, 7, 8], 'n_estimators': [200, 500],\n",
              "                         'objective': ['reg:squarederror'],\n",
              "                         'tree_method': ['gpu_hist']},\n",
              "             scoring='neg_root_mean_squared_error', verbose=1)"
            ]
          },
          "execution_count": 74,
          "metadata": {},
          "output_type": "execute_result"
        }
      ],
      "source": [
        "grid_search.fit(X_train_prep_numpy, y_train_numpy)"
      ]
    },
    {
      "cell_type": "code",
      "execution_count": null,
      "id": "900dd29a",
      "metadata": {
        "id": "900dd29a",
        "outputId": "e856f12a-6b4d-4932-bc72-437851ab41eb"
      },
      "outputs": [
        {
          "data": {
            "text/plain": [
              "{'alpha': 5,\n",
              " 'colsample_bylevel': 1,\n",
              " 'colsample_bytree': 0.8,\n",
              " 'eval_metric': 'rmse',\n",
              " 'learning_rate': 0.1,\n",
              " 'max_depth': 7,\n",
              " 'n_estimators': 200,\n",
              " 'objective': 'reg:squarederror',\n",
              " 'tree_method': 'gpu_hist'}"
            ]
          },
          "execution_count": 75,
          "metadata": {},
          "output_type": "execute_result"
        }
      ],
      "source": [
        "grid_search.best_params_"
      ]
    },
    {
      "cell_type": "code",
      "execution_count": null,
      "id": "652d109c",
      "metadata": {
        "id": "652d109c"
      },
      "outputs": [],
      "source": [
        "y_test_pred = grid_search.predict(X_test_prep)"
      ]
    },
    {
      "cell_type": "code",
      "execution_count": null,
      "id": "c6bba142",
      "metadata": {
        "id": "c6bba142",
        "outputId": "c4350531-d582-493a-eba6-d37e0ce4d84f"
      },
      "outputs": [
        {
          "data": {
            "text/plain": [
              "533.9617423540477"
            ]
          },
          "execution_count": 80,
          "metadata": {},
          "output_type": "execute_result"
        }
      ],
      "source": [
        "mean_squared_error(y_test.to_numpy(),y_test_pred,squared=False)"
      ]
    },
    {
      "cell_type": "markdown",
      "id": "e7e87031",
      "metadata": {
        "id": "e7e87031"
      },
      "source": [
        "## Forest Inference Library\n",
        "\n",
        "The open source Forest Inference Library (FIL) in RAPIDS can accelerate GBDT and RF inference with GPUs. Users can train models as usual in XGBoost or LightGBM, save them to disk, then use FIL to reload those models and apply them to new data. Using FIL, a single V100 GPU can deliver up to 35x more inference throughput than a CPU-only node with 40 cores. For more details, please refer to this [blog](https://medium.com/rapids-ai/rapids-forest-inference-library-prediction-at-100-million-rows-per-second-19558890bc35)."
      ]
    },
    {
      "cell_type": "markdown",
      "id": "3dca386e",
      "metadata": {
        "id": "3dca386e"
      },
      "source": [
        "The XGBoost model can be serialized to disk by `save_model` command:"
      ]
    },
    {
      "cell_type": "code",
      "execution_count": null,
      "id": "4b6663f3",
      "metadata": {
        "id": "4b6663f3"
      },
      "outputs": [],
      "source": [
        "grid_search.best_estimator_.save_model('best.model')"
      ]
    },
    {
      "cell_type": "code",
      "execution_count": null,
      "id": "b07d638d",
      "metadata": {
        "collapsed": true,
        "id": "b07d638d",
        "outputId": "40e39f57-cc0b-4c10-9bbc-ec850c989f13"
      },
      "outputs": [
        {
          "data": {
            "text/plain": [
              "0          774.125977\n",
              "1         1605.511108\n",
              "2          666.813721\n",
              "3        13314.742188\n",
              "4         3484.948975\n",
              "             ...     \n",
              "16177     4851.317871\n",
              "16178      690.293152\n",
              "16179     4227.971191\n",
              "16180      423.533600\n",
              "16181      809.185974\n",
              "Length: 16182, dtype: float32"
            ]
          },
          "execution_count": 87,
          "metadata": {},
          "output_type": "execute_result"
        }
      ],
      "source": [
        "from cuml import ForestInference\n",
        "fm = ForestInference.load('best.model',output_class=False)\n",
        "preds_gpu = fm.predict(X_test_prep)\n",
        "preds_gpu"
      ]
    },
    {
      "cell_type": "code",
      "execution_count": null,
      "id": "8baaaab7",
      "metadata": {
        "id": "8baaaab7"
      },
      "outputs": [],
      "source": [
        "from cuml.metrics import mean_squared_error"
      ]
    },
    {
      "cell_type": "code",
      "execution_count": null,
      "id": "a5ff622c",
      "metadata": {
        "id": "a5ff622c",
        "outputId": "ef088d52-0834-4e6b-d4bf-3f3dc366eefd"
      },
      "outputs": [
        {
          "name": "stdout",
          "output_type": "stream",
          "text": [
            "651 µs ± 7.82 µs per loop (mean ± std. dev. of 7 runs, 1,000 loops each)\n"
          ]
        }
      ],
      "source": [
        "%%timeit\n",
        "mean_squared_error(y_test,preds_gpu,squared=False)"
      ]
    },
    {
      "cell_type": "code",
      "execution_count": null,
      "id": "543c7f93",
      "metadata": {
        "id": "543c7f93"
      },
      "outputs": [],
      "source": [
        "y_test_cpu = y_test.to_numpy()"
      ]
    },
    {
      "cell_type": "code",
      "execution_count": null,
      "id": "7cd532b3",
      "metadata": {
        "id": "7cd532b3",
        "outputId": "abc8b685-65d5-40c9-8f82-986d36d73dfb"
      },
      "outputs": [
        {
          "name": "stdout",
          "output_type": "stream",
          "text": [
            "800 µs ± 13.7 µs per loop (mean ± std. dev. of 7 runs, 1,000 loops each)\n"
          ]
        }
      ],
      "source": [
        "%%timeit\n",
        "mean_squared_error(y_test_cpu,y_test_pred,squared=False)"
      ]
    },
    {
      "cell_type": "code",
      "execution_count": null,
      "id": "cde6a171",
      "metadata": {
        "id": "cde6a171",
        "outputId": "6dbf70ad-3f5e-49f5-e717-d914ef00fc6a"
      },
      "outputs": [
        {
          "name": "stdout",
          "output_type": "stream",
          "text": [
            "8.35 ms ± 195 µs per loop (mean ± std. dev. of 7 runs, 100 loops each)\n"
          ]
        }
      ],
      "source": [
        "%%timeit\n",
        "preds_gpu = fm.predict(X_test_prep)\n"
      ]
    },
    {
      "cell_type": "code",
      "execution_count": null,
      "id": "06833503",
      "metadata": {
        "id": "06833503",
        "outputId": "ea248bf4-299b-414b-c1f7-a5bdca42ebe8"
      },
      "outputs": [
        {
          "name": "stdout",
          "output_type": "stream",
          "text": [
            "8.34 ms ± 151 µs per loop (mean ± std. dev. of 7 runs, 100 loops each)\n"
          ]
        }
      ],
      "source": [
        "%%timeit\n",
        "y_test_pred = grid_search.predict(X_test_prep)"
      ]
    }
  ],
  "metadata": {
    "kernelspec": {
      "display_name": "Python 3 (ipykernel)",
      "language": "python",
      "name": "python3"
    },
    "language_info": {
      "codemirror_mode": {
        "name": "ipython",
        "version": 3
      },
      "file_extension": ".py",
      "mimetype": "text/x-python",
      "name": "python",
      "nbconvert_exporter": "python",
      "pygments_lexer": "ipython3",
      "version": "3.9.13"
    },
    "colab": {
      "provenance": [],
      "include_colab_link": true
    }
  },
  "nbformat": 4,
  "nbformat_minor": 5
}