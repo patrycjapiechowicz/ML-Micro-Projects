{
 "cells": [
  {
   "cell_type": "markdown",
   "metadata": {},
   "source": [
    "## Intro to Keras\n",
    "\n",
    "Keras is a deep-learning framework for Python that provides a convenient way to define and\n",
    "train almost any kind of deep-learning model. Keras was initially developed for\n",
    "researchers, with the aim of enabling fast experimentation.\n",
    "\n",
    "Keras has the following key features:\n",
    "* It allows the same code to run seamlessly on CPU or GPU.\n",
    "* It has a user-friendly API that makes it easy to quickly prototype deep-learning models.\n",
    "* It has built-in support for convolutional networks (for computer vision), recurrent networks (for sequence processing), and any combination of both.\n",
    "* It supports arbitrary network architectures: multi-input or multi-output models, layer sharing, model sharing, and so on. This means.\n",
    "\n",
    "Keras is appropriate for building essentially any deep-learning model, from a generative adversarial network\n",
    "to a neural Turing machine.\n",
    "\n",
    "Keras has well over 200,000 users, ranging from academic researchers and engineers\n",
    "at both startups and large companies to graduate students and hobbyists. Keras\n",
    "is used at Google, Netflix, Uber, CERN, Yelp, Square, and hundreds of startups working\n",
    "on a wide range of problems. Keras is also a popular framework on Kaggle, the\n",
    "machine-learning competition website, where almost every recent deep-learning competition\n",
    "has been won using Keras models.\n",
    "\n",
    "\n",
    "Keras handles the problem of building neural networks in a modular way  thus several different backend engines can\n",
    "be plugged seamlessly into Keras. Currently, the three existing backend implementations\n",
    "are:\n",
    "* TensorFlow\n",
    "* Theano \n",
    "* Microsoft Cognitive Toolkit (CNTK) backend."
   ]
  },
  {
   "cell_type": "markdown",
   "metadata": {},
   "source": [
    "### Multi-backend Keras and tf.keras:\n",
    "* For Keras with the TensorFlow backend use tf.keras in TensorFlow 2.0 instead of keras library\n",
    "* tf.keras is better maintained and has better integration with TensorFlow features \n",
    "* The latest release of Keras 2.3.0 makes significant API changes and add support for TensorFlow 2.0.\n",
    "* 2.3.0 is the last major release of multi-backend Keras\n",
    "* saving a model's weights, tf.keras defaults to the checkpoint format. Pass save_format='h5' to use HDF5 (or pass a filename that ends in .h5)."
   ]
  },
  {
   "cell_type": "markdown",
   "metadata": {},
   "source": [
    "### Why Keras?\n",
    "* With TensorFlow 2.0, the Keras API can accomplish many of these same tasks as high level API - Estimators\n",
    "* Keras is believed to be an easier API to learn\n",
    "* User friendly - offers consistent & simple APIs, it minimizes the number of user actions required for common use cases, and it provides clear and actionable feedback upon user error.\n",
    "* Modular - A model is understood as a sequence or a graph of standalone, fully configurable modules that can be plugged together with as few restrictions as possible. \n",
    "* Easily extensibile - New modules are simple to add as new classes and functions, \n",
    "* Fast integration - started as separated project, fully integrated in Tensorflow 2.0 "
   ]
  },
  {
   "cell_type": "markdown",
   "metadata": {},
   "source": [
    "####  Keras workflow\n",
    "\n",
    "1. Define and preprocess training data: input tensors and target tensors.\n",
    "2. Define input layers/model that maps your inputs to your targets\n",
    "3. Setup loss function, an optimizer, and some metrics to monitor appropriate to the problem\n",
    "4. Iterate on your training data by calling the fit() method of your model."
   ]
  },
  {
   "cell_type": "markdown",
   "metadata": {},
   "source": [
    "#### 1. Define and preprocess data\n",
    "* Input tensors\n",
    "* Label/target tensors"
   ]
  },
  {
   "cell_type": "markdown",
   "metadata": {},
   "source": [
    "#### DiamondsDatset\n",
    "* price in US dollars (\\\\$326--\\$18,823)\n",
    "\n",
    "* carat weight of the diamond (0.2--5.01)\n",
    "\n",
    "* cut quality of the cut (Fair, Good, Very Good, Premium, Ideal)\n",
    "\n",
    "* color diamond colour, from J (worst) to D (best)\n",
    "\n",
    "* clarity a measurement of how clear the diamond is (I1 (worst), SI2, SI1, VS2, VS1, VVS2, VVS1, IF (best))\n",
    "\n",
    "* x length in mm (0--10.74)\n",
    "\n",
    "* y width in mm (0--58.9)\n",
    "\n",
    "* z depth in mm (0--31.8)\n",
    "\n",
    "* depth total depth percentage = z / mean(x, y) = 2 * z / (x + y) (43--79)\n",
    "\n",
    "* table width of top of diamond relative to widest point (43--95)"
   ]
  },
  {
   "cell_type": "code",
   "execution_count": 5,
   "metadata": {},
   "outputs": [
    {
     "name": "stdout",
     "output_type": "stream",
     "text": [
      "WARNING:tensorflow:From C:\\Users\\paperspace\\AppData\\Local\\Temp\\1\\ipykernel_6368\\986793178.py:2: is_gpu_available (from tensorflow.python.framework.test_util) is deprecated and will be removed in a future version.\n",
      "Instructions for updating:\n",
      "Use `tf.config.list_physical_devices('GPU')` instead.\n"
     ]
    },
    {
     "data": {
      "text/plain": [
       "[PhysicalDevice(name='/physical_device:CPU:0', device_type='CPU'),\n",
       " PhysicalDevice(name='/physical_device:GPU:0', device_type='GPU')]"
      ]
     },
     "execution_count": 5,
     "metadata": {},
     "output_type": "execute_result"
    }
   ],
   "source": [
    "import tensorflow as tf\n",
    "tf.test.is_gpu_available()\n",
    "tf.test.is_built_with_cuda()\n",
    "tf.config.list_physical_devices()"
   ]
  },
  {
   "cell_type": "code",
   "execution_count": 6,
   "metadata": {},
   "outputs": [
    {
     "data": {
      "text/plain": [
       "'C:\\\\Users\\\\paperspace\\\\Desktop\\\\training\\\\Training materials I\\\\2. Budowa sieci MLP w Tensorflow Keras API'"
      ]
     },
     "execution_count": 6,
     "metadata": {},
     "output_type": "execute_result"
    }
   ],
   "source": [
    "pwd"
   ]
  },
  {
   "cell_type": "code",
   "execution_count": 7,
   "metadata": {},
   "outputs": [],
   "source": [
    "import pandas as pd\n",
    "import numpy as np\n",
    "df=pd.read_csv(\"../../../data/data/diamonds.csv\")"
   ]
  },
  {
   "cell_type": "code",
   "execution_count": 8,
   "metadata": {
    "scrolled": true
   },
   "outputs": [
    {
     "name": "stdout",
     "output_type": "stream",
     "text": [
      "<class 'pandas.core.frame.DataFrame'>\n",
      "RangeIndex: 53940 entries, 0 to 53939\n",
      "Data columns (total 11 columns):\n",
      " #   Column      Non-Null Count  Dtype  \n",
      "---  ------      --------------  -----  \n",
      " 0   Unnamed: 0  53940 non-null  int64  \n",
      " 1   carat       53940 non-null  float64\n",
      " 2   cut         53940 non-null  object \n",
      " 3   color       53940 non-null  object \n",
      " 4   clarity     53940 non-null  object \n",
      " 5   depth       53940 non-null  float64\n",
      " 6   table       53940 non-null  float64\n",
      " 7   price       53940 non-null  int64  \n",
      " 8   x           53940 non-null  float64\n",
      " 9   y           53940 non-null  float64\n",
      " 10  z           53940 non-null  float64\n",
      "dtypes: float64(6), int64(2), object(3)\n",
      "memory usage: 4.5+ MB\n"
     ]
    }
   ],
   "source": [
    "df.info()"
   ]
  },
  {
   "cell_type": "code",
   "execution_count": 9,
   "metadata": {},
   "outputs": [],
   "source": [
    "df.drop(columns='Unnamed: 0', inplace=True)"
   ]
  },
  {
   "cell_type": "code",
   "execution_count": 10,
   "metadata": {},
   "outputs": [
    {
     "data": {
      "text/html": [
       "<div>\n",
       "<style scoped>\n",
       "    .dataframe tbody tr th:only-of-type {\n",
       "        vertical-align: middle;\n",
       "    }\n",
       "\n",
       "    .dataframe tbody tr th {\n",
       "        vertical-align: top;\n",
       "    }\n",
       "\n",
       "    .dataframe thead th {\n",
       "        text-align: right;\n",
       "    }\n",
       "</style>\n",
       "<table border=\"1\" class=\"dataframe\">\n",
       "  <thead>\n",
       "    <tr style=\"text-align: right;\">\n",
       "      <th></th>\n",
       "      <th>carat</th>\n",
       "      <th>cut</th>\n",
       "      <th>color</th>\n",
       "      <th>clarity</th>\n",
       "      <th>depth</th>\n",
       "      <th>table</th>\n",
       "      <th>price</th>\n",
       "      <th>x</th>\n",
       "      <th>y</th>\n",
       "      <th>z</th>\n",
       "    </tr>\n",
       "  </thead>\n",
       "  <tbody>\n",
       "    <tr>\n",
       "      <th>0</th>\n",
       "      <td>0.23</td>\n",
       "      <td>Ideal</td>\n",
       "      <td>E</td>\n",
       "      <td>SI2</td>\n",
       "      <td>61.5</td>\n",
       "      <td>55.0</td>\n",
       "      <td>326</td>\n",
       "      <td>3.95</td>\n",
       "      <td>3.98</td>\n",
       "      <td>2.43</td>\n",
       "    </tr>\n",
       "  </tbody>\n",
       "</table>\n",
       "</div>"
      ],
      "text/plain": [
       "   carat    cut color clarity  depth  table  price     x     y     z\n",
       "0   0.23  Ideal     E     SI2   61.5   55.0    326  3.95  3.98  2.43"
      ]
     },
     "execution_count": 10,
     "metadata": {},
     "output_type": "execute_result"
    }
   ],
   "source": [
    "df.head(1)"
   ]
  },
  {
   "cell_type": "code",
   "execution_count": 11,
   "metadata": {},
   "outputs": [
    {
     "data": {
      "text/plain": [
       "Ideal        21551\n",
       "Premium      13791\n",
       "Very Good    12082\n",
       "Good          4906\n",
       "Fair          1610\n",
       "Name: cut, dtype: int64"
      ]
     },
     "execution_count": 11,
     "metadata": {},
     "output_type": "execute_result"
    }
   ],
   "source": [
    "df.cut.value_counts()"
   ]
  },
  {
   "cell_type": "code",
   "execution_count": null,
   "metadata": {},
   "outputs": [],
   "source": []
  },
  {
   "cell_type": "code",
   "execution_count": 12,
   "metadata": {},
   "outputs": [
    {
     "data": {
      "text/html": [
       "<div>\n",
       "<style scoped>\n",
       "    .dataframe tbody tr th:only-of-type {\n",
       "        vertical-align: middle;\n",
       "    }\n",
       "\n",
       "    .dataframe tbody tr th {\n",
       "        vertical-align: top;\n",
       "    }\n",
       "\n",
       "    .dataframe thead th {\n",
       "        text-align: right;\n",
       "    }\n",
       "</style>\n",
       "<table border=\"1\" class=\"dataframe\">\n",
       "  <thead>\n",
       "    <tr style=\"text-align: right;\">\n",
       "      <th></th>\n",
       "      <th>Fair</th>\n",
       "      <th>Good</th>\n",
       "      <th>Ideal</th>\n",
       "      <th>Premium</th>\n",
       "      <th>Very Good</th>\n",
       "    </tr>\n",
       "  </thead>\n",
       "  <tbody>\n",
       "    <tr>\n",
       "      <th>0</th>\n",
       "      <td>0</td>\n",
       "      <td>0</td>\n",
       "      <td>1</td>\n",
       "      <td>0</td>\n",
       "      <td>0</td>\n",
       "    </tr>\n",
       "    <tr>\n",
       "      <th>1</th>\n",
       "      <td>0</td>\n",
       "      <td>0</td>\n",
       "      <td>0</td>\n",
       "      <td>1</td>\n",
       "      <td>0</td>\n",
       "    </tr>\n",
       "    <tr>\n",
       "      <th>2</th>\n",
       "      <td>0</td>\n",
       "      <td>1</td>\n",
       "      <td>0</td>\n",
       "      <td>0</td>\n",
       "      <td>0</td>\n",
       "    </tr>\n",
       "    <tr>\n",
       "      <th>3</th>\n",
       "      <td>0</td>\n",
       "      <td>0</td>\n",
       "      <td>0</td>\n",
       "      <td>1</td>\n",
       "      <td>0</td>\n",
       "    </tr>\n",
       "    <tr>\n",
       "      <th>4</th>\n",
       "      <td>0</td>\n",
       "      <td>1</td>\n",
       "      <td>0</td>\n",
       "      <td>0</td>\n",
       "      <td>0</td>\n",
       "    </tr>\n",
       "    <tr>\n",
       "      <th>...</th>\n",
       "      <td>...</td>\n",
       "      <td>...</td>\n",
       "      <td>...</td>\n",
       "      <td>...</td>\n",
       "      <td>...</td>\n",
       "    </tr>\n",
       "    <tr>\n",
       "      <th>53935</th>\n",
       "      <td>0</td>\n",
       "      <td>0</td>\n",
       "      <td>1</td>\n",
       "      <td>0</td>\n",
       "      <td>0</td>\n",
       "    </tr>\n",
       "    <tr>\n",
       "      <th>53936</th>\n",
       "      <td>0</td>\n",
       "      <td>1</td>\n",
       "      <td>0</td>\n",
       "      <td>0</td>\n",
       "      <td>0</td>\n",
       "    </tr>\n",
       "    <tr>\n",
       "      <th>53937</th>\n",
       "      <td>0</td>\n",
       "      <td>0</td>\n",
       "      <td>0</td>\n",
       "      <td>0</td>\n",
       "      <td>1</td>\n",
       "    </tr>\n",
       "    <tr>\n",
       "      <th>53938</th>\n",
       "      <td>0</td>\n",
       "      <td>0</td>\n",
       "      <td>0</td>\n",
       "      <td>1</td>\n",
       "      <td>0</td>\n",
       "    </tr>\n",
       "    <tr>\n",
       "      <th>53939</th>\n",
       "      <td>0</td>\n",
       "      <td>0</td>\n",
       "      <td>1</td>\n",
       "      <td>0</td>\n",
       "      <td>0</td>\n",
       "    </tr>\n",
       "  </tbody>\n",
       "</table>\n",
       "<p>53940 rows × 5 columns</p>\n",
       "</div>"
      ],
      "text/plain": [
       "       Fair  Good  Ideal  Premium  Very Good\n",
       "0         0     0      1        0          0\n",
       "1         0     0      0        1          0\n",
       "2         0     1      0        0          0\n",
       "3         0     0      0        1          0\n",
       "4         0     1      0        0          0\n",
       "...     ...   ...    ...      ...        ...\n",
       "53935     0     0      1        0          0\n",
       "53936     0     1      0        0          0\n",
       "53937     0     0      0        0          1\n",
       "53938     0     0      0        1          0\n",
       "53939     0     0      1        0          0\n",
       "\n",
       "[53940 rows x 5 columns]"
      ]
     },
     "execution_count": 12,
     "metadata": {},
     "output_type": "execute_result"
    }
   ],
   "source": [
    "pd.get_dummies(df.cut)"
   ]
  },
  {
   "cell_type": "markdown",
   "metadata": {},
   "source": [
    "#### train test split"
   ]
  },
  {
   "cell_type": "code",
   "execution_count": 13,
   "metadata": {},
   "outputs": [],
   "source": [
    "from sklearn.model_selection import train_test_split"
   ]
  },
  {
   "cell_type": "code",
   "execution_count": 14,
   "metadata": {},
   "outputs": [],
   "source": [
    "X=df.drop(columns='price')\n",
    "y=df['price']"
   ]
  },
  {
   "cell_type": "code",
   "execution_count": 15,
   "metadata": {},
   "outputs": [],
   "source": [
    "X_train, X_test, y_train, y_test = train_test_split(X, y, \n",
    "                                                    test_size=0.3, \n",
    "                                                    random_state=42)"
   ]
  },
  {
   "cell_type": "code",
   "execution_count": 16,
   "metadata": {},
   "outputs": [
    {
     "data": {
      "text/plain": [
       "((37758, 9), (16182, 9), (37758,), (16182,))"
      ]
     },
     "execution_count": 16,
     "metadata": {},
     "output_type": "execute_result"
    }
   ],
   "source": [
    "X_train.shape, X_test.shape, y_train.shape, y_test.shape"
   ]
  },
  {
   "cell_type": "code",
   "execution_count": 17,
   "metadata": {},
   "outputs": [],
   "source": [
    "# %load \"g:/My Drive/diamonds_preproc.py\"\n",
    "from sklearn.preprocessing import StandardScaler, RobustScaler, FunctionTransformer, OneHotEncoder\n",
    "from sklearn.compose import ColumnTransformer\n",
    "from sklearn.pipeline import Pipeline\n",
    "\n",
    "# 1. select labels of features for one hot encoding and standarization\n",
    "num_labels = X_train.select_dtypes(\"number\").columns\n",
    "cat_labels = X_train.select_dtypes(\"object\").columns\n",
    "\n",
    "# 2. define preprocessor for each type of data\n",
    "cat_preprocessor = OneHotEncoder(drop = \"if_binary\")\n",
    "num_preprocessor = RobustScaler()\n",
    "\n",
    "# 3. Combine it all together\n",
    "preprocessor = ColumnTransformer([(\"cat\", cat_preprocessor, cat_labels),\n",
    "                                 (\"num\", num_preprocessor, num_labels)])\n"
   ]
  },
  {
   "cell_type": "code",
   "execution_count": 18,
   "metadata": {},
   "outputs": [
    {
     "data": {
      "text/plain": [
       "Index(['carat', 'depth', 'table', 'x', 'y', 'z'], dtype='object')"
      ]
     },
     "execution_count": 18,
     "metadata": {},
     "output_type": "execute_result"
    }
   ],
   "source": [
    "num_labels"
   ]
  },
  {
   "cell_type": "code",
   "execution_count": 19,
   "metadata": {},
   "outputs": [
    {
     "data": {
      "text/plain": [
       "Index(['cut', 'color', 'clarity'], dtype='object')"
      ]
     },
     "execution_count": 19,
     "metadata": {},
     "output_type": "execute_result"
    }
   ],
   "source": [
    "cat_labels"
   ]
  },
  {
   "cell_type": "code",
   "execution_count": 20,
   "metadata": {},
   "outputs": [],
   "source": [
    "labels=X.columns"
   ]
  },
  {
   "cell_type": "code",
   "execution_count": 21,
   "metadata": {},
   "outputs": [
    {
     "data": {
      "text/plain": [
       "Index(['carat', 'cut', 'color', 'clarity', 'depth', 'table', 'x', 'y', 'z'], dtype='object')"
      ]
     },
     "execution_count": 21,
     "metadata": {},
     "output_type": "execute_result"
    }
   ],
   "source": [
    "labels"
   ]
  },
  {
   "cell_type": "code",
   "execution_count": 22,
   "metadata": {},
   "outputs": [],
   "source": [
    "preprocessor.fit(X_train) #tylo train - data leakage\n",
    "feature_labels=preprocessor.transformers_[0][1].get_feature_names_out().tolist() \n",
    "# aby dostac sie do nazw kolumn jakosciowych po transformacji"
   ]
  },
  {
   "cell_type": "code",
   "execution_count": 23,
   "metadata": {},
   "outputs": [
    {
     "data": {
      "text/plain": [
       "['cut_Fair',\n",
       " 'cut_Good',\n",
       " 'cut_Ideal',\n",
       " 'cut_Premium',\n",
       " 'cut_Very Good',\n",
       " 'color_D',\n",
       " 'color_E',\n",
       " 'color_F',\n",
       " 'color_G',\n",
       " 'color_H',\n",
       " 'color_I',\n",
       " 'color_J',\n",
       " 'clarity_I1',\n",
       " 'clarity_IF',\n",
       " 'clarity_SI1',\n",
       " 'clarity_SI2',\n",
       " 'clarity_VS1',\n",
       " 'clarity_VS2',\n",
       " 'clarity_VVS1',\n",
       " 'clarity_VVS2']"
      ]
     },
     "execution_count": 23,
     "metadata": {},
     "output_type": "execute_result"
    }
   ],
   "source": [
    "feature_labels"
   ]
  },
  {
   "cell_type": "code",
   "execution_count": 24,
   "metadata": {},
   "outputs": [],
   "source": [
    "feature_labels.extend(num_labels) #dolozenie nazw kolumn numerycznych"
   ]
  },
  {
   "cell_type": "code",
   "execution_count": 25,
   "metadata": {},
   "outputs": [
    {
     "data": {
      "text/plain": [
       "['cut_Fair',\n",
       " 'cut_Good',\n",
       " 'cut_Ideal',\n",
       " 'cut_Premium',\n",
       " 'cut_Very Good',\n",
       " 'color_D',\n",
       " 'color_E',\n",
       " 'color_F',\n",
       " 'color_G',\n",
       " 'color_H',\n",
       " 'color_I',\n",
       " 'color_J',\n",
       " 'clarity_I1',\n",
       " 'clarity_IF',\n",
       " 'clarity_SI1',\n",
       " 'clarity_SI2',\n",
       " 'clarity_VS1',\n",
       " 'clarity_VS2',\n",
       " 'clarity_VVS1',\n",
       " 'clarity_VVS2',\n",
       " 'carat',\n",
       " 'depth',\n",
       " 'table',\n",
       " 'x',\n",
       " 'y',\n",
       " 'z']"
      ]
     },
     "execution_count": 25,
     "metadata": {},
     "output_type": "execute_result"
    }
   ],
   "source": [
    "feature_labels"
   ]
  },
  {
   "cell_type": "code",
   "execution_count": 26,
   "metadata": {},
   "outputs": [],
   "source": [
    "X_train_prepd=preprocessor.transform(X_train)\n",
    "X_train_prepd=pd.DataFrame(X_train_prepd, columns=feature_labels)\n",
    "\n",
    "X_test_prepd=preprocessor.transform(X_test)\n",
    "X_test_prepd=pd.DataFrame(X_test_prepd, columns=feature_labels)"
   ]
  },
  {
   "cell_type": "code",
   "execution_count": 27,
   "metadata": {},
   "outputs": [
    {
     "name": "stdout",
     "output_type": "stream",
     "text": [
      "<class 'pandas.core.frame.DataFrame'>\n",
      "RangeIndex: 37758 entries, 0 to 37757\n",
      "Data columns (total 26 columns):\n",
      " #   Column         Non-Null Count  Dtype  \n",
      "---  ------         --------------  -----  \n",
      " 0   cut_Fair       37758 non-null  float64\n",
      " 1   cut_Good       37758 non-null  float64\n",
      " 2   cut_Ideal      37758 non-null  float64\n",
      " 3   cut_Premium    37758 non-null  float64\n",
      " 4   cut_Very Good  37758 non-null  float64\n",
      " 5   color_D        37758 non-null  float64\n",
      " 6   color_E        37758 non-null  float64\n",
      " 7   color_F        37758 non-null  float64\n",
      " 8   color_G        37758 non-null  float64\n",
      " 9   color_H        37758 non-null  float64\n",
      " 10  color_I        37758 non-null  float64\n",
      " 11  color_J        37758 non-null  float64\n",
      " 12  clarity_I1     37758 non-null  float64\n",
      " 13  clarity_IF     37758 non-null  float64\n",
      " 14  clarity_SI1    37758 non-null  float64\n",
      " 15  clarity_SI2    37758 non-null  float64\n",
      " 16  clarity_VS1    37758 non-null  float64\n",
      " 17  clarity_VS2    37758 non-null  float64\n",
      " 18  clarity_VVS1   37758 non-null  float64\n",
      " 19  clarity_VVS2   37758 non-null  float64\n",
      " 20  carat          37758 non-null  float64\n",
      " 21  depth          37758 non-null  float64\n",
      " 22  table          37758 non-null  float64\n",
      " 23  x              37758 non-null  float64\n",
      " 24  y              37758 non-null  float64\n",
      " 25  z              37758 non-null  float64\n",
      "dtypes: float64(26)\n",
      "memory usage: 7.5 MB\n"
     ]
    }
   ],
   "source": [
    "X_train_prepd.info()"
   ]
  },
  {
   "cell_type": "code",
   "execution_count": null,
   "metadata": {},
   "outputs": [],
   "source": []
  },
  {
   "cell_type": "markdown",
   "metadata": {},
   "source": [
    "#### 2. Defining layers in keras\n",
    "There are two ways to define a model: \n",
    "* Sequential class (only for linear stacks of layers)\n",
    "\n",
    "To build a simple, fully-connected network (i.e. multi-layer perceptron):\n",
    "```\n",
    "from tf.keras import models\n",
    "from tf.keras import layers\n",
    "model = models.Sequential()\n",
    "model.add(layers.Dense(32, activation='relu', input_shape=(784,)))\n",
    "model.add(layers.Dense(10, activation='softmax'))%\n",
    "```\n",
    "* functional API - with this API you’re manipulating the data tensors that the model processes and applying layers to this tensor as if they were functions.\n",
    "\n",
    "```\n",
    "input_tensor = layers.Input(shape=(784,))\n",
    "x = layers.Dense(32, activation='relu')(input_tensor)\n",
    "output_tensor = layers.Dense(10, activation='softmax')(x)\n",
    "model = models.Model(inputs=input_tensor, outputs=output_tensor)\n",
    "```\n",
    "\n",
    "#### Layers configuration\n",
    "tf.keras.layers provides many different layers.specified by the name of a built-in function or as a callable object:\n",
    "* built-in function\n",
    "\n",
    "`layers.Dense(64, activation='sigmoid')`\n",
    "\n",
    "* callable object\n",
    "\n",
    "`layers.Dense(64, activation=tf.keras.activations.sigmoid)`\n",
    "\n",
    "\n",
    "#### Commonly used and shared arguments:  \n",
    "* activation: Set the activation function for the layer, specified by the name of a built-in function or as a callable object, by default, no activation is applied.\n",
    "\n",
    "`tf.keras.activations.`\n",
    "\n",
    "* kernel_initializer and bias_initializer: The initialization schemes that create the layer's weights, defaults  \"Glorot uniform\" initializer.\n",
    "\n",
    "`tf.keras.initializers.`\n",
    "\n",
    "* kernel_regularizer and bias_regularizer: The regularization schemes that apply the layer's weights, such as L1 or L2 regularization, by default, no regularization is applied.\n",
    "\n",
    "`tf.keras.regularizers.`"
   ]
  },
  {
   "cell_type": "code",
   "execution_count": 28,
   "metadata": {},
   "outputs": [],
   "source": [
    "# Simple sequential api\n",
    "from tensorflow.keras import layers\n",
    "from tensorflow import keras\n"
   ]
  },
  {
   "cell_type": "markdown",
   "metadata": {},
   "source": [
    "#### dopisanie do sciezki : %%writefile - a \"path\"   i dane"
   ]
  },
  {
   "cell_type": "code",
   "execution_count": 29,
   "metadata": {},
   "outputs": [],
   "source": [
    "model=keras.Sequential()\n",
    "model.add(layers.Dense(16, activation='relu', input_shape=(X_train_prepd.shape[1],), name='h1'))\n",
    "model.add(layers.Dense(16, activation='relu', name='h2'))\n",
    "model.add(layers.Dense(1, activation='relu', name='output'))"
   ]
  },
  {
   "cell_type": "code",
   "execution_count": 30,
   "metadata": {},
   "outputs": [
    {
     "data": {
      "text/plain": [
       "26"
      ]
     },
     "execution_count": 30,
     "metadata": {},
     "output_type": "execute_result"
    }
   ],
   "source": [
    "X_train_prepd.shape[1]"
   ]
  },
  {
   "cell_type": "code",
   "execution_count": 31,
   "metadata": {},
   "outputs": [
    {
     "name": "stdout",
     "output_type": "stream",
     "text": [
      "Model: \"sequential\"\n",
      "_________________________________________________________________\n",
      " Layer (type)                Output Shape              Param #   \n",
      "=================================================================\n",
      " h1 (Dense)                  (None, 16)                432       \n",
      "                                                                 \n",
      " h2 (Dense)                  (None, 16)                272       \n",
      "                                                                 \n",
      " output (Dense)              (None, 1)                 17        \n",
      "                                                                 \n",
      "=================================================================\n",
      "Total params: 721\n",
      "Trainable params: 721\n",
      "Non-trainable params: 0\n",
      "_________________________________________________________________\n"
     ]
    }
   ],
   "source": [
    "model.summary()"
   ]
  },
  {
   "cell_type": "code",
   "execution_count": 32,
   "metadata": {},
   "outputs": [
    {
     "data": {
      "text/plain": [
       "18823"
      ]
     },
     "execution_count": 32,
     "metadata": {},
     "output_type": "execute_result"
    }
   ],
   "source": [
    "df['price'].max()"
   ]
  },
  {
   "cell_type": "code",
   "execution_count": 33,
   "metadata": {},
   "outputs": [],
   "source": [
    "model.compile(loss='mse', optimizer='adam', metrics=['mape'])"
   ]
  },
  {
   "cell_type": "code",
   "execution_count": 34,
   "metadata": {},
   "outputs": [
    {
     "name": "stdout",
     "output_type": "stream",
     "text": [
      "Epoch 1/10\n",
      "236/236 [==============================] - 3s 7ms/step - loss: 31439288.0000 - mape: 99.4072 - val_loss: 31102644.0000 - val_mape: 97.7384\n",
      "Epoch 2/10\n",
      "236/236 [==============================] - 1s 6ms/step - loss: 28877730.0000 - mape: 91.6267 - val_loss: 26042930.0000 - val_mape: 82.2912\n",
      "Epoch 3/10\n",
      "236/236 [==============================] - 2s 7ms/step - loss: 21264256.0000 - mape: 67.3768 - val_loss: 16256406.0000 - val_mape: 51.1559\n",
      "Epoch 4/10\n",
      "236/236 [==============================] - 2s 8ms/step - loss: 11575364.0000 - mape: 41.7186 - val_loss: 7684548.5000 - val_mape: 36.8668\n",
      "Epoch 5/10\n",
      "236/236 [==============================] - 2s 8ms/step - loss: 5655637.0000 - mape: 40.3273 - val_loss: 4253531.0000 - val_mape: 43.6637\n",
      "Epoch 6/10\n",
      "236/236 [==============================] - 2s 7ms/step - loss: 3792155.5000 - mape: 43.7461 - val_loss: 3309607.7500 - val_mape: 42.5914\n",
      "Epoch 7/10\n",
      "236/236 [==============================] - 2s 7ms/step - loss: 3168905.2500 - mape: 41.4502 - val_loss: 2838053.0000 - val_mape: 40.9075\n",
      "Epoch 8/10\n",
      "236/236 [==============================] - 2s 8ms/step - loss: 2799238.0000 - mape: 40.4025 - val_loss: 2513027.5000 - val_mape: 40.2770\n",
      "Epoch 9/10\n",
      "236/236 [==============================] - 2s 7ms/step - loss: 2525920.2500 - mape: 39.9928 - val_loss: 2260338.7500 - val_mape: 40.0399\n",
      "Epoch 10/10\n",
      "236/236 [==============================] - 2s 8ms/step - loss: 2308880.2500 - mape: 39.6480 - val_loss: 2055190.5000 - val_mape: 40.0616\n"
     ]
    },
    {
     "data": {
      "text/plain": [
       "<keras.callbacks.History at 0x1ec259690a0>"
      ]
     },
     "execution_count": 34,
     "metadata": {},
     "output_type": "execute_result"
    }
   ],
   "source": [
    "model.fit(X_train_prepd, y_train, batch_size=128,epochs=10, validation_split=.2)"
   ]
  },
  {
   "cell_type": "code",
   "execution_count": null,
   "metadata": {},
   "outputs": [],
   "source": []
  },
  {
   "cell_type": "code",
   "execution_count": null,
   "metadata": {},
   "outputs": [],
   "source": []
  },
  {
   "cell_type": "code",
   "execution_count": null,
   "metadata": {},
   "outputs": [],
   "source": []
  },
  {
   "cell_type": "markdown",
   "metadata": {},
   "source": [
    "#### 3. Defining Learning process(compilation)\n",
    "In the learning process you specify the optimizer and loss function(s) that the model should use, as well as the metrics you\n",
    "want to monitor during training:\n",
    "\n",
    "* optimizer: This object specifies the training procedure. Pass optimizer instances from tf.keras.optimizers module, such as tf.keras.optimizers.Adam. Optimizers with default parameters can also be passed via strings, such as 'adam' or 'sgd'.\n",
    "\n",
    "`tf.keras.optimizers`\n",
    "\n",
    "\n",
    "* loss: The function to minimize during optimization. Common choices includes mse, categorical_crossentropy, and binary_crossentropy, specified by name or by a callable object from the tf.keras.losses module\n",
    "\n",
    "`tf.keras.losses`\n",
    "\n",
    "* metrics: Used to monitor training. Passed as strings or callables from the tf.keras.metrics module.\n",
    "\n",
    "`tf.keras.metrics`\n",
    "\n",
    "* Example\n",
    "```\n",
    "from keras import optimizers\n",
    "model.compile(optimizer=optimizers.RMSprop(lr=0.001),\n",
    "loss='mse',\n",
    "metrics=['accuracy'])\n",
    "```"
   ]
  },
  {
   "cell_type": "code",
   "execution_count": 35,
   "metadata": {},
   "outputs": [
    {
     "name": "stdout",
     "output_type": "stream",
     "text": [
      "Model: \"sequential\"\n",
      "_________________________________________________________________\n",
      " Layer (type)                Output Shape              Param #   \n",
      "=================================================================\n",
      " h1 (Dense)                  (None, 16)                432       \n",
      "                                                                 \n",
      " h2 (Dense)                  (None, 16)                272       \n",
      "                                                                 \n",
      " output (Dense)              (None, 1)                 17        \n",
      "                                                                 \n",
      "=================================================================\n",
      "Total params: 721\n",
      "Trainable params: 721\n",
      "Non-trainable params: 0\n",
      "_________________________________________________________________\n"
     ]
    }
   ],
   "source": [
    "model.summary()"
   ]
  },
  {
   "cell_type": "code",
   "execution_count": null,
   "metadata": {},
   "outputs": [],
   "source": []
  },
  {
   "cell_type": "code",
   "execution_count": null,
   "metadata": {},
   "outputs": [],
   "source": []
  },
  {
   "cell_type": "code",
   "execution_count": null,
   "metadata": {},
   "outputs": [],
   "source": []
  },
  {
   "cell_type": "markdown",
   "metadata": {},
   "source": [
    "#### 4. Fitting model on data\n",
    "* small datasets - use in-memory NumPy arrays to train and evaluate a model. The model is \"fit\" to the training data using the fit method:\n",
    "```\n",
    "model.fit(input_tensor, target_tensor, batch_size=128, epochs=10)\n",
    "```\n",
    "\n",
    "* large datasets - use the Datasets API to scale or use multi-device training. \n",
    "\n",
    "`\n",
    "dataset = tf.data.Dataset.from_tensor_slices((data, labels))\n",
    "dataset = dataset.batch(32)\n",
    "model.fit(dataset, epochs=10)`\n",
    "\n",
    "\n",
    "#### Important arguments:\n",
    "* epochs: An epoch is one iteration over the entire input data \n",
    "* batch_size: In case of NumPy arrays the model slices the data into smaller batches and iterates over these batches during training. \n",
    "* validation_data: When prototyping a model, you want to easily monitor its performance on some validation data. Passing this argument—a tuple of inputs and labels—allows the model to display the loss and metrics in inference mode for the passed data, at the end of each epoch.\n",
    "\n",
    "\n"
   ]
  },
  {
   "cell_type": "code",
   "execution_count": null,
   "metadata": {},
   "outputs": [],
   "source": []
  },
  {
   "cell_type": "code",
   "execution_count": null,
   "metadata": {},
   "outputs": [],
   "source": []
  },
  {
   "cell_type": "code",
   "execution_count": null,
   "metadata": {},
   "outputs": [],
   "source": []
  },
  {
   "cell_type": "markdown",
   "metadata": {},
   "source": [
    "#### 5. Evaluate and predict\n",
    "* Evaluate method: `tf.keras.Model.evaluate` \n",
    "* Predict method: `tf.keras.Model.predict`\n",
    "* Both methods use NumPy data and a tf.data.Dataset\n",
    "\n",
    "`model.evaluate(data, labels, batch_size=32)`\n"
   ]
  },
  {
   "cell_type": "code",
   "execution_count": null,
   "metadata": {},
   "outputs": [],
   "source": []
  },
  {
   "cell_type": "code",
   "execution_count": null,
   "metadata": {},
   "outputs": [],
   "source": []
  },
  {
   "cell_type": "code",
   "execution_count": null,
   "metadata": {},
   "outputs": [],
   "source": []
  },
  {
   "cell_type": "markdown",
   "metadata": {},
   "source": [
    "### Functional API in Keras - complex models\n",
    "* Sequential approach is a simple stack of layers that cannot represent arbitrary models\n",
    "* For more complex model topologies use the Keras functional API\n",
    "* When to use functional API?:\n",
    "    * Multi-input models\n",
    "    * Multi-output models\n",
    "    * Models with shared layers (same layer called several times\n",
    "    * Models with non-sequential data flows (e.g. residual connections)\n",
    "\n",
    "\n",
    "#### How it works?\n",
    "1. A layer instance is callable and returns a tensor. This tensor is then fed as argument to the next layer\n",
    "2. Input tensors and output tensors are used to define a tf.keras.Model instance\n",
    "3. Model is trained just like the Sequential model.\n",
    "\n",
    "`\n",
    "inputs = tf.keras.Input(shape=(32,))  # Returns an input placeholder\n",
    "x = layers.Dense(64, activation='relu')(inputs)\n",
    "x = layers.Dense(64, activation='relu')(x)\n",
    "predictions = layers.Dense(10, activation='softmax')(x)\n",
    "model = tf.keras.Model(inputs=inputs, outputs=predictions)\n",
    "model.compile(optimizer=tf.keras.optimizers.RMSprop(0.001),\n",
    "              loss='categorical_crossentropy',\n",
    "              metrics=['accuracy'])\n",
    "model.fit(data, labels, batch_size=32, epochs=5)\n",
    "`"
   ]
  },
  {
   "cell_type": "code",
   "execution_count": 36,
   "metadata": {},
   "outputs": [],
   "source": [
    "def model_init():\n",
    "    input_layer=layers.Input(shape=(X_train_prepd.shape[1],), name='input')\n",
    "\n",
    "    h1=layers.Dense(16,activation='relu', name='h1')(input_layer)\n",
    "    h2=layers.Dense(16,activation='relu', name='h2')(h1)\n",
    "\n",
    "    output_layer=layers.Dense(1,activation='relu', name='out')(h2)\n",
    "\n",
    "\n",
    "    model=keras.Model(input_layer,output_layer)\n",
    "    model.compile(loss='mse', optimizer='adam', metrics=['mape'])\n",
    "    \n",
    "    return model"
   ]
  },
  {
   "cell_type": "code",
   "execution_count": 37,
   "metadata": {},
   "outputs": [],
   "source": [
    "model.compile(loss='mse', optimizer='adam', metrics=['mape'])"
   ]
  },
  {
   "cell_type": "code",
   "execution_count": 38,
   "metadata": {},
   "outputs": [
    {
     "name": "stdout",
     "output_type": "stream",
     "text": [
      "Model: \"sequential\"\n",
      "_________________________________________________________________\n",
      " Layer (type)                Output Shape              Param #   \n",
      "=================================================================\n",
      " h1 (Dense)                  (None, 16)                432       \n",
      "                                                                 \n",
      " h2 (Dense)                  (None, 16)                272       \n",
      "                                                                 \n",
      " output (Dense)              (None, 1)                 17        \n",
      "                                                                 \n",
      "=================================================================\n",
      "Total params: 721\n",
      "Trainable params: 721\n",
      "Non-trainable params: 0\n",
      "_________________________________________________________________\n"
     ]
    }
   ],
   "source": [
    "model.summary()"
   ]
  },
  {
   "cell_type": "code",
   "execution_count": 39,
   "metadata": {},
   "outputs": [
    {
     "name": "stdout",
     "output_type": "stream",
     "text": [
      "Epoch 1/10\n",
      "236/236 [==============================] - 2s 9ms/step - loss: 2093218.8750 - mape: 40.1941 - val_loss: 1814648.1250 - val_mape: 40.2517\n",
      "Epoch 2/10\n",
      "236/236 [==============================] - 2s 8ms/step - loss: 1906545.6250 - mape: 39.8299 - val_loss: 1644864.8750 - val_mape: 39.7931\n",
      "Epoch 3/10\n",
      "236/236 [==============================] - 2s 7ms/step - loss: 1764207.7500 - mape: 39.1283 - val_loss: 1512796.1250 - val_mape: 38.3294\n",
      "Epoch 4/10\n",
      "236/236 [==============================] - 2s 7ms/step - loss: 1646779.5000 - mape: 37.4741 - val_loss: 1397259.7500 - val_mape: 36.7366\n",
      "Epoch 5/10\n",
      "236/236 [==============================] - 2s 8ms/step - loss: 1545651.2500 - mape: 35.6157 - val_loss: 1302064.1250 - val_mape: 34.2762\n",
      "Epoch 6/10\n",
      "236/236 [==============================] - 2s 7ms/step - loss: 1457947.0000 - mape: 33.1665 - val_loss: 1219115.1250 - val_mape: 31.5133\n",
      "Epoch 7/10\n",
      "236/236 [==============================] - 2s 8ms/step - loss: 1381827.6250 - mape: 30.2366 - val_loss: 1140964.7500 - val_mape: 28.7022\n",
      "Epoch 8/10\n",
      "236/236 [==============================] - 2s 7ms/step - loss: 1315338.7500 - mape: 27.3674 - val_loss: 1077282.5000 - val_mape: 25.9407\n",
      "Epoch 9/10\n",
      "236/236 [==============================] - 2s 8ms/step - loss: 1260101.3750 - mape: 24.7957 - val_loss: 1026205.8750 - val_mape: 23.3317\n",
      "Epoch 10/10\n",
      "236/236 [==============================] - 2s 7ms/step - loss: 1212129.2500 - mape: 22.5004 - val_loss: 979685.6250 - val_mape: 21.2127\n"
     ]
    }
   ],
   "source": [
    "history=model.fit(X_train_prepd, y_train, batch_size=128,epochs=10, validation_split=.2)"
   ]
  },
  {
   "cell_type": "code",
   "execution_count": 40,
   "metadata": {},
   "outputs": [
    {
     "data": {
      "text/plain": [
       "<matplotlib.legend.Legend at 0x1edc2d21580>"
      ]
     },
     "execution_count": 40,
     "metadata": {},
     "output_type": "execute_result"
    },
    {
     "data": {
      "image/png": "[encoded data removed]",
      "text/plain": [
       "<Figure size 640x480 with 1 Axes>"
      ]
     },
     "metadata": {},
     "output_type": "display_data"
    }
   ],
   "source": [
    "import matplotlib.pyplot as plt\n",
    "\n",
    "plt.plot(history.history['loss'])\n",
    "plt.plot(history.history['val_loss'])\n",
    "plt.legend(['loss','val_loss'])"
   ]
  },
  {
   "cell_type": "code",
   "execution_count": 41,
   "metadata": {},
   "outputs": [
    {
     "name": "stdout",
     "output_type": "stream",
     "text": [
      "16/16 [==============================] - 0s 7ms/step - loss: 1003625.2500 - mape: 21.3735\n"
     ]
    },
    {
     "data": {
      "text/plain": [
       "[1003625.25, 21.37347412109375]"
      ]
     },
     "execution_count": 41,
     "metadata": {},
     "output_type": "execute_result"
    }
   ],
   "source": [
    "model.evaluate(X_test_prepd,y_test,batch_size=1024) # loss i mape na zbiorze testowym"
   ]
  },
  {
   "cell_type": "code",
   "execution_count": 42,
   "metadata": {},
   "outputs": [
    {
     "name": "stdout",
     "output_type": "stream",
     "text": [
      "16/16 [==============================] - 0s 3ms/step\n"
     ]
    }
   ],
   "source": [
    "y_test_pred=model.predict(X_test_prepd, batch_size=1024)"
   ]
  },
  {
   "cell_type": "code",
   "execution_count": 43,
   "metadata": {},
   "outputs": [
    {
     "data": {
      "text/plain": [
       "array([[  577.80743],\n",
       "       [ 3017.5151 ],\n",
       "       [ 1369.0596 ],\n",
       "       ...,\n",
       "       [10919.528  ],\n",
       "       [ 4317.214  ],\n",
       "       [ 1452.9235 ]], dtype=float32)"
      ]
     },
     "execution_count": 43,
     "metadata": {},
     "output_type": "execute_result"
    }
   ],
   "source": [
    "y_test_pred"
   ]
  },
  {
   "cell_type": "code",
   "execution_count": 44,
   "metadata": {},
   "outputs": [
    {
     "data": {
      "text/plain": [
       "1001.8109406064901"
      ]
     },
     "execution_count": 44,
     "metadata": {},
     "output_type": "execute_result"
    }
   ],
   "source": [
    "from sklearn.metrics import mean_squared_error\n",
    "mean_squared_error(y_test,y_test_pred, squared=False)"
   ]
  },
  {
   "cell_type": "code",
   "execution_count": 45,
   "metadata": {},
   "outputs": [
    {
     "data": {
      "text/plain": [
       "18823"
      ]
     },
     "execution_count": 45,
     "metadata": {},
     "output_type": "execute_result"
    }
   ],
   "source": [
    "df['price'].max()"
   ]
  },
  {
   "cell_type": "markdown",
   "metadata": {},
   "source": [
    "### Callbacks\n",
    "* A callback allows to customize and extend model behavior during training \n",
    "* Keras allows you to write your own custom callback \n",
    "* There are several predefined callbacks located in tf.keras.callbacks that include:\n",
    "    * ModelCheckpoint: save checkpoints of your model at regular intervals\n",
    "    * LearningRateScheduler: Dynamically change the learning rate\n",
    "    * EarlyStopping: Interrupt training when validation performance has stopped improving\n",
    "    * TensorBoard: Monitor the model's behavior using TensorBoard\n",
    "\n",
    "`\n",
    "callbacks = [\n",
    "  tf.keras.callbacks.EarlyStopping(patience=2, monitor='val_loss'),\n",
    "  tf.keras.callbacks.TensorBoard(log_dir='./logs')\n",
    "  ]\n",
    "model.fit(data, labels, batch_size=32, epochs=5, callbacks=callbacks,\n",
    "          validation_data=(val_data, val_labels))\n",
    "`\n"
   ]
  },
  {
   "cell_type": "code",
   "execution_count": 46,
   "metadata": {},
   "outputs": [],
   "source": [
    "def model_init():\n",
    "    input_layer = layers.Input(shape = (X_train_prepd.shape[1],),name = \"input\")\n",
    "\n",
    "    h1 = layers.Dense(64,activation = \"relu\", name = \"h1\")(input_layer)\n",
    "    h2 = layers.Dense(32,activation = \"relu\", name = \"h2\")(h1)\n",
    "    h3 = layers.Dense(16,activation = \"relu\", name = \"h3\")(h2)\n",
    "\n",
    "\n",
    "    output_layer = layers.Dense(1,activation = \"relu\", name = \"out\")(h3)\n",
    "\n",
    "    model = keras.Model(input_layer, output_layer)\n",
    "    model.compile(loss = \"mse\", optimizer = \"adam\", metrics = [\"mape\"])\n",
    "    return model"
   ]
  },
  {
   "cell_type": "code",
   "execution_count": 47,
   "metadata": {},
   "outputs": [],
   "source": [
    "import datetime\n",
    "logs_path = \"logs\\\\\"+datetime.datetime.now().strftime(\"%H-%M-%S\")\n",
    "\n",
    "cb = [\n",
    "    keras.callbacks.EarlyStopping(patience=30,restore_best_weights=True),\n",
    "    keras.callbacks.TensorBoard(log_dir= logs_path)\n",
    "]\n",
    "\n",
    "model = model_init()\n",
    "\n",
    "history = model.fit(X_train_prepd,\n",
    "          y_train,\n",
    "         batch_size=1024,\n",
    "          epochs=1000,\n",
    "          validation_split=.2,\n",
    "                   callbacks=cb,\n",
    "                   verbose = 0)"
   ]
  },
  {
   "cell_type": "code",
   "execution_count": 48,
   "metadata": {},
   "outputs": [
    {
     "data": {
      "text/plain": [
       "1001.8109406064901"
      ]
     },
     "execution_count": 48,
     "metadata": {},
     "output_type": "execute_result"
    }
   ],
   "source": [
    "from sklearn.metrics import mean_squared_error\n",
    "mean_squared_error(y_test,y_test_pred,squared=False)# RMSE"
   ]
  },
  {
   "cell_type": "code",
   "execution_count": 49,
   "metadata": {},
   "outputs": [
    {
     "name": "stdout",
     "output_type": "stream",
     "text": [
      "37/37 [==============================] - 0s 3ms/step\n"
     ]
    },
    {
     "data": {
      "text/plain": [
       "511.9200628887349"
      ]
     },
     "execution_count": 49,
     "metadata": {},
     "output_type": "execute_result"
    }
   ],
   "source": [
    "y_train_pred = model.predict(X_train_prepd,batch_size =1024)\n",
    "mean_squared_error(y_train,y_train_pred,squared=False)# RMSE"
   ]
  },
  {
   "cell_type": "markdown",
   "metadata": {},
   "source": [
    "### TensorBoard\n"
   ]
  },
  {
   "cell_type": "code",
   "execution_count": 50,
   "metadata": {},
   "outputs": [
    {
     "data": {
      "text/plain": [
       "'C:\\\\Users\\\\paperspace\\\\Desktop\\\\training\\\\Training materials I\\\\2. Budowa sieci MLP w Tensorflow Keras API'"
      ]
     },
     "execution_count": 50,
     "metadata": {},
     "output_type": "execute_result"
    }
   ],
   "source": [
    "%pwd"
   ]
  },
  {
   "cell_type": "markdown",
   "metadata": {},
   "source": [
    "in terminal:\n",
    "tensorboard --logdir \"C:\\Users\\paperspace\\Desktop\\training\\Training materials I\\2. Budowa sieci MLP w Tensorflow Keras API\\logs\""
   ]
  },
  {
   "cell_type": "markdown",
   "metadata": {},
   "source": [
    "### Saving and restoring model\n",
    "* by default tensorflow save data in TensorFlow checkpoint file format\n",
    "* to save in  Keras HDF5 format use .h5 extension\n",
    "\n",
    "Keras allows for different behaviour on save :\n",
    "* the weights values - tf.keras.Model.save_weights, \n",
    "\n",
    "`\n",
    "model.save_weights('./weights/my_model')\n",
    "model.load_weights('./weights/my_model') # the same model architecture`\n",
    "\n",
    "`\n",
    "model.save_weights('my_model.h5', save_format='h5')\n",
    "model.load_weights('my_model.h5')\n",
    "`\n",
    "\n",
    "* the model configuration - serializes the model architecture without any weights, supported formats are JSON and YAML:\n",
    "\n",
    "`\n",
    "json_string = model.to_json()\n",
    "json_string\n",
    "`\n",
    "\n",
    "`\n",
    "import json\n",
    "import pprint\n",
    "pprint.pprint(json.loads(json_string))\n",
    "`\n",
    "\n",
    "`\n",
    "new_model = tf.keras.models.model_from_json(json_string) # recreate model\n",
    "`\n",
    "\n",
    "`\n",
    "yaml_string = model.to_yaml()\n",
    "print(yaml_string)\n",
    "`\n",
    "\n",
    "`\n",
    "new_model = tf.keras.models.model_from_yaml(yaml_string) # recreate from yaml\n",
    "`\n",
    "\n",
    "* entire model in one file - the weight values, the model's configuration, and the optimizer's configuration, allows to checkpoint a model and resume training later—from the exact same state—without access to the original code\n",
    "\n",
    "`\n",
    "model.save('my_model.h5')\n",
    "`\n",
    "\n",
    "`\n",
    "model = tf.keras.models.load_model('my_model.h5')\n",
    "`\n"
   ]
  },
  {
   "cell_type": "code",
   "execution_count": 51,
   "metadata": {},
   "outputs": [],
   "source": [
    "model.save('model_diamonds.h5')"
   ]
  },
  {
   "cell_type": "code",
   "execution_count": 52,
   "metadata": {},
   "outputs": [],
   "source": [
    "model=keras.models.load_model('model_diamonds.h5')"
   ]
  },
  {
   "cell_type": "code",
   "execution_count": null,
   "metadata": {},
   "outputs": [],
   "source": []
  },
  {
   "cell_type": "markdown",
   "metadata": {},
   "source": [
    "-------\n"
   ]
  },
  {
   "cell_type": "markdown",
   "metadata": {},
   "source": [
    "### MLP for Classification problem\n",
    "When our target variable $y$ is discrete(categorical) we have classification problem.\n",
    "In the case of classification we need to set appropriate loss function and evaluation metric. The most commonly used metric is accuracy, although it has some problems.\n",
    "\n",
    "MLP Architecture for classification problem:\n",
    "* Number of neurons in input layer equal to number of predictors\n",
    "* Number of neurons in output layer equal to number of levels of categorical variables\n",
    "* Activation function depends on number of levels in target variable - sigmoid for binary problems or softmax for more more levels.\n",
    "* Loss function - binary_crossentropy or categorical_crossentropy \n"
   ]
  },
  {
   "cell_type": "markdown",
   "metadata": {},
   "source": [
    "### Problem description\n",
    "#### Identify fraudulent credit card transactions\n",
    "\n",
    "* credit cards transactions collected over two days of September 2013 in Europe\n",
    "* 492 frauds out of 284,807 transactions -highly imbalanced problem \n",
    "\n",
    "#### Data\n",
    "* Columns  V1, V2, … V28 obtained as a result of PCA transformation represent features - transformed due to confidentiality issues \n",
    "* 'Time' and 'Amount' only variables in original form\n",
    "* 'Time' measures the seconds elapsed between each transaction and the first transaction in the dataset\n",
    "* 'Amount' can be used for cost-sensitive learning\n",
    "* Class is our target encoded as follows: \n",
    "    * 1 - fraud\n",
    "    * 0 - otherwise\n",
    "\n",
    "#### File\n",
    "* \"data/creditcard.csv\""
   ]
  },
  {
   "cell_type": "markdown",
   "metadata": {},
   "source": [
    "#### Data Import"
   ]
  },
  {
   "cell_type": "code",
   "execution_count": 53,
   "metadata": {},
   "outputs": [],
   "source": [
    "df=pd.read_csv(\"../../../data/data/creditcard.csv\")"
   ]
  },
  {
   "cell_type": "code",
   "execution_count": 54,
   "metadata": {},
   "outputs": [
    {
     "name": "stdout",
     "output_type": "stream",
     "text": [
      "<class 'pandas.core.frame.DataFrame'>\n",
      "RangeIndex: 284807 entries, 0 to 284806\n",
      "Data columns (total 31 columns):\n",
      " #   Column  Non-Null Count   Dtype  \n",
      "---  ------  --------------   -----  \n",
      " 0   Time    284807 non-null  float64\n",
      " 1   V1      284807 non-null  float64\n",
      " 2   V2      284807 non-null  float64\n",
      " 3   V3      284807 non-null  float64\n",
      " 4   V4      284807 non-null  float64\n",
      " 5   V5      284807 non-null  float64\n",
      " 6   V6      284807 non-null  float64\n",
      " 7   V7      284807 non-null  float64\n",
      " 8   V8      284807 non-null  float64\n",
      " 9   V9      284807 non-null  float64\n",
      " 10  V10     284807 non-null  float64\n",
      " 11  V11     284807 non-null  float64\n",
      " 12  V12     284807 non-null  float64\n",
      " 13  V13     284807 non-null  float64\n",
      " 14  V14     284807 non-null  float64\n",
      " 15  V15     284807 non-null  float64\n",
      " 16  V16     284807 non-null  float64\n",
      " 17  V17     284807 non-null  float64\n",
      " 18  V18     284807 non-null  float64\n",
      " 19  V19     284807 non-null  float64\n",
      " 20  V20     284807 non-null  float64\n",
      " 21  V21     284807 non-null  float64\n",
      " 22  V22     284807 non-null  float64\n",
      " 23  V23     284807 non-null  float64\n",
      " 24  V24     284807 non-null  float64\n",
      " 25  V25     284807 non-null  float64\n",
      " 26  V26     284807 non-null  float64\n",
      " 27  V27     284807 non-null  float64\n",
      " 28  V28     284807 non-null  float64\n",
      " 29  Amount  284807 non-null  float64\n",
      " 30  Class   284807 non-null  int64  \n",
      "dtypes: float64(30), int64(1)\n",
      "memory usage: 67.4 MB\n"
     ]
    }
   ],
   "source": [
    "df.info()"
   ]
  },
  {
   "cell_type": "code",
   "execution_count": 55,
   "metadata": {},
   "outputs": [
    {
     "data": {
      "text/plain": [
       "0    0.998273\n",
       "1    0.001727\n",
       "Name: Class, dtype: float64"
      ]
     },
     "execution_count": 55,
     "metadata": {},
     "output_type": "execute_result"
    }
   ],
   "source": [
    "df.Class.value_counts()/df.shape[0] #%"
   ]
  },
  {
   "cell_type": "code",
   "execution_count": 56,
   "metadata": {},
   "outputs": [
    {
     "data": {
      "text/html": [
       "<div>\n",
       "<style scoped>\n",
       "    .dataframe tbody tr th:only-of-type {\n",
       "        vertical-align: middle;\n",
       "    }\n",
       "\n",
       "    .dataframe tbody tr th {\n",
       "        vertical-align: top;\n",
       "    }\n",
       "\n",
       "    .dataframe thead th {\n",
       "        text-align: right;\n",
       "    }\n",
       "</style>\n",
       "<table border=\"1\" class=\"dataframe\">\n",
       "  <thead>\n",
       "    <tr style=\"text-align: right;\">\n",
       "      <th></th>\n",
       "      <th>Time</th>\n",
       "      <th>V1</th>\n",
       "      <th>V2</th>\n",
       "      <th>V3</th>\n",
       "      <th>V4</th>\n",
       "      <th>V5</th>\n",
       "      <th>V6</th>\n",
       "      <th>V7</th>\n",
       "      <th>V8</th>\n",
       "      <th>V9</th>\n",
       "      <th>...</th>\n",
       "      <th>V21</th>\n",
       "      <th>V22</th>\n",
       "      <th>V23</th>\n",
       "      <th>V24</th>\n",
       "      <th>V25</th>\n",
       "      <th>V26</th>\n",
       "      <th>V27</th>\n",
       "      <th>V28</th>\n",
       "      <th>Amount</th>\n",
       "      <th>Class</th>\n",
       "    </tr>\n",
       "  </thead>\n",
       "  <tbody>\n",
       "    <tr>\n",
       "      <th>0</th>\n",
       "      <td>0.0</td>\n",
       "      <td>-1.359807</td>\n",
       "      <td>-0.072781</td>\n",
       "      <td>2.536347</td>\n",
       "      <td>1.378155</td>\n",
       "      <td>-0.338321</td>\n",
       "      <td>0.462388</td>\n",
       "      <td>0.239599</td>\n",
       "      <td>0.098698</td>\n",
       "      <td>0.363787</td>\n",
       "      <td>...</td>\n",
       "      <td>-0.018307</td>\n",
       "      <td>0.277838</td>\n",
       "      <td>-0.110474</td>\n",
       "      <td>0.066928</td>\n",
       "      <td>0.128539</td>\n",
       "      <td>-0.189115</td>\n",
       "      <td>0.133558</td>\n",
       "      <td>-0.021053</td>\n",
       "      <td>149.62</td>\n",
       "      <td>0</td>\n",
       "    </tr>\n",
       "  </tbody>\n",
       "</table>\n",
       "<p>1 rows × 31 columns</p>\n",
       "</div>"
      ],
      "text/plain": [
       "   Time        V1        V2        V3        V4        V5        V6        V7  \\\n",
       "0   0.0 -1.359807 -0.072781  2.536347  1.378155 -0.338321  0.462388  0.239599   \n",
       "\n",
       "         V8        V9  ...       V21       V22       V23       V24       V25  \\\n",
       "0  0.098698  0.363787  ... -0.018307  0.277838 -0.110474  0.066928  0.128539   \n",
       "\n",
       "        V26       V27       V28  Amount  Class  \n",
       "0 -0.189115  0.133558 -0.021053  149.62      0  \n",
       "\n",
       "[1 rows x 31 columns]"
      ]
     },
     "execution_count": 56,
     "metadata": {},
     "output_type": "execute_result"
    }
   ],
   "source": [
    "df.head(1)"
   ]
  },
  {
   "cell_type": "markdown",
   "metadata": {},
   "source": [
    "#### 0. Data Preprocessing"
   ]
  },
  {
   "cell_type": "code",
   "execution_count": 57,
   "metadata": {},
   "outputs": [],
   "source": [
    "X=df.drop(columns=['Class'])\n",
    "y=df.Class"
   ]
  },
  {
   "cell_type": "code",
   "execution_count": 58,
   "metadata": {},
   "outputs": [
    {
     "data": {
      "text/plain": [
       "((142403, 30), (142404, 30), (142403,), (142404,))"
      ]
     },
     "execution_count": 58,
     "metadata": {},
     "output_type": "execute_result"
    }
   ],
   "source": [
    "X_train, X_test, y_train, y_test = train_test_split(X, y, \n",
    "                                                    test_size=0.5, \n",
    "                                                    random_state=42, stratify=y)\n",
    "#stratify zapewnie podzial klasy y - inbalanced dataset\n",
    "\n",
    "X_train.shape, X_test.shape, y_train.shape, y_test.shape"
   ]
  },
  {
   "cell_type": "code",
   "execution_count": 59,
   "metadata": {},
   "outputs": [],
   "source": [
    "# %load \"g:/My Drive/diamonds_preproc.py\"\n",
    "from sklearn.preprocessing import StandardScaler, RobustScaler, FunctionTransformer, OneHotEncoder\n",
    "from sklearn.compose import ColumnTransformer\n",
    "from sklearn.pipeline import Pipeline\n",
    "\n",
    "# 1. select labels of features for one hot encoding and standarization\n",
    "num_labels = X_train.select_dtypes(\"number\").columns\n",
    "\n",
    "# 2. define preprocessor for each type of data\n",
    "num_preprocessor = RobustScaler()\n",
    "\n",
    "# 3. Combine it all together\n",
    "preprocessor = ColumnTransformer([\n",
    "                                 (\"num\", num_preprocessor, num_labels)])\n"
   ]
  },
  {
   "cell_type": "code",
   "execution_count": 60,
   "metadata": {},
   "outputs": [
    {
     "data": {
      "text/plain": [
       "ColumnTransformer(transformers=[('num', RobustScaler(),\n",
       "                                 Index(['Time', 'V1', 'V2', 'V3', 'V4', 'V5', 'V6', 'V7', 'V8', 'V9', 'V10',\n",
       "       'V11', 'V12', 'V13', 'V14', 'V15', 'V16', 'V17', 'V18', 'V19', 'V20',\n",
       "       'V21', 'V22', 'V23', 'V24', 'V25', 'V26', 'V27', 'V28', 'Amount'],\n",
       "      dtype='object'))])"
      ]
     },
     "execution_count": 60,
     "metadata": {},
     "output_type": "execute_result"
    }
   ],
   "source": [
    "preprocessor"
   ]
  },
  {
   "cell_type": "code",
   "execution_count": 61,
   "metadata": {},
   "outputs": [],
   "source": [
    "preprocessor.fit(X_train) #tylo train - data leakage\n",
    "feature_labels=preprocessor.transformers_[0][1].get_feature_names_out().tolist() \n",
    "# aby dostac sie do nazw kolumn jakosciowych po transformacji"
   ]
  },
  {
   "cell_type": "code",
   "execution_count": 62,
   "metadata": {},
   "outputs": [
    {
     "data": {
      "text/plain": [
       "['Time',\n",
       " 'V1',\n",
       " 'V2',\n",
       " 'V3',\n",
       " 'V4',\n",
       " 'V5',\n",
       " 'V6',\n",
       " 'V7',\n",
       " 'V8',\n",
       " 'V9',\n",
       " 'V10',\n",
       " 'V11',\n",
       " 'V12',\n",
       " 'V13',\n",
       " 'V14',\n",
       " 'V15',\n",
       " 'V16',\n",
       " 'V17',\n",
       " 'V18',\n",
       " 'V19',\n",
       " 'V20',\n",
       " 'V21',\n",
       " 'V22',\n",
       " 'V23',\n",
       " 'V24',\n",
       " 'V25',\n",
       " 'V26',\n",
       " 'V27',\n",
       " 'V28',\n",
       " 'Amount']"
      ]
     },
     "execution_count": 62,
     "metadata": {},
     "output_type": "execute_result"
    }
   ],
   "source": [
    "feature_labels"
   ]
  },
  {
   "cell_type": "code",
   "execution_count": 63,
   "metadata": {},
   "outputs": [],
   "source": [
    "X_train_prepd=preprocessor.transform(X_train)\n",
    "X_train_prepd=pd.DataFrame(X_train_prepd, columns=feature_labels)\n",
    "\n",
    "X_test_prepd=preprocessor.transform(X_test)\n",
    "X_test_prepd=pd.DataFrame(X_test_prepd, columns=feature_labels)"
   ]
  },
  {
   "cell_type": "markdown",
   "metadata": {},
   "source": [
    "#### 1. Creating a model"
   ]
  },
  {
   "cell_type": "code",
   "execution_count": 64,
   "metadata": {},
   "outputs": [
    {
     "data": {
      "text/plain": [
       "0    142157\n",
       "1       246\n",
       "Name: Class, dtype: int64"
      ]
     },
     "execution_count": 64,
     "metadata": {},
     "output_type": "execute_result"
    }
   ],
   "source": [
    "y_train.value_counts()"
   ]
  },
  {
   "cell_type": "code",
   "execution_count": 65,
   "metadata": {},
   "outputs": [],
   "source": [
    "def model_init():\n",
    "    input_layer=layers.Input(shape=(X_train_prepd.shape[1],), name='input')\n",
    "\n",
    "    h1=layers.Dense(64,activation='relu', name='h1')(input_layer)\n",
    "    h2=layers.Dense(64,activation='relu', name='h2')(h1)\n",
    "    h3=layers.Dense(64,activation='relu', name='h3')(h2)\n",
    "\n",
    "    output_layer=layers.Dense(1,activation='sigmoid', name='out')(h3)\n",
    "\n",
    "\n",
    "    model=keras.Model(input_layer,output_layer)\n",
    "    model.compile(loss='binary_crossentropy', optimizer='adam', metrics=['accuracy'])\n",
    "    \n",
    "    return model"
   ]
  },
  {
   "cell_type": "code",
   "execution_count": 66,
   "metadata": {},
   "outputs": [],
   "source": [
    "import datetime\n",
    "logs_path = \"logs\\\\\"+datetime.datetime.now().strftime(\"%H-%M-%S\")\n",
    "\n",
    "cb = [\n",
    "    keras.callbacks.EarlyStopping(patience=30,restore_best_weights=True),\n",
    "    keras.callbacks.TensorBoard(log_dir= logs_path)\n",
    "]\n",
    "\n",
    "model = model_init()\n",
    "\n",
    "history = model.fit(X_train_prepd,\n",
    "          y_train,\n",
    "         batch_size=1024,\n",
    "          epochs=1000,\n",
    "          validation_split=.2,\n",
    "                   callbacks=cb,\n",
    "                   verbose = 0)"
   ]
  },
  {
   "cell_type": "markdown",
   "metadata": {},
   "source": [
    "#### 2. Adding layers"
   ]
  },
  {
   "cell_type": "code",
   "execution_count": null,
   "metadata": {},
   "outputs": [],
   "source": []
  },
  {
   "cell_type": "code",
   "execution_count": null,
   "metadata": {},
   "outputs": [],
   "source": []
  },
  {
   "cell_type": "markdown",
   "metadata": {},
   "source": [
    "#### 3. Model Compilation\n",
    "*"
   ]
  },
  {
   "cell_type": "code",
   "execution_count": null,
   "metadata": {},
   "outputs": [],
   "source": []
  },
  {
   "cell_type": "code",
   "execution_count": null,
   "metadata": {},
   "outputs": [],
   "source": []
  },
  {
   "cell_type": "markdown",
   "metadata": {},
   "source": [
    "#### 3.1 Model as function"
   ]
  },
  {
   "cell_type": "code",
   "execution_count": null,
   "metadata": {},
   "outputs": [],
   "source": []
  },
  {
   "cell_type": "code",
   "execution_count": null,
   "metadata": {},
   "outputs": [],
   "source": []
  },
  {
   "cell_type": "code",
   "execution_count": null,
   "metadata": {},
   "outputs": [],
   "source": []
  },
  {
   "cell_type": "markdown",
   "metadata": {},
   "source": [
    "#### 4. Model Summary"
   ]
  },
  {
   "cell_type": "code",
   "execution_count": 67,
   "metadata": {},
   "outputs": [
    {
     "name": "stdout",
     "output_type": "stream",
     "text": [
      "Model: \"model_2\"\n",
      "_________________________________________________________________\n",
      " Layer (type)                Output Shape              Param #   \n",
      "=================================================================\n",
      " input (InputLayer)          [(None, 30)]              0         \n",
      "                                                                 \n",
      " h1 (Dense)                  (None, 64)                1984      \n",
      "                                                                 \n",
      " h2 (Dense)                  (None, 64)                4160      \n",
      "                                                                 \n",
      " h3 (Dense)                  (None, 64)                4160      \n",
      "                                                                 \n",
      " out (Dense)                 (None, 1)                 65        \n",
      "                                                                 \n",
      "=================================================================\n",
      "Total params: 10,369\n",
      "Trainable params: 10,369\n",
      "Non-trainable params: 0\n",
      "_________________________________________________________________\n"
     ]
    }
   ],
   "source": [
    "model=model_init()\n",
    "model.summary()"
   ]
  },
  {
   "cell_type": "code",
   "execution_count": null,
   "metadata": {},
   "outputs": [],
   "source": []
  },
  {
   "cell_type": "markdown",
   "metadata": {},
   "source": [
    "#### 5. Model training and monitoring\n"
   ]
  },
  {
   "cell_type": "code",
   "execution_count": null,
   "metadata": {},
   "outputs": [],
   "source": []
  },
  {
   "cell_type": "code",
   "execution_count": null,
   "metadata": {},
   "outputs": [],
   "source": []
  },
  {
   "cell_type": "markdown",
   "metadata": {},
   "source": [
    "#### 6. Evaluation\n",
    "Doc (metrics): https://keras.io/metrics/\n"
   ]
  },
  {
   "cell_type": "code",
   "execution_count": 68,
   "metadata": {},
   "outputs": [
    {
     "name": "stdout",
     "output_type": "stream",
     "text": [
      "140/140 [==============================] - 1s 6ms/step - loss: 0.8285 - accuracy: 0.2756\n"
     ]
    },
    {
     "data": {
      "text/plain": [
       "[0.8284557461738586, 0.275631308555603]"
      ]
     },
     "execution_count": 68,
     "metadata": {},
     "output_type": "execute_result"
    }
   ],
   "source": [
    "model.evaluate(X_test_prepd,y_test, batch_size=1024)"
   ]
  },
  {
   "cell_type": "code",
   "execution_count": 69,
   "metadata": {},
   "outputs": [],
   "source": [
    "from sklearn.metrics import confusion_matrix, accuracy_score, classification_report"
   ]
  },
  {
   "cell_type": "code",
   "execution_count": 70,
   "metadata": {},
   "outputs": [
    {
     "name": "stdout",
     "output_type": "stream",
     "text": [
      "4451/4451 [==============================] - 10s 2ms/step\n"
     ]
    }
   ],
   "source": [
    "y_test_prob=model.predict(X_test_prepd)"
   ]
  },
  {
   "cell_type": "code",
   "execution_count": 71,
   "metadata": {},
   "outputs": [],
   "source": [
    "cutoff=.5\n",
    "y_test_pred=np.where(y_test_prob>=cutoff ,1,0 )"
   ]
  },
  {
   "cell_type": "code",
   "execution_count": 72,
   "metadata": {},
   "outputs": [
    {
     "data": {
      "text/plain": [
       "0.275631302491503"
      ]
     },
     "execution_count": 72,
     "metadata": {},
     "output_type": "execute_result"
    }
   ],
   "source": [
    "accuracy_score(y_test,y_test_pred)"
   ]
  },
  {
   "cell_type": "code",
   "execution_count": 73,
   "metadata": {},
   "outputs": [
    {
     "data": {
      "text/plain": [
       "array([[ 39018, 103140],\n",
       "       [    13,    233]], dtype=int64)"
      ]
     },
     "execution_count": 73,
     "metadata": {},
     "output_type": "execute_result"
    }
   ],
   "source": [
    "confusion_matrix(y_test,y_test_pred)"
   ]
  },
  {
   "cell_type": "code",
   "execution_count": 74,
   "metadata": {},
   "outputs": [
    {
     "data": {
      "text/plain": [
       "0    0.998273\n",
       "1    0.001727\n",
       "Name: Class, dtype: float64"
      ]
     },
     "execution_count": 74,
     "metadata": {},
     "output_type": "execute_result"
    }
   ],
   "source": [
    "y_test.value_counts()/y_test.shape"
   ]
  },
  {
   "cell_type": "code",
   "execution_count": 75,
   "metadata": {},
   "outputs": [
    {
     "name": "stdout",
     "output_type": "stream",
     "text": [
      "              precision    recall  f1-score   support\n",
      "\n",
      "           0       1.00      0.27      0.43    142158\n",
      "           1       0.00      0.95      0.00       246\n",
      "\n",
      "    accuracy                           0.28    142404\n",
      "   macro avg       0.50      0.61      0.22    142404\n",
      "weighted avg       1.00      0.28      0.43    142404\n",
      "\n"
     ]
    }
   ],
   "source": [
    "print(classification_report(y_test,y_test_pred))"
   ]
  },
  {
   "cell_type": "code",
   "execution_count": 76,
   "metadata": {},
   "outputs": [],
   "source": [
    "# %load \"g:/My Drive/roc_prc.py\"\n",
    "def plot_roc(y_test, prob, model_name = \"\"):\n",
    "    \n",
    "    from sklearn.metrics import roc_curve, roc_auc_score\n",
    "    import matplotlib.pyplot as plt\n",
    "    \n",
    "    fpr, recall, tresh = roc_curve(y_test, prob)\n",
    "    auc = roc_auc_score(y_test, prob)\n",
    "    \n",
    "    plt.plot(fpr, recall, label = \"{} AUC = {}\".format(model_name, auc.round(2)))\n",
    "    plt.plot([0,1], [0,1], 'r--')\n",
    "    plt.xlabel(\"FPR\")\n",
    "    plt.ylabel(\"Recall\")\n",
    "    plt.title(\"ROC Curve\")\n",
    "    plt.legend()\n",
    "    \n",
    "def plot_prc(y_test, prob, model_name = \"\"):\n",
    "    \n",
    "    from sklearn.metrics import precision_recall_curve, average_precision_score\n",
    "    import matplotlib.pyplot as plt\n",
    "    \n",
    "    precision, recall, tresh = precision_recall_curve(y_test, prob)\n",
    "    auc = average_precision_score(y_test, prob)\n",
    "    \n",
    "    plt.plot(precision, recall, label = \"{} AUPRC = {}\".format(model_name, auc.round(2)))\n",
    "    plt.xlabel(\"Precision\")\n",
    "    plt.ylabel(\"Recall\")\n",
    "    plt.title(\"Precision-Recall Curve\")\n",
    "    plt.legend()"
   ]
  },
  {
   "cell_type": "code",
   "execution_count": 77,
   "metadata": {},
   "outputs": [
    {
     "data": {
      "image/png": "[encoded data removed]",
      "text/plain": [
       "<Figure size 640x480 with 1 Axes>"
      ]
     },
     "metadata": {},
     "output_type": "display_data"
    }
   ],
   "source": [
    "plot_roc(y_test,y_test_prob,'nn')"
   ]
  },
  {
   "cell_type": "code",
   "execution_count": 78,
   "metadata": {},
   "outputs": [
    {
     "data": {
      "image/png": "[encoded data removed]",
      "text/plain": [
       "<Figure size 640x480 with 1 Axes>"
      ]
     },
     "metadata": {},
     "output_type": "display_data"
    }
   ],
   "source": [
    "plot_prc(y_test,y_test_prob,'nn')"
   ]
  },
  {
   "cell_type": "markdown",
   "metadata": {},
   "source": [
    "### modyfikacja zgodnie z najlepszycm podejsciem w kontekscie niezbbilansowania"
   ]
  },
  {
   "cell_type": "code",
   "execution_count": 79,
   "metadata": {},
   "outputs": [
    {
     "data": {
      "text/plain": [
       "<keras.initializers.initializers_v2.Constant at 0x1ec4c290d00>"
      ]
     },
     "execution_count": 79,
     "metadata": {},
     "output_type": "execute_result"
    }
   ],
   "source": [
    "neg, pos=np.bincount(y_train)\n",
    "neg\n",
    "pos\n",
    "total=neg+pos\n",
    "\n",
    "initial_bias=np.log(pos/neg) # niezbilansowany problem wiec trzeba z biasem kombinowac, i dodac do warstwy output\n",
    "initial_bias=keras.initializers.Constant(initial_bias)\n",
    "initial_bias"
   ]
  },
  {
   "cell_type": "code",
   "execution_count": null,
   "metadata": {},
   "outputs": [],
   "source": []
  },
  {
   "cell_type": "code",
   "execution_count": null,
   "metadata": {},
   "outputs": [],
   "source": []
  },
  {
   "cell_type": "code",
   "execution_count": 80,
   "metadata": {},
   "outputs": [],
   "source": [
    "metrics_to_monitor=[\n",
    "    keras.metrics.AUC(name='auc'),\n",
    "    keras.metrics.AUC(curve='PR', name='prc')\n",
    "]"
   ]
  },
  {
   "cell_type": "code",
   "execution_count": 81,
   "metadata": {},
   "outputs": [],
   "source": [
    "def model_init():\n",
    "    input_layer=layers.Input(shape=(X_train_prepd.shape[1],), name='input')\n",
    "\n",
    "    h1=layers.Dense(64,activation='relu', name='h1')(input_layer)\n",
    "    h2=layers.Dense(64,activation='relu', name='h2')(h1)\n",
    "    h3=layers.Dense(64,activation='relu', name='h3')(h2)\n",
    "\n",
    "    output_layer=layers.Dense(1,activation='sigmoid', name='out', bias_initializer=initial_bias)(h3)\n",
    "\n",
    "\n",
    "    model=keras.Model(input_layer,output_layer)\n",
    "    model.compile(loss='binary_crossentropy', optimizer='adam', metrics=metrics_to_monitor)\n",
    "    \n",
    "    return model"
   ]
  },
  {
   "cell_type": "code",
   "execution_count": 82,
   "metadata": {},
   "outputs": [],
   "source": [
    "from sklearn.utils.class_weight import compute_class_weight\n",
    "wagi=compute_class_weight('balanced', classes=y_train.unique(), y=y_train)"
   ]
  },
  {
   "cell_type": "code",
   "execution_count": 83,
   "metadata": {},
   "outputs": [
    {
     "name": "stdout",
     "output_type": "stream",
     "text": [
      "Epoch 1/100\n",
      "112/112 [==============================] - 3s 18ms/step - loss: 0.6198 - auc: 0.9152 - prc: 0.0883 - val_loss: 0.1329 - val_auc: 0.9871 - val_prc: 0.1801\n",
      "Epoch 2/100\n",
      "112/112 [==============================] - 2s 15ms/step - loss: 0.2050 - auc: 0.9805 - prc: 0.1848 - val_loss: 0.1725 - val_auc: 0.9892 - val_prc: 0.1724\n",
      "Epoch 3/100\n",
      "112/112 [==============================] - 2s 15ms/step - loss: 0.1542 - auc: 0.9887 - prc: 0.2988 - val_loss: 0.2042 - val_auc: 0.9846 - val_prc: 0.1730\n",
      "Epoch 4/100\n",
      "112/112 [==============================] - 2s 15ms/step - loss: 0.1152 - auc: 0.9926 - prc: 0.3787 - val_loss: 0.0923 - val_auc: 0.9748 - val_prc: 0.4596\n",
      "Epoch 5/100\n",
      "112/112 [==============================] - 1s 13ms/step - loss: 0.1277 - auc: 0.9891 - prc: 0.2985 - val_loss: 0.1335 - val_auc: 0.9789 - val_prc: 0.2356\n",
      "Epoch 6/100\n",
      "112/112 [==============================] - 2s 14ms/step - loss: 0.0921 - auc: 0.9953 - prc: 0.3970 - val_loss: 0.1446 - val_auc: 0.9731 - val_prc: 0.2701\n",
      "Epoch 7/100\n",
      "112/112 [==============================] - 2s 14ms/step - loss: 0.0824 - auc: 0.9962 - prc: 0.4002 - val_loss: 0.0521 - val_auc: 0.9737 - val_prc: 0.5238\n",
      "Epoch 8/100\n",
      "112/112 [==============================] - 2s 14ms/step - loss: 0.0631 - auc: 0.9978 - prc: 0.6582 - val_loss: 0.0885 - val_auc: 0.9780 - val_prc: 0.5322\n",
      "Epoch 9/100\n",
      "112/112 [==============================] - 2s 14ms/step - loss: 0.0770 - auc: 0.9962 - prc: 0.3842 - val_loss: 0.1030 - val_auc: 0.9764 - val_prc: 0.3553\n",
      "Epoch 10/100\n",
      "112/112 [==============================] - 2s 15ms/step - loss: 0.0504 - auc: 0.9986 - prc: 0.6024 - val_loss: 0.0412 - val_auc: 0.9761 - val_prc: 0.6737\n",
      "Epoch 11/100\n",
      "112/112 [==============================] - 2s 15ms/step - loss: 0.0381 - auc: 0.9992 - prc: 0.6768 - val_loss: 0.0829 - val_auc: 0.9741 - val_prc: 0.4035\n",
      "Epoch 12/100\n",
      "112/112 [==============================] - 2s 14ms/step - loss: 0.0442 - auc: 0.9986 - prc: 0.5207 - val_loss: 0.0695 - val_auc: 0.9651 - val_prc: 0.4099\n",
      "Epoch 13/100\n",
      "112/112 [==============================] - 2s 14ms/step - loss: 0.0332 - auc: 0.9993 - prc: 0.6745 - val_loss: 0.0587 - val_auc: 0.9750 - val_prc: 0.5214\n",
      "Epoch 14/100\n",
      "112/112 [==============================] - 1s 13ms/step - loss: 0.0356 - auc: 0.9988 - prc: 0.5030 - val_loss: 0.0266 - val_auc: 0.9581 - val_prc: 0.6769\n",
      "Epoch 15/100\n",
      "112/112 [==============================] - 2s 14ms/step - loss: 0.0230 - auc: 0.9995 - prc: 0.7431 - val_loss: 0.0522 - val_auc: 0.9581 - val_prc: 0.4300\n",
      "Epoch 16/100\n",
      "112/112 [==============================] - 2s 14ms/step - loss: 0.0193 - auc: 0.9995 - prc: 0.7072 - val_loss: 0.0407 - val_auc: 0.9593 - val_prc: 0.6187\n",
      "Epoch 17/100\n",
      "112/112 [==============================] - 2s 14ms/step - loss: 0.0174 - auc: 0.9996 - prc: 0.7568 - val_loss: 0.0318 - val_auc: 0.9597 - val_prc: 0.6443\n",
      "Epoch 18/100\n",
      "112/112 [==============================] - 1s 13ms/step - loss: 0.0142 - auc: 0.9997 - prc: 0.8130 - val_loss: 0.0202 - val_auc: 0.9514 - val_prc: 0.6867\n",
      "Epoch 19/100\n",
      "112/112 [==============================] - 2s 13ms/step - loss: 0.0160 - auc: 0.9996 - prc: 0.7367 - val_loss: 0.0164 - val_auc: 0.9518 - val_prc: 0.6550\n",
      "Epoch 20/100\n",
      "112/112 [==============================] - 2s 15ms/step - loss: 0.0153 - auc: 0.9996 - prc: 0.7274 - val_loss: 0.0205 - val_auc: 0.9517 - val_prc: 0.6556\n",
      "Epoch 21/100\n",
      "112/112 [==============================] - 2s 15ms/step - loss: 0.0107 - auc: 0.9998 - prc: 0.8356 - val_loss: 0.0209 - val_auc: 0.9520 - val_prc: 0.6724\n",
      "Epoch 22/100\n",
      "112/112 [==============================] - 2s 14ms/step - loss: 0.0107 - auc: 0.9997 - prc: 0.7702 - val_loss: 0.0364 - val_auc: 0.9411 - val_prc: 0.4195\n",
      "Epoch 23/100\n",
      "112/112 [==============================] - 1s 13ms/step - loss: 0.0136 - auc: 0.9995 - prc: 0.6793 - val_loss: 0.0197 - val_auc: 0.9422 - val_prc: 0.6635\n",
      "Epoch 24/100\n",
      "112/112 [==============================] - 2s 14ms/step - loss: 0.0118 - auc: 0.9997 - prc: 0.7741 - val_loss: 0.0258 - val_auc: 0.9421 - val_prc: 0.6639\n",
      "Epoch 25/100\n",
      "112/112 [==============================] - 2s 14ms/step - loss: 0.0095 - auc: 0.9998 - prc: 0.8335 - val_loss: 0.0190 - val_auc: 0.9536 - val_prc: 0.6952\n",
      "Epoch 26/100\n",
      "112/112 [==============================] - 2s 14ms/step - loss: 0.0115 - auc: 0.9996 - prc: 0.7274 - val_loss: 0.0216 - val_auc: 0.9423 - val_prc: 0.6528\n",
      "Epoch 27/100\n",
      "112/112 [==============================] - 1s 13ms/step - loss: 0.0094 - auc: 0.9998 - prc: 0.7967 - val_loss: 0.0221 - val_auc: 0.9427 - val_prc: 0.6709\n",
      "Epoch 28/100\n",
      "112/112 [==============================] - 2s 14ms/step - loss: 0.0073 - auc: 0.9998 - prc: 0.8340 - val_loss: 0.0146 - val_auc: 0.9434 - val_prc: 0.6888\n",
      "Epoch 29/100\n",
      "112/112 [==============================] - 2s 15ms/step - loss: 0.0075 - auc: 0.9998 - prc: 0.8384 - val_loss: 0.0208 - val_auc: 0.9431 - val_prc: 0.6450\n",
      "Epoch 30/100\n",
      "112/112 [==============================] - 2s 14ms/step - loss: 0.0060 - auc: 0.9998 - prc: 0.8408 - val_loss: 0.0137 - val_auc: 0.9331 - val_prc: 0.6904\n",
      "Epoch 31/100\n",
      "112/112 [==============================] - 1s 13ms/step - loss: 0.0053 - auc: 0.9998 - prc: 0.8565 - val_loss: 0.0165 - val_auc: 0.9329 - val_prc: 0.6688\n",
      "Epoch 32/100\n",
      "112/112 [==============================] - 2s 14ms/step - loss: 0.0048 - auc: 0.9998 - prc: 0.8557 - val_loss: 0.0171 - val_auc: 0.9435 - val_prc: 0.6670\n",
      "Epoch 33/100\n",
      "112/112 [==============================] - 2s 14ms/step - loss: 0.0045 - auc: 0.9999 - prc: 0.8720 - val_loss: 0.0147 - val_auc: 0.9334 - val_prc: 0.6761\n",
      "Epoch 34/100\n",
      "112/112 [==============================] - 2s 14ms/step - loss: 0.0040 - auc: 0.9999 - prc: 0.8642 - val_loss: 0.0142 - val_auc: 0.9334 - val_prc: 0.6812\n",
      "Epoch 35/100\n",
      "112/112 [==============================] - 1s 13ms/step - loss: 0.0115 - auc: 0.9994 - prc: 0.6050 - val_loss: 0.0260 - val_auc: 0.9324 - val_prc: 0.4748\n",
      "Epoch 36/100\n",
      "112/112 [==============================] - 2s 14ms/step - loss: 0.0157 - auc: 0.9993 - prc: 0.5814 - val_loss: 0.0364 - val_auc: 0.9316 - val_prc: 0.4991\n",
      "Epoch 37/100\n",
      "112/112 [==============================] - 2s 15ms/step - loss: 0.0202 - auc: 0.9993 - prc: 0.5728 - val_loss: 0.0320 - val_auc: 0.9416 - val_prc: 0.5622\n",
      "Epoch 38/100\n",
      "112/112 [==============================] - 2s 15ms/step - loss: 0.0109 - auc: 0.9997 - prc: 0.7484 - val_loss: 0.0182 - val_auc: 0.9330 - val_prc: 0.7171\n",
      "Epoch 39/100\n",
      "112/112 [==============================] - 2s 15ms/step - loss: 0.0079 - auc: 0.9998 - prc: 0.8050 - val_loss: 0.0186 - val_auc: 0.9329 - val_prc: 0.6544\n",
      "Epoch 40/100\n",
      "112/112 [==============================] - 2s 15ms/step - loss: 0.0060 - auc: 0.9998 - prc: 0.8327 - val_loss: 0.0144 - val_auc: 0.9336 - val_prc: 0.6901\n",
      "Epoch 41/100\n",
      "112/112 [==============================] - 2s 15ms/step - loss: 0.0048 - auc: 0.9999 - prc: 0.8625 - val_loss: 0.0156 - val_auc: 0.9335 - val_prc: 0.6746\n",
      "Epoch 42/100\n",
      "112/112 [==============================] - 2s 15ms/step - loss: 0.0046 - auc: 0.9998 - prc: 0.8531 - val_loss: 0.0137 - val_auc: 0.9337 - val_prc: 0.6934\n",
      "Epoch 43/100\n",
      "112/112 [==============================] - 2s 14ms/step - loss: 0.0038 - auc: 0.9999 - prc: 0.8716 - val_loss: 0.0125 - val_auc: 0.9340 - val_prc: 0.6988\n",
      "Epoch 44/100\n",
      "112/112 [==============================] - 2s 15ms/step - loss: 0.0035 - auc: 0.9999 - prc: 0.8674 - val_loss: 0.0135 - val_auc: 0.9338 - val_prc: 0.6854\n",
      "Epoch 45/100\n",
      "112/112 [==============================] - 2s 15ms/step - loss: 0.0032 - auc: 0.9999 - prc: 0.8673 - val_loss: 0.0134 - val_auc: 0.9338 - val_prc: 0.6708\n",
      "Epoch 46/100\n",
      "112/112 [==============================] - 2s 15ms/step - loss: 0.0030 - auc: 0.9999 - prc: 0.8792 - val_loss: 0.0128 - val_auc: 0.9340 - val_prc: 0.6970\n",
      "Epoch 47/100\n",
      "112/112 [==============================] - 2s 15ms/step - loss: 0.0027 - auc: 0.9999 - prc: 0.8843 - val_loss: 0.0134 - val_auc: 0.9338 - val_prc: 0.6695\n",
      "Epoch 48/100\n",
      "112/112 [==============================] - 2s 15ms/step - loss: 0.0024 - auc: 0.9999 - prc: 0.8819 - val_loss: 0.0121 - val_auc: 0.9341 - val_prc: 0.6970\n",
      "Epoch 49/100\n",
      "112/112 [==============================] - 2s 14ms/step - loss: 0.0024 - auc: 0.9999 - prc: 0.8861 - val_loss: 0.0122 - val_auc: 0.9341 - val_prc: 0.6785\n",
      "Epoch 50/100\n"
     ]
    },
    {
     "name": "stdout",
     "output_type": "stream",
     "text": [
      "112/112 [==============================] - 2s 15ms/step - loss: 0.0024 - auc: 0.9999 - prc: 0.8898 - val_loss: 0.0125 - val_auc: 0.9341 - val_prc: 0.6813\n",
      "Epoch 51/100\n",
      "112/112 [==============================] - 2s 15ms/step - loss: 0.0022 - auc: 0.9999 - prc: 0.8902 - val_loss: 0.0116 - val_auc: 0.9342 - val_prc: 0.6869\n",
      "Epoch 52/100\n",
      "112/112 [==============================] - 2s 15ms/step - loss: 0.0021 - auc: 0.9999 - prc: 0.9076 - val_loss: 0.0138 - val_auc: 0.9341 - val_prc: 0.6812\n",
      "Epoch 53/100\n",
      "112/112 [==============================] - 2s 15ms/step - loss: 0.0028 - auc: 0.9999 - prc: 0.8675 - val_loss: 0.0160 - val_auc: 0.9336 - val_prc: 0.6224\n",
      "Epoch 54/100\n",
      "112/112 [==============================] - 2s 15ms/step - loss: 0.0031 - auc: 0.9998 - prc: 0.8555 - val_loss: 0.0136 - val_auc: 0.9232 - val_prc: 0.6899\n",
      "Epoch 55/100\n",
      "112/112 [==============================] - 2s 15ms/step - loss: 0.0031 - auc: 0.9998 - prc: 0.8497 - val_loss: 0.0132 - val_auc: 0.9340 - val_prc: 0.6910\n",
      "Epoch 56/100\n",
      "112/112 [==============================] - 2s 14ms/step - loss: 0.0811 - auc: 0.9953 - prc: 0.3003 - val_loss: 0.2956 - val_auc: 0.9342 - val_prc: 0.0806\n",
      "Epoch 57/100\n",
      "112/112 [==============================] - 2s 15ms/step - loss: 0.1061 - auc: 0.9945 - prc: 0.1967 - val_loss: 0.0387 - val_auc: 0.9687 - val_prc: 0.4500\n",
      "Epoch 58/100\n",
      "112/112 [==============================] - 2s 15ms/step - loss: 0.0325 - auc: 0.9988 - prc: 0.4899 - val_loss: 0.0608 - val_auc: 0.9583 - val_prc: 0.3480\n",
      "Epoch 59/100\n",
      "112/112 [==============================] - 2s 15ms/step - loss: 0.0196 - auc: 0.9992 - prc: 0.5663 - val_loss: 0.0228 - val_auc: 0.9395 - val_prc: 0.5751\n",
      "Epoch 60/100\n",
      "112/112 [==============================] - 2s 15ms/step - loss: 0.0122 - auc: 0.9996 - prc: 0.6945 - val_loss: 0.0167 - val_auc: 0.9516 - val_prc: 0.6426\n",
      "Epoch 61/100\n",
      "112/112 [==============================] - 2s 15ms/step - loss: 0.0081 - auc: 0.9998 - prc: 0.8483 - val_loss: 0.0215 - val_auc: 0.9412 - val_prc: 0.6182\n",
      "Epoch 62/100\n",
      "112/112 [==============================] - 2s 15ms/step - loss: 0.0069 - auc: 0.9998 - prc: 0.8355 - val_loss: 0.0123 - val_auc: 0.9317 - val_prc: 0.7304\n",
      "Epoch 63/100\n",
      "112/112 [==============================] - 2s 15ms/step - loss: 0.0049 - auc: 0.9999 - prc: 0.8818 - val_loss: 0.0106 - val_auc: 0.9321 - val_prc: 0.7253\n",
      "Epoch 64/100\n",
      "112/112 [==============================] - 2s 15ms/step - loss: 0.0044 - auc: 0.9999 - prc: 0.8833 - val_loss: 0.0111 - val_auc: 0.9322 - val_prc: 0.7257\n",
      "Epoch 65/100\n",
      "112/112 [==============================] - 2s 15ms/step - loss: 0.0039 - auc: 0.9999 - prc: 0.8884 - val_loss: 0.0098 - val_auc: 0.9325 - val_prc: 0.7260\n",
      "Epoch 66/100\n",
      "112/112 [==============================] - 2s 15ms/step - loss: 0.0038 - auc: 0.9999 - prc: 0.8853 - val_loss: 0.0096 - val_auc: 0.9328 - val_prc: 0.7277\n",
      "Epoch 67/100\n",
      "112/112 [==============================] - 2s 15ms/step - loss: 0.0036 - auc: 0.9999 - prc: 0.9060 - val_loss: 0.0135 - val_auc: 0.9326 - val_prc: 0.6794\n",
      "Epoch 68/100\n",
      "112/112 [==============================] - 2s 15ms/step - loss: 0.0034 - auc: 0.9999 - prc: 0.8960 - val_loss: 0.0101 - val_auc: 0.9329 - val_prc: 0.7250\n",
      "Epoch 69/100\n",
      "112/112 [==============================] - 2s 15ms/step - loss: 0.0030 - auc: 0.9999 - prc: 0.9260 - val_loss: 0.0098 - val_auc: 0.9332 - val_prc: 0.7157\n",
      "Epoch 70/100\n",
      "112/112 [==============================] - 2s 15ms/step - loss: 0.0029 - auc: 0.9999 - prc: 0.9136 - val_loss: 0.0103 - val_auc: 0.9331 - val_prc: 0.7394\n",
      "Epoch 71/100\n",
      "112/112 [==============================] - 2s 15ms/step - loss: 0.0025 - auc: 1.0000 - prc: 0.9554 - val_loss: 0.0090 - val_auc: 0.9228 - val_prc: 0.7298\n",
      "Epoch 72/100\n",
      "112/112 [==============================] - 2s 15ms/step - loss: 0.0026 - auc: 0.9999 - prc: 0.9378 - val_loss: 0.0130 - val_auc: 0.9332 - val_prc: 0.7139\n",
      "Epoch 73/100\n",
      "112/112 [==============================] - 2s 15ms/step - loss: 0.0025 - auc: 0.9999 - prc: 0.9473 - val_loss: 0.0104 - val_auc: 0.9334 - val_prc: 0.7167\n",
      "Epoch 74/100\n",
      "112/112 [==============================] - 2s 15ms/step - loss: 0.0022 - auc: 0.9999 - prc: 0.9433 - val_loss: 0.0086 - val_auc: 0.9229 - val_prc: 0.8013\n",
      "Epoch 75/100\n",
      "112/112 [==============================] - 2s 15ms/step - loss: 0.0021 - auc: 1.0000 - prc: 0.9487 - val_loss: 0.0086 - val_auc: 0.9230 - val_prc: 0.7824\n",
      "Epoch 76/100\n",
      "112/112 [==============================] - 2s 15ms/step - loss: 0.0022 - auc: 0.9999 - prc: 0.9200 - val_loss: 0.0082 - val_auc: 0.9231 - val_prc: 0.8010\n",
      "Epoch 77/100\n",
      "112/112 [==============================] - 2s 15ms/step - loss: 0.0021 - auc: 1.0000 - prc: 0.9516 - val_loss: 0.0109 - val_auc: 0.9336 - val_prc: 0.7467\n",
      "Epoch 78/100\n",
      "112/112 [==============================] - 2s 15ms/step - loss: 0.0019 - auc: 0.9999 - prc: 0.9391 - val_loss: 0.0090 - val_auc: 0.9231 - val_prc: 0.7672\n",
      "Epoch 79/100\n",
      "112/112 [==============================] - 2s 15ms/step - loss: 0.0016 - auc: 0.9999 - prc: 0.9452 - val_loss: 0.0081 - val_auc: 0.9232 - val_prc: 0.7959\n",
      "Epoch 80/100\n",
      "112/112 [==============================] - 2s 14ms/step - loss: 0.0020 - auc: 0.9999 - prc: 0.9351 - val_loss: 0.0092 - val_auc: 0.9230 - val_prc: 0.7435\n",
      "Epoch 81/100\n",
      "112/112 [==============================] - 2s 15ms/step - loss: 0.0026 - auc: 0.9999 - prc: 0.8927 - val_loss: 0.0087 - val_auc: 0.9232 - val_prc: 0.7740\n",
      "Epoch 82/100\n",
      "112/112 [==============================] - 2s 14ms/step - loss: 0.0024 - auc: 0.9999 - prc: 0.9027 - val_loss: 0.0102 - val_auc: 0.9232 - val_prc: 0.7152\n",
      "Epoch 83/100\n",
      "112/112 [==============================] - 2s 15ms/step - loss: 0.0017 - auc: 0.9999 - prc: 0.9406 - val_loss: 0.0107 - val_auc: 0.9338 - val_prc: 0.7421\n",
      "Epoch 84/100\n",
      "112/112 [==============================] - 2s 15ms/step - loss: 0.0020 - auc: 0.9999 - prc: 0.9432 - val_loss: 0.0098 - val_auc: 0.9338 - val_prc: 0.7509\n",
      "Epoch 85/100\n",
      "112/112 [==============================] - 2s 14ms/step - loss: 0.0016 - auc: 1.0000 - prc: 0.9508 - val_loss: 0.0093 - val_auc: 0.9233 - val_prc: 0.7483\n",
      "Epoch 86/100\n",
      "112/112 [==============================] - 2s 15ms/step - loss: 0.0016 - auc: 0.9999 - prc: 0.9416 - val_loss: 0.0089 - val_auc: 0.9232 - val_prc: 0.7979\n",
      "Epoch 87/100\n",
      "112/112 [==============================] - 2s 15ms/step - loss: 0.0013 - auc: 1.0000 - prc: 0.9740 - val_loss: 0.0086 - val_auc: 0.9234 - val_prc: 0.7916\n",
      "Epoch 88/100\n",
      "112/112 [==============================] - 2s 15ms/step - loss: 0.0011 - auc: 1.0000 - prc: 0.9602 - val_loss: 0.0082 - val_auc: 0.9235 - val_prc: 0.7965\n",
      "Epoch 89/100\n",
      "112/112 [==============================] - 2s 15ms/step - loss: 0.0028 - auc: 0.9999 - prc: 0.9178 - val_loss: 0.0182 - val_auc: 0.9339 - val_prc: 0.6110\n",
      "Epoch 90/100\n",
      "112/112 [==============================] - 2s 14ms/step - loss: 0.0049 - auc: 0.9998 - prc: 0.8534 - val_loss: 0.0134 - val_auc: 0.9340 - val_prc: 0.6723\n",
      "Epoch 91/100\n",
      "112/112 [==============================] - 2s 15ms/step - loss: 0.0023 - auc: 0.9999 - prc: 0.9224 - val_loss: 0.0099 - val_auc: 0.9343 - val_prc: 0.7594\n",
      "Epoch 92/100\n",
      "112/112 [==============================] - 2s 15ms/step - loss: 0.0027 - auc: 0.9999 - prc: 0.8881 - val_loss: 0.0105 - val_auc: 0.9342 - val_prc: 0.7372\n",
      "Epoch 93/100\n",
      "112/112 [==============================] - 2s 15ms/step - loss: 0.0026 - auc: 0.9999 - prc: 0.8880 - val_loss: 0.0118 - val_auc: 0.9343 - val_prc: 0.7299\n",
      "Epoch 94/100\n",
      "112/112 [==============================] - 2s 15ms/step - loss: 0.0014 - auc: 0.9999 - prc: 0.9272 - val_loss: 0.0096 - val_auc: 0.9344 - val_prc: 0.7725\n",
      "Epoch 95/100\n",
      "112/112 [==============================] - 2s 15ms/step - loss: 0.0013 - auc: 1.0000 - prc: 0.9639 - val_loss: 0.0098 - val_auc: 0.9344 - val_prc: 0.7916\n",
      "Epoch 96/100\n",
      "112/112 [==============================] - 2s 15ms/step - loss: 0.0011 - auc: 1.0000 - prc: 0.9466 - val_loss: 0.0095 - val_auc: 0.9344 - val_prc: 0.8096\n",
      "Epoch 97/100\n",
      "112/112 [==============================] - 2s 15ms/step - loss: 9.3493e-04 - auc: 1.0000 - prc: 0.9606 - val_loss: 0.0102 - val_auc: 0.9344 - val_prc: 0.7886\n",
      "Epoch 98/100\n",
      "112/112 [==============================] - 2s 15ms/step - loss: 0.0016 - auc: 0.9999 - prc: 0.9370 - val_loss: 0.0139 - val_auc: 0.9341 - val_prc: 0.6803\n",
      "Epoch 99/100\n"
     ]
    },
    {
     "name": "stdout",
     "output_type": "stream",
     "text": [
      "112/112 [==============================] - 2s 15ms/step - loss: 0.0011 - auc: 1.0000 - prc: 0.9601 - val_loss: 0.0101 - val_auc: 0.9343 - val_prc: 0.7550\n",
      "Epoch 100/100\n",
      "112/112 [==============================] - 2s 15ms/step - loss: 0.0012 - auc: 1.0000 - prc: 0.9550 - val_loss: 0.0110 - val_auc: 0.9235 - val_prc: 0.7160\n"
     ]
    }
   ],
   "source": [
    "import datetime\n",
    "logs_path = \"logs\\\\\"+datetime.datetime.now().strftime(\"%H-%M-%S\")\n",
    "\n",
    "#cb = [\n",
    "#    keras.callbacks.EarlyStopping(monitor='val_prc',mode='max',patience=30,restore_best_weights=True),\n",
    "#    keras.callbacks.TensorBoard(log_dir= logs_path)\n",
    "#]\n",
    "\n",
    "model = model_init()\n",
    "\n",
    "history = model.fit(X_train_prepd,\n",
    "          y_train,\n",
    "         batch_size=1024,\n",
    "          epochs=100,\n",
    "          validation_split=.2,\n",
    "                   callbacks=cb,\n",
    "                   verbose = 1,\n",
    "                   class_weight={0: wagi[0],\n",
    "                                1: wagi[1]})"
   ]
  },
  {
   "cell_type": "markdown",
   "metadata": {},
   "source": [
    "## Advanced techniques related to training neural networks\n",
    "* Weight initialization\n",
    "* Activation functions\n",
    "* Optimizers\n",
    "* Batch normalization\n",
    "* Dropout(regularization)"
   ]
  },
  {
   "cell_type": "code",
   "execution_count": 84,
   "metadata": {},
   "outputs": [],
   "source": [
    "y_test_prob=model.predict"
   ]
  },
  {
   "cell_type": "markdown",
   "metadata": {},
   "source": [
    "### Weight Initialization\n",
    "Changing weight initialization scheme can significantly improve training of the model by preventing vanishing gradient problem up to some degree\n",
    "\n",
    "* tf.keras.initializers module offers built-in initializers such as:\n",
    "    * RandomNormal - generates tensors with a normal distribution\n",
    "    * RandomUniform - generates tensors with a uniform distribution\n",
    "    * TruncatedNormal - generates tensors like RandomNormal but values more than two standard deviations from the mean are discarded and re-drawn \n",
    "    * Zeros - generates tensors initialized to 0\n",
    "    * Ones - generates tensors initialized to 1\n",
    "    * GlorotNormal - generate tensors from truncated normal distribution centered on 0 with $$stddev = \\sqrt{\\frac{2}{fan_{in} + fan_{out}}}$$ where $fan_{in}$ is the number of input units in the weight tensor and $fan_{out}$ is the number of output units in the weight tensor. http://proceedings.mlr.press/v9/glorot10a/glorot10a.pdf\n",
    "    * GlorotUniform - generates tensors from a uniform distribution within $[-cap, cap]$, where $$cap = \\sqrt{\\frac{6}{fan_{in} + fan_{out}}}$$\n",
    "    * VarianceScaling - generate tensors with scale adjusted  to the shape of weights tensor\n",
    "    \n",
    "\n",
    "More initializers: https://keras.io/initializers/"
   ]
  },
  {
   "cell_type": "code",
   "execution_count": 90,
   "metadata": {},
   "outputs": [],
   "source": [
    "from tensorflow.keras.initializers import RandomNormal, RandomUniform,TruncatedNormal,Ones,GlorotNormal,GlorotUniform,VarianceScaling\n",
    "n=10000\n",
    "\n",
    "classes = [RandomNormal, RandomUniform,TruncatedNormal,GlorotNormal,GlorotUniform, VarianceScaling]  # list of functions\n",
    "output=np.empty(shape=(n,len(classes)))\n",
    "\n",
    "for idx,fn in enumerate(classes):\n",
    "    initializer=fn(seed=42)\n",
    "    output[:,idx] = np.ravel(initializer(shape=(n,1)))\n",
    "       "
   ]
  },
  {
   "cell_type": "code",
   "execution_count": 91,
   "metadata": {
    "scrolled": true
   },
   "outputs": [
    {
     "data": {
      "image/png": "[encoded data removed]",
      "text/plain": [
       "<Figure size 2000x1500 with 6 Axes>"
      ]
     },
     "metadata": {},
     "output_type": "display_data"
    }
   ],
   "source": [
    "from pylab import rcParams\n",
    "rcParams['figure.figsize'] = 20,15\n",
    "\n",
    "\n",
    "for i in range(0, 6):\n",
    "    plt.subplot(4, 2, i+1).set_title(str(classes[i]).split(\".\")[-1])\n",
    "    plt.hist(output[:,i])\n",
    "\n"
   ]
  },
  {
   "cell_type": "markdown",
   "metadata": {},
   "source": [
    "#### Test Weight tensors initializer"
   ]
  },
  {
   "cell_type": "code",
   "execution_count": null,
   "metadata": {},
   "outputs": [],
   "source": []
  },
  {
   "cell_type": "code",
   "execution_count": null,
   "metadata": {},
   "outputs": [],
   "source": []
  },
  {
   "cell_type": "code",
   "execution_count": null,
   "metadata": {},
   "outputs": [],
   "source": []
  },
  {
   "cell_type": "markdown",
   "metadata": {},
   "source": [
    "-----"
   ]
  },
  {
   "cell_type": "markdown",
   "metadata": {},
   "source": [
    "### Activation Functions\n",
    "Sigmoid functions suffer from gradient vanishing problem, making training slower\n",
    "\n",
    "There are many choices apart from sigmoid and tanh; \n",
    "* 'relu' (rectified linear unit) \n",
    "* 'selu' (scaled exponential linear unit)\n",
    "* 'elu' \n",
    "* 'exponential' \n",
    "* 'sigmoid' \n",
    "* 'softmax' \n",
    "* 'softplus' \n",
    "* 'tanh' \n",
    "\n",
    "https://keras.io/api/layers/activations/"
   ]
  },
  {
   "cell_type": "code",
   "execution_count": null,
   "metadata": {},
   "outputs": [],
   "source": []
  },
  {
   "cell_type": "code",
   "execution_count": 87,
   "metadata": {},
   "outputs": [
    {
     "data": {
      "text/plain": [
       "<matplotlib.legend.Legend at 0x1ec34a3c6a0>"
      ]
     },
     "execution_count": 87,
     "metadata": {},
     "output_type": "execute_result"
    },
    {
     "data": {
      "image/png": "[encoded data removed]",
      "text/plain": [
       "<Figure size 2000x1500 with 1 Axes>"
      ]
     },
     "metadata": {},
     "output_type": "display_data"
    }
   ],
   "source": [
    "from tensorflow.keras.activations import relu,elu,selu,sigmoid,tanh, linear, exponential, softmax\n",
    "wartosci = np.arange(-2, 2, 0.01)\n",
    "classes = [relu,elu,selu, linear,exponential]  # list of functions\n",
    "output=np.empty(shape=(len(wartosci),len(classes)))\n",
    "\n",
    "for idx,fn in enumerate(classes):\n",
    "    output[:,idx]=np.ravel(fn(wartosci))\n",
    "\n",
    "from pylab import rcParams\n",
    "rcParams['figure.figsize'] = 20,15\n",
    "\n",
    "legenda= [str(i).split(\" \")[1] for i in classes]\n",
    "plt.plot(wartosci,output)\n",
    "plt.legend(legenda)\n"
   ]
  },
  {
   "cell_type": "code",
   "execution_count": 88,
   "metadata": {},
   "outputs": [
    {
     "data": {
      "text/plain": [
       "<matplotlib.legend.Legend at 0x1ec42b61a60>"
      ]
     },
     "execution_count": 88,
     "metadata": {},
     "output_type": "execute_result"
    },
    {
     "data": {
      "image/png": "[encoded data removed]",
      "text/plain": [
       "<Figure size 2000x1500 with 1 Axes>"
      ]
     },
     "metadata": {},
     "output_type": "display_data"
    }
   ],
   "source": [
    "from tensorflow.keras.activations import relu,elu,selu,sigmoid,tanh, linear, exponential, softmax\n",
    "wartosci = np.arange(-5, 5, 0.01)\n",
    "classes = [sigmoid, tanh]  # list of functions\n",
    "output=np.empty(shape=(len(wartosci),len(classes)))\n",
    "\n",
    "for idx,fn in enumerate(classes):\n",
    "    output[:,idx]=np.ravel(fn(wartosci))\n",
    "\n",
    "from pylab import rcParams\n",
    "rcParams['figure.figsize'] = 20,15\n",
    "\n",
    "legenda= [str(i).split(\" \")[1] for i in classes]\n",
    "plt.plot(wartosci,output)\n",
    "plt.legend(legenda)"
   ]
  },
  {
   "cell_type": "markdown",
   "metadata": {},
   "source": [
    "#### Test activation functions"
   ]
  },
  {
   "cell_type": "code",
   "execution_count": null,
   "metadata": {},
   "outputs": [],
   "source": []
  },
  {
   "cell_type": "code",
   "execution_count": null,
   "metadata": {},
   "outputs": [],
   "source": []
  },
  {
   "cell_type": "code",
   "execution_count": null,
   "metadata": {},
   "outputs": [],
   "source": []
  },
  {
   "cell_type": "markdown",
   "metadata": {},
   "source": [
    "### Optimizers\n",
    "\n",
    "Many variants of SGD are available and employed in training\n",
    "One of the most popular ones are Adam (Adaptive Moment Estimation)\n",
    "Doc: https://keras.io/optimizers/\n",
    "\n",
    "![Source](graphics/optimizers.gif)\n"
   ]
  },
  {
   "cell_type": "code",
   "execution_count": 89,
   "metadata": {},
   "outputs": [],
   "source": [
    "from tensorflow.keras.optimizers import Adadelta,Adagrad,Adam,RMSprop,SGD\n"
   ]
  },
  {
   "cell_type": "code",
   "execution_count": null,
   "metadata": {},
   "outputs": [],
   "source": []
  },
  {
   "cell_type": "code",
   "execution_count": null,
   "metadata": {},
   "outputs": [],
   "source": []
  },
  {
   "cell_type": "markdown",
   "metadata": {},
   "source": [
    "### Batch Normalization\n",
    "Batch Normalization, one of the methods to prevent the \"internal covariance shift\" problem, has proven to be highly effective\n",
    "\n",
    "Normalize each mini-batch before nonlinearity\n"
   ]
  },
  {
   "cell_type": "code",
   "execution_count": null,
   "metadata": {},
   "outputs": [],
   "source": []
  },
  {
   "cell_type": "code",
   "execution_count": null,
   "metadata": {},
   "outputs": [],
   "source": []
  },
  {
   "cell_type": "markdown",
   "metadata": {},
   "source": [
    "### Dropout \n",
    "Dropout is one of powerful ways to prevent overfitting. The idea is simple. It is disconnecting some (randomly selected) neurons in each layer.\n",
    "\n",
    "The probability of each neuron to be disconnected, namely 'Dropout rate', has to be designated\n",
    "\n",
    "Doc: https://keras.io/layers/core/#dropout\n",
    "\n",
    "![Source](graphics/dropout.png)\n"
   ]
  },
  {
   "cell_type": "code",
   "execution_count": null,
   "metadata": {},
   "outputs": [],
   "source": []
  },
  {
   "cell_type": "code",
   "execution_count": null,
   "metadata": {},
   "outputs": [],
   "source": []
  },
  {
   "cell_type": "code",
   "execution_count": null,
   "metadata": {},
   "outputs": [],
   "source": []
  }
 ],
 "metadata": {
  "kernelspec": {
   "display_name": "Python 3 (ipykernel)",
   "language": "python",
   "name": "python3"
  },
  "language_info": {
   "codemirror_mode": {
    "name": "ipython",
    "version": 3
   },
   "file_extension": ".py",
   "mimetype": "text/x-python",
   "name": "python",
   "nbconvert_exporter": "python",
   "pygments_lexer": "ipython3",
   "version": "3.9.13"
  }
 },
 "nbformat": 4,
 "nbformat_minor": 2
}
