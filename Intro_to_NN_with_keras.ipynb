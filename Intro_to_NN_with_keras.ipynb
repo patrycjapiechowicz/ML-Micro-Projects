{
  "cells": [
    {
      "cell_type": "markdown",
      "metadata": {
        "id": "view-in-github",
        "colab_type": "text"
      },
      "source": [
        "<a href=\"https://colab.research.google.com/github/patrycjapiechowicz/Projects/blob/Predictive-Analytics/Intro_to_NN_with_keras.ipynb\" target=\"_parent\"><img src=\"https://colab.research.google.com/assets/colab-badge.svg\" alt=\"Open In Colab\"/></a>"
      ]
    },
    {
      "cell_type": "markdown",
      "metadata": {
        "id": "r5Lhn-oRp_Id"
      },
      "source": [
        "import os\n",
        "os.environ[\"CUDA_VISIBLE_DEVICES\"] = \"-1\""
      ]
    },
    {
      "cell_type": "code",
      "execution_count": null,
      "metadata": {
        "id": "-6tXjlU4p_Ig"
      },
      "outputs": [],
      "source": [
        "import tensorflow as tf"
      ]
    },
    {
      "cell_type": "code",
      "execution_count": null,
      "metadata": {
        "id": "eZOSJXbcp_Ih",
        "outputId": "8625870c-360f-4d41-8316-0d7448e528ea"
      },
      "outputs": [
        {
          "name": "stderr",
          "output_type": "stream",
          "text": [
            "2022-11-16 02:47:53.023807: I tensorflow/stream_executor/cuda/cuda_gpu_executor.cc:975] successful NUMA node read from SysFS had negative value (-1), but there must be at least one NUMA node, so returning NUMA node zero\n",
            "2022-11-16 02:47:53.032184: I tensorflow/stream_executor/cuda/cuda_gpu_executor.cc:975] successful NUMA node read from SysFS had negative value (-1), but there must be at least one NUMA node, so returning NUMA node zero\n",
            "2022-11-16 02:47:53.032625: I tensorflow/stream_executor/cuda/cuda_gpu_executor.cc:975] successful NUMA node read from SysFS had negative value (-1), but there must be at least one NUMA node, so returning NUMA node zero\n"
          ]
        },
        {
          "data": {
            "text/plain": [
              "[PhysicalDevice(name='/physical_device:CPU:0', device_type='CPU'),\n",
              " PhysicalDevice(name='/physical_device:GPU:0', device_type='GPU')]"
            ]
          },
          "execution_count": 2,
          "metadata": {},
          "output_type": "execute_result"
        }
      ],
      "source": [
        "tf.config.list_physical_devices()"
      ]
    },
    {
      "cell_type": "markdown",
      "metadata": {
        "id": "M7gKFcSfp_Ij"
      },
      "source": [
        "## Intro to Keras\n",
        "\n",
        "Keras is a deep-learning framework for Python that provides a convenient way to define and\n",
        "train almost any kind of deep-learning model. Keras was initially developed for\n",
        "researchers, with the aim of enabling fast experimentation.\n",
        "\n",
        "Keras has the following key features:\n",
        "* It allows the same code to run seamlessly on CPU or GPU.\n",
        "* It has a user-friendly API that makes it easy to quickly prototype deep-learning models.\n",
        "* It has built-in support for convolutional networks (for computer vision), recurrent networks (for sequence processing), and any combination of both.\n",
        "* It supports arbitrary network architectures: multi-input or multi-output models, layer sharing, model sharing, and so on. This means.\n",
        "\n",
        "Keras is appropriate for building essentially any deep-learning model, from a generative adversarial network\n",
        "to a neural Turing machine.\n",
        "\n",
        "Keras has well over 200,000 users, ranging from academic researchers and engineers\n",
        "at both startups and large companies to graduate students and hobbyists. Keras\n",
        "is used at Google, Netflix, Uber, CERN, Yelp, Square, and hundreds of startups working\n",
        "on a wide range of problems. Keras is also a popular framework on Kaggle, the\n",
        "machine-learning competition website, where almost every recent deep-learning competition\n",
        "has been won using Keras models.\n",
        "\n",
        "\n",
        "Keras handles the problem of building neural networks in a modular way  thus several different backend engines can\n",
        "be plugged seamlessly into Keras. Currently, the three existing backend implementations\n",
        "are:\n",
        "* TensorFlow\n",
        "* Theano \n",
        "* Microsoft Cognitive Toolkit (CNTK) backend."
      ]
    },
    {
      "cell_type": "markdown",
      "metadata": {
        "id": "SR-ApAjUp_Ik"
      },
      "source": [
        "### Multi-backend Keras and tf.keras:\n",
        "* For Keras with the TensorFlow backend use tf.keras in TensorFlow 2.0 instead of keras library\n",
        "* tf.keras is better maintained and has better integration with TensorFlow features \n",
        "* The latest release of Keras 2.3.0 makes significant API changes and add support for TensorFlow 2.0.\n",
        "* 2.3.0 is the last major release of multi-backend Keras\n",
        "* saving a model's weights, tf.keras defaults to the checkpoint format. Pass save_format='h5' to use HDF5 (or pass a filename that ends in .h5)."
      ]
    },
    {
      "cell_type": "markdown",
      "metadata": {
        "id": "39yjaU1xp_Ik"
      },
      "source": [
        "### Why Keras?\n",
        "* With TensorFlow 2.0, the Keras API can accomplish many of these same tasks as high level API - Estimators\n",
        "* Keras is believed to be an easier API to learn\n",
        "* User friendly - offers consistent & simple APIs, it minimizes the number of user actions required for common use cases, and it provides clear and actionable feedback upon user error.\n",
        "* Modular - A model is understood as a sequence or a graph of standalone, fully configurable modules that can be plugged together with as few restrictions as possible. \n",
        "* Easily extensibile - New modules are simple to add as new classes and functions, \n",
        "* Fast integration - started as separated project, fully integrated in Tensorflow 2.0 "
      ]
    },
    {
      "cell_type": "markdown",
      "metadata": {
        "id": "g3E0EHCxp_Ik"
      },
      "source": [
        "####  Keras workflow\n",
        "\n",
        "1. Define and preprocess training data: input tensors and target tensors.\n",
        "2. Define input layers/model that maps your inputs to your targets\n",
        "3. Setup loss function, an optimizer, and some metrics to monitor appropriate to the problem\n",
        "4. Iterate on your training data by calling the fit() method of your model."
      ]
    },
    {
      "cell_type": "markdown",
      "metadata": {
        "id": "fOCT2rMcp_Il"
      },
      "source": [
        "#### 1. Define and preprocess data\n",
        "* Input tensors\n",
        "* Label/target tensors"
      ]
    },
    {
      "cell_type": "markdown",
      "metadata": {
        "id": "_ClQ2xu8p_Il"
      },
      "source": [
        "#### Diamond Datset\n",
        "* price in US dollars (\\\\$326--\\$18,823)\n",
        "\n",
        "* carat weight of the diamond (0.2--5.01)\n",
        "\n",
        "* cut quality of the cut (Fair, Good, Very Good, Premium, Ideal)\n",
        "\n",
        "* color diamond colour, from J (worst) to D (best)\n",
        "\n",
        "* clarity a measurement of how clear the diamond is (I1 (worst), SI2, SI1, VS2, VS1, VVS2, VVS1, IF (best))\n",
        "\n",
        "* x length in mm (0--10.74)\n",
        "\n",
        "* y width in mm (0--58.9)\n",
        "\n",
        "* z depth in mm (0--31.8)\n",
        "\n",
        "* depth total depth percentage = z / mean(x, y) = 2 * z / (x + y) (43--79)\n",
        "\n",
        "* table width of top of diamond relative to widest point (43--95)"
      ]
    },
    {
      "cell_type": "code",
      "execution_count": null,
      "metadata": {
        "id": "hM3Ji-Wbp_Il"
      },
      "outputs": [],
      "source": [
        "import numpy as np\n",
        "import pandas as pd\n",
        "import tensorflow as tf\n",
        "from tensorflow import keras\n",
        "from tensorflow.keras import layers"
      ]
    },
    {
      "cell_type": "code",
      "execution_count": null,
      "metadata": {
        "id": "poKAkW7Jp_Im"
      },
      "outputs": [],
      "source": [
        "# %load \"g:/My Drive/diamonds_preproc.py\"\n",
        "import numpy as np        \n",
        "import pandas as pd       \n",
        "import matplotlib.pyplot as plt\n",
        "import seaborn as sns \n",
        "df = pd.read_csv(\"../TM2/data/diamonds.csv\")\n",
        "df.drop(columns= \"Unnamed: 0\",inplace = True)\n",
        "\n",
        "# Train/test split\n",
        "\n",
        "from sklearn.model_selection import train_test_split\n",
        "X = df.drop(columns = \"price\")\n",
        "y = df.price\n",
        "\n",
        "X_train, X_test, y_train, y_test = train_test_split(X, y, test_size=.3, random_state=42)\n",
        "\n",
        "from sklearn.preprocessing import StandardScaler, RobustScaler, FunctionTransformer, OneHotEncoder\n",
        "from sklearn.compose import ColumnTransformer\n",
        "from sklearn.pipeline import Pipeline\n",
        "\n",
        "# 1. select labels of features for one hot encoding and standarization\n",
        "num_labels = X_train.select_dtypes(\"number\").columns\n",
        "cat_labels = X_train.select_dtypes(\"object\").columns\n",
        "\n",
        "# 2. define preprocessor for each type of data\n",
        "cat_preprocessor = OneHotEncoder(drop = \"if_binary\")\n",
        "num_preprocessor = RobustScaler()\n",
        "\n",
        "# 3. Combine it all together\n",
        "preprocessor = ColumnTransformer([(\"cat\", cat_preprocessor, cat_labels),\n",
        "                                 (\"num\", num_preprocessor, num_labels)])\n",
        "\n",
        "# Relevant to construct labels for all features\n",
        "preprocessor.fit(X_train)\n",
        "\n",
        "feature_labels = preprocessor.transformers_[0][1].get_feature_names_out(cat_labels).tolist()\n",
        "feature_labels.extend(num_labels)\n",
        "\n",
        "from sklearn.metrics import mean_squared_error\n",
        "\n",
        "X_train_preproc = preprocessor.transform(X_train)\n",
        "X_test_preproc = preprocessor.transform(X_test)\n"
      ]
    },
    {
      "cell_type": "markdown",
      "metadata": {
        "id": "kyZTzCHep_In"
      },
      "source": [
        "#### 2. Defining layers in keras\n",
        "There are two ways to define a model: \n",
        "* Sequential class (only for linear stacks of layers)\n",
        "\n",
        "To build a simple, fully-connected network (i.e. multi-layer perceptron):\n",
        "```\n",
        "from tf.keras import models\n",
        "from tf.keras import layers\n",
        "model = models.Sequential()\n",
        "model.add(layers.Dense(32, activation='relu', input_shape=(784,)))\n",
        "model.add(layers.Dense(10, activation='softmax'))%\n",
        "```\n",
        "* functional API - with this API you’re manipulating the data tensors that the model processes and applying layers to this tensor as if they were functions.\n",
        "\n",
        "```\n",
        "input_tensor = layers.Input(shape=(784,))\n",
        "x = layers.Dense(32, activation='relu')(input_tensor)\n",
        "output_tensor = layers.Dense(10, activation='softmax')(x)\n",
        "model = models.Model(inputs=input_tensor, outputs=output_tensor)\n",
        "```\n",
        "\n",
        "#### Layers configuration\n",
        "tf.keras.layers provides many different layers.specified by the name of a built-in function or as a callable object:\n",
        "* built-in function\n",
        "\n",
        "`layers.Dense(64, activation='sigmoid')`\n",
        "\n",
        "* callable object\n",
        "\n",
        "`layers.Dense(64, activation=tf.keras.activations.sigmoid)`\n",
        "\n",
        "\n",
        "#### Commonly used and shared arguments:  \n",
        "* activation: Set the activation function for the layer, specified by the name of a built-in function or as a callable object, by default, no activation is applied.\n",
        "\n",
        "`tf.keras.activations.`\n",
        "\n",
        "* kernel_initializer and bias_initializer: The initialization schemes that create the layer's weights, defaults  \"Glorot uniform\" initializer.\n",
        "\n",
        "`tf.keras.initializers.`\n",
        "\n",
        "* kernel_regularizer and bias_regularizer: The regularization schemes that apply the layer's weights, such as L1 or L2 regularization, by default, no regularization is applied.\n",
        "\n",
        "`tf.keras.regularizers.`"
      ]
    },
    {
      "cell_type": "markdown",
      "metadata": {
        "id": "UzfyWqHxp_In"
      },
      "source": [
        "### Functional API in Keras - complex models\n",
        "* Sequential approach is a simple stack of layers that cannot represent arbitrary models\n",
        "* For more complex model topologies use the Keras functional API\n",
        "* When to use functional API?:\n",
        "    * Multi-input models\n",
        "    * Multi-output models\n",
        "    * Models with shared layers (same layer called several times\n",
        "    * Models with non-sequential data flows (e.g. residual connections)\n",
        "\n",
        "\n",
        "#### How it works?\n",
        "1. A layer instance is callable and returns a tensor. This tensor is then fed as argument to the next layer\n",
        "2. Input tensors and output tensors are used to define a tf.keras.Model instance\n",
        "3. Model is trained just like the Sequential model.\n",
        "\n",
        "`\n",
        "inputs = tf.keras.Input(shape=(32,))  # Returns an input placeholder\n",
        "x = layers.Dense(64, activation='relu')(inputs)\n",
        "x = layers.Dense(64, activation='relu')(x)\n",
        "predictions = layers.Dense(10, activation='softmax')(x)\n",
        "model = tf.keras.Model(inputs=inputs, outputs=predictions)\n",
        "model.compile(optimizer=tf.keras.optimizers.RMSprop(0.001),\n",
        "              loss='categorical_crossentropy',\n",
        "              metrics=['accuracy'])\n",
        "model.fit(data, labels, batch_size=32, epochs=5)\n",
        "`"
      ]
    },
    {
      "cell_type": "code",
      "execution_count": null,
      "metadata": {
        "id": "sPvHgdiip_Io"
      },
      "outputs": [],
      "source": [
        "def model_init():\n",
        "    input_layer = layers.Input(shape = (X_train_preproc.shape[1]),name = \"input\")\n",
        "\n",
        "    hidden_layer_1 = layers.Dense(32, activation=\"relu\",name = \"h1\")(input_layer)\n",
        "\n",
        "    hidden_layer_2 = layers.Dense(32, activation=\"relu\",name = \"h2\")(hidden_layer_1)\n",
        "\n",
        "    output_layer = layers.Dense(1, activation=\"relu\",name = \"output\")(hidden_layer_2)\n",
        "\n",
        "    model = keras.Model(input_layer, output_layer)\n",
        "\n",
        "    model.compile(loss = \"mse\", optimizer = \"adam\", metrics=[\"mape\"])\n",
        "    \n",
        "    return model"
      ]
    },
    {
      "cell_type": "code",
      "execution_count": null,
      "metadata": {
        "scrolled": true,
        "id": "_ZnKkgYfp_Io",
        "outputId": "2a748164-5af3-4c29-eb89-b2af92334d1c"
      },
      "outputs": [
        {
          "name": "stderr",
          "output_type": "stream",
          "text": [
            "2022-11-16 02:47:59.674826: I tensorflow/core/platform/cpu_feature_guard.cc:193] This TensorFlow binary is optimized with oneAPI Deep Neural Network Library (oneDNN) to use the following CPU instructions in performance-critical operations:  SSE4.1 SSE4.2 AVX AVX2 FMA\n",
            "To enable them in other operations, rebuild TensorFlow with the appropriate compiler flags.\n",
            "2022-11-16 02:47:59.675790: I tensorflow/stream_executor/cuda/cuda_gpu_executor.cc:975] successful NUMA node read from SysFS had negative value (-1), but there must be at least one NUMA node, so returning NUMA node zero\n",
            "2022-11-16 02:47:59.676331: I tensorflow/stream_executor/cuda/cuda_gpu_executor.cc:975] successful NUMA node read from SysFS had negative value (-1), but there must be at least one NUMA node, so returning NUMA node zero\n",
            "2022-11-16 02:47:59.676697: I tensorflow/stream_executor/cuda/cuda_gpu_executor.cc:975] successful NUMA node read from SysFS had negative value (-1), but there must be at least one NUMA node, so returning NUMA node zero\n",
            "2022-11-16 02:48:00.631400: I tensorflow/stream_executor/cuda/cuda_gpu_executor.cc:975] successful NUMA node read from SysFS had negative value (-1), but there must be at least one NUMA node, so returning NUMA node zero\n",
            "2022-11-16 02:48:00.631929: I tensorflow/stream_executor/cuda/cuda_gpu_executor.cc:975] successful NUMA node read from SysFS had negative value (-1), but there must be at least one NUMA node, so returning NUMA node zero\n",
            "2022-11-16 02:48:00.632289: I tensorflow/stream_executor/cuda/cuda_gpu_executor.cc:975] successful NUMA node read from SysFS had negative value (-1), but there must be at least one NUMA node, so returning NUMA node zero\n",
            "2022-11-16 02:48:00.632628: I tensorflow/core/common_runtime/gpu/gpu_device.cc:1532] Created device /job:localhost/replica:0/task:0/device:GPU:0 with 6382 MB memory:  -> device: 0, name: Quadro RTX 4000, pci bus id: 0000:00:05.0, compute capability: 7.5\n"
          ]
        }
      ],
      "source": [
        "model = model_init()"
      ]
    },
    {
      "cell_type": "code",
      "execution_count": null,
      "metadata": {
        "id": "iiEzp_xup_Ip",
        "outputId": "81812093-2bc8-4c81-93a4-0f171b6de695"
      },
      "outputs": [
        {
          "name": "stdout",
          "output_type": "stream",
          "text": [
            "Model: \"model\"\n",
            "_________________________________________________________________\n",
            " Layer (type)                Output Shape              Param #   \n",
            "=================================================================\n",
            " input (InputLayer)          [(None, 26)]              0         \n",
            "                                                                 \n",
            " h1 (Dense)                  (None, 32)                864       \n",
            "                                                                 \n",
            " h2 (Dense)                  (None, 32)                1056      \n",
            "                                                                 \n",
            " output (Dense)              (None, 1)                 33        \n",
            "                                                                 \n",
            "=================================================================\n",
            "Total params: 1,953\n",
            "Trainable params: 1,953\n",
            "Non-trainable params: 0\n",
            "_________________________________________________________________\n"
          ]
        }
      ],
      "source": [
        "model.summary()"
      ]
    },
    {
      "cell_type": "code",
      "execution_count": null,
      "metadata": {
        "id": "5er8dRrep_Ip",
        "outputId": "d910d97d-4be8-4ed0-e6f4-3e6f2640560b"
      },
      "outputs": [
        {
          "data": {
            "text/plain": [
              "864"
            ]
          },
          "execution_count": 9,
          "metadata": {},
          "output_type": "execute_result"
        }
      ],
      "source": [
        "26*32+32"
      ]
    },
    {
      "cell_type": "markdown",
      "metadata": {
        "id": "-YxycMHZp_Ip"
      },
      "source": [
        "#### 3. Defining Learning process(compilation)\n",
        "In the learning process you specify the optimizer and loss function(s) that the model should use, as well as the metrics you\n",
        "want to monitor during training:\n",
        "\n",
        "* optimizer: This object specifies the training procedure. Pass optimizer instances from tf.keras.optimizers module, such as tf.keras.optimizers.Adam. Optimizers with default parameters can also be passed via strings, such as 'adam' or 'sgd'.\n",
        "\n",
        "`tf.keras.optimizers`\n",
        "\n",
        "\n",
        "* loss: The function to minimize during optimization. Common choices includes mse, categorical_crossentropy, and binary_crossentropy, specified by name or by a callable object from the tf.keras.losses module\n",
        "\n",
        "`tf.keras.losses`\n",
        "\n",
        "* metrics: Used to monitor training. Passed as strings or callables from the tf.keras.metrics module.\n",
        "\n",
        "`tf.keras.metrics`\n",
        "\n",
        "* Example\n",
        "```\n",
        "from keras import optimizers\n",
        "model.compile(optimizer=optimizers.RMSprop(lr=0.001),\n",
        "loss='mse',\n",
        "metrics=['accuracy'])\n",
        "```"
      ]
    },
    {
      "cell_type": "markdown",
      "metadata": {
        "id": "2jUMii_Cp_Iq"
      },
      "source": [
        "#### 4. Fitting model on data\n",
        "* small datasets - use in-memory NumPy arrays to train and evaluate a model. The model is \"fit\" to the training data using the fit method:\n",
        "```\n",
        "model.fit(input_tensor, target_tensor, batch_size=128, epochs=10)\n",
        "```\n",
        "\n",
        "* large datasets - use the Datasets API to scale or use multi-device training. \n",
        "\n",
        "`\n",
        "dataset = tf.data.Dataset.from_tensor_slices((data, labels))\n",
        "dataset = dataset.batch(32)\n",
        "model.fit(dataset, epochs=10)`\n",
        "\n",
        "\n",
        "#### Important arguments:\n",
        "* epochs: An epoch is one iteration over the entire input data \n",
        "* batch_size: In case of NumPy arrays the model slices the data into smaller batches and iterates over these batches during training. \n",
        "* validation_data: When prototyping a model, you want to easily monitor its performance on some validation data. Passing this argument—a tuple of inputs and labels—allows the model to display the loss and metrics in inference mode for the passed data, at the end of each epoch.\n",
        "\n",
        "\n"
      ]
    },
    {
      "cell_type": "code",
      "execution_count": null,
      "metadata": {
        "id": "RIW1YV-ap_Iq"
      },
      "outputs": [],
      "source": [
        "model = model_init()"
      ]
    },
    {
      "cell_type": "code",
      "execution_count": null,
      "metadata": {
        "id": "V1jIRQidp_Iq",
        "outputId": "53c8bb6b-aab8-4ba7-c40d-ec27a2fbb6ad"
      },
      "outputs": [
        {
          "name": "stdout",
          "output_type": "stream",
          "text": [
            "Model: \"model_1\"\n",
            "_________________________________________________________________\n",
            " Layer (type)                Output Shape              Param #   \n",
            "=================================================================\n",
            " input (InputLayer)          [(None, 26)]              0         \n",
            "                                                                 \n",
            " h1 (Dense)                  (None, 32)                864       \n",
            "                                                                 \n",
            " h2 (Dense)                  (None, 32)                1056      \n",
            "                                                                 \n",
            " output (Dense)              (None, 1)                 33        \n",
            "                                                                 \n",
            "=================================================================\n",
            "Total params: 1,953\n",
            "Trainable params: 1,953\n",
            "Non-trainable params: 0\n",
            "_________________________________________________________________\n"
          ]
        }
      ],
      "source": [
        "model.summary()"
      ]
    },
    {
      "cell_type": "code",
      "execution_count": null,
      "metadata": {
        "id": "Mgvl0SVbp_Iq",
        "outputId": "bc940660-242b-44f9-ef0d-407a7f2c2839"
      },
      "outputs": [
        {
          "data": {
            "text/plain": [
              "1056"
            ]
          },
          "execution_count": 12,
          "metadata": {},
          "output_type": "execute_result"
        }
      ],
      "source": [
        "32*32+32\n"
      ]
    },
    {
      "cell_type": "code",
      "execution_count": null,
      "metadata": {
        "id": "mKS_zg1tp_Ir",
        "outputId": "154653dc-d9b9-4a75-bdd2-7ff4d7148871"
      },
      "outputs": [
        {
          "data": {
            "text/plain": [
              "864"
            ]
          },
          "execution_count": 13,
          "metadata": {},
          "output_type": "execute_result"
        }
      ],
      "source": [
        "26*32+32"
      ]
    },
    {
      "cell_type": "code",
      "execution_count": null,
      "metadata": {
        "id": "7RXZ19qAp_Ir",
        "outputId": "c2b3df74-40f9-4245-8ff4-378608a5aca0"
      },
      "outputs": [
        {
          "data": {
            "text/plain": [
              "235.9875"
            ]
          },
          "execution_count": 14,
          "metadata": {},
          "output_type": "execute_result"
        }
      ],
      "source": [
        "X_train_preproc.shape[0]*.8/128"
      ]
    },
    {
      "cell_type": "code",
      "execution_count": null,
      "metadata": {
        "collapsed": true,
        "id": "wHRo_6cRp_Ir",
        "outputId": "dc3f0c77-c595-42bf-a100-e8406d929e1b"
      },
      "outputs": [
        {
          "name": "stdout",
          "output_type": "stream",
          "text": [
            "Epoch 1/10\n",
            "30/30 [==============================] - 0s 6ms/step - loss: 1153821.7500 - mape: 22.5590 - val_loss: 941516.9375 - val_mape: 22.0764\n",
            "Epoch 2/10\n",
            "30/30 [==============================] - 0s 5ms/step - loss: 1146397.6250 - mape: 22.1666 - val_loss: 934390.3125 - val_mape: 21.6772\n",
            "Epoch 3/10\n",
            "30/30 [==============================] - 0s 4ms/step - loss: 1138938.1250 - mape: 21.7938 - val_loss: 926405.8125 - val_mape: 21.3004\n",
            "Epoch 4/10\n",
            "30/30 [==============================] - 0s 4ms/step - loss: 1131747.7500 - mape: 21.4295 - val_loss: 918271.8125 - val_mape: 20.9465\n",
            "Epoch 5/10\n",
            "30/30 [==============================] - 0s 3ms/step - loss: 1124680.2500 - mape: 21.0911 - val_loss: 912627.3750 - val_mape: 20.5710\n",
            "Epoch 6/10\n",
            "30/30 [==============================] - 0s 4ms/step - loss: 1117812.3750 - mape: 20.7560 - val_loss: 904499.4375 - val_mape: 20.2520\n",
            "Epoch 7/10\n",
            "30/30 [==============================] - 0s 3ms/step - loss: 1110934.0000 - mape: 20.4490 - val_loss: 897676.8750 - val_mape: 19.9217\n",
            "Epoch 8/10\n",
            "30/30 [==============================] - 0s 4ms/step - loss: 1104724.3750 - mape: 20.1204 - val_loss: 892241.0625 - val_mape: 19.5815\n",
            "Epoch 9/10\n",
            "30/30 [==============================] - 0s 4ms/step - loss: 1098996.1250 - mape: 19.8600 - val_loss: 884450.2500 - val_mape: 19.3136\n",
            "Epoch 10/10\n",
            "30/30 [==============================] - 0s 4ms/step - loss: 1091407.8750 - mape: 19.5831 - val_loss: 879417.3750 - val_mape: 19.0175\n"
          ]
        }
      ],
      "source": [
        "history = model.fit(X_train_preproc,\n",
        "                   y_train,\n",
        "                   batch_size = 1024,\n",
        "                   epochs = 10,\n",
        "                   validation_split=.2)"
      ]
    },
    {
      "cell_type": "markdown",
      "metadata": {
        "id": "lbliXdaop_Ir"
      },
      "source": [
        "#### 5. Evaluate and predict\n",
        "* Evaluate method: `tf.keras.Model.evaluate` \n",
        "* Predict method: `tf.keras.Model.predict`\n",
        "* Both methods use NumPy data and a tf.data.Dataset\n",
        "\n",
        "`model.evaluate(data, labels, batch_size=32)`\n"
      ]
    },
    {
      "cell_type": "code",
      "execution_count": null,
      "metadata": {
        "id": "FlJElu5Jp_Is",
        "outputId": "6a34c72b-31ce-423f-c174-279692861a0c"
      },
      "outputs": [
        {
          "name": "stdout",
          "output_type": "stream",
          "text": [
            "506/506 [==============================] - 1s 2ms/step - loss: 1405421.6250 - mape: 36.0133\n"
          ]
        },
        {
          "data": {
            "text/plain": [
              "[1405421.625, 36.01332092285156]"
            ]
          },
          "execution_count": 17,
          "metadata": {},
          "output_type": "execute_result"
        }
      ],
      "source": [
        "model.evaluate(X_test_preproc,y_test)"
      ]
    },
    {
      "cell_type": "code",
      "execution_count": null,
      "metadata": {
        "id": "e64ljqUpp_Is",
        "outputId": "4e3a968b-3a49-40d5-d525-8b701611a2b4"
      },
      "outputs": [
        {
          "name": "stdout",
          "output_type": "stream",
          "text": [
            "506/506 [==============================] - 1s 1ms/step\n"
          ]
        }
      ],
      "source": [
        "y_test_pred = model.predict(X_test_preproc)"
      ]
    },
    {
      "cell_type": "code",
      "execution_count": null,
      "metadata": {
        "id": "h3LERzrwp_Is",
        "outputId": "6931d57e-e3f4-49ff-d4dd-591bda0800ef"
      },
      "outputs": [
        {
          "data": {
            "text/plain": [
              "1185.5047892320208"
            ]
          },
          "execution_count": 19,
          "metadata": {},
          "output_type": "execute_result"
        }
      ],
      "source": [
        "mean_squared_error(y_test,y_test_pred,squared=False)"
      ]
    },
    {
      "cell_type": "markdown",
      "metadata": {
        "id": "Tj-a4PLxp_It"
      },
      "source": [
        "### Callbacks\n",
        "* A callback allows to customize and extend model behavior during training \n",
        "* Keras allows you to write your own custom callback \n",
        "* There are several predefined callbacks located in tf.keras.callbacks that include:\n",
        "    * ModelCheckpoint: save checkpoints of your model at regular intervals\n",
        "    * LearningRateScheduler: Dynamically change the learning rate\n",
        "    * EarlyStopping: Interrupt training when validation performance has stopped improving\n",
        "    * TensorBoard: Monitor the model's behavior using TensorBoard\n",
        "\n",
        "`\n",
        "callbacks = [\n",
        "  tf.keras.callbacks.EarlyStopping(patience=2, monitor='val_loss'),\n",
        "  tf.keras.callbacks.TensorBoard(log_dir='./logs')\n",
        "  ]\n",
        "model.fit(data, labels, batch_size=32, epochs=5, callbacks=callbacks,\n",
        "          validation_data=(val_data, val_labels))\n",
        "`\n"
      ]
    },
    {
      "cell_type": "code",
      "execution_count": null,
      "metadata": {
        "id": "OmxL5RA9p_It"
      },
      "outputs": [],
      "source": [
        "def model_init():\n",
        "    input_layer = layers.Input(shape = (X_train_preproc.shape[1]),name = \"input\")\n",
        "\n",
        "    hidden_layer = layers.Dense(64, activation=\"relu\",name = \"h1\")(input_layer)\n",
        "\n",
        "    hidden_layer = layers.Dense(64, activation=\"relu\",name = \"h2\")(hidden_layer)\n",
        "\n",
        "    output_layer = layers.Dense(1, activation=\"relu\",name = \"output\")(hidden_layer)\n",
        "\n",
        "    model = keras.Model(input_layer, output_layer)\n",
        "\n",
        "    model.compile(loss = \"mse\", optimizer = \"adam\", metrics=[\"mape\"])\n",
        "    \n",
        "    return model"
      ]
    },
    {
      "cell_type": "code",
      "execution_count": null,
      "metadata": {
        "id": "IgkjZnTFp_It"
      },
      "outputs": [],
      "source": [
        "import datetime\n",
        "logs_path = \"logs/\"+datetime.datetime.now().strftime(\"%H-%M-%S\")\n",
        "\n",
        "callbacks = [\n",
        "  keras.callbacks.EarlyStopping(patience=20, monitor='val_loss',restore_best_weights=True),\n",
        "  keras.callbacks.TensorBoard(log_dir=logs_path)\n",
        "  ]\n",
        "\n",
        "model = model_init()\n",
        "\n",
        "history = model.fit(X_train_preproc,\n",
        "                   y_train,\n",
        "                   batch_size = 1024,\n",
        "                   epochs = 2000,\n",
        "                   validation_split=.2,\n",
        "                    verbose = 0,\n",
        "                   callbacks = callbacks)\n"
      ]
    },
    {
      "cell_type": "code",
      "execution_count": null,
      "metadata": {
        "id": "ROIf8RCup_It",
        "outputId": "fb6a2b0b-9105-49d8-ed5a-74973570f03f"
      },
      "outputs": [
        {
          "data": {
            "text/plain": [
              "'C:\\\\Users\\\\paperspace\\\\Desktop\\\\Tomek trainer\\\\12. Neural Networks'"
            ]
          },
          "execution_count": 18,
          "metadata": {},
          "output_type": "execute_result"
        }
      ],
      "source": [
        "%pwd"
      ]
    },
    {
      "cell_type": "code",
      "execution_count": null,
      "metadata": {
        "id": "vr3bi-Y5p_Iu",
        "outputId": "23e2bf1e-3689-42f2-8e33-d64f68cb8b76"
      },
      "outputs": [
        {
          "name": "stdout",
          "output_type": "stream",
          "text": [
            "506/506 [==============================] - 1s 1ms/step\n"
          ]
        }
      ],
      "source": [
        "y_test_pred = model.predict(X_test_preproc)"
      ]
    },
    {
      "cell_type": "code",
      "execution_count": null,
      "metadata": {
        "id": "FqtjSlHBp_Iu",
        "outputId": "60a74d61-13b2-4e72-e1b7-05715a82ac42"
      },
      "outputs": [
        {
          "data": {
            "text/plain": [
              "553.4178862407822"
            ]
          },
          "execution_count": 29,
          "metadata": {},
          "output_type": "execute_result"
        }
      ],
      "source": [
        "mean_squared_error(y_test,y_test_pred,squared=False)"
      ]
    },
    {
      "cell_type": "code",
      "execution_count": null,
      "metadata": {
        "id": "bueifRtSp_Iu",
        "outputId": "81628807-b6d2-45a3-dcb6-d54496badc02"
      },
      "outputs": [
        {
          "data": {
            "text/plain": [
              "'/home/paperspace/Desktop/TM3'"
            ]
          },
          "execution_count": 21,
          "metadata": {},
          "output_type": "execute_result"
        }
      ],
      "source": [
        "%pwd"
      ]
    },
    {
      "cell_type": "markdown",
      "metadata": {
        "id": "aY_UkIYip_Iu"
      },
      "source": [
        "tensorboard --logdir \"/home/paperspace/Desktop/TM3/logs\" --host localhost --port 8088"
      ]
    },
    {
      "cell_type": "markdown",
      "metadata": {
        "id": "L1PSGxsMp_Iu"
      },
      "source": [
        "### Saving and restoring model\n",
        "* by default tensorflow save data in TensorFlow checkpoint file format\n",
        "* to save in  Keras HDF5 format use .h5 extension\n",
        "\n",
        "Keras allows for different behaviour on save :\n",
        "* the weights values - tf.keras.Model.save_weights, \n",
        "\n",
        "`\n",
        "model.save_weights('./weights/my_model')\n",
        "model.load_weights('./weights/my_model') # the same model architecture`\n",
        "\n",
        "`\n",
        "model.save_weights('my_model.h5', save_format='h5')\n",
        "model.load_weights('my_model.h5')\n",
        "`\n",
        "\n",
        "* the model configuration - serializes the model architecture without any weights, supported formats are JSON and YAML:\n",
        "\n",
        "`\n",
        "json_string = model.to_json()\n",
        "json_string\n",
        "`\n",
        "\n",
        "`\n",
        "import json\n",
        "import pprint\n",
        "pprint.pprint(json.loads(json_string))\n",
        "`\n",
        "\n",
        "`\n",
        "new_model = tf.keras.models.model_from_json(json_string) # recreate model\n",
        "`\n",
        "\n",
        "`\n",
        "yaml_string = model.to_yaml()\n",
        "print(yaml_string)\n",
        "`\n",
        "\n",
        "`\n",
        "new_model = tf.keras.models.model_from_yaml(yaml_string) # recreate from yaml\n",
        "`\n",
        "\n",
        "* entire model in one file - the weight values, the model's configuration, and the optimizer's configuration, allows to checkpoint a model and resume training later—from the exact same state—without access to the original code\n",
        "\n",
        "`\n",
        "model.save('my_model.h5')\n",
        "`\n",
        "\n",
        "`\n",
        "model = tf.keras.models.load_model('my_model.h5')\n",
        "`\n"
      ]
    },
    {
      "cell_type": "markdown",
      "metadata": {
        "id": "KdS-Oj7vp_Iw"
      },
      "source": [
        "-------\n"
      ]
    },
    {
      "cell_type": "markdown",
      "metadata": {
        "id": "X6AvtrkCp_Iw"
      },
      "source": [
        "## Advanced techniques related to training neural networks\n",
        "* Weight initialization\n",
        "* Activation functions\n",
        "* Optimizers\n",
        "* Batch normalization\n",
        "* Dropout(regularization)"
      ]
    },
    {
      "cell_type": "markdown",
      "metadata": {
        "id": "FuR23FxQp_Iw"
      },
      "source": [
        "### Weight Initialization\n",
        "Changing weight initialization scheme can significantly improve training of the model by preventing vanishing gradient problem up to some degree\n",
        "\n",
        "* tf.keras.initializers module offers built-in initializers such as:\n",
        "    * RandomNormal - generates tensors with a normal distribution\n",
        "    * RandomUniform - generates tensors with a uniform distribution\n",
        "    * TruncatedNormal - generates tensors like RandomNormal but values more than two standard deviations from the mean are discarded and re-drawn \n",
        "    * Zeros - generates tensors initialized to 0\n",
        "    * Ones - generates tensors initialized to 1\n",
        "    * GlorotNormal - generate tensors from truncated normal distribution centered on 0 with $$stddev = \\sqrt{\\frac{2}{fan_{in} + fan_{out}}}$$ where $fan_{in}$ is the number of input units in the weight tensor and $fan_{out}$ is the number of output units in the weight tensor. http://proceedings.mlr.press/v9/glorot10a/glorot10a.pdf\n",
        "    * GlorotUniform - generates tensors from a uniform distribution within $[-cap, cap]$, where $$cap = \\sqrt{\\frac{6}{fan_{in} + fan_{out}}}$$\n",
        "    * VarianceScaling - generate tensors with scale adjusted  to the shape of weights tensor\n",
        "    \n",
        "\n",
        "More initializers: https://keras.io/initializers/"
      ]
    },
    {
      "cell_type": "code",
      "execution_count": null,
      "metadata": {
        "id": "PrFFmaS1p_Ix"
      },
      "outputs": [],
      "source": [
        "from tensorflow.keras.initializers import RandomNormal, RandomUniform,TruncatedNormal,Ones,GlorotNormal,GlorotUniform,VarianceScaling\n",
        "n=10000\n",
        "\n",
        "classes = [RandomNormal, RandomUniform,TruncatedNormal,GlorotNormal,GlorotUniform, VarianceScaling]  # list of functions\n",
        "output=np.empty(shape=(n,len(classes)))\n",
        "\n",
        "for idx,fn in enumerate(classes):\n",
        "    initializer=fn(seed=42)\n",
        "    output[:,idx] = np.ravel(initializer(shape=(n,1)))\n",
        "       "
      ]
    },
    {
      "cell_type": "code",
      "execution_count": null,
      "metadata": {
        "scrolled": true,
        "id": "c2kur-HOp_Ix",
        "outputId": "b237933a-27a7-47f6-912d-d557954588e6"
      },
      "outputs": [
        {
          "data": {
            "image/png": "[encoded data removed]",
            "text/plain": [
              "<Figure size 1440x1080 with 6 Axes>"
            ]
          },
          "metadata": {
            "needs_background": "light"
          },
          "output_type": "display_data"
        }
      ],
      "source": [
        "from pylab import rcParams\n",
        "rcParams['figure.figsize'] = 20,15\n",
        "\n",
        "\n",
        "for i in range(0, 6):\n",
        "    plt.subplot(4, 2, i+1).set_title(str(classes[i]).split(\".\")[-1])\n",
        "    plt.hist(output[:,i])\n",
        "\n"
      ]
    },
    {
      "cell_type": "markdown",
      "metadata": {
        "id": "1pSzbV8Zp_Iy"
      },
      "source": [
        "-----"
      ]
    },
    {
      "cell_type": "markdown",
      "metadata": {
        "id": "Bnt_36rDp_Iy"
      },
      "source": [
        "### Activation Functions\n",
        "Sigmoid functions suffer from gradient vanishing problem, making training slower\n",
        "\n",
        "There are many choices apart from sigmoid and tanh; \n",
        "* 'relu' (rectified linear unit) \n",
        "* 'selu' (scaled exponential linear unit)\n",
        "* 'elu' \n",
        "* 'exponential' \n",
        "* 'sigmoid' \n",
        "* 'softmax' \n",
        "* 'softplus' \n",
        "* 'tanh' \n",
        "\n",
        "https://keras.io/api/layers/activations/"
      ]
    },
    {
      "cell_type": "code",
      "execution_count": null,
      "metadata": {
        "id": "u2Ik9Yfep_Iz",
        "outputId": "ba2526cb-5f9a-4093-ad5e-598c25b292d9"
      },
      "outputs": [
        {
          "data": {
            "text/plain": [
              "<matplotlib.legend.Legend at 0x1869bcbfdc8>"
            ]
          },
          "execution_count": 261,
          "metadata": {},
          "output_type": "execute_result"
        },
        {
          "data": {
            "image/png": "[encoded data removed]",
            "text/plain": [
              "<Figure size 1440x1080 with 1 Axes>"
            ]
          },
          "metadata": {
            "needs_background": "light"
          },
          "output_type": "display_data"
        }
      ],
      "source": [
        "from tensorflow.keras.activations import relu,elu,selu,sigmoid,tanh, linear, exponential, softmax\n",
        "wartosci = np.arange(-2, 2, 0.01)\n",
        "classes = [relu,elu,selu, linear,exponential]  # list of functions\n",
        "output=np.empty(shape=(len(wartosci),len(classes)))\n",
        "\n",
        "for idx,fn in enumerate(classes):\n",
        "    output[:,idx]=np.ravel(fn(wartosci))\n",
        "\n",
        "from pylab import rcParams\n",
        "rcParams['figure.figsize'] = 20,15\n",
        "\n",
        "legenda= [str(i).split(\" \")[1] for i in classes]\n",
        "plt.plot(wartosci,output)\n",
        "plt.legend(legenda)\n"
      ]
    },
    {
      "cell_type": "code",
      "execution_count": null,
      "metadata": {
        "id": "EUTq8WBgp_Iz",
        "outputId": "fabcda35-e93f-4c57-cb41-a9d1546646de"
      },
      "outputs": [
        {
          "data": {
            "text/plain": [
              "<matplotlib.legend.Legend at 0x18682b0a988>"
            ]
          },
          "execution_count": 263,
          "metadata": {},
          "output_type": "execute_result"
        },
        {
          "data": {
            "image/png": "[encoded data removed]",
            "text/plain": [
              "<Figure size 1440x1080 with 1 Axes>"
            ]
          },
          "metadata": {
            "needs_background": "light"
          },
          "output_type": "display_data"
        }
      ],
      "source": [
        "from tensorflow.keras.activations import relu,elu,selu,sigmoid,tanh, linear, exponential, softmax\n",
        "wartosci = np.arange(-5, 5, 0.01)\n",
        "classes = [sigmoid, tanh]  # list of functions\n",
        "output=np.empty(shape=(len(wartosci),len(classes)))\n",
        "\n",
        "for idx,fn in enumerate(classes):\n",
        "    output[:,idx]=np.ravel(fn(wartosci))\n",
        "\n",
        "from pylab import rcParams\n",
        "rcParams['figure.figsize'] = 20,15\n",
        "\n",
        "legenda= [str(i).split(\" \")[1] for i in classes]\n",
        "plt.plot(wartosci,output)\n",
        "plt.legend(legenda)"
      ]
    },
    {
      "cell_type": "markdown",
      "metadata": {
        "id": "JCjAlCLWp_I0"
      },
      "source": [
        "### Optimizers\n",
        "\n",
        "Many variants of SGD are available and employed in training\n",
        "One of the most popular ones are Adam (Adaptive Moment Estimation)\n",
        "Doc: https://keras.io/optimizers/\n",
        "\n",
        "![Source](graphics/optimizers.gif)\n"
      ]
    },
    {
      "cell_type": "markdown",
      "metadata": {
        "id": "MFtyXqUpp_I0"
      },
      "source": [
        "### Batch Normalization\n",
        "Batch Normalization, one of the methods to prevent the \"internal covariance shift\" problem, has proven to be highly effective\n",
        "\n",
        "Normalize each mini-batch before nonlinearity\n"
      ]
    },
    {
      "cell_type": "markdown",
      "metadata": {
        "id": "0SRZ9wWcp_I0"
      },
      "source": [
        "### Dropout \n",
        "Dropout is one of powerful ways to prevent overfitting. The idea is simple. It is disconnecting some (randomly selected) neurons in each layer.\n",
        "\n",
        "The probability of each neuron to be disconnected, namely 'Dropout rate', has to be designated\n",
        "\n",
        "Doc: https://keras.io/layers/core/#dropout\n",
        "\n",
        "![Source](graphics/dropout.png)\n"
      ]
    }
  ],
  "metadata": {
    "kernelspec": {
      "display_name": "Python 3 (ipykernel)",
      "language": "python",
      "name": "python3"
    },
    "language_info": {
      "codemirror_mode": {
        "name": "ipython",
        "version": 3
      },
      "file_extension": ".py",
      "mimetype": "text/x-python",
      "name": "python",
      "nbconvert_exporter": "python",
      "pygments_lexer": "ipython3",
      "version": "3.9.13"
    },
    "colab": {
      "provenance": [],
      "include_colab_link": true
    }
  },
  "nbformat": 4,
  "nbformat_minor": 0
}