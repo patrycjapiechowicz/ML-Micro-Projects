{
 "cells": [
  {
   "cell_type": "code",
   "execution_count": 3,
   "metadata": {},
   "outputs": [
    {
     "name": "stdout",
     "output_type": "stream",
     "text": [
      "dokladnosc wynosi: [0.5276381909547738, 0.507537688442211, 0.48743718592964824, 0.5175879396984925, 0.457286432160804]\n",
      "scrednia dokladnosc wynosi: 0.49949748743718586, odchylenie standardowe wynosi: 0.02494406763013237\n"
     ]
    }
   ],
   "source": [
    "import pandas as pd\n",
    "import numpy as np\n",
    "from random import shuffle\n",
    "\n",
    "from sklearn.metrics import accuracy_score\n",
    "\n",
    "class Model:\n",
    "  def __init__(self, ds):\n",
    "    self.ds = ds\n",
    "    \n",
    "  def train(self):\n",
    "    pass\n",
    "  \n",
    "  def predict(self, obj):\n",
    "    return np.random.randint(self.ds.iloc[:, -1].max())\n",
    "  \n",
    "  \n",
    "df =  pd.read_csv('data/data-bayes.csv')\n",
    "\n",
    "idx = list(range(len(df)))\n",
    "shuffle(idx)\n",
    "\n",
    "folds = 5\n",
    "\n",
    "chunks = np.array_split(idx, folds)\n",
    "\n",
    "accs = []\n",
    "\n",
    "for i in range(folds):\n",
    "  train_folds = set(range(folds)) - {i}\n",
    "  test_folds = i\n",
    "  \n",
    "  train_idx = np.take(chunks, list(train_folds), axis=0).flatten()\n",
    "  test_idx = chunks[test_folds]\n",
    "  \n",
    "  train_df = df.iloc[train_idx, :]\n",
    "  test_df = df.iloc[test_idx, :]\n",
    "  \n",
    "  model = Model(train_df)\n",
    "  model.train()\n",
    "  \n",
    "  scores = []\n",
    "  \n",
    "  for obj in test_df.iterrows():\n",
    "    score = model.predict(obj[:-1])\n",
    "    scores.append(score)\n",
    "    \n",
    "  accs.append(accuracy_score(scores, test_df.iloc[:, -1].values))\n",
    "print(f'dokladnosc wynosi: {accs}')\n",
    "print(f'scrednia dokladnosc wynosi: {np.mean(accs)}, odchylenie standardowe wynosi: {np.std(accs)}')"
   ]
  },
  {
   "cell_type": "code",
   "execution_count": null,
   "metadata": {},
   "outputs": [],
   "source": []
  }
 ],
 "metadata": {
  "kernelspec": {
   "display_name": "Python 3",
   "language": "python",
   "name": "python3"
  },
  "language_info": {
   "codemirror_mode": {
    "name": "ipython",
    "version": 3
   },
   "file_extension": ".py",
   "mimetype": "text/x-python",
   "name": "python",
   "nbconvert_exporter": "python",
   "pygments_lexer": "ipython3",
   "version": "3.7.4"
  }
 },
 "nbformat": 4,
 "nbformat_minor": 2
}
