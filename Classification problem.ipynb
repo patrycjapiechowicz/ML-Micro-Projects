{
 "cells": [
  {
   "cell_type": "markdown",
   "metadata": {},
   "source": [
    "## Credit Card fraud detection - Classification problem\n",
    "\n",
    "### Description\n",
    "Credit card companies are able to recognize fraudulent credit card transactions so that customers are not charged for items that they did not purchase.\n",
    "\n",
    "### Data overview\n",
    "* transactions made by credit cards in September 2013 by european cardholders\n",
    "* transactions that occurred in two days\n",
    "* 492 frauds out of 284,807 transactions\n",
    "* numerical input variables which are the result of a PCA transformation. \n",
    "* 'Class' is the response variable and it takes value 1 in case of fraud and 0 otherwise.\n",
    "\n",
    "\n",
    "Dataset from kaggle"
   ]
  },
  {
   "cell_type": "code",
   "execution_count": 1,
   "metadata": {},
   "outputs": [
    {
     "data": {
      "text/plain": [
       "'C:\\\\Users\\\\paperspace\\\\Desktop\\\\training\\\\Training materials I\\\\2. Budowa sieci MLP w Tensorflow Keras API'"
      ]
     },
     "execution_count": 1,
     "metadata": {},
     "output_type": "execute_result"
    }
   ],
   "source": [
    "pwd"
   ]
  },
  {
   "cell_type": "code",
   "execution_count": 3,
   "metadata": {
    "collapsed": true
   },
   "outputs": [
    {
     "name": "stdout",
     "output_type": "stream",
     "text": [
      "<class 'pandas.core.frame.DataFrame'>\n",
      "RangeIndex: 284807 entries, 0 to 284806\n",
      "Data columns (total 31 columns):\n",
      " #   Column  Non-Null Count   Dtype  \n",
      "---  ------  --------------   -----  \n",
      " 0   Time    284807 non-null  float64\n",
      " 1   V1      284807 non-null  float64\n",
      " 2   V2      284807 non-null  float64\n",
      " 3   V3      284807 non-null  float64\n",
      " 4   V4      284807 non-null  float64\n",
      " 5   V5      284807 non-null  float64\n",
      " 6   V6      284807 non-null  float64\n",
      " 7   V7      284807 non-null  float64\n",
      " 8   V8      284807 non-null  float64\n",
      " 9   V9      284807 non-null  float64\n",
      " 10  V10     284807 non-null  float64\n",
      " 11  V11     284807 non-null  float64\n",
      " 12  V12     284807 non-null  float64\n",
      " 13  V13     284807 non-null  float64\n",
      " 14  V14     284807 non-null  float64\n",
      " 15  V15     284807 non-null  float64\n",
      " 16  V16     284807 non-null  float64\n",
      " 17  V17     284807 non-null  float64\n",
      " 18  V18     284807 non-null  float64\n",
      " 19  V19     284807 non-null  float64\n",
      " 20  V20     284807 non-null  float64\n",
      " 21  V21     284807 non-null  float64\n",
      " 22  V22     284807 non-null  float64\n",
      " 23  V23     284807 non-null  float64\n",
      " 24  V24     284807 non-null  float64\n",
      " 25  V25     284807 non-null  float64\n",
      " 26  V26     284807 non-null  float64\n",
      " 27  V27     284807 non-null  float64\n",
      " 28  V28     284807 non-null  float64\n",
      " 29  Amount  284807 non-null  float64\n",
      " 30  Class   284807 non-null  int64  \n",
      "dtypes: float64(30), int64(1)\n",
      "memory usage: 67.4 MB\n"
     ]
    }
   ],
   "source": [
    "# %load \"g:/My Drive/fraud.py\"\n",
    "import pandas as pd\n",
    "import numpy as np\n",
    "\n",
    "df=pd.read_csv(\"../../../data/data/creditcard.csv\")\n",
    "df.info()"
   ]
  },
  {
   "cell_type": "code",
   "execution_count": 4,
   "metadata": {},
   "outputs": [],
   "source": [
    "from sklearn.model_selection import train_test_split\n",
    "X = df.drop(columns=\"Class\")\n",
    "y = df.Class\n",
    "\n",
    "X_train, X_test, y_train, y_test = train_test_split(X,y, \n",
    "                 test_size=.5,\n",
    "                 random_state=42,stratify=y)"
   ]
  },
  {
   "cell_type": "code",
   "execution_count": 5,
   "metadata": {},
   "outputs": [
    {
     "data": {
      "text/plain": [
       "ColumnTransformer(transformers=[('cat', OneHotEncoder(drop='if_binary'),\n",
       "                                 Index([], dtype='object')),\n",
       "                                ('num', RobustScaler(),\n",
       "                                 Index(['Time', 'V1', 'V2', 'V3', 'V4', 'V5', 'V6', 'V7', 'V8', 'V9', 'V10',\n",
       "       'V11', 'V12', 'V13', 'V14', 'V15', 'V16', 'V17', 'V18', 'V19', 'V20',\n",
       "       'V21', 'V22', 'V23', 'V24', 'V25', 'V26', 'V27', 'V28', 'Amount'],\n",
       "      dtype='object'))])"
      ]
     },
     "execution_count": 5,
     "metadata": {},
     "output_type": "execute_result"
    }
   ],
   "source": [
    "# %load \"g:/My Drive/diamonds_preproc.py\"\n",
    "from sklearn.preprocessing import StandardScaler, RobustScaler, FunctionTransformer, OneHotEncoder\n",
    "from sklearn.compose import ColumnTransformer\n",
    "from sklearn.pipeline import Pipeline\n",
    "\n",
    "# 1. select labels of features for one hot encoding and standarization\n",
    "num_labels = X_train.select_dtypes(\"number\").columns\n",
    "cat_labels = X_train.select_dtypes(\"object\").columns\n",
    "\n",
    "# 2. define preprocessor for each type of data\n",
    "cat_preprocessor = OneHotEncoder(drop = \"if_binary\")\n",
    "num_preprocessor = RobustScaler()\n",
    "\n",
    "# 3. Combine it all together\n",
    "preprocessor = ColumnTransformer([(\"cat\", cat_preprocessor, cat_labels),\n",
    "                                 (\"num\", num_preprocessor, num_labels)])\n",
    "\n",
    "preprocessor.fit(X_train)"
   ]
  },
  {
   "cell_type": "code",
   "execution_count": 6,
   "metadata": {},
   "outputs": [],
   "source": [
    "#feature_labels = preprocessor.transformers_[0][1].get_feature_names_out().tolist()\n",
    "#feature_labels.extend(num_labels)\n",
    "feature_labels = num_labels\n",
    "\n",
    "X_train_prepd = preprocessor.transform(X_train)\n",
    "X_train_prepd = pd.DataFrame(X_train_prepd,columns = feature_labels)\n",
    "\n",
    "X_test_prepd = preprocessor.transform(X_test)\n",
    "X_test_prepd = pd.DataFrame(X_test_prepd,columns = feature_labels)"
   ]
  },
  {
   "cell_type": "code",
   "execution_count": 7,
   "metadata": {},
   "outputs": [],
   "source": [
    "# Simple sequential api\n",
    "from tensorflow.keras import layers\n",
    "from tensorflow import keras\n",
    "\n",
    "neg, pos = np.bincount(y_train)\n",
    "total = neg + pos\n",
    "\n",
    "#gdy zbilansowany\n",
    "#neg =100\n",
    "#pos =100\n",
    "\n",
    "initial_bias = np.log(pos/neg)\n",
    "initial_bias = keras.initializers.Constant(initial_bias)\n",
    "initial_bias\n",
    "\n",
    "metrics_to_monitor = [\n",
    "    keras.metrics.AUC(name = \"auc\"),\n",
    "    keras.metrics.AUC(curve=\"PR\", name = \"prc\")\n",
    "]"
   ]
  },
  {
   "cell_type": "code",
   "execution_count": 8,
   "metadata": {},
   "outputs": [],
   "source": [
    "def model_init():\n",
    "    input_layer = layers.Input(shape = (X_train_prepd.shape[1],),name = \"input\")\n",
    "\n",
    "    h1 = layers.Dense(64,activation = \"relu\", name = \"h1\")(input_layer)\n",
    "    h2 = layers.Dense(64,activation = \"relu\", name = \"h2\")(h1)\n",
    "    h3 = layers.Dense(64,activation = \"relu\", name = \"h3\")(h2)\n",
    "\n",
    "\n",
    "    output_layer = layers.Dense(1,activation = \"sigmoid\", name = \"out\",\n",
    "                                bias_initializer=initial_bias)(h3)\n",
    "\n",
    "    model = keras.Model(input_layer, output_layer)\n",
    "    model.compile(loss = \"binary_crossentropy\", optimizer = \"adam\", metrics = metrics_to_monitor)\n",
    "    return model\n"
   ]
  },
  {
   "cell_type": "code",
   "execution_count": 9,
   "metadata": {},
   "outputs": [],
   "source": [
    "from sklearn.utils.class_weight import compute_class_weight\n",
    "wagi = compute_class_weight(\"balanced\", classes=y_train.unique(),y= y_train)\n",
    "\n",
    "import datetime\n",
    "logs_path = \"logs\\\\\"+datetime.datetime.now().strftime(\"%H-%M-%S\")\n",
    "\n",
    "early=keras.callbacks.EarlyStopping(monitor = \"val_prc\",\n",
    "                                  mode = \"max\",\n",
    "                                  patience=30,\n",
    "                                  restore_best_weights=True)\n",
    "   # keras.callbacks.TensorBoard(log_dir= logs_path)\n",
    "cb=[early]"
   ]
  },
  {
   "cell_type": "markdown",
   "metadata": {},
   "source": [
    "### Tuner"
   ]
  },
  {
   "cell_type": "code",
   "execution_count": 10,
   "metadata": {},
   "outputs": [
    {
     "name": "stdout",
     "output_type": "stream",
     "text": [
      "Requirement already satisfied: keras-tuner in c:\\users\\paperspace\\anaconda3\\lib\\site-packages (1.1.3)\n",
      "Requirement already satisfied: tensorboard in c:\\users\\paperspace\\anaconda3\\lib\\site-packages (from keras-tuner) (2.10.1)\n",
      "Requirement already satisfied: requests in c:\\users\\paperspace\\anaconda3\\lib\\site-packages (from keras-tuner) (2.28.1)\n",
      "Requirement already satisfied: ipython in c:\\users\\paperspace\\anaconda3\\lib\\site-packages (from keras-tuner) (7.31.1)\n",
      "Requirement already satisfied: numpy in c:\\users\\paperspace\\anaconda3\\lib\\site-packages (from keras-tuner) (1.21.5)\n",
      "Requirement already satisfied: packaging in c:\\users\\paperspace\\anaconda3\\lib\\site-packages (from keras-tuner) (21.3)\n",
      "Requirement already satisfied: kt-legacy in c:\\users\\paperspace\\anaconda3\\lib\\site-packages (from keras-tuner) (1.0.4)\n",
      "Requirement already satisfied: pygments in c:\\users\\paperspace\\anaconda3\\lib\\site-packages (from ipython->keras-tuner) (2.11.2)\n",
      "Requirement already satisfied: matplotlib-inline in c:\\users\\paperspace\\anaconda3\\lib\\site-packages (from ipython->keras-tuner) (0.1.6)\n",
      "Requirement already satisfied: setuptools>=18.5 in c:\\users\\paperspace\\anaconda3\\lib\\site-packages (from ipython->keras-tuner) (63.4.1)\n",
      "Requirement already satisfied: colorama in c:\\users\\paperspace\\anaconda3\\lib\\site-packages (from ipython->keras-tuner) (0.4.5)\n",
      "Requirement already satisfied: pickleshare in c:\\users\\paperspace\\anaconda3\\lib\\site-packages (from ipython->keras-tuner) (0.7.5)\n",
      "Requirement already satisfied: decorator in c:\\users\\paperspace\\anaconda3\\lib\\site-packages (from ipython->keras-tuner) (5.1.1)\n",
      "Requirement already satisfied: prompt-toolkit!=3.0.0,!=3.0.1,<3.1.0,>=2.0.0 in c:\\users\\paperspace\\anaconda3\\lib\\site-packages (from ipython->keras-tuner) (3.0.20)\n",
      "Requirement already satisfied: jedi>=0.16 in c:\\users\\paperspace\\anaconda3\\lib\\site-packages (from ipython->keras-tuner) (0.18.1)\n",
      "Requirement already satisfied: backcall in c:\\users\\paperspace\\anaconda3\\lib\\site-packages (from ipython->keras-tuner) (0.2.0)\n",
      "Requirement already satisfied: traitlets>=4.2 in c:\\users\\paperspace\\anaconda3\\lib\\site-packages (from ipython->keras-tuner) (5.1.1)\n",
      "Requirement already satisfied: pyparsing!=3.0.5,>=2.0.2 in c:\\users\\paperspace\\anaconda3\\lib\\site-packages (from packaging->keras-tuner) (3.0.9)\n",
      "Requirement already satisfied: certifi>=2017.4.17 in c:\\users\\paperspace\\anaconda3\\lib\\site-packages (from requests->keras-tuner) (2022.9.14)\n",
      "Requirement already satisfied: idna<4,>=2.5 in c:\\users\\paperspace\\anaconda3\\lib\\site-packages (from requests->keras-tuner) (3.3)\n",
      "Requirement already satisfied: urllib3<1.27,>=1.21.1 in c:\\users\\paperspace\\anaconda3\\lib\\site-packages (from requests->keras-tuner) (1.26.11)\n",
      "Requirement already satisfied: charset-normalizer<3,>=2 in c:\\users\\paperspace\\anaconda3\\lib\\site-packages (from requests->keras-tuner) (2.0.4)\n",
      "Requirement already satisfied: tensorboard-plugin-wit>=1.6.0 in c:\\users\\paperspace\\anaconda3\\lib\\site-packages (from tensorboard->keras-tuner) (1.8.1)\n",
      "Requirement already satisfied: wheel>=0.26 in c:\\users\\paperspace\\anaconda3\\lib\\site-packages (from tensorboard->keras-tuner) (0.37.1)\n",
      "Requirement already satisfied: protobuf<3.20,>=3.9.2 in c:\\users\\paperspace\\anaconda3\\lib\\site-packages (from tensorboard->keras-tuner) (3.19.6)\n",
      "Requirement already satisfied: werkzeug>=1.0.1 in c:\\users\\paperspace\\anaconda3\\lib\\site-packages (from tensorboard->keras-tuner) (2.0.3)\n",
      "Requirement already satisfied: absl-py>=0.4 in c:\\users\\paperspace\\anaconda3\\lib\\site-packages (from tensorboard->keras-tuner) (1.3.0)\n",
      "Requirement already satisfied: markdown>=2.6.8 in c:\\users\\paperspace\\anaconda3\\lib\\site-packages (from tensorboard->keras-tuner) (3.3.4)\n",
      "Requirement already satisfied: google-auth-oauthlib<0.5,>=0.4.1 in c:\\users\\paperspace\\anaconda3\\lib\\site-packages (from tensorboard->keras-tuner) (0.4.6)\n",
      "Requirement already satisfied: google-auth<3,>=1.6.3 in c:\\users\\paperspace\\anaconda3\\lib\\site-packages (from tensorboard->keras-tuner) (2.15.0)\n",
      "Requirement already satisfied: grpcio>=1.24.3 in c:\\users\\paperspace\\anaconda3\\lib\\site-packages (from tensorboard->keras-tuner) (1.51.1)\n",
      "Requirement already satisfied: tensorboard-data-server<0.7.0,>=0.6.0 in c:\\users\\paperspace\\anaconda3\\lib\\site-packages (from tensorboard->keras-tuner) (0.6.1)\n",
      "Requirement already satisfied: cachetools<6.0,>=2.0.0 in c:\\users\\paperspace\\anaconda3\\lib\\site-packages (from google-auth<3,>=1.6.3->tensorboard->keras-tuner) (5.2.0)\n",
      "Requirement already satisfied: six>=1.9.0 in c:\\users\\paperspace\\anaconda3\\lib\\site-packages (from google-auth<3,>=1.6.3->tensorboard->keras-tuner) (1.16.0)\n",
      "Requirement already satisfied: rsa<5,>=3.1.4 in c:\\users\\paperspace\\anaconda3\\lib\\site-packages (from google-auth<3,>=1.6.3->tensorboard->keras-tuner) (4.9)\n",
      "Requirement already satisfied: pyasn1-modules>=0.2.1 in c:\\users\\paperspace\\anaconda3\\lib\\site-packages (from google-auth<3,>=1.6.3->tensorboard->keras-tuner) (0.2.8)\n",
      "Requirement already satisfied: requests-oauthlib>=0.7.0 in c:\\users\\paperspace\\anaconda3\\lib\\site-packages (from google-auth-oauthlib<0.5,>=0.4.1->tensorboard->keras-tuner) (1.3.1)\n",
      "Requirement already satisfied: parso<0.9.0,>=0.8.0 in c:\\users\\paperspace\\anaconda3\\lib\\site-packages (from jedi>=0.16->ipython->keras-tuner) (0.8.3)\n",
      "Requirement already satisfied: wcwidth in c:\\users\\paperspace\\anaconda3\\lib\\site-packages (from prompt-toolkit!=3.0.0,!=3.0.1,<3.1.0,>=2.0.0->ipython->keras-tuner) (0.2.5)\n",
      "Requirement already satisfied: pyasn1<0.5.0,>=0.4.6 in c:\\users\\paperspace\\anaconda3\\lib\\site-packages (from pyasn1-modules>=0.2.1->google-auth<3,>=1.6.3->tensorboard->keras-tuner) (0.4.8)\n",
      "Requirement already satisfied: oauthlib>=3.0.0 in c:\\users\\paperspace\\anaconda3\\lib\\site-packages (from requests-oauthlib>=0.7.0->google-auth-oauthlib<0.5,>=0.4.1->tensorboard->keras-tuner) (3.2.2)\n"
     ]
    }
   ],
   "source": [
    "!pip install keras-tuner"
   ]
  },
  {
   "cell_type": "code",
   "execution_count": 11,
   "metadata": {},
   "outputs": [
    {
     "name": "stderr",
     "output_type": "stream",
     "text": [
      "C:\\Users\\paperspace\\AppData\\Local\\Temp\\1\\ipykernel_13812\\2092396792.py:1: DeprecationWarning: `import kerastuner` is deprecated, please use `import keras_tuner`.\n",
      "  from kerastuner import RandomSearch\n"
     ]
    }
   ],
   "source": [
    "from kerastuner import RandomSearch\n",
    "from kerastuner.engine.hyperparameters import HyperParameters\n",
    "hp=HyperParameters()\n"
   ]
  },
  {
   "cell_type": "code",
   "execution_count": 12,
   "metadata": {},
   "outputs": [],
   "source": [
    "from kerastuner import Objective"
   ]
  },
  {
   "cell_type": "code",
   "execution_count": 13,
   "metadata": {},
   "outputs": [],
   "source": [
    "def model_init(hp):\n",
    "    input_layer = layers.Input(shape = (X_train_prepd.shape[1],),name = \"input\")\n",
    "\n",
    "    h = layers.Dense(hp.Int('h0_units',32,128,32),\n",
    "                             activation = hp.Choice('h0_act',[\"relu\",'tanh','selu']), \n",
    "                             name = \"h_0\")(input_layer)\n",
    "    \n",
    "    for i in range(hp.Int('n_layers',1,3)):\n",
    "        \n",
    "        h = layers.Dense(hp.Int(f'h{i}_units',32,128,32),\n",
    "                             activation = hp.Choice(f'h{i}_act',[\"relu\",'tanh','selu']), \n",
    "                             name = f\"h{i}\")(h)\n",
    "\n",
    "    output_layer = layers.Dense(1,activation = \"sigmoid\", name = \"out\",\n",
    "                                bias_initializer=initial_bias)(h)\n",
    "\n",
    "    model = keras.Model(input_layer, output_layer)\n",
    "    model.compile(loss = \"binary_crossentropy\", optimizer = \"adam\", metrics = metrics_to_monitor)\n",
    "    return model"
   ]
  },
  {
   "cell_type": "code",
   "execution_count": 43,
   "metadata": {},
   "outputs": [],
   "source": [
    "tuner=RandomSearch(model_init, \n",
    "                   objective=Objective(\"val_prc\", direction=\"max\"), \n",
    "                   max_trials=5)\n",
    "\n",
    "#bayesianSearch  - nie dziala losowo"
   ]
  },
  {
   "cell_type": "code",
   "execution_count": 46,
   "metadata": {},
   "outputs": [
    {
     "name": "stdout",
     "output_type": "stream",
     "text": [
      "Trial 5 Complete [00h 00m 55s]\n",
      "val_prc: 0.8635917901992798\n",
      "\n",
      "Best val_prc So Far: 0.874447762966156\n",
      "Total elapsed time: 00h 05m 54s\n",
      "INFO:tensorflow:Oracle triggered exit\n"
     ]
    }
   ],
   "source": [
    "tuner.search(X_train_prepd, y_train, batch_size=1024,epochs=100,validation_split=.2,callbacks=cb, verbose=2)"
   ]
  },
  {
   "cell_type": "code",
   "execution_count": 47,
   "metadata": {},
   "outputs": [
    {
     "name": "stdout",
     "output_type": "stream",
     "text": [
      "Results summary\n",
      "Results in .\\untitled_project\n",
      "Showing 10 best trials\n",
      "<keras_tuner.engine.objective.Objective object at 0x000001B0546C6940>\n",
      "Trial summary\n",
      "Hyperparameters:\n",
      "h0_units: 64\n",
      "h0_act: selu\n",
      "n_layers: 1\n",
      "h1_units: 32\n",
      "h1_act: tanh\n",
      "Score: 0.874447762966156\n",
      "Trial summary\n",
      "Hyperparameters:\n",
      "h0_units: 96\n",
      "h0_act: selu\n",
      "n_layers: 1\n",
      "h1_units: 96\n",
      "h1_act: selu\n",
      "Score: 0.8684983253479004\n",
      "Trial summary\n",
      "Hyperparameters:\n",
      "h0_units: 128\n",
      "h0_act: relu\n",
      "n_layers: 2\n",
      "h1_units: 32\n",
      "h1_act: relu\n",
      "Score: 0.8679301738739014\n",
      "Trial summary\n",
      "Hyperparameters:\n",
      "h0_units: 96\n",
      "h0_act: selu\n",
      "n_layers: 2\n",
      "h1_units: 128\n",
      "h1_act: relu\n",
      "Score: 0.8668358325958252\n",
      "Trial summary\n",
      "Hyperparameters:\n",
      "h0_units: 64\n",
      "h0_act: selu\n",
      "n_layers: 2\n",
      "h1_units: 96\n",
      "h1_act: relu\n",
      "Score: 0.8635917901992798\n"
     ]
    }
   ],
   "source": [
    "tuner.results_summary()"
   ]
  },
  {
   "cell_type": "code",
   "execution_count": 49,
   "metadata": {},
   "outputs": [],
   "source": [
    "best_model=tuner.get_best_models()[0]"
   ]
  },
  {
   "cell_type": "code",
   "execution_count": 50,
   "metadata": {},
   "outputs": [
    {
     "name": "stdout",
     "output_type": "stream",
     "text": [
      "29/29 [==============================] - 0s 5ms/step\n"
     ]
    }
   ],
   "source": [
    "y_test_pred=best_model.predict(X_test_prepd, batch_size=5000)"
   ]
  },
  {
   "cell_type": "code",
   "execution_count": 55,
   "metadata": {},
   "outputs": [],
   "source": [
    "# %load \"g:/My Drive/roc_prc.py\"\n",
    "def plot_roc(y_test, prob, model_name = \"\"):\n",
    "    \n",
    "    from sklearn.metrics import roc_curve, roc_auc_score\n",
    "    import matplotlib.pyplot as plt\n",
    "    \n",
    "    fpr, recall, tresh = roc_curve(y_test, prob)\n",
    "    auc = roc_auc_score(y_test, prob)\n",
    "    \n",
    "    plt.plot(fpr, recall, label = \"{} AUC = {}\".format(model_name, auc.round(2)))\n",
    "    plt.plot([0,1], [0,1], 'r--')\n",
    "    plt.xlabel(\"FPR\")\n",
    "    plt.ylabel(\"Recall\")\n",
    "    plt.title(\"ROC Curve\")\n",
    "    plt.legend()\n",
    "    \n",
    "def plot_prc(y_test, prob, model_name = \"\"):\n",
    "    \n",
    "    from sklearn.metrics import precision_recall_curve, average_precision_score\n",
    "    import matplotlib.pyplot as plt\n",
    "    \n",
    "    precision, recall, tresh = precision_recall_curve(y_test, prob)\n",
    "    auc = average_precision_score(y_test, prob)\n",
    "    \n",
    "    plt.plot(precision, recall, label = \"{} AUPRC = {}\".format(model_name, auc.round(2)))\n",
    "    plt.xlabel(\"Precision\")\n",
    "    plt.ylabel(\"Recall\")\n",
    "    plt.title(\"Precision-Recall Curve\")\n",
    "    plt.legend()\n"
   ]
  },
  {
   "cell_type": "code",
   "execution_count": 56,
   "metadata": {},
   "outputs": [
    {
     "data": {
      "image/png": "[encoded data removed]",
      "text/plain": [
       "<Figure size 640x480 with 1 Axes>"
      ]
     },
     "metadata": {},
     "output_type": "display_data"
    }
   ],
   "source": [
    "plot_prc(y_test,y_test_pred)"
   ]
  },
  {
   "cell_type": "code",
   "execution_count": null,
   "metadata": {},
   "outputs": [],
   "source": []
  }
 ],
 "metadata": {
  "kernelspec": {
   "display_name": "Python 3 (ipykernel)",
   "language": "python",
   "name": "python3"
  },
  "language_info": {
   "codemirror_mode": {
    "name": "ipython",
    "version": 3
   },
   "file_extension": ".py",
   "mimetype": "text/x-python",
   "name": "python",
   "nbconvert_exporter": "python",
   "pygments_lexer": "ipython3",
   "version": "3.9.13"
  }
 },
 "nbformat": 4,
 "nbformat_minor": 2
}
