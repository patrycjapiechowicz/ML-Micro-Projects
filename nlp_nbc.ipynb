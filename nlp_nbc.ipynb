{
 "cells": [
  {
   "cell_type": "markdown",
   "metadata": {
    "collapsed": true,
    "pycharm": {
     "name": "#%% md\n"
    }
   },
   "source": [
    "# Lab 2 - Naiwna klasyfikacja bayesowska i przetwarzanie języka naturalnego (NLP)\n",
    "\n",
    "## Prawdopodobieństwo warunkowe\n",
    "\n",
    "Prawdopodobieństwo warunkowe to wartość określająca szansę wystąpienia zdarzenia losowego A pod warunkiem\n",
    "wystąpienia zdarzenia losowego B:\n",
    "\n",
    "$$ P(A | B) = \\frac{P(A \\cap B)}{P(B)} $$\n",
    "\n",
    "gdzie:\n",
    "- $$ P(B) $$ oznacza prawdopodobieństwo wystąpienie zdarzenia losowego B\n",
    "- $$ A \\cap B $$ oznacza część wspólną zdarzeń losowych A i B\n",
    "- $$ P(A \\cap B) = \\frac{|A \\cap B|}{|A \\cup B|} $$\n",
    "\n",
    "co można przedstawić następująco w języku Python:"
   ]
  },
  {
   "cell_type": "code",
   "execution_count": 1,
   "outputs": [
    {
     "name": "stdout",
     "output_type": "stream",
     "text": [
      "Przestrzen zdarzen A: {4, 6, 7}\n",
      "Przestrzen zdarzen B: {9, 3, 6}\n",
      "Czesc wspolna zdarzen A i B: {6}\n",
      "Suma zdarzen A i B: {3, 4, 6, 7, 9}\n",
      "Prawdopodobienstwo czesci wspolnej zdarzen A i B: 0.2\n",
      "Prawdopodobienstwo zdarzenia A pod warunkiem zajscia zdarzenia B: 0.33333333333333337\n"
     ]
    }
   ],
   "source": [
    "import email\n",
    "import io\n",
    "import re\n",
    "import pandas as pd\n",
    "from collections import defaultdict\n",
    "from bs4 import BeautifulSoup\n",
    "from sklearn.metrics import accuracy_score\n",
    "from sklearn.model_selection import train_test_split\n",
    "from sklearn.naive_bayes import GaussianNB\n",
    "\n",
    "a = {4, 6, 7}\n",
    "b = {3, 6, 9}\n",
    "\n",
    "a_and_b = a & b\n",
    "a_or_b = a | b\n",
    "\n",
    "p_a_and_b = len(a_and_b) / len(a_or_b)\n",
    "p_b = len(b) / len(a_or_b)\n",
    "p_a_if_b = p_a_and_b / p_b\n",
    "\n",
    "print(f'Przestrzen zdarzen A: {a}')\n",
    "print(f'Przestrzen zdarzen B: {b}')\n",
    "print(f'Czesc wspolna zdarzen A i B: {a_and_b}')\n",
    "print(f'Suma zdarzen A i B: {a_or_b}')\n",
    "print(f'Prawdopodobienstwo czesci wspolnej zdarzen A i B: {p_a_and_b}')\n",
    "print(f'Prawdopodobienstwo zdarzenia A pod warunkiem zajscia zdarzenia B: {p_a_if_b}')\n"
   ],
   "metadata": {
    "collapsed": false,
    "pycharm": {
     "name": "#%%\n"
    }
   }
  },
  {
   "cell_type": "markdown",
   "source": [
    "## Naiwny klasyfikator bayesowski\n",
    "\n",
    "Klasyfikator probabilistyczny, oparty na założeniu o wzajemnej niezależności atrybutów systemu decyzyjnego.\n",
    "\n",
    "Wynik predykcji modelu jest prawdopodobieństwem warunkowym przynależności obiektu do klasy decyzyjnej $$ C $$ przy użyciu\n",
    "atrybutów $$ A_1, A_2, ..., A_n $$, co można zdefiniować następująco:\n",
    "\n",
    "$$ p(C | A_1, A_2, ... A_n) = \\frac{p(C) p(A_1, A_2, ..., A_n | C)}{p(A_1, A_2, ..., A_n)} $$\n",
    "\n",
    "## Przykład przydzielenia decyzji metodą Naiwnej Klasyfikacji Bayesowskiej\n",
    "\n",
    "Rozważymy przykład Naiwnej Klasyfikacji Bayesowskiej na podstawie następującego systemu decyzyjnego zawierającego słowa,\n",
    " liczby ich wystąpień w danej klasie dokumentów tekstowych oraz etykietę klasy dokumentu:\n",
    "\n",
    "| Słowo     | Liczba wystąpień | Klasa dokumentu          |\n",
    "|-----------|------------------|--------------------------|\n",
    "| witaj     | 10               | Wiadomość treściwa (ham) |\n",
    "| promocja  | 35               | Spam                     |\n",
    "| cześć     | 27               | Wiadomość treściwa (ham) |\n",
    "| spotkanie | 6                | Wiadomość treściwa (ham) |\n",
    "| oferta    | 42               | Spam                     |\n",
    "| cześć     | 12               | Spam                     |\n",
    "| witaj     | 21               | Spam                     |\n",
    "| jira      | 35               | Wiadomość treściwa (ham) |\n",
    "| projekt   | 42               | Wiadomość treściwa (ham) |\n",
    "| zakupy    | 10               | Spam                     |\n",
    "\n",
    "Rozważmy przykładowy tekst \"witaj, jak twoje zaangażowanie w projekt?\"\n",
    "\n",
    "Każdemu słowu dopasujemy warunkowe prawdopodobieństwo wystąpienia dla każdej klasy decyzyjnej.\n",
    "Pomijamy słowa krótsze niż 4 znaki.\n",
    "\n",
    "| Słowo   | Prawdopodobieństwo wystąpienia w klasie           |\n",
    "|---------|---------------------------------------------------|\n",
    "| witaj   | P(witaj\\|ham) = 10/120; P(witaj\\|spam) = 21/120   |\n",
    "| projekt | P(projekt\\|ham) = 42/120; P(projekt\\|spam) = 0    |\n",
    "\n",
    "Mając ustalone prawdopodobieństwa wystąpienia słów w poszczególnych klasach decyzyjnych możemy przejść\n",
    "do obliczenia estymaty bayesowskiej dla całego zdania wobec każdej klasy decyzyjnej, która pozwoli przydzielić decyzję.\n",
    "\n",
    "W celu wyznaczenia estymaty bayesowskiej dla danej klasy decyzyjnej obliczamy iloczyn prawdopodobieństw wystąpienia\n",
    "każdego słowa. Jeżeli dane słowo nie występuje, przydzielamy bardzo małe prawdopodobieństwo wystąpienia, np 0.00001.\n",
    "\n",
    "- $$E_{ham} = \\frac{10}{120} * 0.00001 * 0.00001 * 0.00001 * \\frac{42}{120} = 2.9166667 * 10^{-17}$$\n",
    "- $$E_{spam} = \\frac{21}{120} * 0.00001 * 0.00001 * 0.00001 * 0.00001 = 1.75 * 10^{-21}$$\n",
    "\n",
    "Estymata dla klasy wiadomości treściwych jest większa niż dla klasy spamu, zatem metodą\n",
    "Naiwnej Klasyfikacji Bayesowskiej przydzielamy decyzję, że analizowany tekst jest wiadomością treściwą.\n",
    "\n",
    "### Zadanie\n",
    "\n",
    "Przydzielić decyzję metodą Naiwnej Klasyfikacji Bayesowskiej (na podstawie powyższego systemu decyzyjnego) następującym wiadomościom:\n",
    "- \"spotkanie się przedłużyło, jak wrócę to zrobię zakupy\"\n",
    "- \"cześć john, w naszym sklepie czeka na ciebie specjalna oferta\"\n",
    "- \"kiedy dotrzemy na lotnisko?\"\n",
    "\n",
    "\n",
    "## Tokenizacja\n",
    "\n",
    "Jeden z najbardziej podstawowych etapów przetwarzania języka naturalnego, który polega na podziale\n",
    "sekwencji słów (np. zdania) na mniejsze jednostki zwane tokenami (np. słowa lub znaki).\n",
    "\n",
    "Przykładowa tokenizacja słów przy użyciu języka Python:"
   ],
   "metadata": {
    "collapsed": false,
    "pycharm": {
     "name": "#%% md\n"
    }
   }
  },
  {
   "cell_type": "code",
   "execution_count": 2,
   "outputs": [
    {
     "data": {
      "text/plain": "['Lorem',\n 'ipsum',\n 'dolor',\n 'sit',\n 'amet',\n 'consectetur',\n 'adipiscing',\n 'elit',\n 'sed',\n 'do',\n 'eiusmod',\n 'tempor',\n 'incididunt',\n 'ut',\n 'labore',\n 'et',\n 'dolore',\n 'magna',\n 'aliqua']"
     },
     "execution_count": 2,
     "metadata": {},
     "output_type": "execute_result"
    }
   ],
   "source": [
    "seq = 'Lorem ipsum dolor sit amet, consectetur adipiscing elit, sed do eiusmod tempor incididunt ut labore et dolore magna aliqua.'\n",
    "tokens_ = re.findall('\\w+', seq)\n",
    "\n",
    "tokens_"
   ],
   "metadata": {
    "collapsed": false,
    "pycharm": {
     "name": "#%%\n"
    }
   }
  },
  {
   "cell_type": "markdown",
   "source": [
    "## Budowa filtra spamu przy użyciu Naiwnego klasyfikatora bayesowskiego\n",
    "\n",
    "Jest to jeden z najbardziej typowych przykładów zastosowania Naiwnego klasyfikatora bayesowskiego.\n",
    "Do celów uczenia klasyfikatora zostanie wykorzystany zbiór maili CSDMC2010, który zawiera 4327 wiadomości, z następującym podziałem:\n",
    "- 1378: spam\n",
    "- 2949: nie spam\n",
    "\n",
    "Zbiór wiadomości znajduje się w folderze data.\n",
    "\n",
    "### Klasa EmailObject\n",
    "\n",
    "Celem klasy jest parsowanie oryginalnych wiadomości e-mail (plik *.eml) w celu wyodrębnienia tematu oraz treści.\n",
    "Te atrybuty są wystarczające w celu dokonania klasyfikacji."
   ],
   "metadata": {
    "collapsed": false,
    "pycharm": {
     "name": "#%% md\n"
    }
   }
  },
  {
   "cell_type": "code",
   "execution_count": 3,
   "outputs": [
    {
     "data": {
      "text/plain": "'Re: How to manage multiple Internet connections?'"
     },
     "execution_count": 3,
     "metadata": {},
     "output_type": "execute_result"
    }
   ],
   "source": [
    "class EmailObject:\n",
    "    def __init__(self, file, category=None):\n",
    "        self.mail = email.message_from_file(file)\n",
    "        self.category = category\n",
    "\n",
    "    def subject(self):\n",
    "        return self.mail.get('Subject')\n",
    "\n",
    "    def body(self):\n",
    "        content_type = self.mail.get_content_type()\n",
    "        body = self.mail.get_payload(decode=False)\n",
    "\n",
    "        if content_type == 'text/html':\n",
    "            return BeautifulSoup(body, 'html.parser').text\n",
    "        elif content_type == 'text/plain':\n",
    "            return body\n",
    "        else:\n",
    "            return ''\n",
    "\n",
    "\n",
    "email_obj0 = EmailObject(io.open('./data/TRAINING/TRAIN_00002.eml', 'r', encoding='latin-1'))\n",
    "\n",
    "email_obj0.subject()"
   ],
   "metadata": {
    "collapsed": false,
    "pycharm": {
     "name": "#%%\n"
    }
   }
  },
  {
   "cell_type": "markdown",
   "source": [
    "### Klasa Tokenizer\n",
    "\n",
    "Celem klasy Tokenizer jest tokenizacja tekstu znajdującego się w wiadomości e-mail."
   ],
   "metadata": {
    "collapsed": false,
    "pycharm": {
     "name": "#%% md\n"
    }
   }
  },
  {
   "cell_type": "code",
   "execution_count": 4,
   "outputs": [
    {
     "name": "stdout",
     "output_type": "stream",
     "text": [
      "Tokens: ['lorem', 'ipsum', 'dolor', 'sit', 'amet', 'consectetur', 'adipiscing', 'elit', 'sed', 'do', 'eiusmod', 'tempor', 'incididunt', 'ut', 'labore', 'et', 'dolore', 'magna', 'aliqua']\n",
      "3-grams: [('\\x00', '\\x00', 'Lorem'), ('\\x00', 'Lorem', 'ipsum'), ('Lorem', 'ipsum', 'dolor'), ('ipsum', 'dolor', 'sit'), ('dolor', 'sit', 'amet,'), ('sit', 'amet,', 'consectetur'), ('amet,', 'consectetur', 'adipiscing'), ('consectetur', 'adipiscing', 'elit,'), ('adipiscing', 'elit,', 'sed'), ('elit,', 'sed', 'do'), ('sed', 'do', 'eiusmod'), ('do', 'eiusmod', 'tempor'), ('eiusmod', 'tempor', 'incididunt'), ('tempor', 'incididunt', 'ut'), ('incididunt', 'ut', 'labore'), ('ut', 'labore', 'et'), ('labore', 'et', 'dolore'), ('et', 'dolore', 'magna'), ('dolore', 'magna', 'aliqua.')]\n"
     ]
    }
   ],
   "source": [
    "class Tokenizer:\n",
    "    NULL = u'\\u0000'\n",
    "\n",
    "    @staticmethod\n",
    "    def tokenize(txt):\n",
    "        return re.findall('\\w+', txt.lower())\n",
    "\n",
    "    @staticmethod\n",
    "    def ngram(txt, n=2):\n",
    "        s = txt.split(' ')\n",
    "        result = []\n",
    "        for i in range(1, n + 1):\n",
    "            result.append([Tokenizer.NULL] * (n - i) + s)\n",
    "        return list(zip(*result))\n",
    "\n",
    "    @staticmethod\n",
    "    def unique_tokenizer(txt):\n",
    "        tokens = Tokenizer.tokenize(txt)\n",
    "        return set(tokens)\n",
    "\n",
    "seq = 'Lorem ipsum dolor sit amet, consectetur adipiscing elit, sed do eiusmod tempor incididunt ut labore et dolore magna aliqua.'\n",
    "tokens_ = Tokenizer.tokenize(seq)\n",
    "three_grams = Tokenizer.ngram(seq, 3)\n",
    "\n",
    "print(f'Tokens: {tokens_}\\n3-grams: {three_grams}')\n"
   ],
   "metadata": {
    "collapsed": false,
    "pycharm": {
     "name": "#%%\n"
    }
   }
  },
  {
   "cell_type": "markdown",
   "source": [
    "### Klasa SpamTrainer\n",
    "\n",
    "Cele klasy są następujące:\n",
    "- uczenie modelu\n",
    "- klasyfikacja (przydzielanie decyzji)\n",
    "\n",
    "Uczenie modelu będzie polegało na przechowywaniu liczebności słów występującej w każdej klasie decyzyjnej (spam/nie spam).\n",
    "Zatem każde słowo będzie oddzielnym atrybutem w systemie treningowym."
   ],
   "metadata": {
    "collapsed": false,
    "pycharm": {
     "name": "#%% md\n"
    }
   }
  },
  {
   "cell_type": "code",
   "execution_count": 5,
   "outputs": [
    {
     "name": "stdout",
     "output_type": "stream",
     "text": [
      "Wynik klasyfikacji maila niebedacego spamem: ham\n",
      "System treningowy utworzony w klasie SpamTrainer\n"
     ]
    },
    {
     "data": {
      "text/plain": "{'ham': defaultdict(float,\n             {'r': 1.0,\n              'fuller': 1.0,\n              'never': 1.0,\n              'buckminster': 1.0,\n              'scheme': 1.0,\n              'want': 1.0,\n              'something': 1.0,\n              'all': 1.0,\n              'usa': 1.0,\n              'am': 1.0,\n              'achievable': 1.0,\n              '44': 1.0,\n              'lawrence': 1.0,\n              'wrote': 1.0,\n              'hettinga': 1.0,\n              'the': 1.0,\n              'know': 1.0,\n              'reason': 1.0,\n              'first': 1.0,\n              'our': 1.0,\n              'we': 1.0,\n              'stoical': 1.0,\n              'no': 1.0,\n              'shoes': 1.0,\n              'and': 1.0,\n              'supplying': 1.0,\n              'ask': 1.0,\n              'to': 1.0,\n              'think': 1.0,\n              'farquhar': 1.0,\n              'only': 1.0,\n              'ibuc': 1.0,\n              'problem': 1.0,\n              'finished': 1.0,\n              '02131': 1.0,\n              'at': 1.0,\n              'you': 1.0,\n              'swift': 1.0,\n              'last': 1.0,\n              's': 1.0,\n              'cutting': 1.0,\n              'a': 1.0,\n              'off': 1.0,\n              'how': 1.0,\n              'boston': 1.0,\n              'wrong': 1.0,\n              'i': 1.0,\n              'when': 1.0,\n              'working': 1.0,\n              'is': 1.0,\n              'www': 1.0,\n              'simplicity': 1.0,\n              'internet': 1.0,\n              'frederic': 1.0,\n              'rah': 1.0,\n              'it': 1.0,\n              'refuge': 1.0,\n              'like': 1.0,\n              'have': 1.0,\n              'beautiful': 1.0,\n              'highest': 1.0,\n              'myself': 1.0,\n              'do': 1.0,\n              'com': 1.0,\n              'beauty': 1.0,\n              'be': 1.0,\n              'not': 1.0,\n              'externalities': 1.0,\n              'murphy': 1.0,\n              'discover': 1.0,\n              'by': 1.0,\n              'solve': 1.0,\n              'why': 1.0,\n              'of': 1.0,\n              '3': 1.0,\n              'http': 1.0,\n              'overcome': 1.0,\n              'corporation': 1.0,\n              'friedrich': 1.0,\n              'shortly': 1.0,\n              '16': 1.0,\n              'question': 1.0,\n              'are': 1.0,\n              'street': 1.0,\n              'mailto': 1.0,\n              'if': 1.0,\n              'feet': 1.0,\n              'doesn': 1.0,\n              'that': 1.0,\n              'dirigistes': 1.0,\n              'wants': 1.0,\n              'jonathan': 1.0,\n              'difficulties': 1.0,\n              'chopin': 1.0,\n              'ma': 1.0,\n              'goal': 1.0,\n              'but': 1.0,\n              '1': 1.0,\n              'm': 1.0,\n              'desires': 1.0,\n              'lopping': 1.0,\n              'there': 1.0,\n              'seem': 1.0,\n              'on': 1.0,\n              'very': 1.0,\n              'about': 1.0,\n              '02': 1.0,\n              'bearer': 1.0,\n              'gary': 1.0,\n              'solution': 1.0,\n              'hayek': 1.0,\n              't': 1.0,\n              'john': 1.0,\n              '10': 1.0,\n              '0400': 1.0,\n              'underwriting': 1.0,\n              'cage': 1.0}),\n 'spam': defaultdict(float,\n             {'100': 1.0,\n              'and': 1.0,\n              'enhance': 1.0,\n              'to': 1.0,\n              'guaranteed': 1.0,\n              'com': 1.0,\n              'exqumloaf': 1.0,\n              'desire': 1.0,\n              'pleasure': 1.0,\n              'increase': 1.0,\n              'width': 1.0,\n              'in': 1.0,\n              'performance': 1.0,\n              'your': 1.0,\n              'http': 1.0,\n              'an': 1.0,\n              'pg': 1.0,\n              'size': 1.0,\n              'see': 1.0})}"
     },
     "execution_count": 5,
     "metadata": {},
     "output_type": "execute_result"
    }
   ],
   "source": [
    "class SpamTrainer:\n",
    "    def __init__(self, training_files):\n",
    "        self.categories = set()\n",
    "\n",
    "        for category, file in training_files:\n",
    "            self.categories.add(category)\n",
    "\n",
    "        self.totals = defaultdict(float)\n",
    "        self.training = {c: defaultdict(float)\n",
    "                         for c in self.categories}\n",
    "        self.to_train = training_files\n",
    "\n",
    "    def total_for(self, category):\n",
    "        return self.totals[category]\n",
    "\n",
    "    def train(self):\n",
    "        for category, file in self.to_train:\n",
    "            with open(file, 'r', encoding='latin-1') as f:\n",
    "                mail = EmailObject(f)\n",
    "            self.categories.add(category)\n",
    "\n",
    "            for token in Tokenizer.unique_tokenizer(mail.body()):\n",
    "                self.training[category][token] += 1\n",
    "                self.totals['_all'] += 1\n",
    "                self.totals[category] += 1\n",
    "\n",
    "        self.to_train = {}\n",
    "\n",
    "    def score(self, mail):\n",
    "        self.train()\n",
    "        cat_totals = self.totals\n",
    "\n",
    "        aggregates = {c: cat_totals[c] / cat_totals['_all']\n",
    "                      for c in self.categories}\n",
    "\n",
    "        for token in Tokenizer.unique_tokenizer(mail.body()):\n",
    "            for cat in self.categories:\n",
    "                value = self.training[cat][token]\n",
    "                r = (value + 1) / (cat_totals[cat] + 1)\n",
    "                aggregates[cat] *= r\n",
    "\n",
    "        return aggregates\n",
    "\n",
    "    def normalized_score(self, mail):\n",
    "        score = self.score(mail)\n",
    "        scoresum = sum(score.values())\n",
    "\n",
    "        normalized = {cat: (agg / scoresum)\n",
    "                      for cat, agg in score.items()}\n",
    "\n",
    "        return normalized\n",
    "\n",
    "    def preference(self):\n",
    "        return sorted(self.categories, key=lambda cat: self.total_for(cat))\n",
    "\n",
    "    class Classification:\n",
    "        def __init__(self, guess, score):\n",
    "            self.guess = guess\n",
    "            self.score = score\n",
    "\n",
    "        def __eq__(self, other):\n",
    "            return self.guess == other.guess and self.score == other.score\n",
    "\n",
    "    def classify(self, mail):\n",
    "        score = self.score(mail)\n",
    "\n",
    "        max_score = 0.0\n",
    "        preference = self.preference()\n",
    "        max_key = preference[-1]\n",
    "\n",
    "        for k, v in score.items():\n",
    "            if v > max_score:\n",
    "                max_key = k\n",
    "                max_score = v\n",
    "            elif v == max_score and preference.index(k) > preference.index(max_key):\n",
    "                max_key = k\n",
    "                max_score = v\n",
    "        return self.Classification(max_key, max_score)\n",
    "\n",
    "training_data_ = (\n",
    "    ('ham', './data/TRAINING/TRAIN_00002.eml'),\n",
    "    ('spam', './data/TRAINING/TRAIN_00000.eml'),\n",
    "    ('ham', './data/TRAINING/TRAIN_00006.eml'),\n",
    "    ('spam', './data/TRAINING/TRAIN_00003.eml')\n",
    ")\n",
    "\n",
    "spam_trainer = SpamTrainer(training_data_)\n",
    "\n",
    "\n",
    "email_obj0_classification_score = spam_trainer.classify(email_obj0)\n",
    "print(f'Wynik klasyfikacji maila niebedacego spamem: {email_obj0_classification_score.guess}')\n",
    "\n",
    "print('System treningowy utworzony w klasie SpamTrainer')\n",
    "spam_trainer.training\n"
   ],
   "metadata": {
    "collapsed": false,
    "pycharm": {
     "name": "#%%\n"
    }
   }
  },
  {
   "cell_type": "markdown",
   "source": [
    "### Walidacja modelu\n",
    "\n",
    "W celu walidacji modelu zostaną zdefiniowane 3 funkcje pomocnicze.\n",
    "\n",
    "Dodatkowo zostaną wykorzystane przygotowane podzbiory wiadomości e-mail wraz z etykietami (fold1, fold2).\n",
    "Każdy z nich może być odpowiednikiem systemu treningowego i systemu testowego - są podzielone w stosunku 50%:50%.\n",
    "\n",
    "W celu dokładniejszej walidacji modelu zostaną użyte dodatkowe miary wydajności klasyfikacji binarnej:\n",
    "- FPR (False Positive Rate), odsetek obiektów, które zostały falszywie sklasyfikowane jako pozytywne: $$FPR = \\frac{|False Positives|}{|total|}$$\n",
    "- FNR (False Negative Rate), odsetek obiektów, które zostały falszywie sklasyfikowane jako negatywne: $$FNR = \\frac{|False Negatives|}{|total|}$$"
   ],
   "metadata": {
    "collapsed": false,
    "pycharm": {
     "name": "#%% md\n"
    }
   }
  },
  {
   "cell_type": "code",
   "execution_count": 6,
   "outputs": [
    {
     "name": "stdout",
     "output_type": "stream",
     "text": [
      "FPR: 0.0018484288354898336, FNR: 0.20841035120147874, error: 0.21025878003696857, accuracy: 0.7897412199630314\n"
     ]
    }
   ],
   "source": [
    "def label_to_training_data(fold_file):\n",
    "    \"\"\"\n",
    "    Funkcja zwraca wytrenowany model na wyznaczonym podzbiorze wiadomosci\n",
    "    \"\"\"\n",
    "\n",
    "    training_data = []\n",
    "\n",
    "    with open(fold_file, 'r') as f:\n",
    "        for line in f:\n",
    "            target, filepath = line.rstrip().split(' ')\n",
    "            training_data.append([target, filepath])\n",
    "\n",
    "    return SpamTrainer(training_data)\n",
    "\n",
    "\n",
    "def parse_emails(keyfile):\n",
    "    \"\"\"\n",
    "    Funkcja zwraca wyznaczony podzbior wiadomosci w postaci obiektow klasy EmailObject\n",
    "    \"\"\"\n",
    "\n",
    "    emails = []\n",
    "\n",
    "    with open(keyfile, 'r') as f:\n",
    "        for line in f:\n",
    "            label, file = line.rstrip().split(' ')\n",
    "\n",
    "            with open(file, 'r', encoding='latin-1') as labelfile:\n",
    "                emails.append(EmailObject(labelfile, category=label))\n",
    "\n",
    "    return emails\n",
    "\n",
    "\n",
    "def validate(trainer, set_of_emails):\n",
    "    \"\"\"\n",
    "    Funkcja dokonuje walidacji wytrenowanego modelu (trainer)\n",
    "    na podstawie zbioru oznaczonych wiadomosci (set_of_emails)\n",
    "    \"\"\"\n",
    "\n",
    "    correct = 0\n",
    "    false_positives = 0.0\n",
    "    false_negatives = 0.0\n",
    "    confidence = 0.0\n",
    "\n",
    "    for mail in set_of_emails:\n",
    "        classification = trainer.classify(mail)\n",
    "        confidence += classification.score\n",
    "\n",
    "        if classification.guess == 'spam' and mail.category == 'ham':\n",
    "            false_positives += 1\n",
    "        elif classification.guess == 'ham' and mail.category == 'spam':\n",
    "            false_negatives += 1\n",
    "        else:\n",
    "            correct += 1\n",
    "\n",
    "    total = false_positives + false_negatives + correct\n",
    "\n",
    "    false_positive_rate = false_positives / total\n",
    "    false_negative_rate = false_negatives / total\n",
    "    error = (false_positives + false_negatives) / total\n",
    "\n",
    "    return false_positive_rate, false_negative_rate, error\n",
    "\n",
    "\n",
    "trainer = label_to_training_data('data/fold2.label')\n",
    "emails = parse_emails('data/fold1.label')\n",
    "fpr, fnr, err = validate(trainer, emails)\n",
    "\n",
    "print(f'FPR: {fpr}, FNR: {fnr}, error: {err}, accuracy: {1 - err}')"
   ],
   "metadata": {
    "collapsed": false,
    "pycharm": {
     "name": "#%%\n"
    }
   }
  },
  {
   "cell_type": "markdown",
   "source": [
    "Zadania:\n",
    "\n",
    "1. Sprawdzić powyższe parametry klasyfikacji dla następujących podziałów wiadomości e-mail:\n",
    "    - 55% system treningowy i 45% system testowy\n",
    "    - 60% system treningowy i 40% system testowy\n",
    "    - 65% system treningowy i 35% system testowy\n",
    "    - 70% system treningowy i 30% system testowy\n",
    "    - 75% system treningowy i 25% system testowy\n",
    "    - 80% system treningowy i 20% system testowy\n",
    "Dodatkowo, przy każdym podziale pomieszać kolejność wiadomości, zachowując jednocześnie przypisanie etykiet.\n",
    "W tym celu należy przygotować odpowiedni skrypt tworzący pliki analogiczne do data/fold1.label i data/fold2.label\n",
    "\n",
    "2. Sprawdzić działanie modelu na zbiorze maili SpamAssasin: https://spamassassin.apache.org/old/publiccorpus/\n",
    "Wykorzystać 2 dowolne klasy decyzyjne.\n",
    "\n",
    "3. Zaimplementować funkcjonalność walidacji krzyżowej w celu dokładnego zweryfikowania parametrów klasyfikacji.\n",
    "Walidacja krzyżowa polega na podziale systemu treningowego na k fragmentów, gdzie k-1 fragmentów służy jako nowy system\n",
    "treningowy, a pozostała część służy jako system testowy przeznaczony do oceny parametrów klasyfikacji modelu.\n",
    "Cała operacja jest powtarzana k-krotnie, gdzie każdy z pierwotnie wyznaczonych k fragmentów musi zostać użyty\n",
    "jako system treningowy dokładnie jeden raz. Końcowy wynik walidacji krzyżowej to uśrednione parametry klasyfikacji\n",
    "ze wszystkich k iteracji wraz z odchyleniami standardowymi. Przykład dla 100 obiektów treningowych, gdzie k=5. System treningowy zostaje podzielony na\n",
    "5 fragmentów (1, 2, 3, 4, 5), gdzie każdy liczy 20 obiektów. Dokonujemy 5 iteracji:\n",
    "    - iteracja 1: system treningowy tworzą fragmenty 2, 3, 4, 5; system testowy tworzy fragment 1; dokładność klasyfikacji wynosi 80%\n",
    "    - iteracja 2: system treningowy tworzą fragmenty 1, 3, 4, 5; system testowy tworzy fragment 2; dokładność klasyfikacji wynosi 85%\n",
    "    - iteracja 3: system treningowy tworzą fragmenty 1, 2, 4, 5; system testowy tworzy fragment 3; dokładność klasyfikacji wynosi 91%\n",
    "    - iteracja 4: system treningowy tworzą fragmenty 1, 2, 3, 5; system testowy tworzy fragment 4; dokładność klasyfikacji wynosi 87%\n",
    "    - iteracja 5: system treningowy tworzą fragmenty 1, 2, 3, 4; system testowy tworzy fragment 5; dokładność klasyfikacji wynosi 90%\n",
    "Wynik końcowy to uśredniony wynik parametrów ze wszystkich iteracji, zatem dokładność końcowa wynosi 86.6%, przy odchyleniu standardowym 3.93\n",
    "\n",
    "\n",
    "## Klasyfikator bayesowski w pakiecie scikit-learn\n",
    "\n",
    "Scikit-learn to jedna z najpopularniejszych bibliotek zawierających zaimplementowane klasyfikatory i regresory oraz popularne systemy decyzyjne.\n",
    "\n",
    "### Przykład naiwnej klasyfikacji bayesowskiej przy użyciu biblioteki scikit-learn:\n",
    "\n",
    "#### Wczytanie systemu decyzyjnego"
   ],
   "metadata": {
    "collapsed": false,
    "pycharm": {
     "name": "#%% md\n"
    }
   }
  },
  {
   "cell_type": "code",
   "execution_count": 7,
   "outputs": [
    {
     "data": {
      "text/plain": "   glucose  bloodpressure  diabetes\n0       40             85         0\n1       40             92         0\n2       45             63         1\n3       45             80         0\n4       40             73         1",
      "text/html": "<div>\n<style scoped>\n    .dataframe tbody tr th:only-of-type {\n        vertical-align: middle;\n    }\n\n    .dataframe tbody tr th {\n        vertical-align: top;\n    }\n\n    .dataframe thead th {\n        text-align: right;\n    }\n</style>\n<table border=\"1\" class=\"dataframe\">\n  <thead>\n    <tr style=\"text-align: right;\">\n      <th></th>\n      <th>glucose</th>\n      <th>bloodpressure</th>\n      <th>diabetes</th>\n    </tr>\n  </thead>\n  <tbody>\n    <tr>\n      <th>0</th>\n      <td>40</td>\n      <td>85</td>\n      <td>0</td>\n    </tr>\n    <tr>\n      <th>1</th>\n      <td>40</td>\n      <td>92</td>\n      <td>0</td>\n    </tr>\n    <tr>\n      <th>2</th>\n      <td>45</td>\n      <td>63</td>\n      <td>1</td>\n    </tr>\n    <tr>\n      <th>3</th>\n      <td>45</td>\n      <td>80</td>\n      <td>0</td>\n    </tr>\n    <tr>\n      <th>4</th>\n      <td>40</td>\n      <td>73</td>\n      <td>1</td>\n    </tr>\n  </tbody>\n</table>\n</div>"
     },
     "execution_count": 7,
     "metadata": {},
     "output_type": "execute_result"
    }
   ],
   "source": [
    "df = pd.read_csv('data/data-bayes.csv')\n",
    "\n",
    "df.head()"
   ],
   "metadata": {
    "collapsed": false,
    "pycharm": {
     "name": "#%%\n"
    }
   }
  },
  {
   "cell_type": "markdown",
   "source": [
    "#### Przygotowanie systemu decyzyjnego do klasyfikacji\n",
    "\n",
    "Podział na atrybuty wejściowe (X) i decyzyjny (y) oraz na system treningowy i testowy w stosunku 75%:25%"
   ],
   "metadata": {
    "collapsed": false,
    "pycharm": {
     "name": "#%% md\n"
    }
   }
  },
  {
   "cell_type": "code",
   "execution_count": 8,
   "outputs": [],
   "source": [
    "X = df.drop('diabetes', axis=1)\n",
    "y = df['diabetes']\n",
    "X_train, X_test, y_train, y_test = train_test_split(X, y, test_size=.25)"
   ],
   "metadata": {
    "collapsed": false,
    "pycharm": {
     "name": "#%%\n"
    }
   }
  },
  {
   "cell_type": "code",
   "execution_count": 9,
   "outputs": [
    {
     "data": {
      "text/plain": "     glucose  bloodpressure\n639       45             83\n37        40             65\n346       50             85",
      "text/html": "<div>\n<style scoped>\n    .dataframe tbody tr th:only-of-type {\n        vertical-align: middle;\n    }\n\n    .dataframe tbody tr th {\n        vertical-align: top;\n    }\n\n    .dataframe thead th {\n        text-align: right;\n    }\n</style>\n<table border=\"1\" class=\"dataframe\">\n  <thead>\n    <tr style=\"text-align: right;\">\n      <th></th>\n      <th>glucose</th>\n      <th>bloodpressure</th>\n    </tr>\n  </thead>\n  <tbody>\n    <tr>\n      <th>639</th>\n      <td>45</td>\n      <td>83</td>\n    </tr>\n    <tr>\n      <th>37</th>\n      <td>40</td>\n      <td>65</td>\n    </tr>\n    <tr>\n      <th>346</th>\n      <td>50</td>\n      <td>85</td>\n    </tr>\n  </tbody>\n</table>\n</div>"
     },
     "execution_count": 9,
     "metadata": {},
     "output_type": "execute_result"
    }
   ],
   "source": [
    "X_train.head(n=3)"
   ],
   "metadata": {
    "collapsed": false,
    "pycharm": {
     "name": "#%%\n"
    }
   }
  },
  {
   "cell_type": "code",
   "execution_count": 10,
   "outputs": [
    {
     "data": {
      "text/plain": "594    1\n64     0\n207    0\nName: diabetes, dtype: int64"
     },
     "execution_count": 10,
     "metadata": {},
     "output_type": "execute_result"
    }
   ],
   "source": [
    "y_test.head(n=3)"
   ],
   "metadata": {
    "collapsed": false,
    "pycharm": {
     "name": "#%%\n"
    }
   }
  },
  {
   "cell_type": "markdown",
   "source": [
    "#### Utworzenie modelu i uczenie"
   ],
   "metadata": {
    "collapsed": false,
    "pycharm": {
     "name": "#%% md\n"
    }
   }
  },
  {
   "cell_type": "code",
   "execution_count": 11,
   "outputs": [
    {
     "data": {
      "text/plain": "GaussianNB()"
     },
     "execution_count": 11,
     "metadata": {},
     "output_type": "execute_result"
    }
   ],
   "source": [
    "model = GaussianNB()\n",
    "model.fit(X_train, y_train)"
   ],
   "metadata": {
    "collapsed": false,
    "pycharm": {
     "name": "#%%\n"
    }
   }
  },
  {
   "cell_type": "markdown",
   "source": [
    "#### Walidacja dokładności wytrenowanego modelu"
   ],
   "metadata": {
    "collapsed": false,
    "pycharm": {
     "name": "#%% md\n"
    }
   }
  },
  {
   "cell_type": "code",
   "execution_count": 12,
   "outputs": [
    {
     "name": "stdout",
     "output_type": "stream",
     "text": [
      "Dokladnosc wytrenowanego modelu: 94.77911646586345%\n"
     ]
    }
   ],
   "source": [
    "y_pred = model.predict(X_test)\n",
    "acc = accuracy_score(y_test, y_pred) * 100\n",
    "\n",
    "print(f'Dokladnosc wytrenowanego modelu: {acc}%')\n"
   ],
   "metadata": {
    "collapsed": false,
    "pycharm": {
     "name": "#%%\n"
    }
   }
  },
  {
   "cell_type": "markdown",
   "source": [
    "#### Predykcja klasy decyzyjnej obiektu"
   ],
   "metadata": {
    "collapsed": false,
    "pycharm": {
     "name": "#%% md\n"
    }
   }
  },
  {
   "cell_type": "code",
   "execution_count": 13,
   "outputs": [
    {
     "name": "stdout",
     "output_type": "stream",
     "text": [
      "Przydzielona decyzja: 1, oryginalna decyzja: 1\n"
     ]
    }
   ],
   "source": [
    "id_ = 10\n",
    "\n",
    "pred = model.predict([X_test.iloc[id_].tolist()])\n",
    "original_decision = y_test.iloc[id_]\n",
    "\n",
    "print(f'Przydzielona decyzja: {pred[0]}, oryginalna decyzja: {original_decision}')"
   ],
   "metadata": {
    "collapsed": false,
    "pycharm": {
     "name": "#%%\n"
    }
   }
  },
  {
   "cell_type": "markdown",
   "source": [
    "### Zadania\n",
    "\n",
    "1. Korzystając ze źródła http://archive.ics.uci.edu/ml/datasets.php wybrać jeden system decyzyjny, a następnie dokonać\n",
    "klasyfikacji metodą Naiwnej Klasyfikacji Bayesowskiej dowolnego atrybutu decyzyjnego. Wykorzystując rozwiązania zadań z regresji i klasyfikacji KNN,\n",
    "sprawdzić wyniki na następujących podziałach systemów decyzyjnych:\n",
    "    - 55% system treningowy i 45% system testowy\n",
    "    - 60% system treningowy i 40% system testowy\n",
    "    - 65% system treningowy i 35% system testowy\n",
    "    - 70% system treningowy i 30% system testowy\n",
    "    - 75% system treningowy i 25% system testowy\n",
    "\n",
    "2. Porównać wyniki uzyskane w zadaniu 1 z klasyfikatorem KNN\n"
   ],
   "metadata": {
    "collapsed": false,
    "pycharm": {
     "name": "#%% md\n"
    }
   }
  }
 ],
 "metadata": {
  "kernelspec": {
   "display_name": "Python 3",
   "language": "python",
   "name": "python3"
  },
  "language_info": {
   "codemirror_mode": {
    "name": "ipython",
    "version": 2
   },
   "file_extension": ".py",
   "mimetype": "text/x-python",
   "name": "python",
   "nbconvert_exporter": "python",
   "pygments_lexer": "ipython2",
   "version": "2.7.6"
  }
 },
 "nbformat": 4,
 "nbformat_minor": 0
}