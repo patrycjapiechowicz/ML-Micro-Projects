{
 "cells": [
  {
   "cell_type": "markdown",
   "metadata": {
    "collapsed": true,
    "pycharm": {
     "name": "#%% md\n"
    }
   },
   "source": [
    "# Lab 2 - Naiwna klasyfikacja bayesowska i przetwarzanie języka naturalnego (NLP)\n",
    "\n",
    "## Prawdopodobieństwo warunkowe\n",
    "\n",
    "Prawdopodobieństwo warunkowe to wartość określająca szansę wystąpienia zdarzenia losowego A pod warunkiem\n",
    "wystąpienia zdarzenia losowego B:\n",
    "\n",
    "$$ P(A | B) = \\frac{P(A \\cap B)}{P(B)} $$\n",
    "\n",
    "gdzie:\n",
    "- $$ P(B) $$ oznacza prawdopodobieństwo wystąpienie zdarzenia losowego B\n",
    "- $$ A \\cap B $$ oznacza część wspólną zdarzeń losowych A i B\n",
    "- $$ P(A \\cap B) = \\frac{|A \\cap B|}{|A \\cup B|} $$\n",
    "\n",
    "co można przedstawić następująco w języku Python:"
   ]
  },
  {
   "cell_type": "code",
   "execution_count": null,
   "metadata": {
    "pycharm": {
     "name": "#%%\n"
    }
   },
   "outputs": [],
   "source": [
    "import email\n",
    "import io\n",
    "import re\n",
    "import pandas as pd\n",
    "from collections import defaultdict\n",
    "from bs4 import BeautifulSoup\n",
    "from sklearn.metrics import accuracy_score\n",
    "from sklearn.model_selection import train_test_split\n",
    "from sklearn.naive_bayes import GaussianNB\n",
    "\n",
    "a = {4, 6, 7}\n",
    "b = {3, 6, 9}\n",
    "\n",
    "a_and_b = a & b\n",
    "a_or_b = a | b\n",
    "\n",
    "p_a_and_b = len(a_and_b) / len(a_or_b)\n",
    "p_b = len(b) / len(a_or_b)\n",
    "p_a_if_b = p_a_and_b / p_b\n",
    "\n",
    "print(f'Przestrzen zdarzen A: {a}')\n",
    "print(f'Przestrzen zdarzen B: {b}')\n",
    "print(f'Czesc wspolna zdarzen A i B: {a_and_b}')\n",
    "print(f'Suma zdarzen A i B: {a_or_b}')\n",
    "print(f'Prawdopodobienstwo czesci wspolnej zdarzen A i B: {p_a_and_b}')\n",
    "print(f'Prawdopodobienstwo zdarzenia A pod warunkiem zajscia zdarzenia B: {p_a_if_b}')\n"
   ]
  },
  {
   "cell_type": "markdown",
   "metadata": {
    "pycharm": {
     "name": "#%% md\n"
    }
   },
   "source": [
    "## Naiwny klasyfikator bayesowski\n",
    "\n",
    "Klasyfikator probabilistyczny, oparty na założeniu o wzajemnej niezależności atrybutów systemu decyzyjnego.\n",
    "\n",
    "Wynik predykcji modelu jest prawdopodobieństwem warunkowym przynależności obiektu do klasy decyzyjnej $$ C $$ przy użyciu\n",
    "atrybutów $$ A_1, A_2, ..., A_n $$, co można zdefiniować następująco:\n",
    "\n",
    "$$ p(C | A_1, A_2, ... A_n) = \\frac{p(C) p(A_1, A_2, ..., A_n | C)}{p(A_1, A_2, ..., A_n)} $$\n",
    "\n",
    "## Przykład przydzielenia decyzji metodą Naiwnej Klasyfikacji Bayesowskiej\n",
    "\n",
    "Rozważymy przykład Naiwnej Klasyfikacji Bayesowskiej na podstawie następującego systemu decyzyjnego zawierającego słowa,\n",
    " liczby ich wystąpień w danej klasie dokumentów tekstowych oraz etykietę klasy dokumentu:\n",
    "\n",
    "| Słowo     | Liczba wystąpień | Klasa dokumentu          |\n",
    "|-----------|------------------|--------------------------|\n",
    "| witaj     | 10               | Wiadomość treściwa (ham) |\n",
    "| promocja  | 35               | Spam                     |\n",
    "| cześć     | 27               | Wiadomość treściwa (ham) |\n",
    "| spotkanie | 6                | Wiadomość treściwa (ham) |\n",
    "| oferta    | 42               | Spam                     |\n",
    "| cześć     | 12               | Spam                     |\n",
    "| witaj     | 21               | Spam                     |\n",
    "| jira      | 35               | Wiadomość treściwa (ham) |\n",
    "| projekt   | 42               | Wiadomość treściwa (ham) |\n",
    "| zakupy    | 10               | Spam                     |\n",
    "\n",
    "Rozważmy przykładowy tekst \"witaj, jak twoje zaangażowanie w projekt?\"\n",
    "\n",
    "Każdemu słowu dopasujemy warunkowe prawdopodobieństwo wystąpienia dla każdej klasy decyzyjnej.\n",
    "Pomijamy słowa krótsze niż 4 znaki.\n",
    "\n",
    "| Słowo   | Prawdopodobieństwo wystąpienia w klasie           |\n",
    "|---------|---------------------------------------------------|\n",
    "| witaj   | P(witaj\\|ham) = 10/120; P(witaj\\|spam) = 21/120   |\n",
    "| projekt | P(projekt\\|ham) = 42/120; P(projekt\\|spam) = 0    |\n",
    "\n",
    "Mając ustalone prawdopodobieństwa wystąpienia słów w poszczególnych klasach decyzyjnych możemy przejść\n",
    "do obliczenia estymaty bayesowskiej dla całego zdania wobec każdej klasy decyzyjnej, która pozwoli przydzielić decyzję.\n",
    "\n",
    "W celu wyznaczenia estymaty bayesowskiej dla danej klasy decyzyjnej obliczamy iloczyn prawdopodobieństw wystąpienia\n",
    "każdego słowa. Jeżeli dane słowo nie występuje, przydzielamy bardzo małe prawdopodobieństwo wystąpienia, np 0.00001.\n",
    "\n",
    "- $$E_{ham} = \\frac{10}{120} * 0.00001 * 0.00001 * 0.00001 * \\frac{42}{120} = 2.9166667 * 10^{-17}$$\n",
    "- $$E_{spam} = \\frac{21}{120} * 0.00001 * 0.00001 * 0.00001 * 0.00001 = 1.75 * 10^{-21}$$\n",
    "\n",
    "Estymata dla klasy wiadomości treściwych jest większa niż dla klasy spamu, zatem metodą\n",
    "Naiwnej Klasyfikacji Bayesowskiej przydzielamy decyzję, że analizowany tekst jest wiadomością treściwą.\n",
    "\n",
    "### Zadanie\n",
    "\n",
    "Przydzielić decyzję metodą Naiwnej Klasyfikacji Bayesowskiej (na podstawie powyższego systemu decyzyjnego) następującym wiadomościom:\n",
    "- \"spotkanie się przedłużyło, jak wrócę to zrobię zakupy\"\n",
    "- \"cześć john, w naszym sklepie czeka na ciebie specjalna oferta\"\n",
    "- \"kiedy dotrzemy na lotnisko?\"\n",
    "\n",
    "\n",
    "## Tokenizacja\n",
    "\n",
    "Jeden z najbardziej podstawowych etapów przetwarzania języka naturalnego, który polega na podziale\n",
    "sekwencji słów (np. zdania) na mniejsze jednostki zwane tokenami (np. słowa lub znaki).\n",
    "\n",
    "Przykładowa tokenizacja słów przy użyciu języka Python:"
   ]
  },
  {
   "cell_type": "code",
   "execution_count": null,
   "metadata": {
    "pycharm": {
     "name": "#%%\n"
    }
   },
   "outputs": [],
   "source": [
    "seq = 'Lorem ipsum dolor sit amet, consectetur adipiscing elit, sed do eiusmod tempor incididunt ut labore et dolore magna aliqua.'\n",
    "tokens_ = re.findall('\\w+', seq)\n",
    "\n",
    "tokens_"
   ]
  },
  {
   "cell_type": "markdown",
   "metadata": {
    "pycharm": {
     "name": "#%% md\n"
    }
   },
   "source": [
    "## Budowa filtra spamu przy użyciu Naiwnego klasyfikatora bayesowskiego\n",
    "\n",
    "Jest to jeden z najbardziej typowych przykładów zastosowania Naiwnego klasyfikatora bayesowskiego.\n",
    "Do celów uczenia klasyfikatora zostanie wykorzystany zbiór maili CSDMC2010, który zawiera 4327 wiadomości, z następującym podziałem:\n",
    "- 1378: spam\n",
    "- 2949: nie spam\n",
    "\n",
    "Zbiór wiadomości znajduje się w folderze data.\n",
    "\n",
    "### Klasa EmailObject\n",
    "\n",
    "Celem klasy jest parsowanie oryginalnych wiadomości e-mail (plik *.eml) w celu wyodrębnienia tematu oraz treści.\n",
    "Te atrybuty są wystarczające w celu dokonania klasyfikacji."
   ]
  },
  {
   "cell_type": "code",
   "execution_count": null,
   "metadata": {
    "pycharm": {
     "name": "#%%\n"
    }
   },
   "outputs": [],
   "source": [
    "class EmailObject:\n",
    "    def __init__(self, file, category=None):\n",
    "        self.mail = email.message_from_file(file)\n",
    "        self.category = category\n",
    "\n",
    "    def subject(self):\n",
    "        return self.mail.get('Subject')\n",
    "\n",
    "    def body(self):\n",
    "        content_type = self.mail.get_content_type()\n",
    "        body = self.mail.get_payload(decode=False)\n",
    "\n",
    "        if content_type == 'text/html':\n",
    "            return BeautifulSoup(body, 'html.parser').text\n",
    "        elif content_type == 'text/plain':\n",
    "            return body\n",
    "        else:\n",
    "            return ''\n",
    "\n",
    "\n",
    "email_obj0 = EmailObject(io.open('./data/TRAINING/TRAIN_00018.eml', 'r', encoding='latin-1'))\n",
    "\n",
    "email_obj0.subject()"
   ]
  },
  {
   "cell_type": "markdown",
   "metadata": {
    "pycharm": {
     "name": "#%% md\n"
    }
   },
   "source": [
    "### Klasa Tokenizer\n",
    "\n",
    "Celem klasy Tokenizer jest tokenizacja tekstu znajdującego się w wiadomości e-mail."
   ]
  },
  {
   "cell_type": "code",
   "execution_count": null,
   "metadata": {
    "pycharm": {
     "name": "#%%\n"
    }
   },
   "outputs": [],
   "source": [
    "class Tokenizer:\n",
    "    NULL = u'\\u0000'\n",
    "\n",
    "    @staticmethod\n",
    "    def tokenize(txt):\n",
    "        return re.findall('\\w+', txt.lower())\n",
    "\n",
    "    @staticmethod\n",
    "    def ngram(txt, n=2):\n",
    "        s = txt.split(' ')\n",
    "        result = []\n",
    "        for i in range(1, n + 1):\n",
    "            result.append([Tokenizer.NULL] * (n - i) + s)\n",
    "        return list(zip(*result))\n",
    "\n",
    "    @staticmethod\n",
    "    def unique_tokenizer(txt):\n",
    "        tokens = Tokenizer.tokenize(txt)\n",
    "        return set(tokens)\n",
    "\n",
    "seq = 'Lorem ipsum dolor sit amet, consectetur adipiscing elit, sed do eiusmod tempor incididunt ut labore et dolore magna aliqua.'\n",
    "tokens_ = Tokenizer.tokenize(seq)\n",
    "three_grams = Tokenizer.ngram(seq, 3)\n",
    "\n",
    "print(f'Tokens: {tokens_}\\n3-grams: {three_grams}')\n"
   ]
  },
  {
   "cell_type": "markdown",
   "metadata": {
    "pycharm": {
     "name": "#%% md\n"
    }
   },
   "source": [
    "### Klasa SpamTrainer\n",
    "\n",
    "Cele klasy są następujące:\n",
    "- uczenie modelu\n",
    "- klasyfikacja (przydzielanie decyzji)\n",
    "\n",
    "Uczenie modelu będzie polegało na przechowywaniu liczebności słów występującej w każdej klasie decyzyjnej (spam/nie spam).\n",
    "Zatem każde słowo będzie oddzielnym atrybutem w systemie treningowym."
   ]
  },
  {
   "cell_type": "code",
   "execution_count": null,
   "metadata": {
    "pycharm": {
     "name": "#%%\n"
    }
   },
   "outputs": [],
   "source": [
    "class SpamTrainer:\n",
    "    def __init__(self, training_files):\n",
    "        self.categories = set()\n",
    "\n",
    "        for category, file in training_files:\n",
    "            self.categories.add(category)\n",
    "\n",
    "        self.totals = defaultdict(float)\n",
    "        self.training = {c: defaultdict(float)\n",
    "                         for c in self.categories}\n",
    "        self.to_train = training_files\n",
    "\n",
    "    def total_for(self, category):\n",
    "        return self.totals[category]\n",
    "\n",
    "    def train(self):\n",
    "        for category, file in self.to_train:\n",
    "            with open(file, 'r', encoding='latin-1') as f:\n",
    "                mail = EmailObject(f)\n",
    "            self.categories.add(category)\n",
    "\n",
    "            for token in Tokenizer.unique_tokenizer(mail.body()):\n",
    "                self.training[category][token] += 1\n",
    "                self.totals['_all'] += 1\n",
    "                self.totals[category] += 1\n",
    "\n",
    "        self.to_train = {}\n",
    "\n",
    "    def score(self, mail):\n",
    "        self.train()\n",
    "        cat_totals = self.totals\n",
    "\n",
    "        aggregates = {c: cat_totals[c] / cat_totals['_all']\n",
    "                      for c in self.categories}\n",
    "\n",
    "        for token in Tokenizer.unique_tokenizer(mail.body()):\n",
    "            for cat in self.categories:\n",
    "                value = self.training[cat][token]\n",
    "                r = (value + 1) / (cat_totals[cat] + 1)\n",
    "                aggregates[cat] *= r\n",
    "\n",
    "        return aggregates\n",
    "\n",
    "    def normalized_score(self, mail):\n",
    "        score = self.score(mail)\n",
    "        scoresum = sum(score.values())\n",
    "\n",
    "        normalized = {cat: (agg / scoresum)\n",
    "                      for cat, agg in score.items()}\n",
    "\n",
    "        return normalized\n",
    "\n",
    "    def preference(self):\n",
    "        return sorted(self.categories, key=lambda cat: self.total_for(cat))\n",
    "\n",
    "    class Classification:\n",
    "        def __init__(self, guess, score):\n",
    "            self.guess = guess\n",
    "            self.score = score\n",
    "\n",
    "        def __eq__(self, other):\n",
    "            return self.guess == other.guess and self.score == other.score\n",
    "\n",
    "    def classify(self, mail):\n",
    "        score = self.score(mail)\n",
    "\n",
    "        max_score = 0.0\n",
    "        preference = self.preference()\n",
    "        max_key = preference[-1]\n",
    "\n",
    "        for k, v in score.items():\n",
    "            if v > max_score:\n",
    "                max_key = k\n",
    "                max_score = v\n",
    "            elif v == max_score and preference.index(k) > preference.index(max_key):\n",
    "                max_key = k\n",
    "                max_score = v\n",
    "        return self.Classification(max_key, max_score)\n",
    "\n",
    "training_data_ = (\n",
    "    ('ham', './data/TRAINING/TRAIN_00002.eml'),\n",
    "    ('spam', './data/TRAINING/TRAIN_00000.eml'),\n",
    "    ('ham', './data/TRAINING/TRAIN_00006.eml'),\n",
    "    ('spam', './data/TRAINING/TRAIN_00003.eml'),\n",
    "    ('ham', './data/TRAINING/TRAIN_00034.eml')\n",
    ")\n",
    "\n",
    "spam_trainer = SpamTrainer(training_data_)\n",
    "\n",
    "\n",
    "email_obj0_classification_score = spam_trainer.classify(email_obj0)\n",
    "print(f'Wynik klasyfikacji maila niebedacego spamem: {email_obj0_classification_score.guess}')\n",
    "\n",
    "print('System treningowy utworzony w klasie SpamTrainer')\n",
    "spam_trainer.training\n"
   ]
  },
  {
   "cell_type": "markdown",
   "metadata": {
    "pycharm": {
     "name": "#%% md\n"
    }
   },
   "source": [
    "### Walidacja modelu\n",
    "\n",
    "W celu walidacji modelu zostaną zdefiniowane 3 funkcje pomocnicze.\n",
    "\n",
    "Dodatkowo zostaną wykorzystane przygotowane podzbiory wiadomości e-mail wraz z etykietami (fold1, fold2).\n",
    "Każdy z nich może być odpowiednikiem systemu treningowego i systemu testowego - są podzielone w stosunku 50%:50%.\n",
    "\n",
    "W celu dokładniejszej walidacji modelu zostaną użyte dodatkowe miary wydajności klasyfikacji binarnej:\n",
    "- FPR (False Positive Rate), odsetek obiektów, które zostały falszywie sklasyfikowane jako pozytywne: $$FPR = \\frac{|False Positives|}{|total|}$$\n",
    "- FNR (False Negative Rate), odsetek obiektów, które zostały falszywie sklasyfikowane jako negatywne: $$FNR = \\frac{|False Negatives|}{|total|}$$"
   ]
  },
  {
   "cell_type": "code",
   "execution_count": null,
   "metadata": {
    "pycharm": {
     "name": "#%%\n"
    }
   },
   "outputs": [],
   "source": [
    "def label_to_training_data(fold_file):\n",
    "    \"\"\"\n",
    "    Funkcja zwraca wytrenowany model na wyznaczonym podzbiorze wiadomosci\n",
    "    \"\"\"\n",
    "\n",
    "    training_data = []\n",
    "\n",
    "    with open(fold_file, 'r') as f:\n",
    "        for line in f:\n",
    "            target, filepath = line.rstrip().split(' ')\n",
    "            training_data.append([target, filepath])\n",
    "\n",
    "    return SpamTrainer(training_data)\n",
    "\n",
    "\n",
    "def parse_emails(keyfile):\n",
    "    \"\"\"\n",
    "    Funkcja zwraca wyznaczony podzbior wiadomosci w postaci obiektow klasy EmailObject\n",
    "    \"\"\"\n",
    "\n",
    "    emails = []\n",
    "\n",
    "    with open(keyfile, 'r') as f:\n",
    "        for line in f:\n",
    "            label, file = line.rstrip().split(' ')\n",
    "\n",
    "            with open(file, 'r', encoding='latin-1') as labelfile:\n",
    "                emails.append(EmailObject(labelfile, category=label))\n",
    "\n",
    "    return emails\n",
    "\n",
    "\n",
    "def validate(trainer, set_of_emails):\n",
    "    \"\"\"\n",
    "    Funkcja dokonuje walidacji wytrenowanego modelu (trainer)\n",
    "    na podstawie zbioru oznaczonych wiadomosci (set_of_emails)\n",
    "    \"\"\"\n",
    "\n",
    "    correct = 0\n",
    "    false_positives = 0.0\n",
    "    false_negatives = 0.0\n",
    "    confidence = 0.0\n",
    "\n",
    "    for mail in set_of_emails:\n",
    "        classification = trainer.classify(mail)\n",
    "        confidence += classification.score\n",
    "\n",
    "        if classification.guess == 'spam' and mail.category == 'ham':\n",
    "            false_positives += 1\n",
    "        elif classification.guess == 'ham' and mail.category == 'spam':\n",
    "            false_negatives += 1\n",
    "        else:\n",
    "            correct += 1\n",
    "\n",
    "    total = false_positives + false_negatives + correct\n",
    "\n",
    "    false_positive_rate = false_positives / total\n",
    "    false_negative_rate = false_negatives / total\n",
    "    error = (false_positives + false_negatives) / total\n",
    "\n",
    "    return false_positive_rate, false_negative_rate, error\n",
    "\n",
    "\n",
    "trainer = label_to_training_data('data/fold2.label')\n",
    "emails = parse_emails('data/fold1.label')\n",
    "fpr, fnr, err = validate(trainer, emails)\n",
    "\n",
    "print(f'FPR: {fpr}, FNR: {fnr}, error: {err}, accuracy: {1 - err}')"
   ]
  },
  {
   "cell_type": "code",
   "execution_count": null,
   "metadata": {},
   "outputs": [],
   "source": [
    "d1 = pd.read_csv('data/fold1.label', sep=' ', names=['class','name'])\n",
    "d2 = pd.read_csv('data/fold2.label', sep=' ',names=['class','name'])"
   ]
  },
  {
   "cell_type": "code",
   "execution_count": null,
   "metadata": {},
   "outputs": [],
   "source": [
    "d1=pd.DataFrame(d1)\n",
    "d2=pd.DataFrame(d2)"
   ]
  },
  {
   "cell_type": "code",
   "execution_count": 9,
   "metadata": {},
   "outputs": [],
   "source": [
    "data=pd.concat([d1,d2])"
   ]
  },
  {
   "cell_type": "code",
   "execution_count": 10,
   "metadata": {},
   "outputs": [],
   "source": [
    "data=data.sample(frac=1)"
   ]
  },
  {
   "cell_type": "code",
   "execution_count": 11,
   "metadata": {},
   "outputs": [],
   "source": [
    "import numpy as np\n"
   ]
  },
  {
   "cell_type": "code",
   "execution_count": 12,
   "metadata": {},
   "outputs": [
    {
     "data": {
      "text/plain": [
       "(4327, 2)"
      ]
     },
     "execution_count": 12,
     "metadata": {},
     "output_type": "execute_result"
    }
   ],
   "source": [
    "data.shape"
   ]
  },
  {
   "cell_type": "code",
   "execution_count": 13,
   "metadata": {},
   "outputs": [],
   "source": [
    "data=data.reset_index()"
   ]
  },
  {
   "cell_type": "code",
   "execution_count": 14,
   "metadata": {},
   "outputs": [],
   "source": [
    "data.drop('index', axis=1, inplace=True)"
   ]
  },
  {
   "cell_type": "code",
   "execution_count": 15,
   "metadata": {},
   "outputs": [
    {
     "data": {
      "text/html": [
       "<div>\n",
       "<style scoped>\n",
       "    .dataframe tbody tr th:only-of-type {\n",
       "        vertical-align: middle;\n",
       "    }\n",
       "\n",
       "    .dataframe tbody tr th {\n",
       "        vertical-align: top;\n",
       "    }\n",
       "\n",
       "    .dataframe thead th {\n",
       "        text-align: right;\n",
       "    }\n",
       "</style>\n",
       "<table border=\"1\" class=\"dataframe\">\n",
       "  <thead>\n",
       "    <tr style=\"text-align: right;\">\n",
       "      <th></th>\n",
       "      <th>class</th>\n",
       "      <th>name</th>\n",
       "    </tr>\n",
       "  </thead>\n",
       "  <tbody>\n",
       "    <tr>\n",
       "      <th>0</th>\n",
       "      <td>spam</td>\n",
       "      <td>./data/TRAINING/TRAIN_00744.eml</td>\n",
       "    </tr>\n",
       "    <tr>\n",
       "      <th>1</th>\n",
       "      <td>ham</td>\n",
       "      <td>./data/TRAINING/TRAIN_01410.eml</td>\n",
       "    </tr>\n",
       "    <tr>\n",
       "      <th>2</th>\n",
       "      <td>ham</td>\n",
       "      <td>./data/TRAINING/TRAIN_03988.eml</td>\n",
       "    </tr>\n",
       "    <tr>\n",
       "      <th>3</th>\n",
       "      <td>spam</td>\n",
       "      <td>./data/TRAINING/TRAIN_01330.eml</td>\n",
       "    </tr>\n",
       "    <tr>\n",
       "      <th>4</th>\n",
       "      <td>ham</td>\n",
       "      <td>./data/TRAINING/TRAIN_03179.eml</td>\n",
       "    </tr>\n",
       "  </tbody>\n",
       "</table>\n",
       "</div>"
      ],
      "text/plain": [
       "  class                             name\n",
       "0  spam  ./data/TRAINING/TRAIN_00744.eml\n",
       "1   ham  ./data/TRAINING/TRAIN_01410.eml\n",
       "2   ham  ./data/TRAINING/TRAIN_03988.eml\n",
       "3  spam  ./data/TRAINING/TRAIN_01330.eml\n",
       "4   ham  ./data/TRAINING/TRAIN_03179.eml"
      ]
     },
     "execution_count": 15,
     "metadata": {},
     "output_type": "execute_result"
    }
   ],
   "source": [
    "data.head()"
   ]
  },
  {
   "cell_type": "markdown",
   "metadata": {},
   "source": [
    "#### 55% system treningowy i 45% system testowy"
   ]
  },
  {
   "cell_type": "code",
   "execution_count": 16,
   "metadata": {},
   "outputs": [],
   "source": [
    "train, test = np.split(data.sample(frac=1, random_state=1729), \n",
    "                                   [int(0.55 * len(data))])"
   ]
  },
  {
   "cell_type": "code",
   "execution_count": 17,
   "metadata": {},
   "outputs": [
    {
     "name": "stdout",
     "output_type": "stream",
     "text": [
      "Shape of train set: (2379, 2)\n",
      "Shape of test set: (1948, 2)\n"
     ]
    }
   ],
   "source": [
    "print('Shape of train set:',train.shape)\n",
    "print('Shape of test set:',test.shape)"
   ]
  },
  {
   "cell_type": "code",
   "execution_count": 18,
   "metadata": {},
   "outputs": [],
   "source": [
    "train.to_csv(r'/Users/patrycjapiechowicz/ML/ML/lab2/data/train55', sep=' ' , index=False,header=False)\n",
    "test.to_csv(r'/Users/patrycjapiechowicz/ML/ML/lab2/data/test45',sep=' ',index=False,header=False)"
   ]
  },
  {
   "cell_type": "code",
   "execution_count": 19,
   "metadata": {},
   "outputs": [],
   "source": [
    "trainer55 = label_to_training_data('/Users/patrycjapiechowicz/ML/ML/lab2/data/train55')\n",
    "emails45 = parse_emails('/Users/patrycjapiechowicz/ML/ML/lab2/data/test45')"
   ]
  },
  {
   "cell_type": "code",
   "execution_count": 20,
   "metadata": {},
   "outputs": [
    {
     "name": "stdout",
     "output_type": "stream",
     "text": [
      "FPR: 0.001540041067761807, FNR: 0.22176591375770022, error: 0.223305954825462, accuracy: 0.776694045174538\n"
     ]
    }
   ],
   "source": [
    "fpr55_45, fnr55_45, err55_45 = validate(trainer55, emails45)\n",
    "accuracy55_45=1 - err55_45\n",
    "print(f'FPR: {fpr55_45}, FNR: {fnr55_45}, error: {err55_45}, accuracy: {1 - err55_45}')"
   ]
  },
  {
   "cell_type": "code",
   "execution_count": 21,
   "metadata": {},
   "outputs": [],
   "source": [
    "accuracy_55_45=1 - err55_45"
   ]
  },
  {
   "cell_type": "markdown",
   "metadata": {},
   "source": [
    "#### 60% system treningowy i 40% system testowy"
   ]
  },
  {
   "cell_type": "code",
   "execution_count": 22,
   "metadata": {},
   "outputs": [],
   "source": [
    "train, test = np.split(data.sample(frac=1, random_state=1720), \n",
    "                                   [int(0.6 * len(data))])"
   ]
  },
  {
   "cell_type": "code",
   "execution_count": 23,
   "metadata": {},
   "outputs": [
    {
     "name": "stdout",
     "output_type": "stream",
     "text": [
      "Shape of train set: (2596, 2)\n",
      "Shape of test set: (1731, 2)\n"
     ]
    }
   ],
   "source": [
    "print('Shape of train set:',train.shape)\n",
    "print('Shape of test set:',test.shape)"
   ]
  },
  {
   "cell_type": "code",
   "execution_count": 24,
   "metadata": {},
   "outputs": [],
   "source": [
    "train.to_csv(r'/Users/patrycjapiechowicz/ML/ML/lab2/data/train60', sep=' ' , index=False,header=False)\n",
    "test.to_csv(r'/Users/patrycjapiechowicz/ML/ML/lab2/data/test40',sep=' ',index=False,header=False)"
   ]
  },
  {
   "cell_type": "code",
   "execution_count": 25,
   "metadata": {},
   "outputs": [],
   "source": [
    "trainer60 = label_to_training_data('/Users/patrycjapiechowicz/ML/ML/lab2/data/train60')\n",
    "emails40 = parse_emails('/Users/patrycjapiechowicz/ML/ML/lab2/data/test40')"
   ]
  },
  {
   "cell_type": "code",
   "execution_count": 26,
   "metadata": {},
   "outputs": [
    {
     "name": "stdout",
     "output_type": "stream",
     "text": [
      "FPR: 0.0005777007510109763, FNR: 0.22645869439630273, error: 0.2270363951473137, accuracy: 0.7729636048526863\n"
     ]
    }
   ],
   "source": [
    "fpr, fnr, err = validate(trainer60, emails40)\n",
    "accuracy60_40=1 - err\n",
    "print(f'FPR: {fpr}, FNR: {fnr}, error: {err}, accuracy: {1 - err}')"
   ]
  },
  {
   "cell_type": "markdown",
   "metadata": {},
   "source": [
    "#### 65% system treningowy i 35% system testowy"
   ]
  },
  {
   "cell_type": "code",
   "execution_count": 27,
   "metadata": {},
   "outputs": [],
   "source": [
    "train, test = np.split(data.sample(frac=1, random_state=123), \n",
    "                                   [int(0.65 * len(data))])"
   ]
  },
  {
   "cell_type": "code",
   "execution_count": 28,
   "metadata": {},
   "outputs": [
    {
     "name": "stdout",
     "output_type": "stream",
     "text": [
      "Shape of train set: (2812, 2)\n",
      "Shape of test set: (1515, 2)\n"
     ]
    }
   ],
   "source": [
    "print('Shape of train set:',train.shape)\n",
    "print('Shape of test set:',test.shape)"
   ]
  },
  {
   "cell_type": "code",
   "execution_count": 29,
   "metadata": {},
   "outputs": [],
   "source": [
    "train.to_csv(r'/Users/patrycjapiechowicz/ML/ML/lab2/data/train65', sep=' ' , index=False,header=False)\n",
    "test.to_csv(r'/Users/patrycjapiechowicz/ML/ML/lab2/data/test35',sep=' ',index=False,header=False)"
   ]
  },
  {
   "cell_type": "code",
   "execution_count": 30,
   "metadata": {},
   "outputs": [],
   "source": [
    "trainer65 = label_to_training_data('/Users/patrycjapiechowicz/ML/ML/lab2/data/train65')\n",
    "emails35 = parse_emails('/Users/patrycjapiechowicz/ML/ML/lab2/data/test35')"
   ]
  },
  {
   "cell_type": "code",
   "execution_count": 31,
   "metadata": {},
   "outputs": [
    {
     "name": "stdout",
     "output_type": "stream",
     "text": [
      "FPR: 0.0006600660066006601, FNR: 0.2132013201320132, error: 0.21386138613861386, accuracy: 0.7861386138613862\n"
     ]
    }
   ],
   "source": [
    "fpr, fnr, err = validate(trainer65, emails35)\n",
    "accuracy65_35=1 - err\n",
    "print(f'FPR: {fpr}, FNR: {fnr}, error: {err}, accuracy: {1 - err}')"
   ]
  },
  {
   "cell_type": "markdown",
   "metadata": {},
   "source": [
    "#### 70% system treningowy i 30% system testowy"
   ]
  },
  {
   "cell_type": "code",
   "execution_count": 32,
   "metadata": {},
   "outputs": [],
   "source": [
    "train, test = np.split(data.sample(frac=1, random_state=1523), \n",
    "                                   [int(0.7 * len(data))])"
   ]
  },
  {
   "cell_type": "code",
   "execution_count": 33,
   "metadata": {},
   "outputs": [
    {
     "name": "stdout",
     "output_type": "stream",
     "text": [
      "Shape of train set: (3028, 2)\n",
      "Shape of test set: (1299, 2)\n"
     ]
    }
   ],
   "source": [
    "print('Shape of train set:',train.shape)\n",
    "print('Shape of test set:',test.shape)"
   ]
  },
  {
   "cell_type": "code",
   "execution_count": 34,
   "metadata": {},
   "outputs": [],
   "source": [
    "train.to_csv(r'/Users/patrycjapiechowicz/ML/ML/lab2/data/train70', sep=' ' , index=False,header=False)\n",
    "test.to_csv(r'/Users/patrycjapiechowicz/ML/ML/lab2/data/test30',sep=' ',index=False,header=False)"
   ]
  },
  {
   "cell_type": "code",
   "execution_count": 35,
   "metadata": {},
   "outputs": [],
   "source": [
    "trainer70 = label_to_training_data('/Users/patrycjapiechowicz/ML/ML/lab2/data/train70')\n",
    "emails30 = parse_emails('/Users/patrycjapiechowicz/ML/ML/lab2/data/test30')"
   ]
  },
  {
   "cell_type": "code",
   "execution_count": 36,
   "metadata": {},
   "outputs": [
    {
     "name": "stdout",
     "output_type": "stream",
     "text": [
      "FPR: 0.0, FNR: 0.22555812163202463, error: 0.22555812163202463, accuracy: 0.7744418783679754\n"
     ]
    }
   ],
   "source": [
    "fpr, fnr, err = validate(trainer70, emails30)\n",
    "accuracy70_30=1 - err\n",
    "print(f'FPR: {fpr}, FNR: {fnr}, error: {err}, accuracy: {1 - err}')"
   ]
  },
  {
   "cell_type": "markdown",
   "metadata": {},
   "source": [
    "#### 75% system treningowy i 25% system testowy"
   ]
  },
  {
   "cell_type": "code",
   "execution_count": 37,
   "metadata": {},
   "outputs": [],
   "source": [
    "train, test = np.split(data.sample(frac=1, random_state=1214), \n",
    "                                   [int(0.75 * len(data))])"
   ]
  },
  {
   "cell_type": "code",
   "execution_count": 38,
   "metadata": {},
   "outputs": [
    {
     "name": "stdout",
     "output_type": "stream",
     "text": [
      "Shape of train set: (3245, 2)\n",
      "Shape of test set: (1082, 2)\n"
     ]
    }
   ],
   "source": [
    "print('Shape of train set:',train.shape)\n",
    "print('Shape of test set:',test.shape)"
   ]
  },
  {
   "cell_type": "code",
   "execution_count": 39,
   "metadata": {},
   "outputs": [],
   "source": [
    "train.to_csv(r'/Users/patrycjapiechowicz/ML/ML/lab2/data/train75', sep=' ' , index=False,header=False)\n",
    "test.to_csv(r'/Users/patrycjapiechowicz/ML/ML/lab2/data/test25',sep=' ',index=False,header=False)"
   ]
  },
  {
   "cell_type": "code",
   "execution_count": 40,
   "metadata": {},
   "outputs": [],
   "source": [
    "trainer75 = label_to_training_data('/Users/patrycjapiechowicz/ML/ML/lab2/data/train75')\n",
    "emails25 = parse_emails('/Users/patrycjapiechowicz/ML/ML/lab2/data/test25')"
   ]
  },
  {
   "cell_type": "code",
   "execution_count": 41,
   "metadata": {},
   "outputs": [
    {
     "name": "stdout",
     "output_type": "stream",
     "text": [
      "FPR: 0.0, FNR: 0.21719038817005545, error: 0.21719038817005545, accuracy: 0.7828096118299446\n"
     ]
    }
   ],
   "source": [
    "fpr, fnr, err = validate(trainer75, emails25)\n",
    "accuracy75_25=1 - err\n",
    "print(f'FPR: {fpr}, FNR: {fnr}, error: {err}, accuracy: {1 - err}')"
   ]
  },
  {
   "cell_type": "markdown",
   "metadata": {},
   "source": [
    "#### 80% system treningowy i 20% system testowy "
   ]
  },
  {
   "cell_type": "code",
   "execution_count": 42,
   "metadata": {},
   "outputs": [],
   "source": [
    "train, test = np.split(data.sample(frac=1, random_state=129), \n",
    "                                   [int(0.8 * len(data))])"
   ]
  },
  {
   "cell_type": "code",
   "execution_count": 43,
   "metadata": {},
   "outputs": [
    {
     "name": "stdout",
     "output_type": "stream",
     "text": [
      "Shape of train set: (3461, 2)\n",
      "Shape of test set: (866, 2)\n"
     ]
    }
   ],
   "source": [
    "print('Shape of train set:',train.shape)\n",
    "print('Shape of test set:',test.shape)"
   ]
  },
  {
   "cell_type": "code",
   "execution_count": 44,
   "metadata": {},
   "outputs": [],
   "source": [
    "train.to_csv(r'/Users/patrycjapiechowicz/ML/ML/lab2/data/train80', sep=' ' , index=False,header=False)\n",
    "test.to_csv(r'/Users/patrycjapiechowicz/ML/ML/lab2/data/test20',sep=' ',index=False,header=False)"
   ]
  },
  {
   "cell_type": "code",
   "execution_count": 45,
   "metadata": {},
   "outputs": [],
   "source": [
    "trainer80 = label_to_training_data('/Users/patrycjapiechowicz/ML/ML/lab2/data/train80')\n",
    "emails20 = parse_emails('/Users/patrycjapiechowicz/ML/ML/lab2/data/test20')"
   ]
  },
  {
   "cell_type": "code",
   "execution_count": 46,
   "metadata": {},
   "outputs": [
    {
     "name": "stdout",
     "output_type": "stream",
     "text": [
      "FPR: 0.0, FNR: 0.22401847575057737, error: 0.22401847575057737, accuracy: 0.7759815242494226\n"
     ]
    }
   ],
   "source": [
    "fpr, fnr, err = validate(trainer80, emails20)\n",
    "accuracy80_20=1 - err\n",
    "print(f'FPR: {fpr}, FNR: {fnr}, error: {err}, accuracy: {1 - err}')"
   ]
  },
  {
   "cell_type": "markdown",
   "metadata": {},
   "source": [
    "#### Walidacja krzyżowa iteracja 1:"
   ]
  },
  {
   "cell_type": "code",
   "execution_count": 47,
   "metadata": {},
   "outputs": [],
   "source": [
    "dane_cv= np.array_split(data.sample(frac=1),5)"
   ]
  },
  {
   "cell_type": "code",
   "execution_count": 48,
   "metadata": {},
   "outputs": [
    {
     "data": {
      "text/plain": [
       "(4327, 4327)"
      ]
     },
     "execution_count": 48,
     "metadata": {},
     "output_type": "execute_result"
    }
   ],
   "source": [
    "3461+866, 865*5+2"
   ]
  },
  {
   "cell_type": "code",
   "execution_count": 49,
   "metadata": {},
   "outputs": [
    {
     "data": {
      "text/plain": [
       "5"
      ]
     },
     "execution_count": 49,
     "metadata": {},
     "output_type": "execute_result"
    }
   ],
   "source": [
    "len(dane_cv)"
   ]
  },
  {
   "cell_type": "code",
   "execution_count": 50,
   "metadata": {},
   "outputs": [
    {
     "name": "stdout",
     "output_type": "stream",
     "text": [
      "Length of k=1 866\n",
      "Length of k=2 866\n",
      "Length of k=3 865\n",
      "Length of k=4 865\n",
      "Length of k=5 865\n"
     ]
    }
   ],
   "source": [
    "print('Length of k=1',len(dane_cv[0]))\n",
    "print('Length of k=2',len(dane_cv[1]))\n",
    "print('Length of k=3',len(dane_cv[2]))\n",
    "print('Length of k=4',len(dane_cv[3]))\n",
    "print('Length of k=5',len(dane_cv[4]))\n"
   ]
  },
  {
   "cell_type": "code",
   "execution_count": 51,
   "metadata": {},
   "outputs": [],
   "source": [
    "train= pd.concat([dane_cv[1],dane_cv[2],dane_cv[3],dane_cv[4]])\n",
    "test=dane_cv[0]"
   ]
  },
  {
   "cell_type": "code",
   "execution_count": 52,
   "metadata": {},
   "outputs": [
    {
     "data": {
      "text/plain": [
       "((3461, 2), (866, 2))"
      ]
     },
     "execution_count": 52,
     "metadata": {},
     "output_type": "execute_result"
    }
   ],
   "source": [
    "train.shape, test.shape"
   ]
  },
  {
   "cell_type": "code",
   "execution_count": 53,
   "metadata": {},
   "outputs": [],
   "source": [
    "train.to_csv(r'/Users/patrycjapiechowicz/ML/ML/lab2/data/train_cv1', sep=' ' , index=False,header=False)\n",
    "test.to_csv(r'/Users/patrycjapiechowicz/ML/ML/lab2/data/test_cv1',sep=' ',index=False,header=False)"
   ]
  },
  {
   "cell_type": "code",
   "execution_count": 54,
   "metadata": {},
   "outputs": [],
   "source": [
    "trainer_cv1 = label_to_training_data('/Users/patrycjapiechowicz/ML/ML/lab2/data/train_cv1')\n",
    "emails_cv1 = parse_emails('/Users/patrycjapiechowicz/ML/ML/lab2/data/test_cv1')"
   ]
  },
  {
   "cell_type": "code",
   "execution_count": 55,
   "metadata": {},
   "outputs": [
    {
     "name": "stdout",
     "output_type": "stream",
     "text": [
      "FPR: 0.0, FNR: 0.22401847575057737, error: 0.2390300230946882, accuracy: 0.7609699769053118\n"
     ]
    }
   ],
   "source": [
    "fpr_, fnr_, err = validate(trainer_cv1, emails_cv1)\n",
    "accuracy_cv1=1 - err\n",
    "print(f'FPR: {fpr}, FNR: {fnr}, error: {err}, accuracy: {1 - err}')"
   ]
  },
  {
   "cell_type": "markdown",
   "metadata": {},
   "source": [
    "#### Walidacja krzyżowa iteracja 2:"
   ]
  },
  {
   "cell_type": "code",
   "execution_count": 56,
   "metadata": {},
   "outputs": [],
   "source": [
    "train= pd.concat([dane_cv[0],dane_cv[2],dane_cv[3],dane_cv[4]])\n",
    "test=dane_cv[1]"
   ]
  },
  {
   "cell_type": "code",
   "execution_count": 57,
   "metadata": {},
   "outputs": [],
   "source": [
    "train.to_csv(r'/Users/patrycjapiechowicz/ML/ML/lab2/data/train_cv2', sep=' ' , index=False,header=False)\n",
    "test.to_csv(r'/Users/patrycjapiechowicz/ML/ML/lab2/data/test_cv2',sep=' ',index=False,header=False)"
   ]
  },
  {
   "cell_type": "code",
   "execution_count": 58,
   "metadata": {},
   "outputs": [],
   "source": [
    "trainer_cv2 = label_to_training_data('/Users/patrycjapiechowicz/ML/ML/lab2/data/train_cv2')\n",
    "emails_cv2 = parse_emails('/Users/patrycjapiechowicz/ML/ML/lab2/data/test_cv2')"
   ]
  },
  {
   "cell_type": "code",
   "execution_count": 59,
   "metadata": {},
   "outputs": [
    {
     "name": "stdout",
     "output_type": "stream",
     "text": [
      "FPR: 0.0, FNR: 0.1951501154734411, error: 0.1951501154734411, accuracy: 0.8048498845265589\n"
     ]
    }
   ],
   "source": [
    "fpr, fnr, err = validate(trainer_cv2, emails_cv2)\n",
    "accuracy_cv2=1 - err\n",
    "print(f'FPR: {fpr}, FNR: {fnr}, error: {err}, accuracy: {1 - err}')"
   ]
  },
  {
   "cell_type": "markdown",
   "metadata": {},
   "source": [
    "#### Walidacja krzyżowa iteracja 3:"
   ]
  },
  {
   "cell_type": "code",
   "execution_count": 60,
   "metadata": {},
   "outputs": [],
   "source": [
    "train= pd.concat([dane_cv[0],dane_cv[1],dane_cv[3],dane_cv[4]])\n",
    "test=dane_cv[2]"
   ]
  },
  {
   "cell_type": "code",
   "execution_count": 61,
   "metadata": {},
   "outputs": [],
   "source": [
    "train.to_csv(r'/Users/patrycjapiechowicz/ML/ML/lab2/data/train_cv3', sep=' ' , index=False,header=False)\n",
    "test.to_csv(r'/Users/patrycjapiechowicz/ML/ML/lab2/data/test_cv3',sep=' ',index=False,header=False)"
   ]
  },
  {
   "cell_type": "code",
   "execution_count": 62,
   "metadata": {},
   "outputs": [],
   "source": [
    "trainer_cv3 = label_to_training_data('/Users/patrycjapiechowicz/ML/ML/lab2/data/train_cv3')\n",
    "emails_cv3 = parse_emails('/Users/patrycjapiechowicz/ML/ML/lab2/data/test_cv3')"
   ]
  },
  {
   "cell_type": "code",
   "execution_count": 63,
   "metadata": {},
   "outputs": [
    {
     "name": "stdout",
     "output_type": "stream",
     "text": [
      "FPR: 0.0023121387283236996, FNR: 0.21271676300578035, error: 0.21502890173410405, accuracy: 0.784971098265896\n"
     ]
    }
   ],
   "source": [
    "fpr, fnr, err = validate(trainer_cv3, emails_cv3)\n",
    "accuracy_cv3=1 - err\n",
    "print(f'FPR: {fpr}, FNR: {fnr}, error: {err}, accuracy: {1 - err}')"
   ]
  },
  {
   "cell_type": "markdown",
   "metadata": {},
   "source": [
    "#### Walidacja krzyżowa iteracja 4:"
   ]
  },
  {
   "cell_type": "code",
   "execution_count": 64,
   "metadata": {},
   "outputs": [],
   "source": [
    "train= pd.concat([dane_cv[0],dane_cv[1],dane_cv[2],dane_cv[4]])\n",
    "test=dane_cv[3]"
   ]
  },
  {
   "cell_type": "code",
   "execution_count": 65,
   "metadata": {},
   "outputs": [],
   "source": [
    "train.to_csv(r'/Users/patrycjapiechowicz/ML/ML/lab2/data/train_cv4', sep=' ' , index=False,header=False)\n",
    "test.to_csv(r'/Users/patrycjapiechowicz/ML/ML/lab2/data/test_cv4',sep=' ',index=False,header=False)"
   ]
  },
  {
   "cell_type": "code",
   "execution_count": 66,
   "metadata": {},
   "outputs": [],
   "source": [
    "trainer_cv4 = label_to_training_data('/Users/patrycjapiechowicz/ML/ML/lab2/data/train_cv4')\n",
    "emails_cv4 = parse_emails('/Users/patrycjapiechowicz/ML/ML/lab2/data/test_cv4')"
   ]
  },
  {
   "cell_type": "code",
   "execution_count": 67,
   "metadata": {},
   "outputs": [
    {
     "name": "stdout",
     "output_type": "stream",
     "text": [
      "FPR: 0.0, FNR: 0.19884393063583816, error: 0.19884393063583816, accuracy: 0.8011560693641618\n"
     ]
    }
   ],
   "source": [
    "fpr, fnr, err = validate(trainer_cv4, emails_cv4)\n",
    "accuracy_cv4=1 - err\n",
    "print(f'FPR: {fpr}, FNR: {fnr}, error: {err}, accuracy: {1 - err}')"
   ]
  },
  {
   "cell_type": "markdown",
   "metadata": {},
   "source": [
    "#### Walidacja krzyżowa iteracja 5:"
   ]
  },
  {
   "cell_type": "code",
   "execution_count": 68,
   "metadata": {},
   "outputs": [],
   "source": [
    "train= pd.concat([dane_cv[0],dane_cv[1],dane_cv[2],dane_cv[3]])\n",
    "test=dane_cv[4]"
   ]
  },
  {
   "cell_type": "code",
   "execution_count": 69,
   "metadata": {},
   "outputs": [],
   "source": [
    "train.to_csv(r'/Users/patrycjapiechowicz/ML/ML/lab2/data/train_cv5', sep=' ' , index=False,header=False)\n",
    "test.to_csv(r'/Users/patrycjapiechowicz/ML/ML/lab2/data/test_cv5',sep=' ',index=False,header=False)"
   ]
  },
  {
   "cell_type": "code",
   "execution_count": 70,
   "metadata": {},
   "outputs": [],
   "source": [
    "trainer_cv5 = label_to_training_data('/Users/patrycjapiechowicz/ML/ML/lab2/data/train_cv5')\n",
    "emails_cv5 = parse_emails('/Users/patrycjapiechowicz/ML/ML/lab2/data/test_cv5')"
   ]
  },
  {
   "cell_type": "code",
   "execution_count": 71,
   "metadata": {},
   "outputs": [
    {
     "name": "stdout",
     "output_type": "stream",
     "text": [
      "FPR: 0.0011560693641618498, FNR: 0.23468208092485549, error: 0.23583815028901733, accuracy: 0.7641618497109827\n"
     ]
    }
   ],
   "source": [
    "fpr, fnr, err = validate(trainer_cv5, emails_cv5)\n",
    "accuracy_cv5=1 - err\n",
    "print(f'FPR: {fpr}, FNR: {fnr}, error: {err}, accuracy: {1 - err}')"
   ]
  },
  {
   "cell_type": "code",
   "execution_count": 72,
   "metadata": {},
   "outputs": [],
   "source": [
    "accuracy_mean=np.mean([accuracy_cv1,accuracy_cv2,accuracy_cv3,accuracy_cv4,accuracy_cv5])"
   ]
  },
  {
   "cell_type": "code",
   "execution_count": 73,
   "metadata": {},
   "outputs": [
    {
     "data": {
      "text/plain": [
       "0.7832217757545822"
      ]
     },
     "execution_count": 73,
     "metadata": {},
     "output_type": "execute_result"
    }
   ],
   "source": [
    "accuracy_mean"
   ]
  },
  {
   "cell_type": "markdown",
   "metadata": {},
   "source": [
    "#### Results:"
   ]
  },
  {
   "cell_type": "code",
   "execution_count": 74,
   "metadata": {},
   "outputs": [],
   "source": [
    "names=['55% system treningowy i 45% system testowy','60% system treningowy i 40% system testowy','65% system treningowy i 35% system testowy','70% system treningowy i 30% system testowy','75% system treningowy i 25% system testowy','80% system treningowy i 20% system testowy','cross validation k=5']\n",
    "accuracy=[accuracy55_45, accuracy60_40, accuracy65_35,accuracy70_30,accuracy75_25,accuracy80_20, accuracy_mean]"
   ]
  },
  {
   "cell_type": "code",
   "execution_count": 75,
   "metadata": {},
   "outputs": [
    {
     "data": {
      "text/html": [
       "<div>\n",
       "<style scoped>\n",
       "    .dataframe tbody tr th:only-of-type {\n",
       "        vertical-align: middle;\n",
       "    }\n",
       "\n",
       "    .dataframe tbody tr th {\n",
       "        vertical-align: top;\n",
       "    }\n",
       "\n",
       "    .dataframe thead th {\n",
       "        text-align: right;\n",
       "    }\n",
       "</style>\n",
       "<table border=\"1\" class=\"dataframe\">\n",
       "  <thead>\n",
       "    <tr style=\"text-align: right;\">\n",
       "      <th></th>\n",
       "      <th>accuracy</th>\n",
       "    </tr>\n",
       "  </thead>\n",
       "  <tbody>\n",
       "    <tr>\n",
       "      <th>60% system treningowy i 40% system testowy</th>\n",
       "      <td>0.772964</td>\n",
       "    </tr>\n",
       "    <tr>\n",
       "      <th>70% system treningowy i 30% system testowy</th>\n",
       "      <td>0.774442</td>\n",
       "    </tr>\n",
       "    <tr>\n",
       "      <th>80% system treningowy i 20% system testowy</th>\n",
       "      <td>0.775982</td>\n",
       "    </tr>\n",
       "    <tr>\n",
       "      <th>55% system treningowy i 45% system testowy</th>\n",
       "      <td>0.776694</td>\n",
       "    </tr>\n",
       "    <tr>\n",
       "      <th>75% system treningowy i 25% system testowy</th>\n",
       "      <td>0.782810</td>\n",
       "    </tr>\n",
       "    <tr>\n",
       "      <th>cross validation k=5</th>\n",
       "      <td>0.783222</td>\n",
       "    </tr>\n",
       "    <tr>\n",
       "      <th>65% system treningowy i 35% system testowy</th>\n",
       "      <td>0.786139</td>\n",
       "    </tr>\n",
       "  </tbody>\n",
       "</table>\n",
       "</div>"
      ],
      "text/plain": [
       "                                            accuracy\n",
       "60% system treningowy i 40% system testowy  0.772964\n",
       "70% system treningowy i 30% system testowy  0.774442\n",
       "80% system treningowy i 20% system testowy  0.775982\n",
       "55% system treningowy i 45% system testowy  0.776694\n",
       "75% system treningowy i 25% system testowy  0.782810\n",
       "cross validation k=5                        0.783222\n",
       "65% system treningowy i 35% system testowy  0.786139"
      ]
     },
     "execution_count": 75,
     "metadata": {},
     "output_type": "execute_result"
    }
   ],
   "source": [
    "x,y=names, accuracy\n",
    "results=pd.DataFrame(y,x)\n",
    "columns=['accuracy']\n",
    "results.columns=columns\n",
    "results.sort_values('accuracy')"
   ]
  },
  {
   "cell_type": "code",
   "execution_count": 76,
   "metadata": {},
   "outputs": [],
   "source": [
    "columns=['accuracy']\n",
    "results.columns=columns"
   ]
  },
  {
   "cell_type": "code",
   "execution_count": 77,
   "metadata": {},
   "outputs": [
    {
     "data": {
      "text/html": [
       "<div>\n",
       "<style scoped>\n",
       "    .dataframe tbody tr th:only-of-type {\n",
       "        vertical-align: middle;\n",
       "    }\n",
       "\n",
       "    .dataframe tbody tr th {\n",
       "        vertical-align: top;\n",
       "    }\n",
       "\n",
       "    .dataframe thead th {\n",
       "        text-align: right;\n",
       "    }\n",
       "</style>\n",
       "<table border=\"1\" class=\"dataframe\">\n",
       "  <thead>\n",
       "    <tr style=\"text-align: right;\">\n",
       "      <th></th>\n",
       "      <th>accuracy</th>\n",
       "    </tr>\n",
       "  </thead>\n",
       "  <tbody>\n",
       "    <tr>\n",
       "      <th>60% system treningowy i 40% system testowy</th>\n",
       "      <td>0.772964</td>\n",
       "    </tr>\n",
       "    <tr>\n",
       "      <th>70% system treningowy i 30% system testowy</th>\n",
       "      <td>0.774442</td>\n",
       "    </tr>\n",
       "    <tr>\n",
       "      <th>80% system treningowy i 20% system testowy</th>\n",
       "      <td>0.775982</td>\n",
       "    </tr>\n",
       "    <tr>\n",
       "      <th>55% system treningowy i 45% system testowy</th>\n",
       "      <td>0.776694</td>\n",
       "    </tr>\n",
       "    <tr>\n",
       "      <th>75% system treningowy i 25% system testowy</th>\n",
       "      <td>0.782810</td>\n",
       "    </tr>\n",
       "    <tr>\n",
       "      <th>cross validation k=5</th>\n",
       "      <td>0.783222</td>\n",
       "    </tr>\n",
       "    <tr>\n",
       "      <th>65% system treningowy i 35% system testowy</th>\n",
       "      <td>0.786139</td>\n",
       "    </tr>\n",
       "  </tbody>\n",
       "</table>\n",
       "</div>"
      ],
      "text/plain": [
       "                                            accuracy\n",
       "60% system treningowy i 40% system testowy  0.772964\n",
       "70% system treningowy i 30% system testowy  0.774442\n",
       "80% system treningowy i 20% system testowy  0.775982\n",
       "55% system treningowy i 45% system testowy  0.776694\n",
       "75% system treningowy i 25% system testowy  0.782810\n",
       "cross validation k=5                        0.783222\n",
       "65% system treningowy i 35% system testowy  0.786139"
      ]
     },
     "execution_count": 77,
     "metadata": {},
     "output_type": "execute_result"
    }
   ],
   "source": [
    "results.sort_values('accuracy')"
   ]
  },
  {
   "cell_type": "code",
   "execution_count": 80,
   "metadata": {},
   "outputs": [
    {
     "data": {
      "image/png": "[encoded data removed]",
      "text/plain": [
       "<Figure size 864x720 with 1 Axes>"
      ]
     },
     "metadata": {
      "needs_background": "light"
     },
     "output_type": "display_data"
    }
   ],
   "source": [
    "import matplotlib.pyplot as plt\n",
    "%matplotlib inline\n",
    "fig = plt.figure(figsize=(12,10))\n",
    "width = 0.4 # the width of the bars \n",
    "ind = np.arange(len(x))  # the x locations for the groups\n",
    "\n",
    "plt.bar(x, y, width)\n",
    "plt.xticks(ind, rotation=90, fontsize = 16)\n",
    "plt.yticks(fontsize = 16)\n",
    "plt.grid(alpha=0.4)\n",
    "plt.ylabel(\"ACCURACY\", fontsize = 16)\n",
    "plt.title(\"COMPARISON of the ACCURACY - different splits of data\", fontsize = 16, pad = 20)  \n",
    "plt.show()"
   ]
  },
  {
   "cell_type": "markdown",
   "metadata": {
    "pycharm": {
     "name": "#%% md\n"
    }
   },
   "source": [
    "Zadania:\n",
    "\n",
    "1. Sprawdzić powyższe parametry klasyfikacji dla następujących podziałów wiadomości e-mail:\n",
    "    - 55% system treningowy i 45% system testowy\n",
    "    - 60% system treningowy i 40% system testowy\n",
    "    - 65% system treningowy i 35% system testowy\n",
    "    - 70% system treningowy i 30% system testowy\n",
    "    - 75% system treningowy i 25% system testowy\n",
    "    - 80% system treningowy i 20% system testowy\n",
    "Dodatkowo, przy każdym podziale pomieszać kolejność wiadomości, zachowując jednocześnie przypisanie etykiet.\n",
    "W tym celu należy przygotować odpowiedni skrypt tworzący pliki analogiczne do data/fold1.label i data/fold2.label\n",
    "\n",
    "2. Sprawdzić działanie modelu na zbiorze maili SpamAssasin: https://spamassassin.apache.org/old/publiccorpus/\n",
    "Wykorzystać 2 dowolne klasy decyzyjne.\n",
    "\n",
    "3. Zaimplementować funkcjonalność walidacji krzyżowej w celu dokładnego zweryfikowania parametrów klasyfikacji.\n",
    "Walidacja krzyżowa polega na podziale systemu treningowego na k fragmentów, gdzie k-1 fragmentów służy jako nowy system\n",
    "treningowy, a pozostała część służy jako system testowy przeznaczony do oceny parametrów klasyfikacji modelu.\n",
    "Cała operacja jest powtarzana k-krotnie, gdzie każdy z pierwotnie wyznaczonych k fragmentów musi zostać użyty\n",
    "jako system treningowy dokładnie jeden raz. Końcowy wynik walidacji krzyżowej to uśrednione parametry klasyfikacji\n",
    "ze wszystkich k iteracji wraz z odchyleniami standardowymi. Przykład dla 100 obiektów treningowych, gdzie k=5. System treningowy zostaje podzielony na\n",
    "5 fragmentów (1, 2, 3, 4, 5), gdzie każdy liczy 20 obiektów. Dokonujemy 5 iteracji:\n",
    "    - iteracja 1: system treningowy tworzą fragmenty 2, 3, 4, 5; system testowy tworzy fragment 1; dokładność klasyfikacji wynosi 80%\n",
    "    - iteracja 2: system treningowy tworzą fragmenty 1, 3, 4, 5; system testowy tworzy fragment 2; dokładność klasyfikacji wynosi 85%\n",
    "    - iteracja 3: system treningowy tworzą fragmenty 1, 2, 4, 5; system testowy tworzy fragment 3; dokładność klasyfikacji wynosi 91%\n",
    "    - iteracja 4: system treningowy tworzą fragmenty 1, 2, 3, 5; system testowy tworzy fragment 4; dokładność klasyfikacji wynosi 87%\n",
    "    - iteracja 5: system treningowy tworzą fragmenty 1, 2, 3, 4; system testowy tworzy fragment 5; dokładność klasyfikacji wynosi 90%\n",
    "Wynik końcowy to uśredniony wynik parametrów ze wszystkich iteracji, zatem dokładność końcowa wynosi 86.6%, przy odchyleniu standardowym 3.93\n",
    "\n",
    "\n",
    "## Klasyfikator bayesowski w pakiecie scikit-learn\n",
    "\n",
    "Scikit-learn to jedna z najpopularniejszych bibliotek zawierających zaimplementowane klasyfikatory i regresory oraz popularne systemy decyzyjne.\n",
    "\n",
    "### Przykład naiwnej klasyfikacji bayesowskiej przy użyciu biblioteki scikit-learn:\n",
    "\n",
    "#### Wczytanie systemu decyzyjnego"
   ]
  },
  {
   "cell_type": "code",
   "execution_count": null,
   "metadata": {},
   "outputs": [],
   "source": []
  },
  {
   "cell_type": "code",
   "execution_count": null,
   "metadata": {},
   "outputs": [],
   "source": []
  },
  {
   "cell_type": "code",
   "execution_count": 81,
   "metadata": {
    "pycharm": {
     "name": "#%%\n"
    }
   },
   "outputs": [
    {
     "data": {
      "text/html": [
       "<div>\n",
       "<style scoped>\n",
       "    .dataframe tbody tr th:only-of-type {\n",
       "        vertical-align: middle;\n",
       "    }\n",
       "\n",
       "    .dataframe tbody tr th {\n",
       "        vertical-align: top;\n",
       "    }\n",
       "\n",
       "    .dataframe thead th {\n",
       "        text-align: right;\n",
       "    }\n",
       "</style>\n",
       "<table border=\"1\" class=\"dataframe\">\n",
       "  <thead>\n",
       "    <tr style=\"text-align: right;\">\n",
       "      <th></th>\n",
       "      <th>glucose</th>\n",
       "      <th>bloodpressure</th>\n",
       "      <th>diabetes</th>\n",
       "    </tr>\n",
       "  </thead>\n",
       "  <tbody>\n",
       "    <tr>\n",
       "      <th>0</th>\n",
       "      <td>40</td>\n",
       "      <td>85</td>\n",
       "      <td>0</td>\n",
       "    </tr>\n",
       "    <tr>\n",
       "      <th>1</th>\n",
       "      <td>40</td>\n",
       "      <td>92</td>\n",
       "      <td>0</td>\n",
       "    </tr>\n",
       "    <tr>\n",
       "      <th>2</th>\n",
       "      <td>45</td>\n",
       "      <td>63</td>\n",
       "      <td>1</td>\n",
       "    </tr>\n",
       "    <tr>\n",
       "      <th>3</th>\n",
       "      <td>45</td>\n",
       "      <td>80</td>\n",
       "      <td>0</td>\n",
       "    </tr>\n",
       "    <tr>\n",
       "      <th>4</th>\n",
       "      <td>40</td>\n",
       "      <td>73</td>\n",
       "      <td>1</td>\n",
       "    </tr>\n",
       "  </tbody>\n",
       "</table>\n",
       "</div>"
      ],
      "text/plain": [
       "   glucose  bloodpressure  diabetes\n",
       "0       40             85         0\n",
       "1       40             92         0\n",
       "2       45             63         1\n",
       "3       45             80         0\n",
       "4       40             73         1"
      ]
     },
     "execution_count": 81,
     "metadata": {},
     "output_type": "execute_result"
    }
   ],
   "source": [
    "df = pd.read_csv('data/data-bayes.csv')\n",
    "\n",
    "df.head()"
   ]
  },
  {
   "cell_type": "markdown",
   "metadata": {
    "pycharm": {
     "name": "#%% md\n"
    }
   },
   "source": [
    "#### Przygotowanie systemu decyzyjnego do klasyfikacji\n",
    "\n",
    "Podział na atrybuty wejściowe (X) i decyzyjny (y) oraz na system treningowy i testowy w stosunku 75%:25%"
   ]
  },
  {
   "cell_type": "code",
   "execution_count": 82,
   "metadata": {
    "pycharm": {
     "name": "#%%\n"
    }
   },
   "outputs": [],
   "source": [
    "X = df.drop('diabetes', axis=1)\n",
    "y = df['diabetes']\n",
    "X_train, X_test, y_train, y_test = train_test_split(X, y, test_size=.25)"
   ]
  },
  {
   "cell_type": "code",
   "execution_count": 83,
   "metadata": {
    "pycharm": {
     "name": "#%%\n"
    }
   },
   "outputs": [
    {
     "data": {
      "text/html": [
       "<div>\n",
       "<style scoped>\n",
       "    .dataframe tbody tr th:only-of-type {\n",
       "        vertical-align: middle;\n",
       "    }\n",
       "\n",
       "    .dataframe tbody tr th {\n",
       "        vertical-align: top;\n",
       "    }\n",
       "\n",
       "    .dataframe thead th {\n",
       "        text-align: right;\n",
       "    }\n",
       "</style>\n",
       "<table border=\"1\" class=\"dataframe\">\n",
       "  <thead>\n",
       "    <tr style=\"text-align: right;\">\n",
       "      <th></th>\n",
       "      <th>glucose</th>\n",
       "      <th>bloodpressure</th>\n",
       "    </tr>\n",
       "  </thead>\n",
       "  <tbody>\n",
       "    <tr>\n",
       "      <th>152</th>\n",
       "      <td>40</td>\n",
       "      <td>95</td>\n",
       "    </tr>\n",
       "    <tr>\n",
       "      <th>844</th>\n",
       "      <td>50</td>\n",
       "      <td>65</td>\n",
       "    </tr>\n",
       "    <tr>\n",
       "      <th>734</th>\n",
       "      <td>45</td>\n",
       "      <td>88</td>\n",
       "    </tr>\n",
       "  </tbody>\n",
       "</table>\n",
       "</div>"
      ],
      "text/plain": [
       "     glucose  bloodpressure\n",
       "152       40             95\n",
       "844       50             65\n",
       "734       45             88"
      ]
     },
     "execution_count": 83,
     "metadata": {},
     "output_type": "execute_result"
    }
   ],
   "source": [
    "X_train.head(n=3)"
   ]
  },
  {
   "cell_type": "code",
   "execution_count": 84,
   "metadata": {
    "pycharm": {
     "name": "#%%\n"
    }
   },
   "outputs": [
    {
     "data": {
      "text/plain": [
       "348    1\n",
       "380    1\n",
       "361    1\n",
       "Name: diabetes, dtype: int64"
      ]
     },
     "execution_count": 84,
     "metadata": {},
     "output_type": "execute_result"
    }
   ],
   "source": [
    "y_test.head(n=3)"
   ]
  },
  {
   "cell_type": "markdown",
   "metadata": {
    "pycharm": {
     "name": "#%% md\n"
    }
   },
   "source": [
    "#### Utworzenie modelu i uczenie"
   ]
  },
  {
   "cell_type": "code",
   "execution_count": 85,
   "metadata": {
    "pycharm": {
     "name": "#%%\n"
    }
   },
   "outputs": [
    {
     "data": {
      "text/plain": [
       "GaussianNB()"
      ]
     },
     "execution_count": 85,
     "metadata": {},
     "output_type": "execute_result"
    }
   ],
   "source": [
    "model = GaussianNB()\n",
    "model.fit(X_train, y_train)"
   ]
  },
  {
   "cell_type": "markdown",
   "metadata": {
    "pycharm": {
     "name": "#%% md\n"
    }
   },
   "source": [
    "#### Walidacja dokładności wytrenowanego modelu"
   ]
  },
  {
   "cell_type": "code",
   "execution_count": 86,
   "metadata": {
    "pycharm": {
     "name": "#%%\n"
    }
   },
   "outputs": [
    {
     "name": "stdout",
     "output_type": "stream",
     "text": [
      "Dokladnosc wytrenowanego modelu: 92.7710843373494%\n"
     ]
    }
   ],
   "source": [
    "y_pred = model.predict(X_test)\n",
    "acc = accuracy_score(y_test, y_pred) * 100\n",
    "\n",
    "print(f'Dokladnosc wytrenowanego modelu: {acc}%')\n"
   ]
  },
  {
   "cell_type": "markdown",
   "metadata": {
    "pycharm": {
     "name": "#%% md\n"
    }
   },
   "source": [
    "#### Predykcja klasy decyzyjnej obiektu"
   ]
  },
  {
   "cell_type": "code",
   "execution_count": 87,
   "metadata": {
    "pycharm": {
     "name": "#%%\n"
    }
   },
   "outputs": [
    {
     "name": "stdout",
     "output_type": "stream",
     "text": [
      "Przydzielona decyzja: 0, oryginalna decyzja: 1\n"
     ]
    }
   ],
   "source": [
    "id_ = 10\n",
    "\n",
    "pred = model.predict([X_test.iloc[id_].tolist()])\n",
    "original_decision = y_test.iloc[id_]\n",
    "\n",
    "print(f'Przydzielona decyzja: {pred[0]}, oryginalna decyzja: {original_decision}')"
   ]
  },
  {
   "cell_type": "markdown",
   "metadata": {
    "pycharm": {
     "name": "#%% md\n"
    }
   },
   "source": [
    "### Zadania\n",
    "\n",
    "1. Korzystając ze źródła http://archive.ics.uci.edu/ml/datasets.php wybrać jeden system decyzyjny, a następnie dokonać\n",
    "klasyfikacji metodą Naiwnej Klasyfikacji Bayesowskiej dowolnego atrybutu decyzyjnego. Wykorzystując rozwiązania zadań z regresji i klasyfikacji KNN,\n",
    "sprawdzić wyniki na następujących podziałach systemów decyzyjnych:\n",
    "    - 55% system treningowy i 45% system testowy\n",
    "    - 60% system treningowy i 40% system testowy\n",
    "    - 65% system treningowy i 35% system testowy\n",
    "    - 70% system treningowy i 30% system testowy\n",
    "    - 75% system treningowy i 25% system testowy\n",
    "\n",
    "2. Porównać wyniki uzyskane w zadaniu 1 z klasyfikatorem KNN\n"
   ]
  },
  {
   "cell_type": "code",
   "execution_count": 88,
   "metadata": {},
   "outputs": [
    {
     "data": {
      "text/html": [
       "<div>\n",
       "<style scoped>\n",
       "    .dataframe tbody tr th:only-of-type {\n",
       "        vertical-align: middle;\n",
       "    }\n",
       "\n",
       "    .dataframe tbody tr th {\n",
       "        vertical-align: top;\n",
       "    }\n",
       "\n",
       "    .dataframe thead th {\n",
       "        text-align: right;\n",
       "    }\n",
       "</style>\n",
       "<table border=\"1\" class=\"dataframe\">\n",
       "  <thead>\n",
       "    <tr style=\"text-align: right;\">\n",
       "      <th></th>\n",
       "      <th>fixed acidity</th>\n",
       "      <th>volatile acidity</th>\n",
       "      <th>citric acid</th>\n",
       "      <th>residual sugar</th>\n",
       "      <th>chlorides</th>\n",
       "      <th>free sulfur dioxide</th>\n",
       "      <th>total sulfur dioxide</th>\n",
       "      <th>density</th>\n",
       "      <th>pH</th>\n",
       "      <th>sulphates</th>\n",
       "      <th>alcohol</th>\n",
       "      <th>quality</th>\n",
       "    </tr>\n",
       "  </thead>\n",
       "  <tbody>\n",
       "    <tr>\n",
       "      <th>0</th>\n",
       "      <td>7.4</td>\n",
       "      <td>0.70</td>\n",
       "      <td>0.00</td>\n",
       "      <td>1.9</td>\n",
       "      <td>0.076</td>\n",
       "      <td>11.0</td>\n",
       "      <td>34.0</td>\n",
       "      <td>0.9978</td>\n",
       "      <td>3.51</td>\n",
       "      <td>0.56</td>\n",
       "      <td>9.4</td>\n",
       "      <td>5</td>\n",
       "    </tr>\n",
       "    <tr>\n",
       "      <th>1</th>\n",
       "      <td>7.8</td>\n",
       "      <td>0.88</td>\n",
       "      <td>0.00</td>\n",
       "      <td>2.6</td>\n",
       "      <td>0.098</td>\n",
       "      <td>25.0</td>\n",
       "      <td>67.0</td>\n",
       "      <td>0.9968</td>\n",
       "      <td>3.20</td>\n",
       "      <td>0.68</td>\n",
       "      <td>9.8</td>\n",
       "      <td>5</td>\n",
       "    </tr>\n",
       "    <tr>\n",
       "      <th>2</th>\n",
       "      <td>7.8</td>\n",
       "      <td>0.76</td>\n",
       "      <td>0.04</td>\n",
       "      <td>2.3</td>\n",
       "      <td>0.092</td>\n",
       "      <td>15.0</td>\n",
       "      <td>54.0</td>\n",
       "      <td>0.9970</td>\n",
       "      <td>3.26</td>\n",
       "      <td>0.65</td>\n",
       "      <td>9.8</td>\n",
       "      <td>5</td>\n",
       "    </tr>\n",
       "    <tr>\n",
       "      <th>3</th>\n",
       "      <td>11.2</td>\n",
       "      <td>0.28</td>\n",
       "      <td>0.56</td>\n",
       "      <td>1.9</td>\n",
       "      <td>0.075</td>\n",
       "      <td>17.0</td>\n",
       "      <td>60.0</td>\n",
       "      <td>0.9980</td>\n",
       "      <td>3.16</td>\n",
       "      <td>0.58</td>\n",
       "      <td>9.8</td>\n",
       "      <td>6</td>\n",
       "    </tr>\n",
       "    <tr>\n",
       "      <th>4</th>\n",
       "      <td>7.4</td>\n",
       "      <td>0.70</td>\n",
       "      <td>0.00</td>\n",
       "      <td>1.9</td>\n",
       "      <td>0.076</td>\n",
       "      <td>11.0</td>\n",
       "      <td>34.0</td>\n",
       "      <td>0.9978</td>\n",
       "      <td>3.51</td>\n",
       "      <td>0.56</td>\n",
       "      <td>9.4</td>\n",
       "      <td>5</td>\n",
       "    </tr>\n",
       "  </tbody>\n",
       "</table>\n",
       "</div>"
      ],
      "text/plain": [
       "   fixed acidity  volatile acidity  citric acid  residual sugar  chlorides  \\\n",
       "0            7.4              0.70         0.00             1.9      0.076   \n",
       "1            7.8              0.88         0.00             2.6      0.098   \n",
       "2            7.8              0.76         0.04             2.3      0.092   \n",
       "3           11.2              0.28         0.56             1.9      0.075   \n",
       "4            7.4              0.70         0.00             1.9      0.076   \n",
       "\n",
       "   free sulfur dioxide  total sulfur dioxide  density    pH  sulphates  \\\n",
       "0                 11.0                  34.0   0.9978  3.51       0.56   \n",
       "1                 25.0                  67.0   0.9968  3.20       0.68   \n",
       "2                 15.0                  54.0   0.9970  3.26       0.65   \n",
       "3                 17.0                  60.0   0.9980  3.16       0.58   \n",
       "4                 11.0                  34.0   0.9978  3.51       0.56   \n",
       "\n",
       "   alcohol  quality  \n",
       "0      9.4        5  \n",
       "1      9.8        5  \n",
       "2      9.8        5  \n",
       "3      9.8        6  \n",
       "4      9.4        5  "
      ]
     },
     "execution_count": 88,
     "metadata": {},
     "output_type": "execute_result"
    }
   ],
   "source": [
    "df = pd.read_csv('/Users/patrycjapiechowicz/ML/ML/lab2/winequality-red (1).csv', sep=';')\n",
    "df.head()"
   ]
  },
  {
   "cell_type": "code",
   "execution_count": 89,
   "metadata": {},
   "outputs": [],
   "source": [
    "X = df.drop('quality', axis=1)\n",
    "y = df['quality']\n",
    "X_train, X_test, y_train, y_test = train_test_split(X, y, test_size=.25)"
   ]
  },
  {
   "cell_type": "code",
   "execution_count": 90,
   "metadata": {},
   "outputs": [
    {
     "data": {
      "text/html": [
       "<div>\n",
       "<style scoped>\n",
       "    .dataframe tbody tr th:only-of-type {\n",
       "        vertical-align: middle;\n",
       "    }\n",
       "\n",
       "    .dataframe tbody tr th {\n",
       "        vertical-align: top;\n",
       "    }\n",
       "\n",
       "    .dataframe thead th {\n",
       "        text-align: right;\n",
       "    }\n",
       "</style>\n",
       "<table border=\"1\" class=\"dataframe\">\n",
       "  <thead>\n",
       "    <tr style=\"text-align: right;\">\n",
       "      <th></th>\n",
       "      <th>fixed acidity</th>\n",
       "      <th>volatile acidity</th>\n",
       "      <th>citric acid</th>\n",
       "      <th>residual sugar</th>\n",
       "      <th>chlorides</th>\n",
       "      <th>free sulfur dioxide</th>\n",
       "      <th>total sulfur dioxide</th>\n",
       "      <th>density</th>\n",
       "      <th>pH</th>\n",
       "      <th>sulphates</th>\n",
       "      <th>alcohol</th>\n",
       "    </tr>\n",
       "  </thead>\n",
       "  <tbody>\n",
       "    <tr>\n",
       "      <th>1354</th>\n",
       "      <td>7.2</td>\n",
       "      <td>0.58</td>\n",
       "      <td>0.03</td>\n",
       "      <td>2.3</td>\n",
       "      <td>0.077</td>\n",
       "      <td>7.0</td>\n",
       "      <td>28.0</td>\n",
       "      <td>0.99568</td>\n",
       "      <td>3.35</td>\n",
       "      <td>0.52</td>\n",
       "      <td>10.0</td>\n",
       "    </tr>\n",
       "    <tr>\n",
       "      <th>296</th>\n",
       "      <td>10.6</td>\n",
       "      <td>0.83</td>\n",
       "      <td>0.37</td>\n",
       "      <td>2.6</td>\n",
       "      <td>0.086</td>\n",
       "      <td>26.0</td>\n",
       "      <td>70.0</td>\n",
       "      <td>0.99810</td>\n",
       "      <td>3.16</td>\n",
       "      <td>0.52</td>\n",
       "      <td>9.9</td>\n",
       "    </tr>\n",
       "    <tr>\n",
       "      <th>925</th>\n",
       "      <td>8.6</td>\n",
       "      <td>0.22</td>\n",
       "      <td>0.36</td>\n",
       "      <td>1.9</td>\n",
       "      <td>0.064</td>\n",
       "      <td>53.0</td>\n",
       "      <td>77.0</td>\n",
       "      <td>0.99604</td>\n",
       "      <td>3.47</td>\n",
       "      <td>0.87</td>\n",
       "      <td>11.0</td>\n",
       "    </tr>\n",
       "  </tbody>\n",
       "</table>\n",
       "</div>"
      ],
      "text/plain": [
       "      fixed acidity  volatile acidity  citric acid  residual sugar  chlorides  \\\n",
       "1354            7.2              0.58         0.03             2.3      0.077   \n",
       "296            10.6              0.83         0.37             2.6      0.086   \n",
       "925             8.6              0.22         0.36             1.9      0.064   \n",
       "\n",
       "      free sulfur dioxide  total sulfur dioxide  density    pH  sulphates  \\\n",
       "1354                  7.0                  28.0  0.99568  3.35       0.52   \n",
       "296                  26.0                  70.0  0.99810  3.16       0.52   \n",
       "925                  53.0                  77.0  0.99604  3.47       0.87   \n",
       "\n",
       "      alcohol  \n",
       "1354     10.0  \n",
       "296       9.9  \n",
       "925      11.0  "
      ]
     },
     "execution_count": 90,
     "metadata": {},
     "output_type": "execute_result"
    }
   ],
   "source": [
    "X_train.head(n=3)"
   ]
  },
  {
   "cell_type": "code",
   "execution_count": 91,
   "metadata": {},
   "outputs": [
    {
     "data": {
      "text/plain": [
       "((1199, 11), (400, 11), (1199,), (400,))"
      ]
     },
     "execution_count": 91,
     "metadata": {},
     "output_type": "execute_result"
    }
   ],
   "source": [
    "X_train.shape, X_test.shape, y_train.shape, y_test.shape"
   ]
  },
  {
   "cell_type": "code",
   "execution_count": 92,
   "metadata": {},
   "outputs": [
    {
     "data": {
      "text/plain": [
       "GaussianNB()"
      ]
     },
     "execution_count": 92,
     "metadata": {},
     "output_type": "execute_result"
    }
   ],
   "source": [
    "model = GaussianNB()\n",
    "model.fit(X_train, y_train)"
   ]
  },
  {
   "cell_type": "code",
   "execution_count": 93,
   "metadata": {},
   "outputs": [
    {
     "name": "stdout",
     "output_type": "stream",
     "text": [
      "Dokladnosc wytrenowanego modelu: 92.7710843373494%\n"
     ]
    }
   ],
   "source": [
    "y_pred = model.predict(X_test)\n",
    "acc_25 = accuracy_score(y_test, y_pred) * 100\n",
    "\n",
    "print(f'Dokladnosc wytrenowanego modelu: {acc}%')\n"
   ]
  },
  {
   "cell_type": "code",
   "execution_count": 94,
   "metadata": {},
   "outputs": [
    {
     "name": "stdout",
     "output_type": "stream",
     "text": [
      "Przydzielona decyzja: 5, oryginalna decyzja: 6\n"
     ]
    }
   ],
   "source": [
    "id_ = 10\n",
    "\n",
    "pred = model.predict([X_test.iloc[id_].tolist()])\n",
    "original_decision = y_test.iloc[id_]\n",
    "\n",
    "print(f'Przydzielona decyzja: {pred[0]}, oryginalna decyzja: {original_decision}')"
   ]
  },
  {
   "cell_type": "markdown",
   "metadata": {},
   "source": [
    "#### 55% system treningowy i 45% system testowy"
   ]
  },
  {
   "cell_type": "code",
   "execution_count": 95,
   "metadata": {},
   "outputs": [],
   "source": [
    "X = df.drop('quality', axis=1)\n",
    "y = df['quality']\n",
    "X_train, X_test, y_train, y_test = train_test_split(X, y, test_size=.45)"
   ]
  },
  {
   "cell_type": "code",
   "execution_count": 96,
   "metadata": {},
   "outputs": [
    {
     "data": {
      "text/plain": [
       "((879, 11), (720, 11), (879,), (720,))"
      ]
     },
     "execution_count": 96,
     "metadata": {},
     "output_type": "execute_result"
    }
   ],
   "source": [
    "X_train.shape, X_test.shape, y_train.shape, y_test.shape"
   ]
  },
  {
   "cell_type": "code",
   "execution_count": 97,
   "metadata": {},
   "outputs": [
    {
     "data": {
      "text/plain": [
       "GaussianNB()"
      ]
     },
     "execution_count": 97,
     "metadata": {},
     "output_type": "execute_result"
    }
   ],
   "source": [
    "model = GaussianNB()\n",
    "model.fit(X_train, y_train)"
   ]
  },
  {
   "cell_type": "code",
   "execution_count": 98,
   "metadata": {},
   "outputs": [
    {
     "name": "stdout",
     "output_type": "stream",
     "text": [
      "Dokladnosc wytrenowanego modelu: 92.7710843373494%\n"
     ]
    }
   ],
   "source": [
    "y_pred = model.predict(X_test)\n",
    "acc_45 = accuracy_score(y_test, y_pred) * 100\n",
    "\n",
    "print(f'Dokladnosc wytrenowanego modelu: {acc}%')\n"
   ]
  },
  {
   "cell_type": "code",
   "execution_count": 99,
   "metadata": {},
   "outputs": [
    {
     "name": "stdout",
     "output_type": "stream",
     "text": [
      "Przydzielona decyzja: 7, oryginalna decyzja: 6\n"
     ]
    }
   ],
   "source": [
    "id_ = 10\n",
    "\n",
    "pred = model.predict([X_test.iloc[id_].tolist()])\n",
    "original_decision = y_test.iloc[id_]\n",
    "\n",
    "print(f'Przydzielona decyzja: {pred[0]}, oryginalna decyzja: {original_decision}')"
   ]
  },
  {
   "cell_type": "markdown",
   "metadata": {},
   "source": [
    "#### 65% system treningowy i 35% system testowy"
   ]
  },
  {
   "cell_type": "code",
   "execution_count": 100,
   "metadata": {},
   "outputs": [
    {
     "data": {
      "text/plain": [
       "((1039, 11), (560, 11), (1039,), (560,))"
      ]
     },
     "execution_count": 100,
     "metadata": {},
     "output_type": "execute_result"
    }
   ],
   "source": [
    "X = df.drop('quality', axis=1)\n",
    "y = df['quality']\n",
    "X_train, X_test, y_train, y_test = train_test_split(X, y, test_size=.35)\n",
    "\n",
    "X_train.shape, X_test.shape, y_train.shape, y_test.shape"
   ]
  },
  {
   "cell_type": "code",
   "execution_count": 101,
   "metadata": {},
   "outputs": [
    {
     "data": {
      "text/plain": [
       "GaussianNB()"
      ]
     },
     "execution_count": 101,
     "metadata": {},
     "output_type": "execute_result"
    }
   ],
   "source": [
    "model = GaussianNB()\n",
    "model.fit(X_train, y_train)"
   ]
  },
  {
   "cell_type": "code",
   "execution_count": 102,
   "metadata": {},
   "outputs": [
    {
     "name": "stdout",
     "output_type": "stream",
     "text": [
      "Dokladnosc wytrenowanego modelu: 92.7710843373494%\n"
     ]
    }
   ],
   "source": [
    "y_pred = model.predict(X_test)\n",
    "acc_35 = accuracy_score(y_test, y_pred) * 100\n",
    "\n",
    "print(f'Dokladnosc wytrenowanego modelu: {acc}%')\n"
   ]
  },
  {
   "cell_type": "code",
   "execution_count": 103,
   "metadata": {},
   "outputs": [
    {
     "name": "stdout",
     "output_type": "stream",
     "text": [
      "Przydzielona decyzja: 6, oryginalna decyzja: 6\n"
     ]
    }
   ],
   "source": [
    "id_ = 10\n",
    "\n",
    "pred = model.predict([X_test.iloc[id_].tolist()])\n",
    "original_decision = y_test.iloc[id_]\n",
    "\n",
    "print(f'Przydzielona decyzja: {pred[0]}, oryginalna decyzja: {original_decision}')"
   ]
  },
  {
   "cell_type": "markdown",
   "metadata": {},
   "source": [
    "#### 60% system treningowy i 40% system testowy"
   ]
  },
  {
   "cell_type": "code",
   "execution_count": 104,
   "metadata": {},
   "outputs": [
    {
     "data": {
      "text/plain": [
       "((959, 11), (640, 11), (959,), (640,))"
      ]
     },
     "execution_count": 104,
     "metadata": {},
     "output_type": "execute_result"
    }
   ],
   "source": [
    "X = df.drop('quality', axis=1)\n",
    "y = df['quality']\n",
    "X_train, X_test, y_train, y_test = train_test_split(X, y, test_size=.40)\n",
    "\n",
    "X_train.shape, X_test.shape, y_train.shape, y_test.shape"
   ]
  },
  {
   "cell_type": "code",
   "execution_count": 105,
   "metadata": {},
   "outputs": [
    {
     "data": {
      "text/plain": [
       "GaussianNB()"
      ]
     },
     "execution_count": 105,
     "metadata": {},
     "output_type": "execute_result"
    }
   ],
   "source": [
    "model = GaussianNB()\n",
    "model.fit(X_train, y_train)"
   ]
  },
  {
   "cell_type": "code",
   "execution_count": 106,
   "metadata": {},
   "outputs": [
    {
     "name": "stdout",
     "output_type": "stream",
     "text": [
      "Dokladnosc wytrenowanego modelu: 55.78125000000001%\n"
     ]
    }
   ],
   "source": [
    "y_pred = model.predict(X_test)\n",
    "acc_40 = accuracy_score(y_test, y_pred) * 100\n",
    "\n",
    "print(f'Dokladnosc wytrenowanego modelu: {acc_40}%')\n"
   ]
  },
  {
   "cell_type": "code",
   "execution_count": 107,
   "metadata": {},
   "outputs": [
    {
     "name": "stdout",
     "output_type": "stream",
     "text": [
      "Przydzielona decyzja: 7, oryginalna decyzja: 7\n"
     ]
    }
   ],
   "source": [
    "id_ = 10\n",
    "\n",
    "pred = model.predict([X_test.iloc[id_].tolist()])\n",
    "original_decision = y_test.iloc[id_]\n",
    "\n",
    "print(f'Przydzielona decyzja: {pred[0]}, oryginalna decyzja: {original_decision}')"
   ]
  },
  {
   "cell_type": "markdown",
   "metadata": {},
   "source": [
    "#### 70% system treningowy i 30% system testowy"
   ]
  },
  {
   "cell_type": "code",
   "execution_count": 108,
   "metadata": {},
   "outputs": [
    {
     "data": {
      "text/plain": [
       "((1119, 11), (480, 11), (1119,), (480,))"
      ]
     },
     "execution_count": 108,
     "metadata": {},
     "output_type": "execute_result"
    }
   ],
   "source": [
    "X = df.drop('quality', axis=1)\n",
    "y = df['quality']\n",
    "X_train, X_test, y_train, y_test = train_test_split(X, y, test_size=.30)\n",
    "\n",
    "X_train.shape, X_test.shape, y_train.shape, y_test.shape"
   ]
  },
  {
   "cell_type": "code",
   "execution_count": 109,
   "metadata": {},
   "outputs": [
    {
     "data": {
      "text/plain": [
       "GaussianNB()"
      ]
     },
     "execution_count": 109,
     "metadata": {},
     "output_type": "execute_result"
    }
   ],
   "source": [
    "model = GaussianNB()\n",
    "model.fit(X_train, y_train)"
   ]
  },
  {
   "cell_type": "code",
   "execution_count": 110,
   "metadata": {},
   "outputs": [
    {
     "name": "stdout",
     "output_type": "stream",
     "text": [
      "Dokladnosc wytrenowanego modelu: 92.7710843373494%\n"
     ]
    }
   ],
   "source": [
    "y_pred = model.predict(X_test)\n",
    "acc_30 = accuracy_score(y_test, y_pred) * 100\n",
    "\n",
    "print(f'Dokladnosc wytrenowanego modelu: {acc}%')"
   ]
  },
  {
   "cell_type": "code",
   "execution_count": 111,
   "metadata": {},
   "outputs": [
    {
     "name": "stdout",
     "output_type": "stream",
     "text": [
      "Przydzielona decyzja: 4, oryginalna decyzja: 5\n"
     ]
    }
   ],
   "source": [
    "id_ = 10\n",
    "\n",
    "pred = model.predict([X_test.iloc[id_].tolist()])\n",
    "original_decision = y_test.iloc[id_]\n",
    "\n",
    "print(f'Przydzielona decyzja: {pred[0]}, oryginalna decyzja: {original_decision}')"
   ]
  },
  {
   "cell_type": "markdown",
   "metadata": {},
   "source": [
    "#### 75% system treningowy i 25% system testowy"
   ]
  },
  {
   "cell_type": "code",
   "execution_count": 112,
   "metadata": {},
   "outputs": [
    {
     "data": {
      "text/plain": [
       "((1199, 11), (400, 11), (1199,), (400,))"
      ]
     },
     "execution_count": 112,
     "metadata": {},
     "output_type": "execute_result"
    }
   ],
   "source": [
    "X = df.drop('quality', axis=1)\n",
    "y = df['quality']\n",
    "X_train, X_test, y_train, y_test = train_test_split(X, y, test_size=.25)\n",
    "\n",
    "X_train.shape, X_test.shape, y_train.shape, y_test.shape"
   ]
  },
  {
   "cell_type": "code",
   "execution_count": 113,
   "metadata": {},
   "outputs": [
    {
     "data": {
      "text/plain": [
       "GaussianNB()"
      ]
     },
     "execution_count": 113,
     "metadata": {},
     "output_type": "execute_result"
    }
   ],
   "source": [
    "model = GaussianNB()\n",
    "model.fit(X_train, y_train)"
   ]
  },
  {
   "cell_type": "code",
   "execution_count": 114,
   "metadata": {},
   "outputs": [
    {
     "name": "stdout",
     "output_type": "stream",
     "text": [
      "Dokladnosc wytrenowanego modelu: 54.0%\n"
     ]
    }
   ],
   "source": [
    "y_pred = model.predict(X_test)\n",
    "acc_25 = accuracy_score(y_test, y_pred) * 100\n",
    "\n",
    "print(f'Dokladnosc wytrenowanego modelu: {acc_25}%')"
   ]
  },
  {
   "cell_type": "code",
   "execution_count": 115,
   "metadata": {},
   "outputs": [
    {
     "name": "stdout",
     "output_type": "stream",
     "text": [
      "Przydzielona decyzja: 5, oryginalna decyzja: 5\n"
     ]
    }
   ],
   "source": [
    "id_ = 10\n",
    "\n",
    "pred = model.predict([X_test.iloc[id_].tolist()])\n",
    "original_decision = y_test.iloc[id_]\n",
    "\n",
    "print(f'Przydzielona decyzja: {pred[0]}, oryginalna decyzja: {original_decision}')"
   ]
  },
  {
   "cell_type": "code",
   "execution_count": 116,
   "metadata": {},
   "outputs": [],
   "source": [
    "names=['75% system treningowy i 25% system testowy','70% system treningowy i 30% system testowy','65% system treningowy i 35% system testowy','60% system treningowy i 40% system testowy','55% system treningowy i 45% system testowy']"
   ]
  },
  {
   "cell_type": "code",
   "execution_count": 117,
   "metadata": {},
   "outputs": [
    {
     "data": {
      "text/plain": [
       "[0.776694045174538,\n",
       " 0.7729636048526863,\n",
       " 0.7861386138613862,\n",
       " 0.7744418783679754,\n",
       " 0.7828096118299446,\n",
       " 0.7759815242494226,\n",
       " 0.7832217757545822]"
      ]
     },
     "execution_count": 117,
     "metadata": {},
     "output_type": "execute_result"
    }
   ],
   "source": [
    "accuracy"
   ]
  },
  {
   "cell_type": "code",
   "execution_count": 122,
   "metadata": {},
   "outputs": [
    {
     "data": {
      "text/plain": [
       "\"x,y=names, accuracy\\nresults=pd.DataFrame(y,x)\\ncolumns=['accuracy']\\nresults.columns=names\\nresults.sort_values('accuracy')\""
      ]
     },
     "execution_count": 122,
     "metadata": {},
     "output_type": "execute_result"
    }
   ],
   "source": [
    "\"\"\"x,y=names, accuracy\n",
    "results=pd.DataFrame(y,x)\n",
    "columns=['accuracy']\n",
    "results.columns=names\n",
    "results.sort_values('accuracy')\"\"\""
   ]
  },
  {
   "cell_type": "code",
   "execution_count": 123,
   "metadata": {},
   "outputs": [
    {
     "data": {
      "text/plain": [
       "'import matplotlib.pyplot as plt\\nimport numpy as np\\nfig = plt.figure(figsize=(10,8))\\nwidth = 0.4 # the width of the bars \\nind = np.arange(len(x))  # the x locations for the groups\\n\\nplt.bar(x, y, width)\\nplt.xticks(ind, rotation=90, fontsize = 12)\\nplt.yticks(fontsize = 12)\\nplt.grid(alpha=0.4)\\nplt.ylabel(\"ACCURACY\", fontsize = 16)\\nplt.title(\"COMPARISON of the ACCURACY - different splits of data\", fontsize = 16, pad = 10)  \\nplt.show()'"
      ]
     },
     "execution_count": 123,
     "metadata": {},
     "output_type": "execute_result"
    }
   ],
   "source": [
    "\"\"\"import matplotlib.pyplot as plt\n",
    "import numpy as np\n",
    "fig = plt.figure(figsize=(10,8))\n",
    "width = 0.4 # the width of the bars \n",
    "ind = np.arange(len(x))  # the x locations for the groups\n",
    "\n",
    "plt.bar(x, y, width)\n",
    "plt.xticks(ind, rotation=90, fontsize = 12)\n",
    "plt.yticks(fontsize = 12)\n",
    "plt.grid(alpha=0.4)\n",
    "plt.ylabel(\"ACCURACY\", fontsize = 16)\n",
    "plt.title(\"COMPARISON of the ACCURACY - different splits of data\", fontsize = 16, pad = 10)  \n",
    "plt.show()\"\"\""
   ]
  },
  {
   "cell_type": "code",
   "execution_count": 124,
   "metadata": {},
   "outputs": [
    {
     "data": {
      "text/html": [
       "<div>\n",
       "<style scoped>\n",
       "    .dataframe tbody tr th:only-of-type {\n",
       "        vertical-align: middle;\n",
       "    }\n",
       "\n",
       "    .dataframe tbody tr th {\n",
       "        vertical-align: top;\n",
       "    }\n",
       "\n",
       "    .dataframe thead th {\n",
       "        text-align: right;\n",
       "    }\n",
       "</style>\n",
       "<table border=\"1\" class=\"dataframe\">\n",
       "  <thead>\n",
       "    <tr style=\"text-align: right;\">\n",
       "      <th></th>\n",
       "      <th>glucose</th>\n",
       "      <th>bloodpressure</th>\n",
       "      <th>diabetes</th>\n",
       "    </tr>\n",
       "  </thead>\n",
       "  <tbody>\n",
       "    <tr>\n",
       "      <th>0</th>\n",
       "      <td>40</td>\n",
       "      <td>85</td>\n",
       "      <td>0</td>\n",
       "    </tr>\n",
       "    <tr>\n",
       "      <th>1</th>\n",
       "      <td>40</td>\n",
       "      <td>92</td>\n",
       "      <td>0</td>\n",
       "    </tr>\n",
       "    <tr>\n",
       "      <th>2</th>\n",
       "      <td>45</td>\n",
       "      <td>63</td>\n",
       "      <td>1</td>\n",
       "    </tr>\n",
       "    <tr>\n",
       "      <th>3</th>\n",
       "      <td>45</td>\n",
       "      <td>80</td>\n",
       "      <td>0</td>\n",
       "    </tr>\n",
       "    <tr>\n",
       "      <th>4</th>\n",
       "      <td>40</td>\n",
       "      <td>73</td>\n",
       "      <td>1</td>\n",
       "    </tr>\n",
       "  </tbody>\n",
       "</table>\n",
       "</div>"
      ],
      "text/plain": [
       "   glucose  bloodpressure  diabetes\n",
       "0       40             85         0\n",
       "1       40             92         0\n",
       "2       45             63         1\n",
       "3       45             80         0\n",
       "4       40             73         1"
      ]
     },
     "execution_count": 124,
     "metadata": {},
     "output_type": "execute_result"
    }
   ],
   "source": [
    "df2 = pd.read_csv('data/data-bayes.csv')\n",
    "\n",
    "df2.head()"
   ]
  },
  {
   "cell_type": "code",
   "execution_count": 130,
   "metadata": {},
   "outputs": [],
   "source": [
    "X = df2.drop('diabetes', axis=1)\n",
    "y = df2['diabetes']"
   ]
  },
  {
   "cell_type": "markdown",
   "metadata": {},
   "source": [
    "#### Walidacja krzyzowa 1"
   ]
  },
  {
   "cell_type": "code",
   "execution_count": 131,
   "metadata": {},
   "outputs": [
    {
     "data": {
      "text/plain": [
       "(995, 3)"
      ]
     },
     "execution_count": 131,
     "metadata": {},
     "output_type": "execute_result"
    }
   ],
   "source": [
    "df2.shape"
   ]
  },
  {
   "cell_type": "code",
   "execution_count": 166,
   "metadata": {},
   "outputs": [],
   "source": [
    "dane_cv= np.array_split(df2.sample(frac=1),5)"
   ]
  },
  {
   "cell_type": "code",
   "execution_count": 167,
   "metadata": {},
   "outputs": [
    {
     "data": {
      "text/plain": [
       "5"
      ]
     },
     "execution_count": 167,
     "metadata": {},
     "output_type": "execute_result"
    }
   ],
   "source": [
    "len(dane_cv)"
   ]
  },
  {
   "cell_type": "code",
   "execution_count": 168,
   "metadata": {},
   "outputs": [
    {
     "name": "stdout",
     "output_type": "stream",
     "text": [
      "Length of k=1 199\n",
      "Length of k=2 199\n",
      "Length of k=3 199\n",
      "Length of k=4 199\n",
      "Length of k=5 199\n"
     ]
    }
   ],
   "source": [
    "print('Length of k=1',len(dane_cv[0]))\n",
    "print('Length of k=2',len(dane_cv[1]))\n",
    "print('Length of k=3',len(dane_cv[2]))\n",
    "print('Length of k=4',len(dane_cv[3]))\n",
    "print('Length of k=5',len(dane_cv[4]))"
   ]
  },
  {
   "cell_type": "code",
   "execution_count": 204,
   "metadata": {},
   "outputs": [],
   "source": [
    "train= pd.concat([dane_cv[1],dane_cv[2],dane_cv[3],dane_cv[4]])\n",
    "test=dane_cv[0]"
   ]
  },
  {
   "cell_type": "code",
   "execution_count": 205,
   "metadata": {},
   "outputs": [
    {
     "data": {
      "text/plain": [
       "((796, 3), (199, 3))"
      ]
     },
     "execution_count": 205,
     "metadata": {},
     "output_type": "execute_result"
    }
   ],
   "source": [
    "train.shape, test.shape"
   ]
  },
  {
   "cell_type": "code",
   "execution_count": 206,
   "metadata": {},
   "outputs": [],
   "source": [
    "X_train = train.drop('diabetes', axis=1)\n",
    "y_train = train['diabetes']"
   ]
  },
  {
   "cell_type": "code",
   "execution_count": 207,
   "metadata": {},
   "outputs": [],
   "source": [
    "X_test = test.drop('diabetes', axis=1)\n",
    "y_test = test['diabetes']"
   ]
  },
  {
   "cell_type": "code",
   "execution_count": 208,
   "metadata": {},
   "outputs": [
    {
     "data": {
      "text/plain": [
       "GaussianNB()"
      ]
     },
     "execution_count": 208,
     "metadata": {},
     "output_type": "execute_result"
    }
   ],
   "source": [
    "model = GaussianNB()\n",
    "model.fit(X_train, y_train)"
   ]
  },
  {
   "cell_type": "code",
   "execution_count": 209,
   "metadata": {},
   "outputs": [
    {
     "name": "stdout",
     "output_type": "stream",
     "text": [
      "Dokladnosc wytrenowanego modelu: 92.96482412060301%\n"
     ]
    }
   ],
   "source": [
    "y_pred = model.predict(X_test)\n",
    "acc1 = accuracy_score(y_test, y_pred) * 100\n",
    "\n",
    "print(f'Dokladnosc wytrenowanego modelu: {acc1}%')\n"
   ]
  },
  {
   "cell_type": "markdown",
   "metadata": {},
   "source": [
    "#### Walidacja krzyzowa 2"
   ]
  },
  {
   "cell_type": "code",
   "execution_count": 210,
   "metadata": {},
   "outputs": [],
   "source": [
    "train= pd.concat([dane_cv[0],dane_cv[2],dane_cv[3],dane_cv[4]])\n",
    "test=dane_cv[1]"
   ]
  },
  {
   "cell_type": "code",
   "execution_count": 176,
   "metadata": {},
   "outputs": [
    {
     "data": {
      "text/plain": [
       "((796, 3), (199, 3))"
      ]
     },
     "execution_count": 176,
     "metadata": {},
     "output_type": "execute_result"
    }
   ],
   "source": [
    "train.shape, test.shape"
   ]
  },
  {
   "cell_type": "code",
   "execution_count": 211,
   "metadata": {},
   "outputs": [],
   "source": [
    "X_train = train.drop('diabetes', axis=1)\n",
    "y_train = train['diabetes']"
   ]
  },
  {
   "cell_type": "code",
   "execution_count": 212,
   "metadata": {},
   "outputs": [],
   "source": [
    "X_test = test.drop('diabetes', axis=1)\n",
    "y_test = test['diabetes']"
   ]
  },
  {
   "cell_type": "code",
   "execution_count": 179,
   "metadata": {},
   "outputs": [
    {
     "data": {
      "text/plain": [
       "GaussianNB()"
      ]
     },
     "execution_count": 179,
     "metadata": {},
     "output_type": "execute_result"
    }
   ],
   "source": [
    "model = GaussianNB()\n",
    "model.fit(X_train, y_train)"
   ]
  },
  {
   "cell_type": "code",
   "execution_count": 213,
   "metadata": {},
   "outputs": [
    {
     "name": "stdout",
     "output_type": "stream",
     "text": [
      "Dokladnosc wytrenowanego modelu: 91.4572864321608%\n"
     ]
    }
   ],
   "source": [
    "y_pred = model.predict(X_test)\n",
    "acc2 = accuracy_score(y_test, y_pred) * 100\n",
    "\n",
    "print(f'Dokladnosc wytrenowanego modelu: {acc2}%')\n"
   ]
  },
  {
   "cell_type": "markdown",
   "metadata": {},
   "source": [
    "#### Walidacja krzyzowa 3\n"
   ]
  },
  {
   "cell_type": "code",
   "execution_count": 214,
   "metadata": {},
   "outputs": [],
   "source": [
    "train= pd.concat([dane_cv[0],dane_cv[1],dane_cv[3],dane_cv[4]])\n",
    "test=dane_cv[2]"
   ]
  },
  {
   "cell_type": "code",
   "execution_count": 215,
   "metadata": {},
   "outputs": [
    {
     "data": {
      "text/plain": [
       "((796, 3), (199, 3))"
      ]
     },
     "execution_count": 215,
     "metadata": {},
     "output_type": "execute_result"
    }
   ],
   "source": [
    "train.shape, test.shape"
   ]
  },
  {
   "cell_type": "code",
   "execution_count": 216,
   "metadata": {},
   "outputs": [],
   "source": [
    "X_train = train.drop('diabetes', axis=1)\n",
    "y_train = train['diabetes']"
   ]
  },
  {
   "cell_type": "code",
   "execution_count": 217,
   "metadata": {},
   "outputs": [],
   "source": [
    "X_test = test.drop('diabetes', axis=1)\n",
    "y_test= test['diabetes']"
   ]
  },
  {
   "cell_type": "code",
   "execution_count": 218,
   "metadata": {},
   "outputs": [
    {
     "data": {
      "text/plain": [
       "GaussianNB()"
      ]
     },
     "execution_count": 218,
     "metadata": {},
     "output_type": "execute_result"
    }
   ],
   "source": [
    "model = GaussianNB()\n",
    "model.fit(X_train, y_train)"
   ]
  },
  {
   "cell_type": "code",
   "execution_count": 220,
   "metadata": {},
   "outputs": [
    {
     "name": "stdout",
     "output_type": "stream",
     "text": [
      "Dokladnosc wytrenowanego modelu: 94.9748743718593%\n"
     ]
    }
   ],
   "source": [
    "y_pred = model.predict(X_test)\n",
    "acc3 = accuracy_score(y_test, y_pred) * 100\n",
    "\n",
    "print(f'Dokladnosc wytrenowanego modelu: {acc3}%')\n"
   ]
  },
  {
   "cell_type": "markdown",
   "metadata": {},
   "source": [
    "#### Walidacja krzyzowa 4"
   ]
  },
  {
   "cell_type": "code",
   "execution_count": 221,
   "metadata": {},
   "outputs": [],
   "source": [
    "train= pd.concat([dane_cv[0],dane_cv[1],dane_cv[2],dane_cv[4]])\n",
    "test=dane_cv[3]"
   ]
  },
  {
   "cell_type": "code",
   "execution_count": 222,
   "metadata": {},
   "outputs": [],
   "source": [
    "X_train = train.drop('diabetes', axis=1)\n",
    "y_train = train['diabetes']"
   ]
  },
  {
   "cell_type": "code",
   "execution_count": 223,
   "metadata": {},
   "outputs": [],
   "source": [
    "X_test = test.drop('diabetes', axis=1)\n",
    "y_test= test['diabetes']"
   ]
  },
  {
   "cell_type": "code",
   "execution_count": 224,
   "metadata": {},
   "outputs": [
    {
     "data": {
      "text/plain": [
       "GaussianNB()"
      ]
     },
     "execution_count": 224,
     "metadata": {},
     "output_type": "execute_result"
    }
   ],
   "source": [
    "model = GaussianNB()\n",
    "model.fit(X_train, y_train)"
   ]
  },
  {
   "cell_type": "code",
   "execution_count": 236,
   "metadata": {},
   "outputs": [
    {
     "name": "stdout",
     "output_type": "stream",
     "text": [
      "Dokladnosc wytrenowanego modelu: 95.47738693467338%\n",
      "STD wytrenowanego modelu: 0.0%\n"
     ]
    }
   ],
   "source": [
    "y_pred = model.predict(X_test3)\n",
    "acc4 = accuracy_score(y_test3, y_pred) * 100\n",
    "\n",
    "print(f'Dokladnosc wytrenowanego modelu: {acc4}%')\n",
    "print(f'STD wytrenowanego modelu: {np.std(acc4)}%')\n"
   ]
  },
  {
   "cell_type": "markdown",
   "metadata": {},
   "source": [
    "#### Walidacja krzyzowa 5"
   ]
  },
  {
   "cell_type": "code",
   "execution_count": 226,
   "metadata": {},
   "outputs": [],
   "source": [
    "train= pd.concat([dane_cv[0],dane_cv[1],dane_cv[2],dane_cv[3]])\n",
    "test=dane_cv[4]"
   ]
  },
  {
   "cell_type": "code",
   "execution_count": 227,
   "metadata": {},
   "outputs": [],
   "source": [
    "X_train = train.drop('diabetes', axis=1)\n",
    "y_train = train['diabetes']"
   ]
  },
  {
   "cell_type": "code",
   "execution_count": 228,
   "metadata": {},
   "outputs": [],
   "source": [
    "X_test = test.drop('diabetes', axis=1)\n",
    "y_test= test['diabetes']"
   ]
  },
  {
   "cell_type": "code",
   "execution_count": 229,
   "metadata": {},
   "outputs": [
    {
     "data": {
      "text/plain": [
       "GaussianNB()"
      ]
     },
     "execution_count": 229,
     "metadata": {},
     "output_type": "execute_result"
    }
   ],
   "source": [
    "model = GaussianNB()\n",
    "model.fit(X_train, y_train)"
   ]
  },
  {
   "cell_type": "code",
   "execution_count": 235,
   "metadata": {},
   "outputs": [
    {
     "name": "stdout",
     "output_type": "stream",
     "text": [
      "Dokladnosc wytrenowanego modelu: 94.9748743718593%\n",
      "STD wytrenowanego modelu: 0.0%\n"
     ]
    }
   ],
   "source": [
    "y_pred = model.predict(X_test)\n",
    "acc5 = accuracy_score(y_test, y_pred) * 100\n",
    "\n",
    "print(f'Dokladnosc wytrenowanego modelu: {acc5}%')\n",
    "print(f'STD wytrenowanego modelu: {np.std(acc5)}%')\n"
   ]
  },
  {
   "cell_type": "code",
   "execution_count": 231,
   "metadata": {},
   "outputs": [],
   "source": [
    "names=['cv1','cv2','cv3','cv4','cv5']\n",
    "accuracy=[acc1,acc2,acc3,acc4,acc5]"
   ]
  },
  {
   "cell_type": "code",
   "execution_count": 232,
   "metadata": {},
   "outputs": [
    {
     "data": {
      "text/html": [
       "<div>\n",
       "<style scoped>\n",
       "    .dataframe tbody tr th:only-of-type {\n",
       "        vertical-align: middle;\n",
       "    }\n",
       "\n",
       "    .dataframe tbody tr th {\n",
       "        vertical-align: top;\n",
       "    }\n",
       "\n",
       "    .dataframe thead th {\n",
       "        text-align: right;\n",
       "    }\n",
       "</style>\n",
       "<table border=\"1\" class=\"dataframe\">\n",
       "  <thead>\n",
       "    <tr style=\"text-align: right;\">\n",
       "      <th></th>\n",
       "      <th>accuracy</th>\n",
       "    </tr>\n",
       "  </thead>\n",
       "  <tbody>\n",
       "    <tr>\n",
       "      <th>cv2</th>\n",
       "      <td>91.457286</td>\n",
       "    </tr>\n",
       "    <tr>\n",
       "      <th>cv1</th>\n",
       "      <td>92.964824</td>\n",
       "    </tr>\n",
       "    <tr>\n",
       "      <th>cv3</th>\n",
       "      <td>94.974874</td>\n",
       "    </tr>\n",
       "    <tr>\n",
       "      <th>cv5</th>\n",
       "      <td>94.974874</td>\n",
       "    </tr>\n",
       "    <tr>\n",
       "      <th>cv4</th>\n",
       "      <td>95.477387</td>\n",
       "    </tr>\n",
       "  </tbody>\n",
       "</table>\n",
       "</div>"
      ],
      "text/plain": [
       "      accuracy\n",
       "cv2  91.457286\n",
       "cv1  92.964824\n",
       "cv3  94.974874\n",
       "cv5  94.974874\n",
       "cv4  95.477387"
      ]
     },
     "execution_count": 232,
     "metadata": {},
     "output_type": "execute_result"
    }
   ],
   "source": [
    "x,y=names, accuracy\n",
    "results=pd.DataFrame(y,x)\n",
    "columns=['accuracy']\n",
    "results.columns=columns\n",
    "results.sort_values('accuracy')"
   ]
  },
  {
   "cell_type": "code",
   "execution_count": 233,
   "metadata": {},
   "outputs": [
    {
     "data": {
      "image/png": "[encoded data removed]",
      "text/plain": [
       "<Figure size 864x720 with 1 Axes>"
      ]
     },
     "metadata": {
      "needs_background": "light"
     },
     "output_type": "display_data"
    }
   ],
   "source": [
    "import matplotlib.pyplot as plt\n",
    "%matplotlib inline\n",
    "fig = plt.figure(figsize=(12,10))\n",
    "width = 0.4 # the width of the bars \n",
    "ind = np.arange(len(x))  # the x locations for the groups\n",
    "\n",
    "plt.bar(x, y, width)\n",
    "plt.xticks(ind, rotation=90, fontsize = 16)\n",
    "plt.yticks(fontsize = 16)\n",
    "plt.grid(alpha=0.4)\n",
    "plt.ylabel(\"ACCURACY\", fontsize = 16)\n",
    "plt.title(\"COMPARISON of the ACCURACY - different splits of data\", fontsize = 16, pad = 20)  \n",
    "plt.show()"
   ]
  },
  {
   "cell_type": "code",
   "execution_count": null,
   "metadata": {},
   "outputs": [],
   "source": []
  }
 ],
 "metadata": {
  "kernelspec": {
   "display_name": "Python 3",
   "language": "python",
   "name": "python3"
  },
  "language_info": {
   "codemirror_mode": {
    "name": "ipython",
    "version": 3
   },
   "file_extension": ".py",
   "mimetype": "text/x-python",
   "name": "python",
   "nbconvert_exporter": "python",
   "pygments_lexer": "ipython3",
   "version": "3.7.4"
  }
 },
 "nbformat": 4,
 "nbformat_minor": 1
}
