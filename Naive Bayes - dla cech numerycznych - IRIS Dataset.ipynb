{
 "cells": [
  {
   "cell_type": "markdown",
   "metadata": {},
   "source": [
    "Gaussian Naive Bayes Classifier From Scratch\n",
    "\n",
    "In this notebook I will create a gaussian naive bayes classifier from scratch, based on Iris dataset.  Dataset contains continuous attribute values. The assumption is that the values associated with each class are distributed according to Gaussian (Normal) distribution. At the end I use it to predict the class of a previously unseen instance.\n",
    "\n",
    "Steps:\n",
    "\n",
    "1. Segment the data by the class\n",
    "2. Compute the mean and variance of x in each class. \n",
    "3. Compute the probability distribution of xi given a class  by the Probability Density Function equation.\n",
    "4. Compute the Maximum A Posteriori and select the highest one."
   ]
  },
  {
   "cell_type": "code",
   "execution_count": 2,
   "metadata": {},
   "outputs": [],
   "source": [
    "# Import libraries\n",
    "import pandas as pd\n",
    "import numpy as np\n",
    "from sklearn import datasets"
   ]
  },
  {
   "cell_type": "code",
   "execution_count": 3,
   "metadata": {},
   "outputs": [],
   "source": [
    "# Import dataset\n",
    "iris = datasets.load_iris() "
   ]
  },
  {
   "cell_type": "code",
   "execution_count": 5,
   "metadata": {},
   "outputs": [],
   "source": [
    "# Create dataframe\n",
    "df=pd.DataFrame(data= np.c_[iris['data'], iris['target']],\n",
    "                     columns= iris['feature_names'] + ['target'])"
   ]
  },
  {
   "cell_type": "code",
   "execution_count": 6,
   "metadata": {},
   "outputs": [
    {
     "data": {
      "text/html": [
       "<div>\n",
       "<style scoped>\n",
       "    .dataframe tbody tr th:only-of-type {\n",
       "        vertical-align: middle;\n",
       "    }\n",
       "\n",
       "    .dataframe tbody tr th {\n",
       "        vertical-align: top;\n",
       "    }\n",
       "\n",
       "    .dataframe thead th {\n",
       "        text-align: right;\n",
       "    }\n",
       "</style>\n",
       "<table border=\"1\" class=\"dataframe\">\n",
       "  <thead>\n",
       "    <tr style=\"text-align: right;\">\n",
       "      <th></th>\n",
       "      <th>sepal length (cm)</th>\n",
       "      <th>sepal width (cm)</th>\n",
       "      <th>petal length (cm)</th>\n",
       "      <th>petal width (cm)</th>\n",
       "      <th>target</th>\n",
       "    </tr>\n",
       "  </thead>\n",
       "  <tbody>\n",
       "    <tr>\n",
       "      <th>0</th>\n",
       "      <td>5.1</td>\n",
       "      <td>3.5</td>\n",
       "      <td>1.4</td>\n",
       "      <td>0.2</td>\n",
       "      <td>0.0</td>\n",
       "    </tr>\n",
       "    <tr>\n",
       "      <th>1</th>\n",
       "      <td>4.9</td>\n",
       "      <td>3.0</td>\n",
       "      <td>1.4</td>\n",
       "      <td>0.2</td>\n",
       "      <td>0.0</td>\n",
       "    </tr>\n",
       "    <tr>\n",
       "      <th>2</th>\n",
       "      <td>4.7</td>\n",
       "      <td>3.2</td>\n",
       "      <td>1.3</td>\n",
       "      <td>0.2</td>\n",
       "      <td>0.0</td>\n",
       "    </tr>\n",
       "    <tr>\n",
       "      <th>3</th>\n",
       "      <td>4.6</td>\n",
       "      <td>3.1</td>\n",
       "      <td>1.5</td>\n",
       "      <td>0.2</td>\n",
       "      <td>0.0</td>\n",
       "    </tr>\n",
       "    <tr>\n",
       "      <th>4</th>\n",
       "      <td>5.0</td>\n",
       "      <td>3.6</td>\n",
       "      <td>1.4</td>\n",
       "      <td>0.2</td>\n",
       "      <td>0.0</td>\n",
       "    </tr>\n",
       "  </tbody>\n",
       "</table>\n",
       "</div>"
      ],
      "text/plain": [
       "   sepal length (cm)  sepal width (cm)  petal length (cm)  petal width (cm)  \\\n",
       "0                5.1               3.5                1.4               0.2   \n",
       "1                4.9               3.0                1.4               0.2   \n",
       "2                4.7               3.2                1.3               0.2   \n",
       "3                4.6               3.1                1.5               0.2   \n",
       "4                5.0               3.6                1.4               0.2   \n",
       "\n",
       "   target  \n",
       "0     0.0  \n",
       "1     0.0  \n",
       "2     0.0  \n",
       "3     0.0  \n",
       "4     0.0  "
      ]
     },
     "execution_count": 6,
     "metadata": {},
     "output_type": "execute_result"
    }
   ],
   "source": [
    "# Exploratory data analysis\n",
    "df.head()"
   ]
  },
  {
   "cell_type": "code",
   "execution_count": 16,
   "metadata": {},
   "outputs": [
    {
     "data": {
      "text/html": [
       "<div>\n",
       "<style scoped>\n",
       "    .dataframe tbody tr th:only-of-type {\n",
       "        vertical-align: middle;\n",
       "    }\n",
       "\n",
       "    .dataframe tbody tr th {\n",
       "        vertical-align: top;\n",
       "    }\n",
       "\n",
       "    .dataframe thead th {\n",
       "        text-align: right;\n",
       "    }\n",
       "</style>\n",
       "<table border=\"1\" class=\"dataframe\">\n",
       "  <thead>\n",
       "    <tr style=\"text-align: right;\">\n",
       "      <th></th>\n",
       "      <th>sepal_length</th>\n",
       "      <th>sepal_width</th>\n",
       "      <th>petal_length</th>\n",
       "      <th>petal_width</th>\n",
       "      <th>target</th>\n",
       "    </tr>\n",
       "  </thead>\n",
       "  <tbody>\n",
       "    <tr>\n",
       "      <th>count</th>\n",
       "      <td>150.000000</td>\n",
       "      <td>150.000000</td>\n",
       "      <td>150.000000</td>\n",
       "      <td>150.000000</td>\n",
       "      <td>150.000000</td>\n",
       "    </tr>\n",
       "    <tr>\n",
       "      <th>mean</th>\n",
       "      <td>5.843333</td>\n",
       "      <td>3.057333</td>\n",
       "      <td>3.758000</td>\n",
       "      <td>1.199333</td>\n",
       "      <td>1.000000</td>\n",
       "    </tr>\n",
       "    <tr>\n",
       "      <th>std</th>\n",
       "      <td>0.828066</td>\n",
       "      <td>0.435866</td>\n",
       "      <td>1.765298</td>\n",
       "      <td>0.762238</td>\n",
       "      <td>0.819232</td>\n",
       "    </tr>\n",
       "    <tr>\n",
       "      <th>min</th>\n",
       "      <td>4.300000</td>\n",
       "      <td>2.000000</td>\n",
       "      <td>1.000000</td>\n",
       "      <td>0.100000</td>\n",
       "      <td>0.000000</td>\n",
       "    </tr>\n",
       "    <tr>\n",
       "      <th>25%</th>\n",
       "      <td>5.100000</td>\n",
       "      <td>2.800000</td>\n",
       "      <td>1.600000</td>\n",
       "      <td>0.300000</td>\n",
       "      <td>0.000000</td>\n",
       "    </tr>\n",
       "    <tr>\n",
       "      <th>50%</th>\n",
       "      <td>5.800000</td>\n",
       "      <td>3.000000</td>\n",
       "      <td>4.350000</td>\n",
       "      <td>1.300000</td>\n",
       "      <td>1.000000</td>\n",
       "    </tr>\n",
       "    <tr>\n",
       "      <th>75%</th>\n",
       "      <td>6.400000</td>\n",
       "      <td>3.300000</td>\n",
       "      <td>5.100000</td>\n",
       "      <td>1.800000</td>\n",
       "      <td>2.000000</td>\n",
       "    </tr>\n",
       "    <tr>\n",
       "      <th>max</th>\n",
       "      <td>7.900000</td>\n",
       "      <td>4.400000</td>\n",
       "      <td>6.900000</td>\n",
       "      <td>2.500000</td>\n",
       "      <td>2.000000</td>\n",
       "    </tr>\n",
       "  </tbody>\n",
       "</table>\n",
       "</div>"
      ],
      "text/plain": [
       "       sepal_length  sepal_width  petal_length  petal_width      target\n",
       "count    150.000000   150.000000    150.000000   150.000000  150.000000\n",
       "mean       5.843333     3.057333      3.758000     1.199333    1.000000\n",
       "std        0.828066     0.435866      1.765298     0.762238    0.819232\n",
       "min        4.300000     2.000000      1.000000     0.100000    0.000000\n",
       "25%        5.100000     2.800000      1.600000     0.300000    0.000000\n",
       "50%        5.800000     3.000000      4.350000     1.300000    1.000000\n",
       "75%        6.400000     3.300000      5.100000     1.800000    2.000000\n",
       "max        7.900000     4.400000      6.900000     2.500000    2.000000"
      ]
     },
     "execution_count": 16,
     "metadata": {},
     "output_type": "execute_result"
    }
   ],
   "source": [
    "df.describe()"
   ]
  },
  {
   "cell_type": "code",
   "execution_count": 7,
   "metadata": {},
   "outputs": [
    {
     "data": {
      "text/plain": [
       "array([0., 1., 2.])"
      ]
     },
     "execution_count": 7,
     "metadata": {},
     "output_type": "execute_result"
    }
   ],
   "source": [
    "# To check the number of targets\n",
    "df['target'].unique()  "
   ]
  },
  {
   "cell_type": "code",
   "execution_count": 8,
   "metadata": {},
   "outputs": [
    {
     "data": {
      "text/plain": [
       "target\n",
       "0.0    50\n",
       "1.0    50\n",
       "2.0    50\n",
       "dtype: int64"
      ]
     },
     "execution_count": 8,
     "metadata": {},
     "output_type": "execute_result"
    }
   ],
   "source": [
    "# To check the balance of dataset\n",
    "df.groupby('target').size()"
   ]
  },
  {
   "cell_type": "code",
   "execution_count": 17,
   "metadata": {},
   "outputs": [],
   "source": [
    "# Rename column names\n",
    "df=df.rename({'sepal length (cm)':'sepal_length', 'sepal width (cm)':'sepal_width', 'petal length (cm)':'petal_length', 'petal width (cm)':'petal_width'}, axis=1)"
   ]
  },
  {
   "cell_type": "code",
   "execution_count": 11,
   "metadata": {},
   "outputs": [
    {
     "data": {
      "text/html": [
       "<div>\n",
       "<style scoped>\n",
       "    .dataframe tbody tr th:only-of-type {\n",
       "        vertical-align: middle;\n",
       "    }\n",
       "\n",
       "    .dataframe tbody tr th {\n",
       "        vertical-align: top;\n",
       "    }\n",
       "\n",
       "    .dataframe thead th {\n",
       "        text-align: right;\n",
       "    }\n",
       "</style>\n",
       "<table border=\"1\" class=\"dataframe\">\n",
       "  <thead>\n",
       "    <tr style=\"text-align: right;\">\n",
       "      <th></th>\n",
       "      <th>sepal_length</th>\n",
       "      <th>sepal_width</th>\n",
       "      <th>petal_length</th>\n",
       "      <th>petal_width</th>\n",
       "      <th>target</th>\n",
       "    </tr>\n",
       "  </thead>\n",
       "  <tbody>\n",
       "    <tr>\n",
       "      <th>0</th>\n",
       "      <td>5.1</td>\n",
       "      <td>3.5</td>\n",
       "      <td>1.4</td>\n",
       "      <td>0.2</td>\n",
       "      <td>0.0</td>\n",
       "    </tr>\n",
       "    <tr>\n",
       "      <th>1</th>\n",
       "      <td>4.9</td>\n",
       "      <td>3.0</td>\n",
       "      <td>1.4</td>\n",
       "      <td>0.2</td>\n",
       "      <td>0.0</td>\n",
       "    </tr>\n",
       "    <tr>\n",
       "      <th>2</th>\n",
       "      <td>4.7</td>\n",
       "      <td>3.2</td>\n",
       "      <td>1.3</td>\n",
       "      <td>0.2</td>\n",
       "      <td>0.0</td>\n",
       "    </tr>\n",
       "    <tr>\n",
       "      <th>3</th>\n",
       "      <td>4.6</td>\n",
       "      <td>3.1</td>\n",
       "      <td>1.5</td>\n",
       "      <td>0.2</td>\n",
       "      <td>0.0</td>\n",
       "    </tr>\n",
       "    <tr>\n",
       "      <th>4</th>\n",
       "      <td>5.0</td>\n",
       "      <td>3.6</td>\n",
       "      <td>1.4</td>\n",
       "      <td>0.2</td>\n",
       "      <td>0.0</td>\n",
       "    </tr>\n",
       "  </tbody>\n",
       "</table>\n",
       "</div>"
      ],
      "text/plain": [
       "   sepal_length  sepal_width  petal_length  petal_width  target\n",
       "0           5.1          3.5           1.4          0.2     0.0\n",
       "1           4.9          3.0           1.4          0.2     0.0\n",
       "2           4.7          3.2           1.3          0.2     0.0\n",
       "3           4.6          3.1           1.5          0.2     0.0\n",
       "4           5.0          3.6           1.4          0.2     0.0"
      ]
     },
     "execution_count": 11,
     "metadata": {},
     "output_type": "execute_result"
    }
   ],
   "source": [
    "df.head()"
   ]
  },
  {
   "cell_type": "markdown",
   "metadata": {},
   "source": [
    "## Naive Bayes algorithm intuition\n",
    "\n",
    "Bayes theorem allows us to make predictions based on data. Naïve Bayes Classifier uses the Bayes’ theorem to predict membership probabilities for each class such as the probability that given record or data point belongs to a particular class. The class with the highest probability is considered as the most likely class. Here is the classic version of the Bayes theorem:\n",
    "\n",
    "### P(A∣B)= P(B∣A) * P(A) / P(B)\n",
    "In words:\n",
    "### P(class∣data) = P(data∣class) * P(class) / P(data)\n",
    "                \n",
    "class - is a particular class (in our example class is 0,1 or 2)\n",
    "\n",
    "data - is an observation’s data\n",
    "\n",
    "p(class∣data) - is called the posterior - this is what we are looking for\n",
    "\n",
    "p(data|class) - is called the likelihood - for real data, like here, we calculate it from probability density function. We need to calculate it for every feature in the dataset. The “gaussian” and “naive” come from two assumptions present in this likelihood: \n",
    "\n",
    "#### 1. Assumption that each feature is uncorrelated from each other. This is obviously not true, and is a “naive” assumption - hence the name “naive bayes.”\n",
    "#### 2. Assumption that  the value of the features (e.g. petal_length) are normally (gaussian) distributed. This means that P(data/class) is calculated by inputing the required parameters into the probability density function of the normal distribution:\n",
    "\n",
    "\n",
    "p(class) - is called the prior. This is just the number of instances belonging to particular class in the dataset divided by the total number of instances in the dataset.\n",
    "p(data) - is called the marginal probability, which is the same for all classes and will be ignored.   \n",
    "\n",
    "\n",
    "## In a bayes classifier, we calculate the numerator of posterior for every class for each observation and of course we pick the largets. This is also known as the Maximum A Posteriori (MAP)\n",
    "\n",
    "Example from our dataset:\n",
    "\n",
    "P(class=0|Iris data)(MAP) = P(sepal_length|class=0) * P(sepal_width|class=0) * P(petal_length|class=0) * P(petal_width|class=0) * P(class=0) \n"
   ]
  },
  {
   "cell_type": "code",
   "execution_count": 12,
   "metadata": {},
   "outputs": [
    {
     "data": {
      "text/plain": [
       "array([50, 50, 50])"
      ]
     },
     "execution_count": 12,
     "metadata": {},
     "output_type": "execute_result"
    }
   ],
   "source": [
    "#1.Segment data by class and calculate Priors - P(class)\n",
    "\n",
    "df.groupby('target').size().to_numpy()"
   ]
  },
  {
   "cell_type": "code",
   "execution_count": 13,
   "metadata": {},
   "outputs": [],
   "source": [
    "total=len(df['target'])"
   ]
  },
  {
   "cell_type": "code",
   "execution_count": 14,
   "metadata": {},
   "outputs": [],
   "source": [
    "Prior_klasa0=df.groupby('target').size().to_numpy()[0]/total\n",
    "Prior_klasa1=df.groupby('target').size().to_numpy()[1]/total\n",
    "Prior_klasa2=df.groupby('target').size().to_numpy()[2]/total"
   ]
  },
  {
   "cell_type": "code",
   "execution_count": 18,
   "metadata": {},
   "outputs": [
    {
     "name": "stdout",
     "output_type": "stream",
     "text": [
      "Prior probability of class 0: 0.3333333333333333\n",
      "Prior probability of class 1: 0.3333333333333333\n",
      "Prior probability of class 2: 0.3333333333333333\n"
     ]
    }
   ],
   "source": [
    "print('Prior probability of class 0:', Prior_klasa0)\n",
    "print('Prior probability of class 1:', Prior_klasa1)\n",
    "print('Prior probability of class 2:', Prior_klasa2)"
   ]
  },
  {
   "cell_type": "code",
   "execution_count": 19,
   "metadata": {},
   "outputs": [],
   "source": [
    "# 2.Compute the mean and std for each class and feature combination:\n",
    "\n",
    "sepal_length_mean=df['sepal_length'].groupby(df['target']).mean()\n",
    "sepal_width_mean=df['sepal_width'].groupby(df['target']).mean()\n",
    "petal_length_mean=df['petal_length'].groupby(df['target']).mean()\n",
    "petal_width_mean=df['petal_width'].groupby(df['target']).mean()"
   ]
  },
  {
   "cell_type": "code",
   "execution_count": 20,
   "metadata": {},
   "outputs": [
    {
     "name": "stdout",
     "output_type": "stream",
     "text": [
      "Sepal_length_mean for 0,1 and 2 class: target\n",
      "0.0    5.006\n",
      "1.0    5.936\n",
      "2.0    6.588\n",
      "Name: sepal_length, dtype: float64\n",
      "Sepal_width_mean for 0,1 and 2 class: target\n",
      "0.0    3.428\n",
      "1.0    2.770\n",
      "2.0    2.974\n",
      "Name: sepal_width, dtype: float64\n",
      "Petal_length_mean for 0,1 and 2 class: target\n",
      "0.0    1.462\n",
      "1.0    4.260\n",
      "2.0    5.552\n",
      "Name: petal_length, dtype: float64\n",
      "Petal_width_mean for 0,1 and 2 class: target\n",
      "0.0    0.246\n",
      "1.0    1.326\n",
      "2.0    2.026\n",
      "Name: petal_width, dtype: float64\n"
     ]
    }
   ],
   "source": [
    "print('Sepal_length_mean for 0,1 and 2 class:', sepal_length_mean)\n",
    "print('Sepal_width_mean for 0,1 and 2 class:', sepal_width_mean)\n",
    "print('Petal_length_mean for 0,1 and 2 class:', petal_length_mean)\n",
    "print('Petal_width_mean for 0,1 and 2 class:', petal_width_mean)"
   ]
  },
  {
   "cell_type": "code",
   "execution_count": 21,
   "metadata": {},
   "outputs": [
    {
     "data": {
      "text/plain": [
       "array([5.006, 5.936, 6.588])"
      ]
     },
     "execution_count": 21,
     "metadata": {},
     "output_type": "execute_result"
    }
   ],
   "source": [
    "sepal_length_mean.to_numpy()"
   ]
  },
  {
   "cell_type": "code",
   "execution_count": 22,
   "metadata": {},
   "outputs": [
    {
     "data": {
      "text/plain": [
       "array([3.428, 2.77 , 2.974])"
      ]
     },
     "execution_count": 22,
     "metadata": {},
     "output_type": "execute_result"
    }
   ],
   "source": [
    "sepal_width_mean.to_numpy()"
   ]
  },
  {
   "cell_type": "code",
   "execution_count": 23,
   "metadata": {},
   "outputs": [
    {
     "data": {
      "text/plain": [
       "array([1.462, 4.26 , 5.552])"
      ]
     },
     "execution_count": 23,
     "metadata": {},
     "output_type": "execute_result"
    }
   ],
   "source": [
    "petal_length_mean.to_numpy()"
   ]
  },
  {
   "cell_type": "code",
   "execution_count": 24,
   "metadata": {},
   "outputs": [
    {
     "data": {
      "text/plain": [
       "array([0.246, 1.326, 2.026])"
      ]
     },
     "execution_count": 24,
     "metadata": {},
     "output_type": "execute_result"
    }
   ],
   "source": [
    "petal_width_mean.to_numpy()"
   ]
  },
  {
   "cell_type": "code",
   "execution_count": 25,
   "metadata": {},
   "outputs": [],
   "source": [
    "sepal_length_std=df['sepal_length'].groupby(df['target']).std()\n",
    "sepal_width_std=df['sepal_width'].groupby(df['target']).std()\n",
    "petal_length_std=df['petal_length'].groupby(df['target']).std()\n",
    "petal_width_std=df['petal_width'].groupby(df['target']).std()"
   ]
  },
  {
   "cell_type": "code",
   "execution_count": 26,
   "metadata": {},
   "outputs": [
    {
     "name": "stdout",
     "output_type": "stream",
     "text": [
      "Sepal_length_std for 0,1 and 2 class: target\n",
      "0.0    0.352490\n",
      "1.0    0.516171\n",
      "2.0    0.635880\n",
      "Name: sepal_length, dtype: float64\n",
      "Sepal_width_std for 0,1 and 2 class: target\n",
      "0.0    0.379064\n",
      "1.0    0.313798\n",
      "2.0    0.322497\n",
      "Name: sepal_width, dtype: float64\n",
      "Petal_length_std for 0,1 and 2 class: target\n",
      "0.0    0.173664\n",
      "1.0    0.469911\n",
      "2.0    0.551895\n",
      "Name: petal_length, dtype: float64\n",
      "Petal_width_std for 0,1 and 2 class: target\n",
      "0.0    0.105386\n",
      "1.0    0.197753\n",
      "2.0    0.274650\n",
      "Name: petal_width, dtype: float64\n"
     ]
    }
   ],
   "source": [
    "print('Sepal_length_std for 0,1 and 2 class:', sepal_length_std)\n",
    "print('Sepal_width_std for 0,1 and 2 class:', sepal_width_std)\n",
    "print('Petal_length_std for 0,1 and 2 class:', petal_length_std)\n",
    "print('Petal_width_std for 0,1 and 2 class:', petal_width_std)"
   ]
  },
  {
   "cell_type": "code",
   "execution_count": 27,
   "metadata": {},
   "outputs": [
    {
     "data": {
      "text/plain": [
       "array([0.35248969, 0.51617115, 0.63587959])"
      ]
     },
     "execution_count": 27,
     "metadata": {},
     "output_type": "execute_result"
    }
   ],
   "source": [
    "sepal_length_std.to_numpy()"
   ]
  },
  {
   "cell_type": "code",
   "execution_count": 28,
   "metadata": {},
   "outputs": [
    {
     "data": {
      "text/plain": [
       "array([0.37906437, 0.31379832, 0.32249664])"
      ]
     },
     "execution_count": 28,
     "metadata": {},
     "output_type": "execute_result"
    }
   ],
   "source": [
    "sepal_width_std.to_numpy()"
   ]
  },
  {
   "cell_type": "code",
   "execution_count": 29,
   "metadata": {},
   "outputs": [
    {
     "data": {
      "text/plain": [
       "array([0.173664  , 0.46991098, 0.5518947 ])"
      ]
     },
     "execution_count": 29,
     "metadata": {},
     "output_type": "execute_result"
    }
   ],
   "source": [
    "petal_length_std.to_numpy()"
   ]
  },
  {
   "cell_type": "code",
   "execution_count": 30,
   "metadata": {},
   "outputs": [
    {
     "data": {
      "text/plain": [
       "array([0.10538559, 0.19775268, 0.27465006])"
      ]
     },
     "execution_count": 30,
     "metadata": {},
     "output_type": "execute_result"
    }
   ],
   "source": [
    "petal_width_std.to_numpy()"
   ]
  },
  {
   "cell_type": "code",
   "execution_count": 31,
   "metadata": {},
   "outputs": [],
   "source": [
    "# 3. Compute the Likelihood P(B/A) (p_x_given_class) by the Probability Density Function equation:\n",
    "# P(x) = 1/ std(2PI) exp (-((x*mean)^2)/2 std^2)"
   ]
  },
  {
   "cell_type": "code",
   "execution_count": 32,
   "metadata": {},
   "outputs": [],
   "source": [
    "def p_x_given_y(x, mean, std):\n",
    "\n",
    "    # Input the arguments into a probability density function\n",
    "    p = 1/(np.sqrt(2*np.pi*std**2)) * np.exp((-(x-mean)**2)/(2*std**2))\n",
    "    \n",
    "    # return p\n",
    "    return p"
   ]
  },
  {
   "cell_type": "code",
   "execution_count": 48,
   "metadata": {},
   "outputs": [],
   "source": [
    "# Compute p_x_given_class for the one exammple - first line of dataset and for particular class:"
   ]
  },
  {
   "cell_type": "code",
   "execution_count": 34,
   "metadata": {},
   "outputs": [],
   "source": [
    "p_x_given_0=p_x_given_y(df['sepal_length'][0], sepal_length_mean[0], sepal_length_std[0])*p_x_given_y(df['sepal_width'][0], sepal_width_mean[0], sepal_width_std[0])*p_x_given_y(df['petal_width'][0], petal_width_mean[0], petal_width_std[0])*p_x_given_y(df['petal_length'][0], petal_length_mean[0], petal_length_std[0])\n",
    "p_x_given_1=p_x_given_y(df['sepal_length'][0], sepal_length_mean[1], sepal_length_std[1])*p_x_given_y(df['sepal_width'][0], sepal_width_mean[1], sepal_width_std[1])*p_x_given_y(df['petal_width'][0], petal_width_mean[1], petal_width_std[1])*p_x_given_y(df['petal_length'][0], petal_length_mean[1], petal_length_std[1])\n",
    "p_x_given_2=p_x_given_y(df['sepal_length'][0], sepal_length_mean[2], sepal_length_std[2])*p_x_given_y(df['sepal_width'][0], sepal_width_mean[2], sepal_width_std[2])*p_x_given_y(df['petal_width'][0], petal_width_mean[2], petal_width_std[2])*p_x_given_y(df['petal_length'][0], petal_length_mean[2], petal_length_std[2])"
   ]
  },
  {
   "cell_type": "code",
   "execution_count": 35,
   "metadata": {},
   "outputs": [
    {
     "name": "stdout",
     "output_type": "stream",
     "text": [
      "P(B/A) for the first instance in dataset and for the class 0 : 8.374601751530664\n",
      "P(B/A) for the first instance in dataset and for the class 1 : 2.4967278599904303e-17\n",
      "P(B/A) for the first instance in dataset and for the class 2 : 1.8025267716033326e-24\n"
     ]
    }
   ],
   "source": [
    "print('P(B/A) for the first instance in dataset and for the class 0 :',p_x_given_0)  \n",
    "print('P(B/A) for the first instance in dataset and for the class 1 :',p_x_given_1)  \n",
    "print('P(B/A) for the first instance in dataset and for the class 2 :',p_x_given_2)  "
   ]
  },
  {
   "cell_type": "code",
   "execution_count": 36,
   "metadata": {},
   "outputs": [],
   "source": [
    "# 4.Compute Maximum A Posteriori P(A∣B)= p_class_given_y * P(A) (skipping the marginal probability)"
   ]
  },
  {
   "cell_type": "code",
   "execution_count": 37,
   "metadata": {},
   "outputs": [],
   "source": [
    "p_0_given_x=p_x_given_0*Prior_klasa0\n",
    "p_1_given_x=p_x_given_1*Prior_klasa1\n",
    "p_2_given_x=p_x_given_2*Prior_klasa2"
   ]
  },
  {
   "cell_type": "code",
   "execution_count": 38,
   "metadata": {},
   "outputs": [
    {
     "name": "stdout",
     "output_type": "stream",
     "text": [
      "P(A/B) for the first instance in dataset and for the class 0 : 2.7915339171768876\n",
      "P(A/B) for the first instance in dataset and for the class 1 : 8.3224261999681e-18\n",
      "P(A/B) for the first instance in dataset and for the class 2 : 6.008422572011108e-25\n"
     ]
    }
   ],
   "source": [
    "print('P(A/B) for the first instance in dataset and for the class 0 :',p_0_given_x)  \n",
    "print('P(A/B) for the first instance in dataset and for the class 1 :',p_1_given_x)  \n",
    "print('P(A/B) for the first instance in dataset and for the class 2 :',p_2_given_x)  "
   ]
  },
  {
   "cell_type": "code",
   "execution_count": 40,
   "metadata": {},
   "outputs": [],
   "source": [
    "# The highest probability is for the class 0, what is correct according to dataset."
   ]
  },
  {
   "cell_type": "markdown",
   "metadata": {},
   "source": [
    "Below I create a new instance for which we know feature values but not the class. The goal is to predict the class."
   ]
  },
  {
   "cell_type": "code",
   "execution_count": 41,
   "metadata": {},
   "outputs": [],
   "source": [
    "df_test=pd.DataFrame()\n",
    "df_test['sepal_length']=[6.7]\n",
    "df_test['sepal_width']=3.0\n",
    "df_test['petal_length']=5.2\n",
    "df_test['petal_width']=2.3"
   ]
  },
  {
   "cell_type": "code",
   "execution_count": 42,
   "metadata": {},
   "outputs": [
    {
     "data": {
      "text/html": [
       "<div>\n",
       "<style scoped>\n",
       "    .dataframe tbody tr th:only-of-type {\n",
       "        vertical-align: middle;\n",
       "    }\n",
       "\n",
       "    .dataframe tbody tr th {\n",
       "        vertical-align: top;\n",
       "    }\n",
       "\n",
       "    .dataframe thead th {\n",
       "        text-align: right;\n",
       "    }\n",
       "</style>\n",
       "<table border=\"1\" class=\"dataframe\">\n",
       "  <thead>\n",
       "    <tr style=\"text-align: right;\">\n",
       "      <th></th>\n",
       "      <th>sepal_length</th>\n",
       "      <th>sepal_width</th>\n",
       "      <th>petal_length</th>\n",
       "      <th>petal_width</th>\n",
       "    </tr>\n",
       "  </thead>\n",
       "  <tbody>\n",
       "    <tr>\n",
       "      <th>0</th>\n",
       "      <td>6.7</td>\n",
       "      <td>3.0</td>\n",
       "      <td>5.2</td>\n",
       "      <td>2.3</td>\n",
       "    </tr>\n",
       "  </tbody>\n",
       "</table>\n",
       "</div>"
      ],
      "text/plain": [
       "   sepal_length  sepal_width  petal_length  petal_width\n",
       "0           6.7          3.0           5.2          2.3"
      ]
     },
     "execution_count": 42,
     "metadata": {},
     "output_type": "execute_result"
    }
   ],
   "source": [
    "df_test"
   ]
  },
  {
   "cell_type": "code",
   "execution_count": 43,
   "metadata": {},
   "outputs": [],
   "source": [
    "test=df_test.to_numpy()"
   ]
  },
  {
   "cell_type": "code",
   "execution_count": 44,
   "metadata": {},
   "outputs": [
    {
     "data": {
      "text/plain": [
       "3.0"
      ]
     },
     "execution_count": 44,
     "metadata": {},
     "output_type": "execute_result"
    }
   ],
   "source": [
    "test[0,1]"
   ]
  },
  {
   "cell_type": "code",
   "execution_count": 45,
   "metadata": {},
   "outputs": [],
   "source": [
    "new_klasa0=p_x_given_y(test[0,0], sepal_length_mean[0], sepal_length_std[0])*p_x_given_y(test[0,1], sepal_width_mean[0], sepal_width_std[0])*p_x_given_y(test[0,2], petal_length_mean[0], petal_length_std[0])*p_x_given_y(test[0,3], petal_width_mean[0], petal_width_std[0])*Prior_klasa0\n",
    "new_klasa1=p_x_given_y(test[0,0], sepal_length_mean[1], sepal_length_std[1])*p_x_given_y(test[0,1], sepal_width_mean[1], sepal_width_std[0])*p_x_given_y(test[0,2], petal_length_mean[1], petal_length_std[0])*p_x_given_y(test[0,3], petal_width_mean[1], petal_width_std[1])*Prior_klasa1\n",
    "new_klasa2=p_x_given_y(test[0,0], sepal_length_mean[2], sepal_length_std[2])*p_x_given_y(test[0,1], sepal_width_mean[2], sepal_width_std[0])*p_x_given_y(test[0,2], petal_length_mean[2], petal_length_std[0])*p_x_given_y(test[0,3], petal_width_mean[2], petal_width_std[2])*Prior_klasa2"
   ]
  },
  {
   "cell_type": "code",
   "execution_count": 46,
   "metadata": {},
   "outputs": [
    {
     "name": "stdout",
     "output_type": "stream",
     "text": [
      "Posteriori probability of class 0: 1.4262923611857623e-188\n",
      "Posteriori probability of class 1: 8.199421658993404e-13\n",
      "Posteriori probability of class 2: 0.05622760021608976\n"
     ]
    }
   ],
   "source": [
    "print('Posteriori probability of class 0:', new_klasa0)\n",
    "print('Posteriori probability of class 1:', new_klasa1)\n",
    "print('Posteriori probability of class 2:', new_klasa2)"
   ]
  },
  {
   "cell_type": "code",
   "execution_count": 47,
   "metadata": {},
   "outputs": [],
   "source": [
    "# Because the posteriori for target = 2 is the greatest, then we predict that the class for the test instance is 2."
   ]
  },
  {
   "cell_type": "code",
   "execution_count": null,
   "metadata": {},
   "outputs": [],
   "source": []
  }
 ],
 "metadata": {
  "kernelspec": {
   "display_name": "Python 3",
   "language": "python",
   "name": "python3"
  },
  "language_info": {
   "codemirror_mode": {
    "name": "ipython",
    "version": 3
   },
   "file_extension": ".py",
   "mimetype": "text/x-python",
   "name": "python",
   "nbconvert_exporter": "python",
   "pygments_lexer": "ipython3",
   "version": "3.7.4"
  }
 },
 "nbformat": 4,
 "nbformat_minor": 2
}
