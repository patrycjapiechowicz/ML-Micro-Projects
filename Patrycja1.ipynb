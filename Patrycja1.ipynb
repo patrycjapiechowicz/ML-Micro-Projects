{
 "cells": [
  {
   "cell_type": "markdown",
   "metadata": {},
   "source": [
    "## Numba - GPU kernel programming\n",
    "#### Open type-specializing, function compiler for accelerating numerical computation in Python\n",
    "\n",
    "* #### provides function compilation tools for both CPU and GPU targets \n",
    "    * compiles Python functions\n",
    "    * Python module\n",
    "* #### type-specializing\n",
    "    * speeds up your function by generating a specialized implementation for the specific data types \n",
    "    * Python functions are designed to operate on generic data types - very flexible but also very slow\n",
    "* #### just-in-time\n",
    "    * Numba translates functions when they are first called\n",
    "    * compiler knows what argument types we will be using\n",
    "* #### numerical computation\n",
    "    * focused on numerical data types, like int, float, and complex\n",
    "    * very limited string processing support\n",
    "\n",
    "* #### compile Python functions for execution on the CPU\n",
    "* #### includes Python-native API for programming NVIDIA GPUs through the CUDA driver \n",
    "* #### provide built-in support for sending NumPy arrays to the GPU and accessing them with Python syntax\n",
    "\n",
    "#### Numba Manual: http://numba.pydata.org/numba-doc/latest/cuda/cudapysupported.html\n"
   ]
  },
  {
   "cell_type": "markdown",
   "metadata": {},
   "source": [
    "### Numba for GPU\n",
    "Numba supports CUDA GPU programming by directly compiling a restricted subset of Python code into CUDA kernels and device functions following the CUDA execution model. Kernels written in Numba appear to have direct access to NumPy arrays. NumPy arrays are transferred between the CPU and the GPU automatically."
   ]
  },
  {
   "cell_type": "markdown",
   "metadata": {},
   "source": [
    "### Installation\n",
    "* you need both numba and cudatoolkit to enable Numba's GPU support\n",
    "* `conda install numba cudatoolkit`"
   ]
  },
  {
   "cell_type": "markdown",
   "metadata": {},
   "source": [
    "### What is happening behind the scene\n",
    "![](graphics/numba.png)"
   ]
  },
  {
   "cell_type": "markdown",
   "metadata": {},
   "source": [
    "### First numba function\n",
    "\n",
    "#### Problem\n",
    "Calculating the length of the hypotenuse of a triangle is possible using the square root function on the sum of two squares, but hypot(x, y) avoids problems that occur when squaring very large or very small numbers.\n",
    "\n",
    "#### Solution\n",
    "https://en.wikipedia.org/wiki/Hypot\n"
   ]
  },
  {
   "cell_type": "code",
   "execution_count": 1,
   "metadata": {},
   "outputs": [],
   "source": [
    "# Numba compiler is typically enabled by applying a decorator to a Python function\n",
    "# Decorators are functions that transform Python functions.\n",
    "# CPU compilation decorator\n",
    "\n",
    "from numba import jit\n",
    "import math\n",
    "\n",
    "@jit\n",
    "def hypot(x, y):\n",
    "    # Implementation from https://en.wikipedia.org/wiki/Hypot\n",
    "    x = abs(x);\n",
    "    y = abs(y);\n",
    "    t = min(x, y);\n",
    "    x = max(x, y);\n",
    "    t = t / x;\n",
    "    return x * math.sqrt(1+t*t)"
   ]
  },
  {
   "cell_type": "code",
   "execution_count": 2,
   "metadata": {},
   "outputs": [],
   "source": [
    "# Equivalent code:\n",
    "def hypot(x, y):\n",
    "    x = abs(x);\n",
    "    y = abs(y);\n",
    "    t = min(x, y);\n",
    "    x = max(x, y);\n",
    "    t = t / x;\n",
    "    return x * math.sqrt(1+t*t)\n",
    "\n",
    "hypot = jit(hypot)"
   ]
  },
  {
   "cell_type": "code",
   "execution_count": 3,
   "metadata": {},
   "outputs": [
    {
     "data": {
      "text/plain": [
       "5.0"
      ]
     },
     "execution_count": 3,
     "metadata": {},
     "output_type": "execute_result"
    }
   ],
   "source": [
    "# Call the function and get an output\n",
    "# First time call triggers the compiler and compiles\n",
    "# a machine code implementation for float inputs\n",
    "hypot(3.0,4.0)"
   ]
  },
  {
   "cell_type": "code",
   "execution_count": 4,
   "metadata": {},
   "outputs": [
    {
     "data": {
      "text/plain": [
       "5.0"
      ]
     },
     "execution_count": 4,
     "metadata": {},
     "output_type": "execute_result"
    }
   ],
   "source": [
    "# Numba saves also the original Python implementation\n",
    "# This calls original Python code\n",
    "hypot.py_func(3.0,4.0)"
   ]
  },
  {
   "cell_type": "markdown",
   "metadata": {},
   "source": [
    "#### Type inference"
   ]
  },
  {
   "cell_type": "code",
   "execution_count": 1,
   "metadata": {},
   "outputs": [
    {
     "name": "stdout",
     "output_type": "stream",
     "text": [
      "Thu Nov 10 09:24:17 2022       \n",
      "+-----------------------------------------------------------------------------+\n",
      "| NVIDIA-SMI 465.19.01    Driver Version: 465.19.01    CUDA Version: 11.3     |\n",
      "|-------------------------------+----------------------+----------------------+\n",
      "| GPU  Name        Persistence-M| Bus-Id        Disp.A | Volatile Uncorr. ECC |\n",
      "| Fan  Temp  Perf  Pwr:Usage/Cap|         Memory-Usage | GPU-Util  Compute M. |\n",
      "|                               |                      |               MIG M. |\n",
      "|===============================+======================+======================|\n",
      "|   0  NVIDIA Quadro R...  On   | 00000000:00:05.0  On |                  N/A |\n",
      "| 30%   36C    P8     7W / 125W |    326MiB /  7982MiB |      5%      Default |\n",
      "|                               |                      |                  N/A |\n",
      "+-------------------------------+----------------------+----------------------+\n",
      "                                                                               \n",
      "+-----------------------------------------------------------------------------+\n",
      "| Processes:                                                                  |\n",
      "|  GPU   GI   CI        PID   Type   Process name                  GPU Memory |\n",
      "|        ID   ID                                                   Usage      |\n",
      "|=============================================================================|\n",
      "|    0   N/A  N/A      1561      G   /usr/lib/xorg/Xorg                229MiB |\n",
      "|    0   N/A  N/A      2144      G   /usr/bin/gnome-shell               95MiB |\n",
      "+-----------------------------------------------------------------------------+\n"
     ]
    }
   ],
   "source": [
    "!nvidia-smi"
   ]
  },
  {
   "cell_type": "code",
   "execution_count": 5,
   "metadata": {},
   "outputs": [],
   "source": [
    "import numba\n",
    "from numba import cuda"
   ]
  },
  {
   "cell_type": "code",
   "execution_count": 6,
   "metadata": {},
   "outputs": [
    {
     "name": "stdout",
     "output_type": "stream",
     "text": [
      "<Managed Device 0>\n"
     ]
    }
   ],
   "source": [
    "print(numba.cuda.gpus)"
   ]
  },
  {
   "cell_type": "code",
   "execution_count": 7,
   "metadata": {},
   "outputs": [
    {
     "data": {
      "text/plain": [
       "<weakproxy at 0x7f74e1b8ec20 to Device at 0x7f74e3608670>"
      ]
     },
     "execution_count": 7,
     "metadata": {},
     "output_type": "execute_result"
    }
   ],
   "source": [
    "numba.cuda.select_device(0)"
   ]
  },
  {
   "cell_type": "code",
   "execution_count": null,
   "metadata": {},
   "outputs": [],
   "source": [
    "#first program"
   ]
  },
  {
   "cell_type": "code",
   "execution_count": 8,
   "metadata": {},
   "outputs": [
    {
     "data": {
      "text/plain": [
       "[0, 1, 2, 3, 4, 5, 6, 7, 8, 9]"
      ]
     },
     "execution_count": 8,
     "metadata": {},
     "output_type": "execute_result"
    }
   ],
   "source": [
    "data=range(10)\n",
    "\n",
    "def test(i):\n",
    "    return i\n",
    "\n",
    "[test(i)  for i in data]"
   ]
  },
  {
   "cell_type": "code",
   "execution_count": 10,
   "metadata": {},
   "outputs": [
    {
     "data": {
      "text/plain": [
       "[0, 1, 2, 3, 4, 5, 6, 7, 8, 9]"
      ]
     },
     "execution_count": 10,
     "metadata": {},
     "output_type": "execute_result"
    }
   ],
   "source": [
    "data=range(10)\n",
    "output=[]\n",
    "\n",
    "def test(i):\n",
    "    output.append(i)\n",
    "[test(i) for i in data]\n",
    "\n",
    "output"
   ]
  },
  {
   "cell_type": "code",
   "execution_count": 11,
   "metadata": {},
   "outputs": [
    {
     "data": {
      "text/plain": [
       "array([0., 1., 2., 3., 4., 5., 6., 7., 8., 9.])"
      ]
     },
     "execution_count": 11,
     "metadata": {},
     "output_type": "execute_result"
    }
   ],
   "source": [
    "import numpy as np\n",
    "data=np.asarray(range(10))\n",
    "output=np.zeros(len(data))\n",
    "\n",
    "def test(i):\n",
    "    output[i]=i\n",
    "    \n",
    "[test(i) for i in data]\n",
    "output\n",
    "\n",
    "\n"
   ]
  },
  {
   "cell_type": "code",
   "execution_count": 13,
   "metadata": {
    "scrolled": false
   },
   "outputs": [
    {
     "name": "stderr",
     "output_type": "stream",
     "text": [
      "/home/paperspace/anaconda3/envs/rapids/lib/python3.9/site-packages/numba/cuda/dispatcher.py:488: NumbaPerformanceWarning: \u001b[1mGrid size 1 will likely result in GPU under-utilization due to low occupancy.\u001b[0m\n",
      "  warn(NumbaPerformanceWarning(msg))\n",
      "/home/paperspace/anaconda3/envs/rapids/lib/python3.9/site-packages/numba/cuda/cudadrv/devicearray.py:885: NumbaPerformanceWarning: \u001b[1mHost array used in CUDA kernel will incur copy overhead to/from device.\u001b[0m\n",
      "  warn(NumbaPerformanceWarning(msg))\n"
     ]
    },
    {
     "data": {
      "text/plain": [
       "array([0., 1., 2., 3., 4., 5., 6., 7., 8., 9.])"
      ]
     },
     "execution_count": 13,
     "metadata": {},
     "output_type": "execute_result"
    }
   ],
   "source": [
    "data=np.asarray(range(10))\n",
    "output=np.zeros(len(data))\n",
    "\n",
    "@cuda.jit\n",
    "def test(input_array,output_array):\n",
    "    i=cuda.grid(1)\n",
    "    output_array[i]=i\n",
    "    \n",
    "#test[blocks, threads](input,output)\n",
    "test[1,len(data)](data,output)\n",
    "\n",
    "output"
   ]
  },
  {
   "cell_type": "code",
   "execution_count": 14,
   "metadata": {},
   "outputs": [],
   "source": [
    "random_array=np.random.random(10_000_000)"
   ]
  },
  {
   "cell_type": "code",
   "execution_count": 15,
   "metadata": {},
   "outputs": [
    {
     "data": {
      "text/plain": [
       "array([0.99411194, 0.95018006, 0.64027243, ..., 0.16617518, 0.65211285,\n",
       "       0.98172884])"
      ]
     },
     "execution_count": 15,
     "metadata": {},
     "output_type": "execute_result"
    }
   ],
   "source": [
    "random_array"
   ]
  },
  {
   "cell_type": "code",
   "execution_count": 16,
   "metadata": {},
   "outputs": [
    {
     "data": {
      "text/plain": [
       "array([0., 0., 0., ..., 0., 0., 0.])"
      ]
     },
     "execution_count": 16,
     "metadata": {},
     "output_type": "execute_result"
    }
   ],
   "source": [
    "output=np.zeros_like(random_array)\n",
    "output"
   ]
  },
  {
   "cell_type": "code",
   "execution_count": null,
   "metadata": {},
   "outputs": [],
   "source": []
  },
  {
   "cell_type": "code",
   "execution_count": 18,
   "metadata": {},
   "outputs": [
    {
     "name": "stdout",
     "output_type": "stream",
     "text": [
      "CPU times: user 2.68 s, sys: 0 ns, total: 2.68 s\n",
      "Wall time: 2.68 s\n"
     ]
    },
    {
     "data": {
      "text/plain": [
       "array([1.98822387, 1.90036012, 1.28054486, ..., 0.33235037, 1.3042257 ,\n",
       "       1.96345768])"
      ]
     },
     "execution_count": 18,
     "metadata": {},
     "output_type": "execute_result"
    }
   ],
   "source": [
    "%%time\n",
    "def test(i):\n",
    "    output[i]=random_array[i]*2\n",
    "    \n",
    "[test(i) for i in range(len(random_array))]\n",
    "output"
   ]
  },
  {
   "cell_type": "code",
   "execution_count": null,
   "metadata": {},
   "outputs": [],
   "source": [
    "for i in random_array:\n",
    "    i=i*2\n"
   ]
  },
  {
   "cell_type": "code",
   "execution_count": 21,
   "metadata": {},
   "outputs": [],
   "source": [
    "import math"
   ]
  },
  {
   "cell_type": "code",
   "execution_count": null,
   "metadata": {},
   "outputs": [],
   "source": [
    "%%time\n",
    "def test(i):\n",
    "    output[i]=random_array[i]*2\n",
    "    \n",
    "[test(i) for i in range(len(random_array))]\n",
    "output"
   ]
  },
  {
   "cell_type": "code",
   "execution_count": 22,
   "metadata": {},
   "outputs": [],
   "source": [
    "output=np.zeros_like(random_array)\n",
    "threads=128\n",
    "blocks=math.ceil(random_array.shape[0]/128)"
   ]
  },
  {
   "cell_type": "code",
   "execution_count": 23,
   "metadata": {},
   "outputs": [
    {
     "data": {
      "text/plain": [
       "78125"
      ]
     },
     "execution_count": 23,
     "metadata": {},
     "output_type": "execute_result"
    }
   ],
   "source": [
    "blocks"
   ]
  },
  {
   "cell_type": "code",
   "execution_count": 25,
   "metadata": {},
   "outputs": [
    {
     "name": "stdout",
     "output_type": "stream",
     "text": [
      "CPU times: user 186 ms, sys: 27.4 ms, total: 214 ms\n",
      "Wall time: 216 ms\n"
     ]
    },
    {
     "name": "stderr",
     "output_type": "stream",
     "text": [
      "/home/paperspace/anaconda3/envs/rapids/lib/python3.9/site-packages/numba/cuda/cudadrv/devicearray.py:885: NumbaPerformanceWarning: \u001b[1mHost array used in CUDA kernel will incur copy overhead to/from device.\u001b[0m\n",
      "  warn(NumbaPerformanceWarning(msg))\n"
     ]
    },
    {
     "data": {
      "text/plain": [
       "array([1.98822387, 1.90036012, 1.28054486, ..., 0.33235037, 1.3042257 ,\n",
       "       1.96345768])"
      ]
     },
     "execution_count": 25,
     "metadata": {},
     "output_type": "execute_result"
    }
   ],
   "source": [
    "%%time\n",
    "output=np.zeros_like(random_array)\n",
    "threads=128\n",
    "blocks=math.ceil(random_array.shape[0]/128)\n",
    "\n",
    "@cuda.jit\n",
    "def test(input_array,output_array):\n",
    "    i=cuda.grid(1)\n",
    "    output_array[i]=input_array[i]*2\n",
    "    \n",
    "    \n",
    "test[blocks,threads](random_array,output)\n",
    "output"
   ]
  },
  {
   "cell_type": "code",
   "execution_count": 26,
   "metadata": {},
   "outputs": [
    {
     "name": "stdout",
     "output_type": "stream",
     "text": [
      "CPU times: user 13.7 ms, sys: 23.6 ms, total: 37.3 ms\n",
      "Wall time: 36 ms\n"
     ]
    },
    {
     "data": {
      "text/plain": [
       "array([1.98822387, 1.90036012, 1.28054486, ..., 0.33235037, 1.3042257 ,\n",
       "       1.96345768])"
      ]
     },
     "execution_count": 26,
     "metadata": {},
     "output_type": "execute_result"
    }
   ],
   "source": [
    "%%time\n",
    "random_array*2"
   ]
  },
  {
   "cell_type": "code",
   "execution_count": 27,
   "metadata": {},
   "outputs": [],
   "source": [
    "gpu_random_array=cuda.to_device(random_array)\n",
    "gpu_output=cuda.to_device(np.zeros_like(random_array))"
   ]
  },
  {
   "cell_type": "code",
   "execution_count": 28,
   "metadata": {},
   "outputs": [
    {
     "data": {
      "text/plain": [
       "<numba.cuda.cudadrv.devicearray.DeviceNDArray at 0x7f7498b29610>"
      ]
     },
     "execution_count": 28,
     "metadata": {},
     "output_type": "execute_result"
    }
   ],
   "source": [
    "gpu_random_array"
   ]
  },
  {
   "cell_type": "code",
   "execution_count": 30,
   "metadata": {},
   "outputs": [
    {
     "name": "stdout",
     "output_type": "stream",
     "text": [
      "CPU times: user 0 ns, sys: 12.3 ms, total: 12.3 ms\n",
      "Wall time: 13.6 ms\n"
     ]
    }
   ],
   "source": [
    "%%time\n",
    "test[blocks,threads](gpu_random_array,gpu_output)"
   ]
  },
  {
   "cell_type": "code",
   "execution_count": 32,
   "metadata": {},
   "outputs": [],
   "source": [
    "output_from_array=gpu_output.copy_to_host()"
   ]
  },
  {
   "cell_type": "code",
   "execution_count": 33,
   "metadata": {},
   "outputs": [
    {
     "data": {
      "text/plain": [
       "array([1.98822387, 1.90036012, 1.28054486, ..., 0.33235037, 1.3042257 ,\n",
       "       1.96345768])"
      ]
     },
     "execution_count": 33,
     "metadata": {},
     "output_type": "execute_result"
    }
   ],
   "source": [
    "output_from_array"
   ]
  },
  {
   "cell_type": "code",
   "execution_count": 34,
   "metadata": {},
   "outputs": [],
   "source": [
    "@cuda.jit\n",
    "def add_kernel(x,y,out):\n",
    "    \n",
    "    tx=cuda.threadIdx.x\n",
    "    ty=cuda.blockIdx.x\n",
    "    \n",
    "    block_size=cuda.blockDim.x\n",
    "    grid_size=cuda.gridDim.x\n",
    "    \n",
    "    start=tx+ty*block_size\n",
    "    stride=block_size*grid_size\n",
    "    \n",
    "    for i in range(start,x.shape[0], stride):\n",
    "        out[i]=x[i]+y[i]\n",
    "    \n",
    "    "
   ]
  },
  {
   "cell_type": "code",
   "execution_count": 39,
   "metadata": {},
   "outputs": [],
   "source": [
    "n=1_000_000\n",
    "x=np.arange(n)\n",
    "y=2*x\n",
    "out=np.empty_like(x)\n",
    "\n",
    "threads_per_block=128\n",
    "blocks_per_grid=30\n"
   ]
  },
  {
   "cell_type": "code",
   "execution_count": null,
   "metadata": {},
   "outputs": [],
   "source": []
  },
  {
   "cell_type": "code",
   "execution_count": 41,
   "metadata": {},
   "outputs": [
    {
     "name": "stderr",
     "output_type": "stream",
     "text": [
      "/home/paperspace/anaconda3/envs/rapids/lib/python3.9/site-packages/numba/cuda/dispatcher.py:488: NumbaPerformanceWarning: \u001b[1mGrid size 30 will likely result in GPU under-utilization due to low occupancy.\u001b[0m\n",
      "  warn(NumbaPerformanceWarning(msg))\n",
      "/home/paperspace/anaconda3/envs/rapids/lib/python3.9/site-packages/numba/cuda/cudadrv/devicearray.py:885: NumbaPerformanceWarning: \u001b[1mHost array used in CUDA kernel will incur copy overhead to/from device.\u001b[0m\n",
      "  warn(NumbaPerformanceWarning(msg))\n"
     ]
    },
    {
     "data": {
      "text/plain": [
       "array([ 0,  3,  6,  9, 12, 15, 18, 21, 24, 27, 30, 33, 36, 39, 42, 45, 48,\n",
       "       51, 54, 57, 60, 63, 66, 69, 72, 75, 78, 81, 84, 87])"
      ]
     },
     "execution_count": 41,
     "metadata": {},
     "output_type": "execute_result"
    }
   ],
   "source": [
    "add_kernel[blocks_per_grid,threads_per_block](x,y,out)\n",
    "out[:30]"
   ]
  },
  {
   "cell_type": "code",
   "execution_count": 42,
   "metadata": {},
   "outputs": [],
   "source": [
    "@cuda.jit\n",
    "\n",
    "def add_kernel(x,y,out):\n",
    "    start=cuda.grid(1)\n",
    "    \n",
    "    stride=cuda.gridsize(1)\n",
    "    \n",
    "    \n",
    "    for i in range(start, x.shape[0], stride):\n",
    "        out[i]=x[i]+y[i]"
   ]
  },
  {
   "cell_type": "code",
   "execution_count": 46,
   "metadata": {},
   "outputs": [
    {
     "name": "stderr",
     "output_type": "stream",
     "text": [
      "/home/paperspace/anaconda3/envs/rapids/lib/python3.9/site-packages/numba/cuda/dispatcher.py:488: NumbaPerformanceWarning: \u001b[1mGrid size 30 will likely result in GPU under-utilization due to low occupancy.\u001b[0m\n",
      "  warn(NumbaPerformanceWarning(msg))\n",
      "/home/paperspace/anaconda3/envs/rapids/lib/python3.9/site-packages/numba/cuda/cudadrv/devicearray.py:885: NumbaPerformanceWarning: \u001b[1mHost array used in CUDA kernel will incur copy overhead to/from device.\u001b[0m\n",
      "  warn(NumbaPerformanceWarning(msg))\n"
     ]
    },
    {
     "data": {
      "text/plain": [
       "array([ 0,  3,  6,  9, 12, 15, 18, 21, 24, 27, 30, 33, 36, 39, 42, 45, 48,\n",
       "       51, 54, 57, 60, 63, 66, 69, 72, 75, 78, 81, 84, 87])"
      ]
     },
     "execution_count": 46,
     "metadata": {},
     "output_type": "execute_result"
    }
   ],
   "source": [
    "add_kernel[blocks_per_grid,threads_per_block](x,y,out)\n",
    "out[:30]"
   ]
  },
  {
   "cell_type": "code",
   "execution_count": 49,
   "metadata": {},
   "outputs": [
    {
     "name": "stdout",
     "output_type": "stream",
     "text": [
      "13.1 ms ± 157 µs per loop (mean ± std. dev. of 7 runs, 100 loops each)\n"
     ]
    }
   ],
   "source": [
    "#CPU input/output array no synch\n",
    "cuda.synchronize()\n",
    "\n",
    "%timeit add_kernel[blocks_per_grid,threads_per_block](x,y,out)\n",
    "\n",
    "cuda.synchronize()"
   ]
  },
  {
   "cell_type": "code",
   "execution_count": 48,
   "metadata": {},
   "outputs": [
    {
     "name": "stdout",
     "output_type": "stream",
     "text": [
      "12.9 ms ± 200 µs per loop (mean ± std. dev. of 7 runs, 100 loops each)\n"
     ]
    }
   ],
   "source": [
    "#CPU input/output array explicit synch\n",
    "cuda.synchronize()\n",
    "%timeit add_kernel[blocks_per_grid,threads_per_block](x,y,out); cuda.synchronize()"
   ]
  },
  {
   "cell_type": "code",
   "execution_count": 50,
   "metadata": {},
   "outputs": [],
   "source": [
    "x_device=cuda.to_device(x)\n",
    "y_device=cuda.to_device(y)\n",
    "out=cuda.device_array_like(x)"
   ]
  },
  {
   "cell_type": "code",
   "execution_count": 51,
   "metadata": {},
   "outputs": [
    {
     "name": "stdout",
     "output_type": "stream",
     "text": [
      "8.62 ms ± 224 µs per loop (mean ± std. dev. of 7 runs, 100 loops each)\n"
     ]
    }
   ],
   "source": [
    "#GPU i/o array no synch\n",
    "cuda.synchronize()\n",
    "%timeit add_kernel[blocks_per_grid,threads_per_block](x,y,out)\n",
    "cuda.synchronize()"
   ]
  },
  {
   "cell_type": "code",
   "execution_count": 52,
   "metadata": {},
   "outputs": [
    {
     "name": "stdout",
     "output_type": "stream",
     "text": [
      "8.51 ms ± 222 µs per loop (mean ± std. dev. of 7 runs, 100 loops each)\n"
     ]
    }
   ],
   "source": [
    "#GPU explicit synch\n",
    "cuda.synchronize()\n",
    "%timeit add_kernel[blocks_per_grid,threads_per_block](x,y,out);cuda.synchronize()"
   ]
  },
  {
   "cell_type": "code",
   "execution_count": null,
   "metadata": {},
   "outputs": [],
   "source": []
  },
  {
   "cell_type": "code",
   "execution_count": null,
   "metadata": {},
   "outputs": [],
   "source": [
    "#monte carlo simpulation"
   ]
  },
  {
   "cell_type": "code",
   "execution_count": 53,
   "metadata": {},
   "outputs": [],
   "source": [
    "from numba.cuda.random import create_xoroshiro128p_states, xoroshiro128p_uniform_float32"
   ]
  },
  {
   "cell_type": "code",
   "execution_count": 62,
   "metadata": {},
   "outputs": [],
   "source": [
    "threads_per_block=64\n",
    "blocks=24\n",
    "rng_states=create_xoroshiro128p_states(threads_per_block*blocks,seed=1)\n",
    "iterations=10_000"
   ]
  },
  {
   "cell_type": "code",
   "execution_count": 63,
   "metadata": {},
   "outputs": [],
   "source": [
    "@cuda.jit\n",
    "\n",
    "def compute_pi(rng_states,iterations,out):\n",
    "    \n",
    "    thread_id=cuda.grid(1)\n",
    "    inside=0\n",
    "    for i in range(iterations):\n",
    "        x=xoroshiro128p_uniform_float32(rng_states,thread_id)\n",
    "        y=xoroshiro128p_uniform_float32(rng_states,thread_id)\n",
    "        if x**2+y**2<=1.0:\n",
    "            inside+=1\n",
    "    out[thread_id]=4.0*inside/iterations\n",
    "    \n"
   ]
  },
  {
   "cell_type": "code",
   "execution_count": 64,
   "metadata": {},
   "outputs": [
    {
     "name": "stderr",
     "output_type": "stream",
     "text": [
      "/home/paperspace/anaconda3/envs/rapids/lib/python3.9/site-packages/numba/cuda/cudadrv/devicearray.py:885: NumbaPerformanceWarning: \u001b[1mHost array used in CUDA kernel will incur copy overhead to/from device.\u001b[0m\n",
      "  warn(NumbaPerformanceWarning(msg))\n"
     ]
    }
   ],
   "source": [
    "out=np.zeros(threads_per_block*blocks)\n",
    "compute_pi[blocks,threads_per_block](rng_states,iterations,out)"
   ]
  },
  {
   "cell_type": "code",
   "execution_count": 65,
   "metadata": {},
   "outputs": [
    {
     "data": {
      "text/plain": [
       "3.1416734375"
      ]
     },
     "execution_count": 65,
     "metadata": {},
     "output_type": "execute_result"
    }
   ],
   "source": [
    "out.mean()"
   ]
  },
  {
   "cell_type": "code",
   "execution_count": 68,
   "metadata": {},
   "outputs": [],
   "source": [
    "a=np.array([1,2,3,4])\n",
    "b=np.array([2,3,4,5])"
   ]
  },
  {
   "cell_type": "code",
   "execution_count": 71,
   "metadata": {},
   "outputs": [
    {
     "name": "stderr",
     "output_type": "stream",
     "text": [
      "/home/paperspace/anaconda3/envs/rapids/lib/python3.9/site-packages/numba/cuda/dispatcher.py:488: NumbaPerformanceWarning: \u001b[1mGrid size 1 will likely result in GPU under-utilization due to low occupancy.\u001b[0m\n",
      "  warn(NumbaPerformanceWarning(msg))\n"
     ]
    },
    {
     "data": {
      "text/plain": [
       "array([3, 5, 7, 9])"
      ]
     },
     "execution_count": 71,
     "metadata": {},
     "output_type": "execute_result"
    }
   ],
   "source": [
    "from numba import vectorize\n",
    "@vectorize(['int64(int64,int64)'], target='cuda')\n",
    "def add_unfunc(x,y):\n",
    "    return x+y\n",
    "\n",
    "add_unfunc(a,b)\n",
    "    \n",
    "    "
   ]
  },
  {
   "cell_type": "code",
   "execution_count": null,
   "metadata": {},
   "outputs": [],
   "source": [
    "c=np.array()"
   ]
  },
  {
   "cell_type": "code",
   "execution_count": 72,
   "metadata": {},
   "outputs": [
    {
     "data": {
      "text/plain": [
       "dtype('int64')"
      ]
     },
     "execution_count": 72,
     "metadata": {},
     "output_type": "execute_result"
    }
   ],
   "source": [
    "a.dtype"
   ]
  },
  {
   "cell_type": "code",
   "execution_count": 85,
   "metadata": {},
   "outputs": [
    {
     "name": "stdout",
     "output_type": "stream",
     "text": [
      "477 ns ± 10.6 ns per loop (mean ± std. dev. of 7 runs, 1,000,000 loops each)\n"
     ]
    }
   ],
   "source": [
    "%timeit np.add(a,b)"
   ]
  },
  {
   "cell_type": "code",
   "execution_count": 84,
   "metadata": {},
   "outputs": [
    {
     "data": {
      "text/plain": [
       "array([[16]])"
      ]
     },
     "execution_count": 84,
     "metadata": {},
     "output_type": "execute_result"
    }
   ],
   "source": [
    "b_gpu=cuda.to_device(b)\n",
    "c_gpu=cuda.to_device(c)\n",
    "\n",
    "%timeit add_unfunc(b_gpu,c_gpu)"
   ]
  },
  {
   "cell_type": "code",
   "execution_count": 86,
   "metadata": {},
   "outputs": [],
   "source": [
    "x=np.random.uniform(-3,3,size=10_000_000)\n",
    "mean=np.float64(0)\n",
    "sigma=np.float64(1)\n",
    "\n"
   ]
  },
  {
   "cell_type": "code",
   "execution_count": 87,
   "metadata": {},
   "outputs": [
    {
     "name": "stdout",
     "output_type": "stream",
     "text": [
      "610 ms ± 16.4 ms per loop (mean ± std. dev. of 7 runs, 1 loop each)\n"
     ]
    }
   ],
   "source": [
    "from scipy.stats import norm\n",
    "%timeit norm.pdf(x,mean,sigma)"
   ]
  },
  {
   "cell_type": "markdown",
   "metadata": {},
   "source": [
    "sqrt_2pi=2*math.pi)"
   ]
  },
  {
   "cell_type": "code",
   "execution_count": 88,
   "metadata": {},
   "outputs": [],
   "source": [
    "sqrt_2pi=(2*math.pi)**.5"
   ]
  },
  {
   "cell_type": "code",
   "execution_count": 89,
   "metadata": {},
   "outputs": [],
   "source": [
    "vvvvvvvvvvvvvvvvvvvvvvvvvvvvvvvvvvvvvvvvvvvvvvvvvvvvvvvvvvvvvvvvvvvvvvvvvvv"
   ]
  },
  {
   "cell_type": "code",
   "execution_count": 90,
   "metadata": {},
   "outputs": [
    {
     "name": "stderr",
     "output_type": "stream",
     "text": [
      "/home/paperspace/anaconda3/envs/rapids/lib/python3.9/site-packages/numba/cuda/dispatcher.py:488: NumbaPerformanceWarning: \u001b[1mGrid size 1 will likely result in GPU under-utilization due to low occupancy.\u001b[0m\n",
      "  warn(NumbaPerformanceWarning(msg))\n"
     ]
    },
    {
     "data": {
      "text/plain": [
       "array([0.39605608])"
      ]
     },
     "execution_count": 90,
     "metadata": {},
     "output_type": "execute_result"
    }
   ],
   "source": [
    "gaussian_pdf(x[0],0.0,1.0)"
   ]
  },
  {
   "cell_type": "code",
   "execution_count": 91,
   "metadata": {},
   "outputs": [
    {
     "name": "stdout",
     "output_type": "stream",
     "text": [
      "90.7 ms ± 3 ms per loop (mean ± std. dev. of 7 runs, 1 loop each)\n"
     ]
    }
   ],
   "source": [
    "%timeit gaussian_pdf(x,mean,sigma)"
   ]
  },
  {
   "cell_type": "code",
   "execution_count": null,
   "metadata": {},
   "outputs": [],
   "source": []
  },
  {
   "cell_type": "code",
   "execution_count": null,
   "metadata": {},
   "outputs": [],
   "source": []
  },
  {
   "cell_type": "code",
   "execution_count": null,
   "metadata": {},
   "outputs": [],
   "source": []
  },
  {
   "cell_type": "code",
   "execution_count": null,
   "metadata": {},
   "outputs": [],
   "source": [
    "def compute_pi():\n",
    "    \n",
    "    "
   ]
  },
  {
   "cell_type": "code",
   "execution_count": null,
   "metadata": {},
   "outputs": [],
   "source": []
  },
  {
   "cell_type": "code",
   "execution_count": null,
   "metadata": {},
   "outputs": [],
   "source": []
  },
  {
   "cell_type": "code",
   "execution_count": null,
   "metadata": {},
   "outputs": [],
   "source": []
  },
  {
   "cell_type": "code",
   "execution_count": null,
   "metadata": {},
   "outputs": [],
   "source": []
  },
  {
   "cell_type": "code",
   "execution_count": null,
   "metadata": {},
   "outputs": [],
   "source": []
  },
  {
   "cell_type": "code",
   "execution_count": null,
   "metadata": {},
   "outputs": [],
   "source": []
  },
  {
   "cell_type": "code",
   "execution_count": null,
   "metadata": {},
   "outputs": [],
   "source": []
  },
  {
   "cell_type": "code",
   "execution_count": null,
   "metadata": {},
   "outputs": [],
   "source": []
  },
  {
   "cell_type": "code",
   "execution_count": null,
   "metadata": {},
   "outputs": [],
   "source": []
  },
  {
   "cell_type": "code",
   "execution_count": null,
   "metadata": {},
   "outputs": [],
   "source": []
  },
  {
   "cell_type": "code",
   "execution_count": null,
   "metadata": {},
   "outputs": [],
   "source": []
  },
  {
   "cell_type": "code",
   "execution_count": 17,
   "metadata": {},
   "outputs": [
    {
     "data": {
      "text/plain": [
       "[1.9882238740948681,\n",
       " 1.900360117386707,\n",
       " 1.2805448592702309,\n",
       " 1.3844850909587763,\n",
       " 0.2720513966987006,\n",
       " 0.2949494385599205,\n",
       " 1.1884898114362292,\n",
       " 0.007286315444605895,\n",
       " 1.847533119225975,\n",
       " 1.549927896930004,\n",
       " 1.0454865564205291,\n",
       " 1.3044605140240475,\n",
       " 0.0851550712017426,\n",
       " 0.07044421143037094,\n",
       " 1.7461215556882523,\n",
       " 0.13231918216630212,\n",
       " 1.247183212392706,\n",
       " 1.2082084352325724,\n",
       " 1.9561926014754394,\n",
       " 0.3500645791888577,\n",
       " 0.8159292052560516,\n",
       " 0.16642130201444294,\n",
       " 0.8990256696238219,\n",
       " 1.6786661863763659,\n",
       " 0.8982037622224195,\n",
       " 1.9160896886802807,\n",
       " 0.770301509177362,\n",
       " 0.6072831516071495,\n",
       " 1.053476428998695,\n",
       " 1.4979936358321282,\n",
       " 1.8718067349407161,\n",
       " 1.6933412406631376,\n",
       " 0.23471463768022627,\n",
       " 1.8512085537187208,\n",
       " 0.5333798375977641,\n",
       " 0.05761294791266858,\n",
       " 1.6923021829805132,\n",
       " 1.5916360333000266,\n",
       " 0.9600201797493895,\n",
       " 1.578397219218244,\n",
       " 1.9147931910499603,\n",
       " 1.457656934881305,\n",
       " 0.4597060973853886,\n",
       " 0.35474577169261035,\n",
       " 1.1761002384646233,\n",
       " 0.8323630751714555,\n",
       " 0.25224981240169764,\n",
       " 1.4829573314626336,\n",
       " 0.9673720357332634,\n",
       " 0.5726012613972293,\n",
       " 1.7688269218469443,\n",
       " 0.5270978468898753,\n",
       " 0.39387526333177414,\n",
       " 0.7016569856076433,\n",
       " 1.1941913604185377,\n",
       " 0.8928533731375548,\n",
       " 0.8029724102988478,\n",
       " 0.6769423902839939,\n",
       " 1.2819252138471915,\n",
       " 1.4947988552049136,\n",
       " 0.8006766116895387,\n",
       " 0.013477171896536522,\n",
       " 1.545351710070418,\n",
       " 0.2299034790171206,\n",
       " 0.4534045476073836,\n",
       " 0.4709515772741526,\n",
       " 1.0321201167340333,\n",
       " 1.457248183164496,\n",
       " 0.2899767653718579,\n",
       " 1.0025949490005892,\n",
       " 0.4827147834215404,\n",
       " 0.43994145674147545,\n",
       " 0.08460407101649237,\n",
       " 1.6322077781895967,\n",
       " 0.8454837497598973,\n",
       " 0.32030016452157284,\n",
       " 0.09941927999729994,\n",
       " 1.4022973692219922,\n",
       " 1.7406811549486823,\n",
       " 0.23151988392252076,\n",
       " 1.1224582057847206,\n",
       " 0.7004183871248568,\n",
       " 1.4182411102086252,\n",
       " 0.8190358586826099,\n",
       " 0.1545130287388985,\n",
       " 0.7096223239726498,\n",
       " 1.8433742234429948,\n",
       " 1.0897513333686464,\n",
       " 1.4164220445950184,\n",
       " 0.4378478687355083,\n",
       " 1.2021081947028278,\n",
       " 0.5577791805324377,\n",
       " 0.19198865838350643,\n",
       " 0.011614733831044388,\n",
       " 1.2773029062488748,\n",
       " 1.6262032278495056,\n",
       " 0.9341882153829153,\n",
       " 0.42293258051647054,\n",
       " 1.439048481137886,\n",
       " 0.7356945200853289,\n",
       " 0.34860675807242125,\n",
       " 1.090465556719095,\n",
       " 0.6412801061274438,\n",
       " 0.6262922218784426,\n",
       " 1.6211456805921283,\n",
       " 0.5606828595387039,\n",
       " 0.15232962477291112,\n",
       " 0.4999865865548372,\n",
       " 1.6330754409733144,\n",
       " 1.3504363869251177,\n",
       " 0.41864073804239776,\n",
       " 0.2044026179489784,\n",
       " 1.7047307212445804,\n",
       " 1.9305724800551103,\n",
       " 1.3252560945932284,\n",
       " 1.5584058309870923,\n",
       " 1.1242753758003827,\n",
       " 1.6855853376198944,\n",
       " 0.284840774507805,\n",
       " 1.8961909435795408,\n",
       " 1.6496391995745598,\n",
       " 1.5538533827079393,\n",
       " 1.6849611809263882,\n",
       " 0.30611381916877467,\n",
       " 1.8839466600045662,\n",
       " 0.6536754036839845,\n",
       " 1.498164384528439,\n",
       " 1.7770859827371168,\n",
       " 0.0654993208277268,\n",
       " 1.1190034213897748,\n",
       " 0.7406403791025167,\n",
       " 0.20533211336381485,\n",
       " 0.9244167867152542,\n",
       " 0.6485017857874429,\n",
       " 1.4731964502023018,\n",
       " 1.3077942573359922,\n",
       " 1.1691462856706505,\n",
       " 0.03475253797774136,\n",
       " 1.8304290220902968,\n",
       " 1.8016656082265308,\n",
       " 0.18595186598513247,\n",
       " 0.16152059332298419,\n",
       " 0.5049991050391938,\n",
       " 1.5787874495017702,\n",
       " 1.9248582945943586,\n",
       " 0.2555752916069982,\n",
       " 1.790993731323363,\n",
       " 1.8581357227847903,\n",
       " 1.609493097531392,\n",
       " 1.433991134388999,\n",
       " 0.6327765555142064,\n",
       " 0.12718414200861905,\n",
       " 0.9810318950461046,\n",
       " 0.6592088681157584,\n",
       " 0.26602891942150975,\n",
       " 0.19956682429807526,\n",
       " 0.019375500989201377,\n",
       " 1.5333210472543402,\n",
       " 1.5842767988043545,\n",
       " 0.10332573928516964,\n",
       " 1.449453774649891,\n",
       " 0.9106987686388317,\n",
       " 1.9597191170308068,\n",
       " 0.5006818677831464,\n",
       " 1.0991280199806337,\n",
       " 0.9056391983131331,\n",
       " 0.6381969677910158,\n",
       " 0.3761460097887912,\n",
       " 0.569702822298271,\n",
       " 0.45845850059139814,\n",
       " 1.2221742136792733,\n",
       " 1.6709582782643886,\n",
       " 0.9998690469596523,\n",
       " 0.572519617391396,\n",
       " 0.4191316988776723,\n",
       " 0.8460227545220063,\n",
       " 0.22834632911638675,\n",
       " 0.7894836140879689,\n",
       " 1.557277933933455,\n",
       " 1.080487042762375,\n",
       " 0.6265041432483069,\n",
       " 0.7186619932996792,\n",
       " 0.756266256327567,\n",
       " 1.0478939761843393,\n",
       " 1.2288540717240963,\n",
       " 0.7807502008319822,\n",
       " 0.9207869892807694,\n",
       " 0.07347404347754627,\n",
       " 1.1523405413881191,\n",
       " 0.7794203601260521,\n",
       " 1.7714884526505736,\n",
       " 1.293323473621337,\n",
       " 1.3550632275966954,\n",
       " 1.9195277504053097,\n",
       " 0.16268697361718343,\n",
       " 1.6364688238587575,\n",
       " 1.29629537394494,\n",
       " 0.7541308082801272,\n",
       " 1.8482223638669544,\n",
       " 0.19687570814937372,\n",
       " 1.4174488674865986,\n",
       " 0.6686080005648012,\n",
       " 0.5817687751359708,\n",
       " 0.8578662682527198,\n",
       " 1.2234030946776902,\n",
       " 1.0741259150625562,\n",
       " 1.0980178050004037,\n",
       " 0.9179697109823903,\n",
       " 0.3719651141224931,\n",
       " 0.9204923869086179,\n",
       " 0.4205901040510649,\n",
       " 0.8376692528919125,\n",
       " 0.9452886010133297,\n",
       " 1.1728170267269002,\n",
       " 0.33395223793416484,\n",
       " 0.8778721222593917,\n",
       " 0.09031632616242558,\n",
       " 0.33351653305271434,\n",
       " 0.2525435193759975,\n",
       " 1.8111857265869575,\n",
       " 1.3418892782656342,\n",
       " 1.5453059278583525,\n",
       " 0.34006064905126276,\n",
       " 1.6663139074177837,\n",
       " 1.572041511663541,\n",
       " 0.949399353385632,\n",
       " 0.3166727644791931,\n",
       " 0.8558300895554418,\n",
       " 0.6475704174784913,\n",
       " 1.126863348451169,\n",
       " 1.808382407481215,\n",
       " 1.3780023824606724,\n",
       " 0.37637294172242686,\n",
       " 0.2081604365973566,\n",
       " 1.8763835310927754,\n",
       " 1.2669640564931333,\n",
       " 1.572134698594346,\n",
       " 0.926050372116511,\n",
       " 1.4762481824928737,\n",
       " 0.40745180921632573,\n",
       " 1.910067102541924,\n",
       " 1.6295993410327252,\n",
       " 0.8541531591809619,\n",
       " 0.5956202323599897,\n",
       " 1.0477965382265644,\n",
       " 0.5252264157074598,\n",
       " 1.013330390114682,\n",
       " 0.03306685713132129,\n",
       " 1.7179779985616,\n",
       " 0.7081081187345162,\n",
       " 0.10175308530649363,\n",
       " 0.35508851331580393,\n",
       " 0.7959316959718654,\n",
       " 0.8327422838603209,\n",
       " 1.3598336721699926,\n",
       " 0.2116689537648102,\n",
       " 0.34535268467447167,\n",
       " 0.8658269878885012,\n",
       " 1.6925245167439635,\n",
       " 1.5189709380856138,\n",
       " 0.9144221479545036,\n",
       " 0.7532490730627397,\n",
       " 0.0317400433490882,\n",
       " 1.1017271979831855,\n",
       " 0.46468190392373687,\n",
       " 0.7217304360734449,\n",
       " 1.609866751897624,\n",
       " 1.8022736654709928,\n",
       " 1.658736360618146,\n",
       " 1.2781439550189977,\n",
       " 0.06640841275301446,\n",
       " 0.3874707748562851,\n",
       " 0.554987375564215,\n",
       " 1.6412654271965195,\n",
       " 0.8664753289834799,\n",
       " 0.08746661787889387,\n",
       " 1.857019240432893,\n",
       " 1.4735989915900476,\n",
       " 0.5575521096584375,\n",
       " 1.0372111617590356,\n",
       " 0.1573446844656301,\n",
       " 0.5701975127609396,\n",
       " 0.07096926960069916,\n",
       " 1.2955653070052846,\n",
       " 1.6007844240197604,\n",
       " 1.4036218797314177,\n",
       " 1.736222548945124,\n",
       " 0.5967025950589369,\n",
       " 1.7063600720075347,\n",
       " 0.30903670215369083,\n",
       " 1.7415741200731063,\n",
       " 1.1595195939355605,\n",
       " 1.656452863704558,\n",
       " 1.7935548093891145,\n",
       " 0.7773563886799308,\n",
       " 1.1673230459943484,\n",
       " 0.26925213755545907,\n",
       " 1.7045565622391514,\n",
       " 1.1013258631463296,\n",
       " 0.9118205978566869,\n",
       " 0.7117148798524424,\n",
       " 0.8488334431056737,\n",
       " 1.174627380445649,\n",
       " 0.9965952396215156,\n",
       " 0.9298062856840807,\n",
       " 0.9143651205306838,\n",
       " 1.1738420339317546,\n",
       " 0.025840995443329184,\n",
       " 0.3440111669590502,\n",
       " 1.0605820517952467,\n",
       " 0.14800160909869597,\n",
       " 0.5522439022438346,\n",
       " 0.009509812348991176,\n",
       " 1.956540936453708,\n",
       " 0.6911147451083712,\n",
       " 0.6740760439270312,\n",
       " 1.3426400464156982,\n",
       " 1.113095538242732,\n",
       " 0.32337393295246053,\n",
       " 0.6527164538275008,\n",
       " 1.0833639120964775,\n",
       " 0.0814358855526569,\n",
       " 1.8390821435948106,\n",
       " 1.772553107960863,\n",
       " 0.08930775031596627,\n",
       " 0.4916695305552581,\n",
       " 1.6498544906444883,\n",
       " 1.7398151419845376,\n",
       " 1.338478464554162,\n",
       " 0.919632578302092,\n",
       " 1.2295320479819252,\n",
       " 0.2818784728520476,\n",
       " 1.1957795788858705,\n",
       " 1.343589911516748,\n",
       " 0.11540940267206534,\n",
       " 1.2257536699768323,\n",
       " 1.6639496375086666,\n",
       " 0.7893001780069664,\n",
       " 1.8451781473884066,\n",
       " 1.294146404523864,\n",
       " 0.7013091668604932,\n",
       " 1.4126259736789049,\n",
       " 0.48606768004990464,\n",
       " 0.6523278699656552,\n",
       " 1.4591222515107611,\n",
       " 1.1538306475101163,\n",
       " 0.22722081366203972,\n",
       " 0.9565236223872007,\n",
       " 1.1435949540180832,\n",
       " 0.08197292263259559,\n",
       " 1.1657173839584773,\n",
       " 1.5357574721468323,\n",
       " 1.2765985377687263,\n",
       " 1.9447180346512727,\n",
       " 1.6172823094056508,\n",
       " 1.1331555842066225,\n",
       " 0.12608979952427757,\n",
       " 0.6254466087932724,\n",
       " 0.7158202432636918,\n",
       " 1.8898139852518765,\n",
       " 1.9708779665994074,\n",
       " 1.5056652309423246,\n",
       " 1.4463211888867418,\n",
       " 1.327298500123079,\n",
       " 1.4437477862226986,\n",
       " 1.64828309763428,\n",
       " 1.7064609446374974,\n",
       " 0.4628926099696171,\n",
       " 1.5255300545962436,\n",
       " 0.5480424852962149,\n",
       " 1.9265348521366081,\n",
       " 0.8910659631850926,\n",
       " 1.9951215781840583,\n",
       " 0.9106047625432521,\n",
       " 0.6907178951531943,\n",
       " 1.3458881022368259,\n",
       " 0.7904894848845698,\n",
       " 1.4953572012514322,\n",
       " 1.0423616113331875,\n",
       " 0.4771198218918502,\n",
       " 1.4055640211200584,\n",
       " 0.13197766128324884,\n",
       " 0.43712636265078464,\n",
       " 1.4539353525972472,\n",
       " 1.8109531861951071,\n",
       " 0.32268362055780386,\n",
       " 1.5375472048179377,\n",
       " 1.469178718458933,\n",
       " 1.8459789652870442,\n",
       " 1.421643552961701,\n",
       " 0.2129279940539086,\n",
       " 1.1588570553364304,\n",
       " 0.5791719090101444,\n",
       " 1.8310609700557139,\n",
       " 0.1208356094671379,\n",
       " 1.2734554176746293,\n",
       " 0.3110196348641707,\n",
       " 0.8322405137673721,\n",
       " 1.3154082936751539,\n",
       " 1.2277159250688832,\n",
       " 0.25076329777272877,\n",
       " 1.9483966830538173,\n",
       " 0.9310575633077072,\n",
       " 1.1977761855255482,\n",
       " 0.8153451770883628,\n",
       " 0.40549228539329785,\n",
       " 0.3659185313326576,\n",
       " 1.6222726652380817,\n",
       " 1.7181004324085318,\n",
       " 1.0584807439960968,\n",
       " 1.9568126174638178,\n",
       " 0.9449818342505576,\n",
       " 1.6783157847268082,\n",
       " 1.1584522922299978,\n",
       " 1.761284508846335,\n",
       " 0.4307154940008928,\n",
       " 1.9390983175073462,\n",
       " 1.9274637732081743,\n",
       " 0.29402198173422556,\n",
       " 0.5633996531888992,\n",
       " 0.964730023957975,\n",
       " 0.04912608155232734,\n",
       " 1.1253313959642248,\n",
       " 0.3531765249405183,\n",
       " 0.8349425690736294,\n",
       " 1.0061941327117525,\n",
       " 1.3928588725525035,\n",
       " 1.9363472502253436,\n",
       " 1.3161778581786698,\n",
       " 1.0773961648222494,\n",
       " 0.961075724694233,\n",
       " 1.9256953506073913,\n",
       " 1.339642838144123,\n",
       " 1.1489248666527438,\n",
       " 0.5619187251323934,\n",
       " 1.3228456435306895,\n",
       " 1.3512502046278416,\n",
       " 1.5737930301048213,\n",
       " 1.2815010210543964,\n",
       " 1.6828938449624586,\n",
       " 1.9106287802218211,\n",
       " 1.6310970343283449,\n",
       " 1.5871136743562009,\n",
       " 1.5574411999631295,\n",
       " 0.9167144594484367,\n",
       " 1.1564585244843169,\n",
       " 0.6412713620099826,\n",
       " 1.3052900343948428,\n",
       " 0.4589375395441462,\n",
       " 0.8349466880823406,\n",
       " 0.8017078435782032,\n",
       " 1.6990741112905194,\n",
       " 1.1572948114448287,\n",
       " 0.9923953617162564,\n",
       " 0.9388139523990744,\n",
       " 1.8704901231389182,\n",
       " 0.2886733585742087,\n",
       " 1.5526417151282847,\n",
       " 1.0424992176273506,\n",
       " 1.6491904478457151,\n",
       " 1.4088192491324083,\n",
       " 0.2111985639189824,\n",
       " 0.3796506796503307,\n",
       " 1.3957305753259037,\n",
       " 0.47100316181160884,\n",
       " 0.24577739989098402,\n",
       " 1.2682740003273647,\n",
       " 0.7091653312349766,\n",
       " 1.7951859162472372,\n",
       " 0.3300249591909581,\n",
       " 1.3557259620969802,\n",
       " 1.4198586716534585,\n",
       " 0.49818728326769857,\n",
       " 1.0542585346559192,\n",
       " 1.27505374254567,\n",
       " 0.9076842311268085,\n",
       " 0.8158504328093512,\n",
       " 0.9192332212410972,\n",
       " 1.6186500959186823,\n",
       " 0.5225716888467102,\n",
       " 0.8309644677049766,\n",
       " 1.8842866726734278,\n",
       " 1.4807432927383248,\n",
       " 0.13566989851174727,\n",
       " 1.5083238379889718,\n",
       " 0.31110170126289605,\n",
       " 0.7804300120432299,\n",
       " 1.749531598427974,\n",
       " 1.831868387166771,\n",
       " 0.5763834564006498,\n",
       " 0.4218368103839625,\n",
       " 1.4867197902394769,\n",
       " 0.11581292843798319,\n",
       " 0.05584522556919236,\n",
       " 0.40231388113902944,\n",
       " 1.7354975466907103,\n",
       " 0.042084177489386754,\n",
       " 1.9914145867616462,\n",
       " 1.7432345287807671,\n",
       " 1.2662837513767147,\n",
       " 1.329210784649041,\n",
       " 0.5469523316007556,\n",
       " 0.7006322363714759,\n",
       " 0.12176884245741748,\n",
       " 0.0508030795171599,\n",
       " 1.1126138597171162,\n",
       " 1.796907077333477,\n",
       " 1.9104576426859785,\n",
       " 1.3566622517229348,\n",
       " 1.091407937507423,\n",
       " 0.4882354588783415,\n",
       " 1.3604204168626923,\n",
       " 1.1453213811962375,\n",
       " 1.7980400642867107,\n",
       " 0.8865871609636289,\n",
       " 1.8088644024986358,\n",
       " 1.069242694198999,\n",
       " 1.9885996127905807,\n",
       " 0.15686898878888078,\n",
       " 1.9707617158703703,\n",
       " 0.6319888982257502,\n",
       " 1.5874941262649198,\n",
       " 1.5838309413405205,\n",
       " 1.0939683925925638,\n",
       " 0.715231764069076,\n",
       " 1.3271150924855148,\n",
       " 0.5613540730104367,\n",
       " 1.117443823421069,\n",
       " 1.9260861451035372,\n",
       " 1.5354275330878324,\n",
       " 1.0596687437122068,\n",
       " 0.20121095455429217,\n",
       " 0.5829414064887419,\n",
       " 1.6265195701772175,\n",
       " 0.8218714813282719,\n",
       " 1.2318685758320211,\n",
       " 1.4475295678008626,\n",
       " 1.6237516213624807,\n",
       " 1.1085980598964091,\n",
       " 1.4496190499299229,\n",
       " 1.0269033228377538,\n",
       " 0.6429770276531419,\n",
       " 1.0247062952935986,\n",
       " 1.0476920403119698,\n",
       " 1.2573061935137118,\n",
       " 0.5491106165594921,\n",
       " 0.0642824716921575,\n",
       " 0.3152655718994464,\n",
       " 0.6618565578809767,\n",
       " 1.992856086648271,\n",
       " 0.3667819894784412,\n",
       " 0.6282956399493054,\n",
       " 0.8671362175106083,\n",
       " 1.635582340564876,\n",
       " 0.8110140723843493,\n",
       " 1.177067045591242,\n",
       " 0.5651756437285724,\n",
       " 1.2967106318185428,\n",
       " 1.054740512222132,\n",
       " 0.9511323488891226,\n",
       " 1.520831202632208,\n",
       " 1.6921802824976906,\n",
       " 1.7008169337412131,\n",
       " 0.18507088670065297,\n",
       " 1.0409326702315247,\n",
       " 1.1278676806247425,\n",
       " 0.7696310871384997,\n",
       " 0.1736705530936491,\n",
       " 1.2091870311343476,\n",
       " 0.29195108793653235,\n",
       " 1.5963437015885633,\n",
       " 1.0482759194083187,\n",
       " 1.3082256248298458,\n",
       " 1.053572952202933,\n",
       " 0.7955739335431979,\n",
       " 1.655590931414533,\n",
       " 1.521917772760506,\n",
       " 1.2522600554218228,\n",
       " 0.758466435590933,\n",
       " 1.1230054567373977,\n",
       " 0.3432491979490788,\n",
       " 1.2009528815556838,\n",
       " 0.01906583122373573,\n",
       " 0.36106211070652927,\n",
       " 1.1411270561046598,\n",
       " 1.4079816546880206,\n",
       " 0.27576614157436374,\n",
       " 0.3869231729693623,\n",
       " 0.057502472178355024,\n",
       " 1.600231892652456,\n",
       " 0.01994248275288424,\n",
       " 1.8721842755306726,\n",
       " 0.4840091774603801,\n",
       " 1.580991930400266,\n",
       " 1.0926640105219492,\n",
       " 1.4795529096610234,\n",
       " 1.3042705762132123,\n",
       " 1.3937625493467265,\n",
       " 1.0453957669234912,\n",
       " 1.4753739906039491,\n",
       " 0.295125883991612,\n",
       " 1.0410695393752845,\n",
       " 0.6986986421192565,\n",
       " 0.6324217922776725,\n",
       " 1.8187316081071045,\n",
       " 1.6822659928827706,\n",
       " 1.8680577835617422,\n",
       " 0.6147593543658876,\n",
       " 0.5516711200947757,\n",
       " 0.5552682328831733,\n",
       " 0.04171083732014913,\n",
       " 0.8305790061441689,\n",
       " 1.2665426183204491,\n",
       " 1.8514498346685595,\n",
       " 1.2894588303515755,\n",
       " 1.147579505423461,\n",
       " 1.2474332402081048,\n",
       " 0.8670819824997618,\n",
       " 1.4951907780877847,\n",
       " 1.0715708723607653,\n",
       " 0.06151930982499931,\n",
       " 0.6141927802706639,\n",
       " 0.02253469731739366,\n",
       " 0.2674242065019454,\n",
       " 0.020686509522937158,\n",
       " 0.3125924187209361,\n",
       " 0.11613619540068565,\n",
       " 1.4726360221441321,\n",
       " 1.476253767537485,\n",
       " 1.0029698020487825,\n",
       " 1.1689539469022459,\n",
       " 0.8449949045661687,\n",
       " 1.9064743171146519,\n",
       " 1.7795453625815656,\n",
       " 1.1721814784782563,\n",
       " 0.7604539606017493,\n",
       " 1.8586658474078062,\n",
       " 1.0344895186630432,\n",
       " 0.6004051347533408,\n",
       " 0.720757549411112,\n",
       " 1.178933088023737,\n",
       " 0.5228120325589505,\n",
       " 1.5684032620419741,\n",
       " 0.06975408456821985,\n",
       " 0.5146417693708196,\n",
       " 0.6269414997920222,\n",
       " 1.2322289258487902,\n",
       " 1.4926274685617502,\n",
       " 0.9302839089916584,\n",
       " 0.20241243457199465,\n",
       " 0.701148671642124,\n",
       " 0.48503053087734105,\n",
       " 0.3692176259311055,\n",
       " 0.36856992036587055,\n",
       " 1.1675076069890846,\n",
       " 1.5287569351437658,\n",
       " 0.8800953693320959,\n",
       " 1.9388461179058027,\n",
       " 0.12405992883971861,\n",
       " 0.09845154553630331,\n",
       " 1.2716309872170166,\n",
       " 1.8665835254914616,\n",
       " 1.2863200730628734,\n",
       " 0.19961720237263636,\n",
       " 1.4534736854830375,\n",
       " 1.8215134415515446,\n",
       " 0.3705188869295808,\n",
       " 0.546036130258754,\n",
       " 0.7101672480654639,\n",
       " 0.6477464370161781,\n",
       " 1.373948536575827,\n",
       " 0.23587346236927131,\n",
       " 0.21935296009520378,\n",
       " 0.0548121287989376,\n",
       " 0.33121249648065865,\n",
       " 1.0693497979302653,\n",
       " 0.2057385599852739,\n",
       " 1.412787999234368,\n",
       " 1.8213367933895441,\n",
       " 1.3419516465263963,\n",
       " 1.3063322434441547,\n",
       " 1.725416445766813,\n",
       " 1.2619879253025057,\n",
       " 1.785231843802314,\n",
       " 0.34376375937951,\n",
       " 1.296761338244774,\n",
       " 0.6725090054395726,\n",
       " 0.809588262659096,\n",
       " 0.6543154131987903,\n",
       " 1.942861760927028,\n",
       " 1.7733489777180813,\n",
       " 0.4419599166306416,\n",
       " 1.3771898226588735,\n",
       " 0.26505482188993446,\n",
       " 1.7166774225956394,\n",
       " 0.8761695107042275,\n",
       " 1.3445025436507068,\n",
       " 1.8579266850164813,\n",
       " 1.8040327957539732,\n",
       " 0.761633088120325,\n",
       " 0.25524290349584056,\n",
       " 1.6956957265255914,\n",
       " 1.8378406403673644,\n",
       " 0.6233030650729781,\n",
       " 1.225145968730081,\n",
       " 0.004108675166375475,\n",
       " 1.342188533791054,\n",
       " 1.4093377006920165,\n",
       " 1.6963035148043795,\n",
       " 0.5589495166027767,\n",
       " 1.3964062217260456,\n",
       " 0.29625371755454455,\n",
       " 1.1751345570626988,\n",
       " 1.5887041410605311,\n",
       " 1.6731170968934022,\n",
       " 0.3012427251269605,\n",
       " 1.9789708286156873,\n",
       " 1.2059695963433161,\n",
       " 1.2091612646767678,\n",
       " 1.87049873293801,\n",
       " 1.5017435071058236,\n",
       " 1.3464908880618764,\n",
       " 1.4798693340529958,\n",
       " 1.9709834591377333,\n",
       " 1.7190895331861815,\n",
       " 1.374370541663502,\n",
       " 1.861726289142621,\n",
       " 1.7664385632163642,\n",
       " 1.2459410861206213,\n",
       " 1.6860667762820116,\n",
       " 0.69922613295034,\n",
       " 0.24864970716731283,\n",
       " 1.246702383028175,\n",
       " 1.9729255824111176,\n",
       " 1.4684257064030963,\n",
       " 1.1944855125683964,\n",
       " 1.012685006451298,\n",
       " 1.322713602532975,\n",
       " 1.2653849241079838,\n",
       " 0.4658360149341909,\n",
       " 0.5090129365272043,\n",
       " 0.33864743508567074,\n",
       " 0.6038964571880077,\n",
       " 1.7657914020303362,\n",
       " 0.17440610535681977,\n",
       " 1.6689079984250812,\n",
       " 0.11801796160938971,\n",
       " 1.8528274425501148,\n",
       " 1.7468243307529017,\n",
       " 1.3536612364701386,\n",
       " 1.289401107745748,\n",
       " 1.6639743373894889,\n",
       " 0.662266656143325,\n",
       " 0.6549596200588672,\n",
       " 1.9669945796789836,\n",
       " 1.477657732893327,\n",
       " 1.5952494612777715,\n",
       " 0.47559786292015693,\n",
       " 1.496630898704794,\n",
       " 0.4790400950455578,\n",
       " 0.3421053963069449,\n",
       " 1.3636301647663986,\n",
       " 1.8221556232138265,\n",
       " 0.3518924920548152,\n",
       " 1.5671441574752385,\n",
       " 0.2583645928448557,\n",
       " 1.2558403838424925,\n",
       " 0.725526549850964,\n",
       " 0.8617551950309581,\n",
       " 0.1874233806278751,\n",
       " 1.1858461693605604,\n",
       " 0.9044570600562227,\n",
       " 1.5026928543477933,\n",
       " 0.4008661552873205,\n",
       " 0.18671360880550858,\n",
       " 0.10694832345310012,\n",
       " 0.8384835872496543,\n",
       " 0.41176430365330385,\n",
       " 0.745650952693681,\n",
       " 1.109170283818237,\n",
       " 0.2307836947340347,\n",
       " 0.48814855886146247,\n",
       " 1.9744880303989016,\n",
       " 0.7103975098436879,\n",
       " 1.7331966892050026,\n",
       " 1.509435053581973,\n",
       " 0.35727658305717,\n",
       " 0.9509701943288005,\n",
       " 1.4661316220983378,\n",
       " 0.2378898514590142,\n",
       " 0.2884251776113882,\n",
       " 1.4263720362338186,\n",
       " 1.7944276636844787,\n",
       " 1.7640815728378483,\n",
       " 0.029906708189836317,\n",
       " 1.2989201136504491,\n",
       " 1.903061347726601,\n",
       " 0.9748018897275279,\n",
       " 1.8429853058451613,\n",
       " 1.913595600307906,\n",
       " 1.8945331816999278,\n",
       " 1.6851509390644668,\n",
       " 1.9063717786757317,\n",
       " 0.925072356553154,\n",
       " 1.5609238270947443,\n",
       " 1.3436309279536236,\n",
       " 1.8407495068012456,\n",
       " 0.03473018965195185,\n",
       " 0.8334580975514505,\n",
       " 1.9919699807323166,\n",
       " 1.9696000309228596,\n",
       " 0.6284842070966317,\n",
       " 1.5395045705403827,\n",
       " 0.11738912472525476,\n",
       " 1.8341138103982348,\n",
       " 1.2980178155552902,\n",
       " 0.0861316715978675,\n",
       " 0.9222888991614102,\n",
       " 1.331360224249646,\n",
       " 0.7828176261656887,\n",
       " 1.2880619146191772,\n",
       " 0.6367187461049897,\n",
       " 1.6831889666423805,\n",
       " 1.3376841435318347,\n",
       " 0.37452748741436825,\n",
       " 0.6197554172074018,\n",
       " 0.7780157600961035,\n",
       " 1.9037936601963203,\n",
       " 0.6003752957677779,\n",
       " 0.7711827485937797,\n",
       " 1.9272394302292986,\n",
       " 1.4565832612226595,\n",
       " 0.9340420194047638,\n",
       " 0.9544857297618599,\n",
       " 0.7277932806628196,\n",
       " 0.9637059139527433,\n",
       " 1.8931990477736373,\n",
       " 1.2572196182034248,\n",
       " 1.6530238609768455,\n",
       " 1.304405517946395,\n",
       " 0.2782320897397512,\n",
       " 1.874488263041636,\n",
       " 1.9225569170862071,\n",
       " 0.3720043287027881,\n",
       " 0.24386303069685922,\n",
       " 0.05611605083408033,\n",
       " 1.1277876544103207,\n",
       " 0.23072543700871107,\n",
       " 1.265338299336859,\n",
       " 0.33203141929070257,\n",
       " 0.5502024561647947,\n",
       " 1.6079338780608545,\n",
       " 1.6905867668221615,\n",
       " 1.885379999640444,\n",
       " 0.788061402428123,\n",
       " 1.6183333433064133,\n",
       " 0.735351368721699,\n",
       " 0.8332819377706095,\n",
       " 1.8899313879243937,\n",
       " 1.422894169644452,\n",
       " 0.9867374774537381,\n",
       " 1.1500918257602237,\n",
       " 1.4577006617717738,\n",
       " 0.33183975355695017,\n",
       " 0.8949273991150093,\n",
       " 1.803467943946678,\n",
       " 1.586240758297902,\n",
       " 0.09735848920072998,\n",
       " 0.7419339198187234,\n",
       " 1.7538544446894655,\n",
       " 1.2014837295289225,\n",
       " 0.3413061180878938,\n",
       " 0.41014434138565714,\n",
       " 1.7709164728852913,\n",
       " 1.7176915348174433,\n",
       " 1.0893771371582686,\n",
       " 1.659416495059204,\n",
       " 0.8478677768852834,\n",
       " 0.2922915080333095,\n",
       " 1.304192231301344,\n",
       " 0.7324097549463997,\n",
       " 1.1649650797018063,\n",
       " 0.5013309672986734,\n",
       " 1.542661443574645,\n",
       " 0.95199258678505,\n",
       " 0.07932235140918831,\n",
       " 1.0569578233765013,\n",
       " 0.967234559550084,\n",
       " 0.903050647431263,\n",
       " 0.6910882407936136,\n",
       " 1.6350102963941715,\n",
       " 1.5045618468670259,\n",
       " 1.5663024155356027,\n",
       " 0.6943486379674879,\n",
       " 1.3334285303843714,\n",
       " 1.496514610999034,\n",
       " 1.5566942929339214,\n",
       " 1.3013508069166935,\n",
       " 1.0569907577813424,\n",
       " 1.169556390658035,\n",
       " 0.2915107422372756,\n",
       " 0.7985492158570882,\n",
       " 0.7227410884968224,\n",
       " 0.6544725534390208,\n",
       " 1.0686104216488084,\n",
       " 0.3244353864865288,\n",
       " 1.4771838078655648,\n",
       " 0.19268018028912426,\n",
       " 1.2102667749904514,\n",
       " 1.7690117161119854,\n",
       " 1.4616472624899752,\n",
       " 1.6965814329436428,\n",
       " 1.9316528795013608,\n",
       " 1.7673044611478927,\n",
       " 0.3435172965820026,\n",
       " 0.9986560941931173,\n",
       " 1.5257488692072683,\n",
       " 0.019668207158558992,\n",
       " 0.9586267252193574,\n",
       " 1.9709839138989618,\n",
       " 1.2748269936247316,\n",
       " 0.7872143911250313,\n",
       " 0.7769673592627999,\n",
       " 0.7598423289461467,\n",
       " 1.3447854099757839,\n",
       " 0.020682458146124683,\n",
       " 0.8079905430997172,\n",
       " 1.8616427110849885,\n",
       " 1.655433571498965,\n",
       " 1.6809421778376326,\n",
       " 0.5221725631223051,\n",
       " 0.4534921013873918,\n",
       " 1.0847576162180277,\n",
       " 1.3102397644100006,\n",
       " 0.7881208147474632,\n",
       " 0.889217603029014,\n",
       " 0.2820700917739112,\n",
       " 0.5477081103642132,\n",
       " 0.44432751042694707,\n",
       " 1.6298036668659706,\n",
       " 1.1122677634404743,\n",
       " 0.493547484308843,\n",
       " 0.5805689430627783,\n",
       " 0.22393498899204678,\n",
       " 0.4870849223223692,\n",
       " 0.3610352295428927,\n",
       " 1.603173731415201,\n",
       " 0.7073245618625865,\n",
       " 1.8282576972113738,\n",
       " 0.10878387030483339,\n",
       " 0.8703769517956155,\n",
       " 1.9863126824891981,\n",
       " 1.8397338666012515,\n",
       " 1.863571308725273,\n",
       " 0.8551463109493718,\n",
       " 0.9793126486509924,\n",
       " 0.8800531186418881,\n",
       " 1.5882774912804465,\n",
       " 1.7514097407097922,\n",
       " 0.9094873003526702,\n",
       " 0.30864286690097953,\n",
       " 1.9933850522187806,\n",
       " 0.14693120901115142,\n",
       " 1.5971124393358254,\n",
       " 1.2666129002365674,\n",
       " 1.2824903160280177,\n",
       " 0.5338370504471355,\n",
       " 1.6887387801623919,\n",
       " 1.0885876084633848,\n",
       " 0.8176973201527531,\n",
       " 0.21608197546241525,\n",
       " 0.16654903835552992,\n",
       " 0.061359644822997605,\n",
       " 0.19888950758621737,\n",
       " 1.0134544313729272,\n",
       " 1.9198227372836012,\n",
       " 0.8728947423065212,\n",
       " 0.218635551132897,\n",
       " 1.8911627701367533,\n",
       " 0.5538180001961628,\n",
       " 1.1045266552015387,\n",
       " 1.5637391484427683,\n",
       " 1.883063984994955,\n",
       " 0.3526820074257184,\n",
       " 0.9964163307893359,\n",
       " 1.236520531345958,\n",
       " 1.6785201568019243,\n",
       " 1.9047091806368217,\n",
       " 0.6610862692114454,\n",
       " 1.560994279921899,\n",
       " 0.16161611998072933,\n",
       " 1.3808670900886748,\n",
       " 1.9196526694610307,\n",
       " 0.9664666152007313,\n",
       " 1.201400482418186,\n",
       " 0.6458245669003955,\n",
       " 1.5141578524921164,\n",
       " 1.8356103303556772,\n",
       " 0.5505971212144418,\n",
       " 1.7333855713096669,\n",
       " ...]"
      ]
     },
     "execution_count": 17,
     "metadata": {},
     "output_type": "execute_result"
    }
   ],
   "source": [
    "[i*2 for i in random_array]"
   ]
  },
  {
   "cell_type": "code",
   "execution_count": null,
   "metadata": {},
   "outputs": [],
   "source": []
  },
  {
   "cell_type": "code",
   "execution_count": 8,
   "metadata": {},
   "outputs": [
    {
     "name": "stdout",
     "output_type": "stream",
     "text": [
      "hypot (float64, float64)\n",
      "--------------------------------------------------------------------------------\n",
      "# File: <ipython-input-2-cb2130edd906>\n",
      "# --- LINE 2 --- \n",
      "# label 0\n",
      "\n",
      "def hypot(x, y):\n",
      "\n",
      "    # --- LINE 3 --- \n",
      "    #   x = arg(0, name=x)  :: float64\n",
      "    #   y = arg(1, name=y)  :: float64\n",
      "    #   $0.1 = global(abs: <built-in function abs>)  :: Function(<built-in function abs>)\n",
      "    #   $0.3 = call $0.1(x, func=$0.1, args=[Var(x, <ipython-input-2-cb2130edd906> (3))], kws=(), vararg=None)  :: (float64,) -> float64\n",
      "    #   del x\n",
      "    #   del $0.1\n",
      "    #   x.1 = $0.3  :: float64\n",
      "    #   del $0.3\n",
      "\n",
      "    x = abs(x);\n",
      "\n",
      "    # --- LINE 4 --- \n",
      "    #   $0.4 = global(abs: <built-in function abs>)  :: Function(<built-in function abs>)\n",
      "    #   $0.6 = call $0.4(y, func=$0.4, args=[Var(y, <ipython-input-2-cb2130edd906> (3))], kws=(), vararg=None)  :: (float64,) -> float64\n",
      "    #   del y\n",
      "    #   del $0.4\n",
      "    #   y.1 = $0.6  :: float64\n",
      "    #   del $0.6\n",
      "\n",
      "    y = abs(y);\n",
      "\n",
      "    # --- LINE 5 --- \n",
      "    #   $0.7 = global(min: <built-in function min>)  :: Function(<built-in function min>)\n",
      "    #   $0.10 = call $0.7(x.1, y.1, func=$0.7, args=[Var(x.1, <ipython-input-2-cb2130edd906> (3)), Var(y.1, <ipython-input-2-cb2130edd906> (4))], kws=(), vararg=None)  :: (float64, float64) -> float64\n",
      "    #   del $0.7\n",
      "    #   t = $0.10  :: float64\n",
      "    #   del $0.10\n",
      "\n",
      "    t = min(x, y);\n",
      "\n",
      "    # --- LINE 6 --- \n",
      "    #   $0.11 = global(max: <built-in function max>)  :: Function(<built-in function max>)\n",
      "    #   $0.14 = call $0.11(x.1, y.1, func=$0.11, args=[Var(x.1, <ipython-input-2-cb2130edd906> (3)), Var(y.1, <ipython-input-2-cb2130edd906> (4))], kws=(), vararg=None)  :: (float64, float64) -> float64\n",
      "    #   del y.1\n",
      "    #   del x.1\n",
      "    #   del $0.11\n",
      "    #   x.2 = $0.14  :: float64\n",
      "    #   del $0.14\n",
      "\n",
      "    x = max(x, y);\n",
      "\n",
      "    # --- LINE 7 --- \n",
      "    #   $0.17 = t / x.2  :: float64\n",
      "    #   del t\n",
      "    #   t.1 = $0.17  :: float64\n",
      "    #   del $0.17\n",
      "\n",
      "    t = t / x;\n",
      "\n",
      "    # --- LINE 8 --- \n",
      "    #   $0.19 = global(math: <module 'math' (built-in)>)  :: Module(<module 'math' (built-in)>)\n",
      "    #   $0.20 = getattr(value=$0.19, attr=sqrt)  :: Function(<built-in function sqrt>)\n",
      "    #   del $0.19\n",
      "    #   $const0.21 = const(int, 1)  :: Literal[int](1)\n",
      "    #   $0.24 = t.1 * t.1  :: float64\n",
      "    #   del t.1\n",
      "    #   $0.25 = $const0.21 + $0.24  :: float64\n",
      "    #   del $const0.21\n",
      "    #   del $0.24\n",
      "    #   $0.26 = call $0.20($0.25, func=$0.20, args=[Var($0.25, <ipython-input-2-cb2130edd906> (8))], kws=(), vararg=None)  :: (float64,) -> float64\n",
      "    #   del $0.25\n",
      "    #   del $0.20\n",
      "    #   $0.27 = x.2 * $0.26  :: float64\n",
      "    #   del x.2\n",
      "    #   del $0.26\n",
      "    #   $0.28 = cast(value=$0.27)  :: float64\n",
      "    #   del $0.27\n",
      "    #   return $0.28\n",
      "\n",
      "    return x * math.sqrt(1+t*t)\n",
      "\n",
      "\n",
      "================================================================================\n"
     ]
    }
   ],
   "source": [
    "hypot.inspect_types()"
   ]
  },
  {
   "cell_type": "markdown",
   "metadata": {},
   "source": [
    "#### Benchmark\n",
    "* Python's built-in may be even faster than Numba This is because Numba does introduce some overhead to each function call that is larger than the function call overhead of Python itself"
   ]
  },
  {
   "cell_type": "code",
   "execution_count": 6,
   "metadata": {},
   "outputs": [
    {
     "name": "stdout",
     "output_type": "stream",
     "text": [
      "607 ns ± 14.9 ns per loop (mean ± std. dev. of 7 runs, 1000000 loops each)\n"
     ]
    }
   ],
   "source": [
    "# Python\n",
    "%timeit hypot.py_func(3.0, 4.0)"
   ]
  },
  {
   "cell_type": "code",
   "execution_count": 7,
   "metadata": {},
   "outputs": [
    {
     "name": "stdout",
     "output_type": "stream",
     "text": [
      "138 ns ± 2.21 ns per loop (mean ± std. dev. of 7 runs, 10000000 loops each)\n"
     ]
    }
   ],
   "source": [
    "# Numba\n",
    "%timeit hypot(3.0, 4.0)"
   ]
  },
  {
   "cell_type": "markdown",
   "metadata": {},
   "source": [
    "### Not all Python code an be compiled\n",
    "* some functions don't have a Numba-translation\n",
    "* some kinds of Python types can't be efficiently compiled at all\n",
    "* Numba does not support dictionaries\n",
    "\n",
    "-----"
   ]
  },
  {
   "cell_type": "markdown",
   "metadata": {},
   "source": [
    "## GPU programming in Numba\n"
   ]
  },
  {
   "cell_type": "markdown",
   "metadata": {},
   "source": [
    "### Several important terms in the topic of CUDA programming are listed here:\n",
    "\n",
    "- host\n",
    "    - the CPU\n",
    "- device\n",
    "    - the GPU\n",
    "- host memory\n",
    "    - the system main memory\n",
    "- device memory\n",
    "    - onboard memory on a GPU card\n",
    "- kernel\n",
    "    - a GPU function launched by the host and executed on the device\n",
    "- device function\n",
    "    - a GPU function executed on the device which can only be called from the device (i.e. from a kernel or another device function)"
   ]
  },
  {
   "cell_type": "markdown",
   "metadata": {},
   "source": [
    "## What is a kernel?\n",
    "\n",
    "A kernel is similar to a function, it is a block of code which takes some inputs and is executed by a processor.\n",
    "\n",
    "The difference between a function and a kernel is:\n",
    "- A kernel cannot return anything, it must instead modify memory\n",
    "- A kernel must specify its thread hierarchy (threads and blocks)"
   ]
  },
  {
   "cell_type": "markdown",
   "metadata": {},
   "source": [
    "## Recap on  grids, threads and blocks (and warps)?\n",
    "\n",
    "\n",
    "<figure>\n",
    "\n",
    "![CPU GPU Comparison](graphics/threads-blocks-warps.png)\n",
    "\n",
    "<figcaption style=\"text-align: center;\"> \n",
    "    \n",
    "Image source <a href=\"https://docs.nvidia.com/cuda/cuda-c-programming-guide/\">https://docs.nvidia.com/cuda/cuda-c-programming-guide/</a>\n",
    "    \n",
    "</figcaption>\n",
    "</figure>\n",
    "\n",
    "\n",
    "Rules of thumb for threads per block:\n",
    "- Should be a round multiple of the warp size (32)\n",
    "- A good place to start is 128-512 but benchmarking is required to determine the optimal value.\n"
   ]
  },
  {
   "cell_type": "code",
   "execution_count": null,
   "metadata": {},
   "outputs": [],
   "source": []
  },
  {
   "cell_type": "code",
   "execution_count": null,
   "metadata": {},
   "outputs": [],
   "source": []
  },
  {
   "cell_type": "code",
   "execution_count": null,
   "metadata": {},
   "outputs": [],
   "source": []
  },
  {
   "cell_type": "code",
   "execution_count": null,
   "metadata": {},
   "outputs": [],
   "source": []
  },
  {
   "cell_type": "markdown",
   "metadata": {},
   "source": [
    "## Two aproaches of GPU programming in Numba:\n",
    "* CUDA Python kernels\n",
    "* ufuncs/gufuncs\n",
    "\n",
    "\n",
    "* Maximum throughput is achieved in the scenario of computing the same operations on many different elements at once"
   ]
  },
  {
   "cell_type": "code",
   "execution_count": null,
   "metadata": {},
   "outputs": [],
   "source": []
  },
  {
   "cell_type": "markdown",
   "metadata": {},
   "source": [
    "## CUDA kernel\n",
    "* ufuncs are the easiest way in Numba to use the GPU\n",
    "* CUDA kernel provides greater flexibility as it is required in many problems\n",
    "\n",
    "#### Creating Cuda kernel\n",
    "\n",
    "![](graphics/cuda_kernel.png)\n",
    "\n",
    "\n",
    "\n",
    "#### Deciding on the size of a block and grid\n",
    " "
   ]
  },
  {
   "cell_type": "code",
   "execution_count": null,
   "metadata": {},
   "outputs": [],
   "source": []
  },
  {
   "cell_type": "markdown",
   "metadata": {},
   "source": [
    "## First program "
   ]
  },
  {
   "cell_type": "code",
   "execution_count": null,
   "metadata": {},
   "outputs": [],
   "source": []
  },
  {
   "cell_type": "code",
   "execution_count": null,
   "metadata": {},
   "outputs": [],
   "source": []
  },
  {
   "cell_type": "code",
   "execution_count": null,
   "metadata": {},
   "outputs": [],
   "source": []
  },
  {
   "cell_type": "markdown",
   "metadata": {},
   "source": [
    "## Let's get bigger\n",
    "\n",
    "Now that we've run our first CUDA kernel with Numba let's try something a little bigger.\n",
    "\n",
    "This time we are going to take a large array and double every number in it. We will do it first in pure Python on the CPU and then in a CUDA kernel on the GPU.\n"
   ]
  },
  {
   "cell_type": "code",
   "execution_count": null,
   "metadata": {},
   "outputs": [],
   "source": []
  },
  {
   "cell_type": "code",
   "execution_count": null,
   "metadata": {},
   "outputs": [],
   "source": []
  },
  {
   "cell_type": "code",
   "execution_count": null,
   "metadata": {},
   "outputs": [],
   "source": []
  },
  {
   "cell_type": "markdown",
   "metadata": {},
   "source": [
    "## Memory management\n",
    "\n",
    "Earlier we discussed that the CPU and GPU are effectively two separate computers. Each of these computers has it's own memory. \n",
    "\n",
    "All of the data we've worked with so far has been created with numpy on the CPU. So in order for `numba` to work with this data on the GPU it has been quietly copying data back and forth for us.\n",
    "\n",
    "\n"
   ]
  },
  {
   "cell_type": "code",
   "execution_count": null,
   "metadata": {},
   "outputs": [],
   "source": []
  },
  {
   "cell_type": "code",
   "execution_count": null,
   "metadata": {},
   "outputs": [],
   "source": []
  },
  {
   "cell_type": "code",
   "execution_count": null,
   "metadata": {},
   "outputs": [],
   "source": []
  },
  {
   "cell_type": "markdown",
   "metadata": {},
   "source": [
    "### Creating a function - recap\n",
    "* The pattern of computing a starting index and a stride is a common way to ensure that\n",
    "your grid size is independent of the input size\n",
    "* The striding will maximize bandwidth by ensuring that threads with consecuitive \n",
    "#indices are accessing consecutive memory locations\n",
    "* no need to specify a type signature for the CUDA kernel\n",
    "* Numba can infer the type signature from the inputs automatically"
   ]
  },
  {
   "cell_type": "code",
   "execution_count": null,
   "metadata": {},
   "outputs": [],
   "source": []
  },
  {
   "cell_type": "code",
   "execution_count": null,
   "metadata": {},
   "outputs": [],
   "source": []
  },
  {
   "cell_type": "markdown",
   "metadata": {},
   "source": [
    "### Calling a function\n",
    "* syntax for calling the kernel function mimic CUDA Runtime API in C\n",
    "* args in square brackets define the size and shape of the thread grid\n",
    "* args with parentheses correspond to the kernel function arguments\n",
    "* the arguments are passed to the kernel as full NumPy arrays\n",
    "* kernel can access any element in the array it wants regardless of its position in the thread grid\n",
    "* This is more powerful than ufuncs\n"
   ]
  },
  {
   "cell_type": "code",
   "execution_count": null,
   "metadata": {},
   "outputs": [],
   "source": []
  },
  {
   "cell_type": "code",
   "execution_count": null,
   "metadata": {},
   "outputs": [],
   "source": []
  },
  {
   "cell_type": "markdown",
   "metadata": {},
   "source": [
    "#### Simplification with helper functions\n",
    "* NumPy arrays forces Numba to allocate GPU memory\n",
    "* copy the arguments to the GPU\n",
    "* run the kernel\n",
    "* copy the argument arrays back to the host\n",
    "\n",
    "This not very efficient, so you will often want to allocate device arrays:\n"
   ]
  },
  {
   "cell_type": "code",
   "execution_count": null,
   "metadata": {},
   "outputs": [],
   "source": []
  },
  {
   "cell_type": "code",
   "execution_count": null,
   "metadata": {},
   "outputs": [],
   "source": []
  },
  {
   "cell_type": "code",
   "execution_count": null,
   "metadata": {},
   "outputs": [],
   "source": []
  },
  {
   "cell_type": "markdown",
   "metadata": {},
   "source": [
    "#### Kernel Synchronization\n"
   ]
  },
  {
   "cell_type": "code",
   "execution_count": null,
   "metadata": {},
   "outputs": [],
   "source": []
  },
  {
   "cell_type": "code",
   "execution_count": null,
   "metadata": {},
   "outputs": [],
   "source": []
  },
  {
   "cell_type": "markdown",
   "metadata": {},
   "source": [
    "#### Random numbers\n",
    "* useful in Monte Carlo simulations\n",
    "* numba implemented xoroshiro128+ generator"
   ]
  },
  {
   "cell_type": "code",
   "execution_count": 7,
   "metadata": {},
   "outputs": [],
   "source": [
    "# Initialize the RNG state on the host for each thread in kernel\n",
    "# state creation function initializes each state to be in the same\n",
    "# sequence designated by the seed, but separated by $2^{64}$ steps from each other.\n",
    "\n",
    "import numpy as np\n",
    "from numba import cuda\n",
    "from numba.cuda.random import create_xoroshiro128p_states, xoroshiro128p_uniform_float32\n",
    "\n",
    "threads_per_block = 64\n",
    "blocks = 24\n",
    "rng_states = create_xoroshiro128p_states(threads_per_block * blocks, seed=1)\n"
   ]
  },
  {
   "cell_type": "markdown",
   "metadata": {},
   "source": [
    "#### Exercise\n",
    "* create a function to compute pie \n"
   ]
  },
  {
   "cell_type": "code",
   "execution_count": null,
   "metadata": {},
   "outputs": [],
   "source": []
  },
  {
   "cell_type": "code",
   "execution_count": null,
   "metadata": {},
   "outputs": [],
   "source": []
  },
  {
   "cell_type": "markdown",
   "metadata": {},
   "source": [
    "#### ufuncs - Universal functions\n",
    "* functions that can take NumPy arrays of varying dimensions (or scalars) and operate on them element-by-element\n",
    "* naturally data parallel\n",
    "* More on ufuncs in Numpy https://docs.scipy.org/doc/numpy/reference/ufuncs.html"
   ]
  },
  {
   "cell_type": "code",
   "execution_count": 3,
   "metadata": {},
   "outputs": [
    {
     "data": {
      "text/plain": [
       "array([11, 22, 33, 44])"
      ]
     },
     "execution_count": 3,
     "metadata": {},
     "output_type": "execute_result"
    }
   ],
   "source": [
    "# Numpy example of ufuncs\n",
    "import numpy as np\n",
    "\n",
    "a = np.array([1, 2, 3, 4])\n",
    "b = np.array([10, 20, 30, 40])\n",
    "\n",
    "np.add(a, b)"
   ]
  },
  {
   "cell_type": "code",
   "execution_count": 4,
   "metadata": {},
   "outputs": [
    {
     "name": "stdout",
     "output_type": "stream",
     "text": [
      "c: [[ 0  1  2  3]\n",
      " [ 4  5  6  7]\n",
      " [ 8  9 10 11]\n",
      " [12 13 14 15]]\n"
     ]
    },
    {
     "data": {
      "text/plain": [
       "array([[10, 21, 32, 43],\n",
       "       [14, 25, 36, 47],\n",
       "       [18, 29, 40, 51],\n",
       "       [22, 33, 44, 55]])"
      ]
     },
     "execution_count": 4,
     "metadata": {},
     "output_type": "execute_result"
    }
   ],
   "source": [
    "# Arrays of different, but compatible dimensions can also be combined\n",
    "# The lower dimensional array will be replicated to match the dimensionality of the higher dimensional array\n",
    "c = np.arange(4*4).reshape((4,4))\n",
    "print('c:', c)\n",
    "\n",
    "np.add(b, c)"
   ]
  },
  {
   "cell_type": "code",
   "execution_count": 5,
   "metadata": {},
   "outputs": [
    {
     "data": {
      "text/plain": [
       "array([[10, 11, 12, 13],\n",
       "       [24, 25, 26, 27],\n",
       "       [38, 39, 40, 41],\n",
       "       [52, 53, 54, 55]])"
      ]
     },
     "execution_count": 5,
     "metadata": {},
     "output_type": "execute_result"
    }
   ],
   "source": [
    "b_col = b[:, np.newaxis]\n",
    "b_col\n",
    "\n",
    "\n",
    "np.add(b_col, c)"
   ]
  },
  {
   "cell_type": "markdown",
   "metadata": {},
   "source": [
    "#### ufuncs for GPU\n",
    "* Numba create compiled ufuncs\n",
    "* we provide a scalar function of all the inputs, and Numba will figure out the broadcast rules \n",
    "* ufunc on CUDA requires giving an explicit type signature and setting the target attribute\n",
    "\n"
   ]
  },
  {
   "cell_type": "code",
   "execution_count": null,
   "metadata": {},
   "outputs": [],
   "source": []
  },
  {
   "cell_type": "code",
   "execution_count": null,
   "metadata": {},
   "outputs": [],
   "source": []
  },
  {
   "cell_type": "markdown",
   "metadata": {},
   "source": [
    "#### What happened?\n"
   ]
  },
  {
   "cell_type": "code",
   "execution_count": null,
   "metadata": {},
   "outputs": [],
   "source": []
  },
  {
   "cell_type": "code",
   "execution_count": null,
   "metadata": {},
   "outputs": [],
   "source": []
  },
  {
   "cell_type": "code",
   "execution_count": null,
   "metadata": {},
   "outputs": [],
   "source": []
  },
  {
   "cell_type": "markdown",
   "metadata": {},
   "source": [
    "#### GPU slower than CPU????\n",
    "* inputs are to small - GPU achieves performance through parallelism and we need a much larger array\n",
    "* calculation is too simple - overhead cost of sending calculation to GPU \n",
    "* copy the data to and from the GPU\n",
    "* data types larger than necessary - 32/64 bit run the same speed on CPU but 64bit have a significant performance cost on the GPU"
   ]
  },
  {
   "cell_type": "code",
   "execution_count": null,
   "metadata": {},
   "outputs": [],
   "source": []
  },
  {
   "cell_type": "code",
   "execution_count": null,
   "metadata": {},
   "outputs": [],
   "source": []
  },
  {
   "cell_type": "code",
   "execution_count": null,
   "metadata": {},
   "outputs": [],
   "source": []
  },
  {
   "cell_type": "markdown",
   "metadata": {},
   "source": [
    "#### Cuda device functions\n",
    "* Device functions are created with the numba.cuda.jit decorator\n",
    "* CUDA compiler aggressively inlines device functions, so there is generally no overhead for function calls\n",
    "* function below returns tuple that is not actually created as a Python object\n",
    "* output is temporarily represented as a struct, which is then optimized away by the compiler"
   ]
  },
  {
   "cell_type": "code",
   "execution_count": null,
   "metadata": {},
   "outputs": [],
   "source": []
  },
  {
   "cell_type": "code",
   "execution_count": null,
   "metadata": {},
   "outputs": [],
   "source": []
  },
  {
   "cell_type": "markdown",
   "metadata": {},
   "source": [
    "#### Python code on the GPU\n",
    "* #### if/elif/else\n",
    "* #### while and for loops\n",
    "* #### basic math operators\n",
    "* #### some functions from the math and cmath modules\n",
    "* #### tuples"
   ]
  },
  {
   "cell_type": "markdown",
   "metadata": {},
   "source": [
    "#### Exercise\n",
    "Eliminate low amplitude noise by forcing all sample values below a certain absolute magnituder to be zero"
   ]
  },
  {
   "cell_type": "code",
   "execution_count": 97,
   "metadata": {},
   "outputs": [
    {
     "data": {
      "text/plain": [
       "[<matplotlib.lines.Line2D at 0x7f748aa57820>]"
      ]
     },
     "execution_count": 97,
     "metadata": {},
     "output_type": "execute_result"
    },
    {
     "data": {
      "image/png": "[encoded data removed]",
      "text/plain": [
       "<Figure size 640x480 with 1 Axes>"
      ]
     },
     "metadata": {},
     "output_type": "display_data"
    }
   ],
   "source": [
    "# Hacking up a noisy pulse train\n",
    "%matplotlib inline\n",
    "from matplotlib import pyplot as plt\n",
    "\n",
    "n = 100000\n",
    "noise = np.random.normal(size=n) * 3\n",
    "pulses = np.maximum(np.sin(np.arange(n) / (n / 23)) - 0.3, 0.0)\n",
    "waveform = ((pulses * 300) + noise).astype(np.int16)\n",
    "plt.plot(waveform)"
   ]
  },
  {
   "cell_type": "code",
   "execution_count": 98,
   "metadata": {},
   "outputs": [],
   "source": [
    "@vectorize (['int16(int16,int16)'],target='cuda')\n",
    "def dump(wave_value,cutoff):\n",
    "        if abs(wave_value)>=cutoff:\n",
    "            return wave_value\n",
    "        else:\n",
    "            return cutoff\n",
    "        \n"
   ]
  },
  {
   "cell_type": "code",
   "execution_count": 99,
   "metadata": {},
   "outputs": [
    {
     "data": {
      "text/plain": [
       "array([ 0,  2,  0, ..., -1,  0,  1], dtype=int16)"
      ]
     },
     "execution_count": 99,
     "metadata": {},
     "output_type": "execute_result"
    }
   ],
   "source": [
    "waveform"
   ]
  },
  {
   "cell_type": "markdown",
   "metadata": {},
   "source": []
  },
  {
   "cell_type": "code",
   "execution_count": 101,
   "metadata": {},
   "outputs": [
    {
     "name": "stderr",
     "output_type": "stream",
     "text": [
      "/home/paperspace/anaconda3/envs/rapids/lib/python3.9/site-packages/numba/cuda/dispatcher.py:488: NumbaPerformanceWarning: \u001b[1mGrid size 98 will likely result in GPU under-utilization due to low occupancy.\u001b[0m\n",
      "  warn(NumbaPerformanceWarning(msg))\n"
     ]
    },
    {
     "data": {
      "text/plain": [
       "[<matplotlib.lines.Line2D at 0x7f748a962070>]"
      ]
     },
     "execution_count": 101,
     "metadata": {},
     "output_type": "execute_result"
    },
    {
     "data": {
      "image/png": "[encoded data removed]",
      "text/plain": [
       "<Figure size 640x480 with 1 Axes>"
      ]
     },
     "metadata": {},
     "output_type": "display_data"
    }
   ],
   "source": [
    "plt.plot(dump(waveform,15.0))"
   ]
  },
  {
   "cell_type": "code",
   "execution_count": null,
   "metadata": {},
   "outputs": [],
   "source": []
  },
  {
   "cell_type": "code",
   "execution_count": null,
   "metadata": {},
   "outputs": [],
   "source": []
  },
  {
   "cell_type": "code",
   "execution_count": null,
   "metadata": {},
   "outputs": [],
   "source": []
  },
  {
   "cell_type": "code",
   "execution_count": null,
   "metadata": {},
   "outputs": [],
   "source": []
  },
  {
   "cell_type": "code",
   "execution_count": null,
   "metadata": {},
   "outputs": [],
   "source": []
  },
  {
   "cell_type": "markdown",
   "metadata": {},
   "source": [
    "### Utilising GPU Memory\n",
    "* reduce the impacy of host-to-device/device to host bandwidth\n",
    "* best to copy data to the GPU explicitly if wanted to use over multiple function calls\n",
    "* allocating device memory can be relatively slow\n",
    "* allocate GPU arrays and the provide data from the host to improveme performance further\n"
   ]
  },
  {
   "cell_type": "code",
   "execution_count": null,
   "metadata": {},
   "outputs": [],
   "source": []
  },
  {
   "cell_type": "code",
   "execution_count": null,
   "metadata": {},
   "outputs": [],
   "source": []
  },
  {
   "cell_type": "markdown",
   "metadata": {},
   "source": [
    "#### Copying host data to the GPU\n",
    "* return CUDA device array with data in GPU memory\n",
    "* device arrays can be passed to CUDA functions just like NumPy array"
   ]
  },
  {
   "cell_type": "code",
   "execution_count": null,
   "metadata": {},
   "outputs": [],
   "source": []
  },
  {
   "cell_type": "code",
   "execution_count": null,
   "metadata": {},
   "outputs": [],
   "source": []
  },
  {
   "cell_type": "code",
   "execution_count": null,
   "metadata": {},
   "outputs": [],
   "source": []
  },
  {
   "cell_type": "code",
   "execution_count": null,
   "metadata": {},
   "outputs": [],
   "source": []
  },
  {
   "cell_type": "code",
   "execution_count": 102,
   "metadata": {},
   "outputs": [],
   "source": [
    "from numba import cuda \n",
    "device = cuda.get_current_device()\n",
    "device.reset()"
   ]
  },
  {
   "cell_type": "code",
   "execution_count": null,
   "metadata": {},
   "outputs": [],
   "source": [
    "aaaaaaaaaaaaaaaaaa"
   ]
  }
 ],
 "metadata": {
  "kernelspec": {
   "display_name": "Python 3 (ipykernel)",
   "language": "python",
   "name": "python3"
  },
  "language_info": {
   "codemirror_mode": {
    "name": "ipython",
    "version": 3
   },
   "file_extension": ".py",
   "mimetype": "text/x-python",
   "name": "python",
   "nbconvert_exporter": "python",
   "pygments_lexer": "ipython3",
   "version": "3.9.13"
  }
 },
 "nbformat": 4,
 "nbformat_minor": 2
}
