{
 "cells": [
  {
   "cell_type": "markdown",
   "metadata": {},
   "source": [
    "## Celem jest predykcja wysokości odszkodowania z tytułu ubezpieczenia"
   ]
  },
  {
   "cell_type": "code",
   "execution_count": 31,
   "metadata": {},
   "outputs": [
    {
     "name": "stdout",
     "output_type": "stream",
     "text": [
      "Requirement already satisfied: hyperopt in /opt/anaconda3/lib/python3.7/site-packages (0.2.5)\n",
      "Requirement already satisfied: scipy in /opt/anaconda3/lib/python3.7/site-packages (from hyperopt) (1.4.1)\n",
      "Requirement already satisfied: cloudpickle in /opt/anaconda3/lib/python3.7/site-packages (from hyperopt) (1.2.2)\n",
      "Requirement already satisfied: six in /opt/anaconda3/lib/python3.7/site-packages (from hyperopt) (1.15.0)\n",
      "Requirement already satisfied: numpy in /opt/anaconda3/lib/python3.7/site-packages (from hyperopt) (1.19.5)\n",
      "Requirement already satisfied: networkx>=2.2 in /opt/anaconda3/lib/python3.7/site-packages (from hyperopt) (2.4)\n",
      "Requirement already satisfied: tqdm in /opt/anaconda3/lib/python3.7/site-packages (from hyperopt) (4.59.0)\n",
      "Requirement already satisfied: future in /opt/anaconda3/lib/python3.7/site-packages (from hyperopt) (0.17.1)\n",
      "Requirement already satisfied: decorator>=4.3.0 in /opt/anaconda3/lib/python3.7/site-packages (from networkx>=2.2->hyperopt) (4.4.0)\n",
      "\u001b[33mWARNING: You are using pip version 21.0.1; however, version 21.1 is available.\n",
      "You should consider upgrading via the '/opt/anaconda3/bin/python -m pip install --upgrade pip' command.\u001b[0m\n",
      "Note: you may need to restart the kernel to use updated packages.\n"
     ]
    }
   ],
   "source": [
    "pip install hyperopt"
   ]
  },
  {
   "cell_type": "code",
   "execution_count": 32,
   "metadata": {},
   "outputs": [],
   "source": [
    "import helper as h\n",
    "\n",
    "import importlib\n",
    "importlib.reload(h)\n",
    "\n",
    "import pandas as pd\n",
    "import numpy as np\n",
    "np.random.seed(2019)\n",
    "\n",
    "from sklearn.preprocessing import minmax_scale\n",
    "\n",
    "from sklearn.metrics import mean_absolute_error\n",
    "from sklearn.model_selection import KFold\n",
    "\n",
    "from sklearn.dummy import DummyRegressor\n",
    "from sklearn.linear_model import LinearRegression\n",
    "from sklearn.tree import DecisionTreeRegressor\n",
    "from sklearn.ensemble import RandomForestRegressor, ExtraTreesRegressor\n",
    "import xgboost as xgb\n",
    "\n",
    "from functools import partial\n",
    "from hyperopt import hp\n",
    "from hyperopt import hp, fmin, tpe, STATUS_OK, Trials\n",
    "\n",
    "from tqdm import tqdm\n",
    "\n",
    "import matplotlib.pyplot as plt\n",
    "%matplotlib inline"
   ]
  },
  {
   "cell_type": "code",
   "execution_count": 33,
   "metadata": {},
   "outputs": [],
   "source": [
    "train = pd.read_csv('/Users/patrycjapiechowicz/Downloads/allstate.train.csv')"
   ]
  },
  {
   "cell_type": "code",
   "execution_count": 34,
   "metadata": {},
   "outputs": [
    {
     "name": "stdout",
     "output_type": "stream",
     "text": [
      "<class 'pandas.core.frame.DataFrame'>\n",
      "RangeIndex: 188318 entries, 0 to 188317\n",
      "Columns: 132 entries, id to loss\n",
      "dtypes: float64(15), int64(1), object(116)\n",
      "memory usage: 189.7+ MB\n"
     ]
    }
   ],
   "source": [
    "train.info()\n",
    "#train.info(max_cols=140)"
   ]
  },
  {
   "cell_type": "code",
   "execution_count": 35,
   "metadata": {},
   "outputs": [
    {
     "data": {
      "text/plain": [
       "array(['id', 'cat1', 'cat2', 'cat3', 'cat4', 'cat5', 'cat6', 'cat7',\n",
       "       'cat8', 'cat9', 'cat10', 'cat11', 'cat12', 'cat13', 'cat14',\n",
       "       'cat15', 'cat16', 'cat17', 'cat18', 'cat19', 'cat20', 'cat21',\n",
       "       'cat22', 'cat23', 'cat24', 'cat25', 'cat26', 'cat27', 'cat28',\n",
       "       'cat29', 'cat30', 'cat31', 'cat32', 'cat33', 'cat34', 'cat35',\n",
       "       'cat36', 'cat37', 'cat38', 'cat39', 'cat40', 'cat41', 'cat42',\n",
       "       'cat43', 'cat44', 'cat45', 'cat46', 'cat47', 'cat48', 'cat49',\n",
       "       'cat50', 'cat51', 'cat52', 'cat53', 'cat54', 'cat55', 'cat56',\n",
       "       'cat57', 'cat58', 'cat59', 'cat60', 'cat61', 'cat62', 'cat63',\n",
       "       'cat64', 'cat65', 'cat66', 'cat67', 'cat68', 'cat69', 'cat70',\n",
       "       'cat71', 'cat72', 'cat73', 'cat74', 'cat75', 'cat76', 'cat77',\n",
       "       'cat78', 'cat79', 'cat80', 'cat81', 'cat82', 'cat83', 'cat84',\n",
       "       'cat85', 'cat86', 'cat87', 'cat88', 'cat89', 'cat90', 'cat91',\n",
       "       'cat92', 'cat93', 'cat94', 'cat95', 'cat96', 'cat97', 'cat98',\n",
       "       'cat99', 'cat100', 'cat101', 'cat102', 'cat103', 'cat104',\n",
       "       'cat105', 'cat106', 'cat107', 'cat108', 'cat109', 'cat110',\n",
       "       'cat111', 'cat112', 'cat113', 'cat114', 'cat115', 'cat116',\n",
       "       'cont1', 'cont2', 'cont3', 'cont4', 'cont5', 'cont6', 'cont7',\n",
       "       'cont8', 'cont9', 'cont10', 'cont11', 'cont12', 'cont13', 'cont14',\n",
       "       'loss'], dtype=object)"
      ]
     },
     "execution_count": 35,
     "metadata": {},
     "output_type": "execute_result"
    }
   ],
   "source": [
    "train.columns.values"
   ]
  },
  {
   "cell_type": "code",
   "execution_count": 6,
   "metadata": {},
   "outputs": [
    {
     "data": {
      "text/html": [
       "<div>\n",
       "<style scoped>\n",
       "    .dataframe tbody tr th:only-of-type {\n",
       "        vertical-align: middle;\n",
       "    }\n",
       "\n",
       "    .dataframe tbody tr th {\n",
       "        vertical-align: top;\n",
       "    }\n",
       "\n",
       "    .dataframe thead th {\n",
       "        text-align: right;\n",
       "    }\n",
       "</style>\n",
       "<table border=\"1\" class=\"dataframe\">\n",
       "  <thead>\n",
       "    <tr style=\"text-align: right;\">\n",
       "      <th></th>\n",
       "      <th>id</th>\n",
       "      <th>cat1</th>\n",
       "      <th>cat2</th>\n",
       "      <th>cat3</th>\n",
       "      <th>cat4</th>\n",
       "      <th>cat5</th>\n",
       "      <th>cat6</th>\n",
       "      <th>cat7</th>\n",
       "      <th>cat8</th>\n",
       "      <th>cat9</th>\n",
       "      <th>...</th>\n",
       "      <th>cont6</th>\n",
       "      <th>cont7</th>\n",
       "      <th>cont8</th>\n",
       "      <th>cont9</th>\n",
       "      <th>cont10</th>\n",
       "      <th>cont11</th>\n",
       "      <th>cont12</th>\n",
       "      <th>cont13</th>\n",
       "      <th>cont14</th>\n",
       "      <th>loss</th>\n",
       "    </tr>\n",
       "  </thead>\n",
       "  <tbody>\n",
       "    <tr>\n",
       "      <th>150091</th>\n",
       "      <td>468008</td>\n",
       "      <td>A</td>\n",
       "      <td>A</td>\n",
       "      <td>A</td>\n",
       "      <td>A</td>\n",
       "      <td>B</td>\n",
       "      <td>A</td>\n",
       "      <td>A</td>\n",
       "      <td>A</td>\n",
       "      <td>A</td>\n",
       "      <td>...</td>\n",
       "      <td>0.879507</td>\n",
       "      <td>0.856216</td>\n",
       "      <td>0.28768</td>\n",
       "      <td>0.64296</td>\n",
       "      <td>0.83510</td>\n",
       "      <td>0.784967</td>\n",
       "      <td>0.785706</td>\n",
       "      <td>0.837535</td>\n",
       "      <td>0.708622</td>\n",
       "      <td>2129.69</td>\n",
       "    </tr>\n",
       "    <tr>\n",
       "      <th>8652</th>\n",
       "      <td>27472</td>\n",
       "      <td>A</td>\n",
       "      <td>A</td>\n",
       "      <td>A</td>\n",
       "      <td>B</td>\n",
       "      <td>B</td>\n",
       "      <td>B</td>\n",
       "      <td>A</td>\n",
       "      <td>A</td>\n",
       "      <td>A</td>\n",
       "      <td>...</td>\n",
       "      <td>0.544630</td>\n",
       "      <td>0.425088</td>\n",
       "      <td>0.67787</td>\n",
       "      <td>0.79047</td>\n",
       "      <td>0.60932</td>\n",
       "      <td>0.592525</td>\n",
       "      <td>0.579845</td>\n",
       "      <td>0.723122</td>\n",
       "      <td>0.802008</td>\n",
       "      <td>8289.68</td>\n",
       "    </tr>\n",
       "    <tr>\n",
       "      <th>103918</th>\n",
       "      <td>324684</td>\n",
       "      <td>A</td>\n",
       "      <td>B</td>\n",
       "      <td>A</td>\n",
       "      <td>B</td>\n",
       "      <td>A</td>\n",
       "      <td>A</td>\n",
       "      <td>A</td>\n",
       "      <td>A</td>\n",
       "      <td>B</td>\n",
       "      <td>...</td>\n",
       "      <td>0.416181</td>\n",
       "      <td>0.349614</td>\n",
       "      <td>0.62918</td>\n",
       "      <td>0.50630</td>\n",
       "      <td>0.37493</td>\n",
       "      <td>0.338312</td>\n",
       "      <td>0.338446</td>\n",
       "      <td>0.315758</td>\n",
       "      <td>0.488121</td>\n",
       "      <td>4606.95</td>\n",
       "    </tr>\n",
       "    <tr>\n",
       "      <th>134811</th>\n",
       "      <td>420588</td>\n",
       "      <td>A</td>\n",
       "      <td>A</td>\n",
       "      <td>A</td>\n",
       "      <td>A</td>\n",
       "      <td>B</td>\n",
       "      <td>A</td>\n",
       "      <td>A</td>\n",
       "      <td>A</td>\n",
       "      <td>A</td>\n",
       "      <td>...</td>\n",
       "      <td>0.364464</td>\n",
       "      <td>0.365369</td>\n",
       "      <td>0.24564</td>\n",
       "      <td>0.32865</td>\n",
       "      <td>0.40666</td>\n",
       "      <td>0.245410</td>\n",
       "      <td>0.241676</td>\n",
       "      <td>0.624025</td>\n",
       "      <td>0.540100</td>\n",
       "      <td>4103.90</td>\n",
       "    </tr>\n",
       "    <tr>\n",
       "      <th>104982</th>\n",
       "      <td>327919</td>\n",
       "      <td>A</td>\n",
       "      <td>B</td>\n",
       "      <td>A</td>\n",
       "      <td>B</td>\n",
       "      <td>B</td>\n",
       "      <td>A</td>\n",
       "      <td>A</td>\n",
       "      <td>A</td>\n",
       "      <td>B</td>\n",
       "      <td>...</td>\n",
       "      <td>0.314430</td>\n",
       "      <td>0.251752</td>\n",
       "      <td>0.44697</td>\n",
       "      <td>0.42289</td>\n",
       "      <td>0.26029</td>\n",
       "      <td>0.192281</td>\n",
       "      <td>0.190178</td>\n",
       "      <td>0.470036</td>\n",
       "      <td>0.235522</td>\n",
       "      <td>2958.38</td>\n",
       "    </tr>\n",
       "    <tr>\n",
       "      <th>72648</th>\n",
       "      <td>227029</td>\n",
       "      <td>A</td>\n",
       "      <td>A</td>\n",
       "      <td>A</td>\n",
       "      <td>A</td>\n",
       "      <td>B</td>\n",
       "      <td>B</td>\n",
       "      <td>A</td>\n",
       "      <td>A</td>\n",
       "      <td>A</td>\n",
       "      <td>...</td>\n",
       "      <td>0.342167</td>\n",
       "      <td>0.291170</td>\n",
       "      <td>0.34987</td>\n",
       "      <td>0.31945</td>\n",
       "      <td>0.22755</td>\n",
       "      <td>0.275431</td>\n",
       "      <td>0.270746</td>\n",
       "      <td>0.503333</td>\n",
       "      <td>0.247853</td>\n",
       "      <td>2664.86</td>\n",
       "    </tr>\n",
       "    <tr>\n",
       "      <th>76605</th>\n",
       "      <td>239586</td>\n",
       "      <td>A</td>\n",
       "      <td>A</td>\n",
       "      <td>A</td>\n",
       "      <td>A</td>\n",
       "      <td>B</td>\n",
       "      <td>A</td>\n",
       "      <td>A</td>\n",
       "      <td>A</td>\n",
       "      <td>A</td>\n",
       "      <td>...</td>\n",
       "      <td>0.722158</td>\n",
       "      <td>0.591403</td>\n",
       "      <td>0.71817</td>\n",
       "      <td>0.64873</td>\n",
       "      <td>0.74396</td>\n",
       "      <td>0.698978</td>\n",
       "      <td>0.685713</td>\n",
       "      <td>0.689974</td>\n",
       "      <td>0.836878</td>\n",
       "      <td>1347.73</td>\n",
       "    </tr>\n",
       "    <tr>\n",
       "      <th>184432</th>\n",
       "      <td>575483</td>\n",
       "      <td>A</td>\n",
       "      <td>B</td>\n",
       "      <td>A</td>\n",
       "      <td>A</td>\n",
       "      <td>B</td>\n",
       "      <td>A</td>\n",
       "      <td>A</td>\n",
       "      <td>A</td>\n",
       "      <td>B</td>\n",
       "      <td>...</td>\n",
       "      <td>0.557431</td>\n",
       "      <td>0.402942</td>\n",
       "      <td>0.34445</td>\n",
       "      <td>0.52728</td>\n",
       "      <td>0.79139</td>\n",
       "      <td>0.377724</td>\n",
       "      <td>0.369858</td>\n",
       "      <td>0.687115</td>\n",
       "      <td>0.801539</td>\n",
       "      <td>3463.32</td>\n",
       "    </tr>\n",
       "    <tr>\n",
       "      <th>178171</th>\n",
       "      <td>555969</td>\n",
       "      <td>A</td>\n",
       "      <td>A</td>\n",
       "      <td>A</td>\n",
       "      <td>B</td>\n",
       "      <td>A</td>\n",
       "      <td>B</td>\n",
       "      <td>A</td>\n",
       "      <td>A</td>\n",
       "      <td>A</td>\n",
       "      <td>...</td>\n",
       "      <td>0.278408</td>\n",
       "      <td>0.308363</td>\n",
       "      <td>0.29260</td>\n",
       "      <td>0.24958</td>\n",
       "      <td>0.27777</td>\n",
       "      <td>0.180456</td>\n",
       "      <td>0.178698</td>\n",
       "      <td>0.310026</td>\n",
       "      <td>0.230296</td>\n",
       "      <td>1202.91</td>\n",
       "    </tr>\n",
       "    <tr>\n",
       "      <th>180802</th>\n",
       "      <td>564100</td>\n",
       "      <td>A</td>\n",
       "      <td>B</td>\n",
       "      <td>A</td>\n",
       "      <td>A</td>\n",
       "      <td>A</td>\n",
       "      <td>A</td>\n",
       "      <td>A</td>\n",
       "      <td>A</td>\n",
       "      <td>B</td>\n",
       "      <td>...</td>\n",
       "      <td>0.233692</td>\n",
       "      <td>0.244789</td>\n",
       "      <td>0.70342</td>\n",
       "      <td>0.30859</td>\n",
       "      <td>0.21230</td>\n",
       "      <td>0.197173</td>\n",
       "      <td>0.194925</td>\n",
       "      <td>0.417430</td>\n",
       "      <td>0.660063</td>\n",
       "      <td>2331.47</td>\n",
       "    </tr>\n",
       "  </tbody>\n",
       "</table>\n",
       "<p>10 rows × 132 columns</p>\n",
       "</div>"
      ],
      "text/plain": [
       "            id cat1 cat2 cat3 cat4 cat5 cat6 cat7 cat8 cat9  ...     cont6  \\\n",
       "150091  468008    A    A    A    A    B    A    A    A    A  ...  0.879507   \n",
       "8652     27472    A    A    A    B    B    B    A    A    A  ...  0.544630   \n",
       "103918  324684    A    B    A    B    A    A    A    A    B  ...  0.416181   \n",
       "134811  420588    A    A    A    A    B    A    A    A    A  ...  0.364464   \n",
       "104982  327919    A    B    A    B    B    A    A    A    B  ...  0.314430   \n",
       "72648   227029    A    A    A    A    B    B    A    A    A  ...  0.342167   \n",
       "76605   239586    A    A    A    A    B    A    A    A    A  ...  0.722158   \n",
       "184432  575483    A    B    A    A    B    A    A    A    B  ...  0.557431   \n",
       "178171  555969    A    A    A    B    A    B    A    A    A  ...  0.278408   \n",
       "180802  564100    A    B    A    A    A    A    A    A    B  ...  0.233692   \n",
       "\n",
       "           cont7    cont8    cont9   cont10    cont11    cont12    cont13  \\\n",
       "150091  0.856216  0.28768  0.64296  0.83510  0.784967  0.785706  0.837535   \n",
       "8652    0.425088  0.67787  0.79047  0.60932  0.592525  0.579845  0.723122   \n",
       "103918  0.349614  0.62918  0.50630  0.37493  0.338312  0.338446  0.315758   \n",
       "134811  0.365369  0.24564  0.32865  0.40666  0.245410  0.241676  0.624025   \n",
       "104982  0.251752  0.44697  0.42289  0.26029  0.192281  0.190178  0.470036   \n",
       "72648   0.291170  0.34987  0.31945  0.22755  0.275431  0.270746  0.503333   \n",
       "76605   0.591403  0.71817  0.64873  0.74396  0.698978  0.685713  0.689974   \n",
       "184432  0.402942  0.34445  0.52728  0.79139  0.377724  0.369858  0.687115   \n",
       "178171  0.308363  0.29260  0.24958  0.27777  0.180456  0.178698  0.310026   \n",
       "180802  0.244789  0.70342  0.30859  0.21230  0.197173  0.194925  0.417430   \n",
       "\n",
       "          cont14     loss  \n",
       "150091  0.708622  2129.69  \n",
       "8652    0.802008  8289.68  \n",
       "103918  0.488121  4606.95  \n",
       "134811  0.540100  4103.90  \n",
       "104982  0.235522  2958.38  \n",
       "72648   0.247853  2664.86  \n",
       "76605   0.836878  1347.73  \n",
       "184432  0.801539  3463.32  \n",
       "178171  0.230296  1202.91  \n",
       "180802  0.660063  2331.47  \n",
       "\n",
       "[10 rows x 132 columns]"
      ]
     },
     "execution_count": 6,
     "metadata": {},
     "output_type": "execute_result"
    }
   ],
   "source": [
    "train.sample(10)"
   ]
  },
  {
   "cell_type": "code",
   "execution_count": 36,
   "metadata": {},
   "outputs": [],
   "source": [
    "if 'id' in train: del train['id']"
   ]
  },
  {
   "cell_type": "code",
   "execution_count": 37,
   "metadata": {},
   "outputs": [
    {
     "data": {
      "image/png": "[encoded data removed]",
      "text/plain": [
       "<Figure size 432x288 with 1 Axes>"
      ]
     },
     "metadata": {
      "needs_background": "light"
     },
     "output_type": "display_data"
    }
   ],
   "source": [
    "#target\n",
    "train['loss'].hist(bins=50);"
   ]
  },
  {
   "cell_type": "code",
   "execution_count": 38,
   "metadata": {},
   "outputs": [
    {
     "data": {
      "image/png": "[encoded data removed]",
      "text/plain": [
       "<Figure size 432x288 with 1 Axes>"
      ]
     },
     "metadata": {
      "needs_background": "light"
     },
     "output_type": "display_data"
    }
   ],
   "source": [
    "train['log_loss'] = np.log( train['loss'] )\n",
    "train['log_loss'].hist(bins=50);"
   ]
  },
  {
   "cell_type": "markdown",
   "metadata": {},
   "source": [
    "### Basic Model"
   ]
  },
  {
   "cell_type": "code",
   "execution_count": 39,
   "metadata": {},
   "outputs": [
    {
     "data": {
      "text/plain": [
       "1966.1652855607203"
      ]
     },
     "execution_count": 39,
     "metadata": {},
     "output_type": "execute_result"
    }
   ],
   "source": [
    "X, y = train[ ['cont1'] ], train['loss'].values\n",
    "\n",
    "model = DummyRegressor()\n",
    "model.fit(X, y)\n",
    "y_pred = model.predict(X)\n",
    "\n",
    "mean_absolute_error(y, y_pred)"
   ]
  },
  {
   "cell_type": "code",
   "execution_count": 40,
   "metadata": {},
   "outputs": [
    {
     "data": {
      "text/plain": [
       "array(['cont1', 'cont2', 'cont3', 'cont4', 'cont5', 'cont6', 'cont7',\n",
       "       'cont8', 'cont9', 'cont10', 'cont11', 'cont12', 'cont13', 'cont14',\n",
       "       'loss', 'log_loss'], dtype=object)"
      ]
     },
     "execution_count": 40,
     "metadata": {},
     "output_type": "execute_result"
    }
   ],
   "source": [
    "train.select_dtypes(include=[np.number]).columns.values"
   ]
  },
  {
   "cell_type": "code",
   "execution_count": 41,
   "metadata": {},
   "outputs": [],
   "source": [
    "def get_feats(df):\n",
    "    black_list = ['loss', 'log_loss']\n",
    "    feats = df.select_dtypes(include=[np.number]).columns.values\n",
    "    \n",
    "    feats = [feat for feat in feats if feat not in black_list]\n",
    "    return feats\n",
    "    \n",
    "def get_X_y(df, target='loss', verbose=False):\n",
    "    feats = get_feats(df)\n",
    "    if verbose: print(feats)\n",
    "        \n",
    "    X = df[ get_feats(df) ].values\n",
    "    y = df[target].values\n",
    "    \n",
    "    return X, y\n",
    "\n",
    "X, y = get_X_y(train)"
   ]
  },
  {
   "cell_type": "code",
   "execution_count": 42,
   "metadata": {},
   "outputs": [],
   "source": [
    "def run_cv(X, y, model, folds=3):\n",
    "    cv = KFold(n_splits=folds, shuffle=True, random_state=0)\n",
    "\n",
    "    scores = []\n",
    "    for train_idx, test_idx in cv.split(X):\n",
    "        model.fit(X[train_idx], y[train_idx])\n",
    "        y_pred = model.predict(X[test_idx])\n",
    "\n",
    "        score = mean_absolute_error(y[test_idx], y_pred)\n",
    "        scores.append(score)\n",
    "\n",
    "    return np.mean(scores), np.std(scores)\n",
    "\n",
    "\n",
    "def run_log_cv(X, y, model, folds=3, shift = 1):\n",
    "    y_log = np.log(y + shift)\n",
    "    \n",
    "    cv = KFold(n_splits=folds, shuffle=True, random_state=0)\n",
    "\n",
    "    scores = []\n",
    "    for train_idx, test_idx in cv.split(X):\n",
    "        model.fit(X[train_idx], y_log[train_idx])\n",
    "        y_log_pred = model.predict(X[test_idx])\n",
    "        y_log_pred[ y_log_pred < 0 ] = 1e-6\n",
    "        \n",
    "        y_pred = np.exp( y_log_pred ) - shift\n",
    "\n",
    "        score = mean_absolute_error(y[test_idx], y_pred)\n",
    "        scores.append(score)\n",
    "\n",
    "    return np.mean(scores), np.std(scores)"
   ]
  },
  {
   "cell_type": "markdown",
   "metadata": {},
   "source": [
    "### Linear Regression"
   ]
  },
  {
   "cell_type": "code",
   "execution_count": 43,
   "metadata": {},
   "outputs": [
    {
     "data": {
      "text/plain": [
       "(1950.609314518282, 5.26358554128097)"
      ]
     },
     "execution_count": 43,
     "metadata": {},
     "output_type": "execute_result"
    }
   ],
   "source": [
    "run_cv(X, y, LinearRegression(), folds=3)"
   ]
  },
  {
   "cell_type": "markdown",
   "metadata": {},
   "source": [
    "### Decision Tree Regressor"
   ]
  },
  {
   "cell_type": "code",
   "execution_count": 44,
   "metadata": {},
   "outputs": [
    {
     "data": {
      "text/plain": [
       "(1937.9872302392569, 7.785759849307944)"
      ]
     },
     "execution_count": 44,
     "metadata": {},
     "output_type": "execute_result"
    }
   ],
   "source": [
    "run_cv(X, y, DecisionTreeRegressor(max_depth=5))"
   ]
  },
  {
   "cell_type": "markdown",
   "metadata": {},
   "source": [
    "### Random Forest Regressor"
   ]
  },
  {
   "cell_type": "code",
   "execution_count": 16,
   "metadata": {},
   "outputs": [
    {
     "data": {
      "text/plain": [
       "(1931.9824319465795, 5.043444168409942)"
      ]
     },
     "execution_count": 16,
     "metadata": {},
     "output_type": "execute_result"
    }
   ],
   "source": [
    "run_cv(X, y, RandomForestRegressor(max_depth=5, n_estimators=20))"
   ]
  },
  {
   "cell_type": "markdown",
   "metadata": {},
   "source": [
    "### Extra Trees Regressor"
   ]
  },
  {
   "cell_type": "code",
   "execution_count": 17,
   "metadata": {},
   "outputs": [
    {
     "data": {
      "text/plain": [
       "(1936.8722319157778, 5.970205891156901)"
      ]
     },
     "execution_count": 17,
     "metadata": {},
     "output_type": "execute_result"
    }
   ],
   "source": [
    "run_cv(X, y, ExtraTreesRegressor(max_depth=5, n_estimators=20))"
   ]
  },
  {
   "cell_type": "markdown",
   "metadata": {},
   "source": [
    "### Feature Engineering\n"
   ]
  },
  {
   "cell_type": "code",
   "execution_count": 45,
   "metadata": {},
   "outputs": [
    {
     "name": "stderr",
     "output_type": "stream",
     "text": [
      "100%|██████████| 116/116 [00:01<00:00, 65.04it/s]\n"
     ]
    }
   ],
   "source": [
    "num_feats = [feat for feat in train.columns if 'cont' in feat]\n",
    "cat_feats = [feat for feat in train.columns if 'cat' in feat]\n",
    "\n",
    "cat_id_feats = []\n",
    "for feat in tqdm(cat_feats):\n",
    "    feat_id = feat + '_id'\n",
    "    train[feat_id] = train[feat].factorize()[0]\n",
    "    cat_id_feats.append(feat_id)"
   ]
  },
  {
   "cell_type": "code",
   "execution_count": 46,
   "metadata": {},
   "outputs": [],
   "source": [
    "X, y = get_X_y(train)"
   ]
  },
  {
   "cell_type": "code",
   "execution_count": 47,
   "metadata": {},
   "outputs": [
    {
     "data": {
      "text/plain": [
       "(1455.7922247286867, 1.4573324856139513)"
      ]
     },
     "execution_count": 47,
     "metadata": {},
     "output_type": "execute_result"
    }
   ],
   "source": [
    "run_cv(X, y, DecisionTreeRegressor(max_depth=5))"
   ]
  },
  {
   "cell_type": "code",
   "execution_count": 49,
   "metadata": {},
   "outputs": [
    {
     "data": {
      "image/png": "[encoded data removed]",
      "text/plain": [
       "<Figure size 1440x720 with 16 Axes>"
      ]
     },
     "metadata": {
      "needs_background": "light"
     },
     "output_type": "display_data"
    }
   ],
   "source": [
    "train[num_feats].hist(figsize=(20, 10), bins=50);"
   ]
  },
  {
   "cell_type": "code",
   "execution_count": 50,
   "metadata": {},
   "outputs": [
    {
     "data": {
      "image/png": "[encoded data removed]",
      "text/plain": [
       "<Figure size 432x288 with 1 Axes>"
      ]
     },
     "metadata": {
      "needs_background": "light"
     },
     "output_type": "display_data"
    },
    {
     "data": {
      "image/png": "[encoded data removed]",
      "text/plain": [
       "<Figure size 432x288 with 1 Axes>"
      ]
     },
     "metadata": {
      "needs_background": "light"
     },
     "output_type": "display_data"
    },
    {
     "data": {
      "image/png": "[encoded data removed]",
      "text/plain": [
       "<Figure size 432x288 with 1 Axes>"
      ]
     },
     "metadata": {
      "needs_background": "light"
     },
     "output_type": "display_data"
    },
    {
     "data": {
      "image/png": "[encoded data removed]",
      "text/plain": [
       "<Figure size 432x288 with 1 Axes>"
      ]
     },
     "metadata": {
      "needs_background": "light"
     },
     "output_type": "display_data"
    },
    {
     "data": {
      "image/png": "[encoded data removed]",
      "text/plain": [
       "<Figure size 432x288 with 1 Axes>"
      ]
     },
     "metadata": {
      "needs_background": "light"
     },
     "output_type": "display_data"
    }
   ],
   "source": [
    "sum_pairs = [\n",
    "    (1, 13),\n",
    "    (1, 6),\n",
    "    (10, 13),\n",
    "    (10, 14),\n",
    "    (6, 14),\n",
    "]\n",
    "sum_feats = []\n",
    "\n",
    "for left, right in sum_pairs:\n",
    "    output_idx = 'count{0}+{1}'.format(left, right)\n",
    "    train[output_idx] = train['cont{0}'.format(left)] + train['cont{0}'.format(right)]\n",
    "    sum_feats.append(output_idx)\n",
    "    \n",
    "    train[output_idx].hist(bins=50);\n",
    "    plt.title(output_idx)\n",
    "    plt.show()"
   ]
  },
  {
   "cell_type": "code",
   "execution_count": 51,
   "metadata": {},
   "outputs": [
    {
     "data": {
      "image/png": "[encoded data removed]",
      "text/plain": [
       "<Figure size 432x288 with 1 Axes>"
      ]
     },
     "metadata": {
      "needs_background": "light"
     },
     "output_type": "display_data"
    },
    {
     "data": {
      "image/png": "[encoded data removed]",
      "text/plain": [
       "<Figure size 432x288 with 1 Axes>"
      ]
     },
     "metadata": {
      "needs_background": "light"
     },
     "output_type": "display_data"
    },
    {
     "data": {
      "image/png": "[encoded data removed]",
      "text/plain": [
       "<Figure size 432x288 with 1 Axes>"
      ]
     },
     "metadata": {
      "needs_background": "light"
     },
     "output_type": "display_data"
    },
    {
     "data": {
      "image/png": "[encoded data removed]",
      "text/plain": [
       "<Figure size 432x288 with 1 Axes>"
      ]
     },
     "metadata": {
      "needs_background": "light"
     },
     "output_type": "display_data"
    },
    {
     "data": {
      "image/png": "[encoded data removed]",
      "text/plain": [
       "<Figure size 432x288 with 1 Axes>"
      ]
     },
     "metadata": {
      "needs_background": "light"
     },
     "output_type": "display_data"
    },
    {
     "data": {
      "image/png": "[encoded data removed]",
      "text/plain": [
       "<Figure size 432x288 with 1 Axes>"
      ]
     },
     "metadata": {
      "needs_background": "light"
     },
     "output_type": "display_data"
    },
    {
     "data": {
      "image/png": "[encoded data removed]",
      "text/plain": [
       "<Figure size 432x288 with 1 Axes>"
      ]
     },
     "metadata": {
      "needs_background": "light"
     },
     "output_type": "display_data"
    },
    {
     "data": {
      "image/png": "[encoded data removed]",
      "text/plain": [
       "<Figure size 432x288 with 1 Axes>"
      ]
     },
     "metadata": {
      "needs_background": "light"
     },
     "output_type": "display_data"
    },
    {
     "data": {
      "image/png": "[encoded data removed]",
      "text/plain": [
       "<Figure size 432x288 with 1 Axes>"
      ]
     },
     "metadata": {
      "needs_background": "light"
     },
     "output_type": "display_data"
    },
    {
     "data": {
      "image/png": "[encoded data removed]",
      "text/plain": [
       "<Figure size 432x288 with 1 Axes>"
      ]
     },
     "metadata": {
      "needs_background": "light"
     },
     "output_type": "display_data"
    },
    {
     "data": {
      "image/png": "[encoded data removed]",
      "text/plain": [
       "<Figure size 432x288 with 1 Axes>"
      ]
     },
     "metadata": {
      "needs_background": "light"
     },
     "output_type": "display_data"
    }
   ],
   "source": [
    "minus_pairs = [\n",
    "    (1, 6),\n",
    "    (1, 9),\n",
    "    (1, 10),\n",
    "    (6, 9),\n",
    "    (6, 10),\n",
    "    (6, 11),\n",
    "    (6, 12),\n",
    "    (6, 13),\n",
    "    (7, 11),\n",
    "    (7, 12),\n",
    "    (11, 12)\n",
    "]\n",
    "\n",
    "minus_feats = []\n",
    "for left, right in minus_pairs:\n",
    "    output_idx = 'count{0}-{1}'.format(left, right)\n",
    "    train[output_idx] = train['cont{0}'.format(left)] - train['cont{0}'.format(right)]\n",
    "    minus_feats.append(output_idx)\n",
    "    \n",
    "    train[output_idx].hist(bins=50);\n",
    "    plt.title(output_idx)\n",
    "    plt.show()"
   ]
  },
  {
   "cell_type": "markdown",
   "metadata": {},
   "source": [
    "### Feature Importance"
   ]
  },
  {
   "cell_type": "code",
   "execution_count": 52,
   "metadata": {},
   "outputs": [
    {
     "data": {
      "image/png": "[encoded data removed]",
      "text/plain": [
       "<Figure size 1440x576 with 1 Axes>"
      ]
     },
     "metadata": {
      "needs_background": "light"
     },
     "output_type": "display_data"
    }
   ],
   "source": [
    "feats = cat_id_feats + num_feats + sum_feats + minus_feats\n",
    "X = train[feats].values\n",
    "\n",
    "model = DecisionTreeRegressor(max_depth=5)\n",
    "model.fit(X, y)\n",
    "\n",
    "h.plot_feature_importances(model, feats, limit=30)"
   ]
  },
  {
   "cell_type": "code",
   "execution_count": null,
   "metadata": {},
   "outputs": [],
   "source": [
    "feats = cat_id_feats + num_feats + sum_feats + minus_feats\n",
    "X = train[feats].values\n",
    "\n",
    "model = RandomForestRegressor(max_depth=5, n_estimators=20)\n",
    "model.fit(X, y)\n",
    "\n",
    "h.plot_feature_importances(model, feats, limit=30)"
   ]
  },
  {
   "cell_type": "code",
   "execution_count": null,
   "metadata": {},
   "outputs": [],
   "source": [
    "def plot_cat_var_and_loss(cat_id):\n",
    "    print( train[cat_id].value_counts() )\n",
    "    print( train[cat_id].value_counts(normalize=True) )\n",
    "\n",
    "    train[cat_id].hist()\n",
    "    plt.show()\n",
    "\n",
    "    print(\"Loss\")\n",
    "    plt.figure(figsize=(20, 8))\n",
    "    for i in range(4):\n",
    "        plt.subplot(221 + i)\n",
    "        plt.boxplot( train[ train[cat_id] == i ]['loss'] )\n",
    "        plt.title(cat_id + ' == {0}'.format(i))\n",
    "\n",
    "    plt.show();\n",
    "\n",
    "    print(\"Log Loss\")\n",
    "    plt.figure(figsize=(20, 8))\n",
    "    for i in range(4):\n",
    "        plt.subplot(221 + i)\n",
    "        plt.boxplot( train[ train[cat_id] == i ]['log_loss'] )\n",
    "        plt.title(cat_id + ' == {0}'.format(i))\n",
    "        plt.ylim(0, 12)\n",
    "\n",
    "    plt.show();"
   ]
  },
  {
   "cell_type": "code",
   "execution_count": null,
   "metadata": {},
   "outputs": [],
   "source": [
    "plot_cat_var_and_loss('cat80_id')"
   ]
  },
  {
   "cell_type": "code",
   "execution_count": null,
   "metadata": {},
   "outputs": [],
   "source": [
    "plot_cat_var_and_loss('cat57_id')"
   ]
  },
  {
   "cell_type": "code",
   "execution_count": null,
   "metadata": {},
   "outputs": [],
   "source": [
    "plot_cat_var_and_loss('cat79_id')"
   ]
  },
  {
   "cell_type": "markdown",
   "metadata": {},
   "source": [
    "#### There is a lot of outliers, let's try with log"
   ]
  },
  {
   "cell_type": "code",
   "execution_count": null,
   "metadata": {},
   "outputs": [],
   "source": [
    "X = train[ cat_id_feats + num_feats + sum_feats + minus_feats  ].values\n",
    "\n",
    "run_log_cv(X, y, DecisionTreeRegressor(max_depth=5))"
   ]
  },
  {
   "cell_type": "markdown",
   "metadata": {},
   "source": [
    "### XGB"
   ]
  },
  {
   "cell_type": "code",
   "execution_count": null,
   "metadata": {},
   "outputs": [],
   "source": [
    "X = train[ cat_id_feats + num_feats + sum_feats + minus_feats  ].values\n",
    "run_cv(X, y, xgb.XGBRegressor(objective='reg:squarederror'))"
   ]
  },
  {
   "cell_type": "code",
   "execution_count": null,
   "metadata": {},
   "outputs": [],
   "source": [
    "shift = 1\n",
    "def eval_mae(y_pred_log, dtrain):\n",
    "    y      = np.exp(dtrain.get_label()) - shift\n",
    "    y_pred = np.exp(y_pred_log) - shift\n",
    "    \n",
    "    return 'mae', mean_absolute_error(y,y_pred)"
   ]
  },
  {
   "cell_type": "code",
   "execution_count": null,
   "metadata": {},
   "outputs": [],
   "source": [
    "def plot_xgb_learning_curve(train_evals, test_evals):\n",
    "    mean_train_evals = np.mean(train_evals, axis=0)\n",
    "    std_train_evals = np.std(train_evals, axis=0)\n",
    "\n",
    "    mean_test_evals = np.mean(test_evals, axis=0)\n",
    "    std_test_evals = np.std(test_evals, axis=0)\n",
    "\n",
    "    plt.figure(figsize=(15, 5))\n",
    "\n",
    "    plt.fill_between(range(len(mean_train_evals)), mean_train_evals - std_train_evals*3,\n",
    "                     mean_train_evals + std_train_evals*3, alpha=0.1,\n",
    "                     color=\"r\")\n",
    "\n",
    "    plt.fill_between(range(len(mean_test_evals)), mean_test_evals - std_test_evals*3,\n",
    "                     mean_test_evals + std_test_evals*3, alpha=0.1,\n",
    "                     color=\"g\")\n",
    "\n",
    "\n",
    "    plt.plot(mean_train_evals, label='train', c='r')\n",
    "    plt.plot(mean_test_evals, label='test', c='g')\n",
    "    plt.legend(loc='best')\n",
    "    plt.title(\"Learning curve\")\n",
    "    plt.xlabel(\"# iterations\")\n",
    "    plt.ylabel(\"mae\")\n",
    "    plt.show()\n",
    "    \n",
    "    \n",
    "def cv_xgb(df, feats, xgb_params, shift=1, folds=3, verbose=False, early_stopping_rounds=5, plot_lc=True, return_model=False):\n",
    "    X = df[ feats ].values\n",
    "    y = df['loss'].values\n",
    "    y_log = np.log( y + shift )\n",
    "    \n",
    "    cv = KFold(n_splits=3, shuffle=True, random_state=2019)\n",
    "\n",
    "    scores = []\n",
    "    train_evals, test_evals = [], []\n",
    "    for train_idx, test_idx in tqdm( cv.split(X) ):\n",
    "\n",
    "        model = xgb.XGBRegressor(**xgb_params)\n",
    "        eval_set = [ (X[train_idx], y_log[train_idx]), (X[test_idx], y_log[test_idx]),  ]\n",
    "        model.fit(X[train_idx], y_log[train_idx], eval_metric=eval_mae, eval_set=eval_set, verbose=verbose, early_stopping_rounds=early_stopping_rounds)\n",
    "        y_pred_log = model.predict(X[test_idx])\n",
    "        y_pred_log[ y_pred_log < 0 ] = 1e-6\n",
    "        y_pred = np.exp( y_pred_log ) - shift\n",
    "\n",
    "        score = mean_absolute_error(y[test_idx], y_pred)\n",
    "        scores.append(score)\n",
    "        \n",
    "        evals_result = model.evals_result()\n",
    "\n",
    "        if plot_lc:\n",
    "            train_evals.append( evals_result['validation_0']['mae'] )\n",
    "            test_evals.append( evals_result['validation_1']['mae'] )\n",
    "\n",
    "    if plot_lc:\n",
    "        def norm_rows(rows):\n",
    "            min_rows = min( [len(x) for x in rows])\n",
    "            return [x[:min_rows] for x in rows]\n",
    "\n",
    "        plot_xgb_learning_curve(norm_rows(train_evals), norm_rows(test_evals))\n",
    "        \n",
    "    if return_model:\n",
    "        return model, np.mean(scores), np.std(scores)\n",
    "    \n",
    "    return np.mean(scores), np.std(scores)"
   ]
  },
  {
   "cell_type": "code",
   "execution_count": null,
   "metadata": {},
   "outputs": [],
   "source": [
    "feats = num_feats + cat_id_feats + sum_feats + minus_feats\n",
    "\n",
    "xgb_params = {\n",
    "    'n_estimators': 50,\n",
    "    'max_depth': 10,\n",
    "    'learning_rate': 0.3,\n",
    "    'random_state': 2019,\n",
    "    'objective': 'reg:squarederror'\n",
    "}\n",
    "cv_xgb(train, feats, xgb_params, shift=shift)"
   ]
  },
  {
   "cell_type": "markdown",
   "metadata": {},
   "source": [
    "### Normalize `numerical` variables"
   ]
  },
  {
   "cell_type": "code",
   "execution_count": null,
   "metadata": {},
   "outputs": [],
   "source": [
    "all_cont_feats = [feat for feat in train.columns if feat.startswith('cont')]\n",
    "[ (feat, train[feat].skew()) for feat in all_cont_feats ]"
   ]
  },
  {
   "cell_type": "code",
   "execution_count": null,
   "metadata": {},
   "outputs": [],
   "source": [
    "for feat in tqdm(all_cont_feats):\n",
    "    if train[feat].skew() < 0.25: continue\n",
    "    train[feat + '_sqrt'] = np.sqrt( minmax_scale(train[feat]) )\n",
    "    train[feat + '_log1p'] = np.log1p( minmax_scale(train[feat]) )\n",
    "    \n",
    "sqrt_cont_feats = [feat for feat in train.columns if feat.startswith('cont') and 'sqrt' in feat]\n",
    "log_cont_feats = [feat for feat in train.columns if feat.startswith('cont') and 'log' in feat]"
   ]
  },
  {
   "cell_type": "code",
   "execution_count": null,
   "metadata": {},
   "outputs": [],
   "source": [
    "feats = num_feats + cat_id_feats + sum_feats + minus_feats + sqrt_cont_feats + log_cont_feats\n",
    "\n",
    "xgb_params = {\n",
    "    'n_estimators': 50,\n",
    "    'max_depth': 10,\n",
    "    'learning_rate': 0.3,\n",
    "    'random_state': 0,\n",
    "    'objective': 'reg:squarederror',\n",
    "}\n",
    "cv_xgb(train, feats, xgb_params, shift=1)"
   ]
  },
  {
   "cell_type": "code",
   "execution_count": null,
   "metadata": {},
   "outputs": [],
   "source": [
    "#shift\n",
    "plt.figure(figsize=(20, 5))\n",
    "plt.subplot(131)\n",
    "np.log( train['loss'] ).hist(bins=50)\n",
    "plt.title('log(loss)')\n",
    "\n",
    "plt.subplot(132)\n",
    "np.log( train['loss'] + 100).hist(bins=50)\n",
    "plt.title('log(loss + 100)')\n",
    "\n",
    "plt.subplot(133)\n",
    "np.log( train['loss'] + 200).hist(bins=50)\n",
    "plt.title('log(loss + 200)');"
   ]
  },
  {
   "cell_type": "code",
   "execution_count": null,
   "metadata": {},
   "outputs": [],
   "source": [
    "cv_xgb(train, feats, xgb_params, shift=200)"
   ]
  },
  {
   "cell_type": "markdown",
   "metadata": {},
   "source": [
    "### Hyperopt\n"
   ]
  },
  {
   "cell_type": "code",
   "execution_count": null,
   "metadata": {},
   "outputs": [],
   "source": [
    "def objective(space):\n",
    "    \n",
    "    xgb_params = {\n",
    "        'max_depth': int(space['max_depth']),\n",
    "        'colsample_bytree': space['colsample_bytree'],\n",
    "        'learning_rate': space['learning_rate'],\n",
    "        'subsample': space['subsample'],\n",
    "        'seed': 2019, #int(space['seed']),\n",
    "        'min_child_weight': int(space['min_child_weight']),\n",
    "        'reg_alpha': space['reg_alpha'],\n",
    "        'reg_lambda': space['reg_lambda'],\n",
    "        'n_estimators': 100,\n",
    "        'objective': 'reg:squarederror',\n",
    "    }\n",
    "    \n",
    "    print(xgb_params)\n",
    "    \n",
    "    feats = num_feats + cat_id_feats + sum_feats + minus_feats + sqrt_cont_feats + log_cont_feats\n",
    "    mean_score, std_score = cv_xgb(train, feats, xgb_params, shift=200, plot_lc=True)\n",
    "    \n",
    "    print(\"score:\", mean_score, std_score)\n",
    "    \n",
    "    return{'loss':mean_score, 'status': STATUS_OK }\n",
    "    \n",
    "space ={\n",
    "    'max_depth': hp.quniform ('x_max_depth', 5, 20, 1),\n",
    "    'colsample_bytree': hp.uniform ('x_colsample_bytree', 0.2, 1.),\n",
    "    'learning_rate': hp.uniform ('x_learning_rate', 0.05, 0.2),\n",
    "    'subsample': hp.uniform ('x_subsample', 0.6, 1.),\n",
    "    'seed': hp.quniform ('x_seed', 0, 10000, 50),\n",
    "    'min_child_weight': hp.quniform ('x_min_child_weight', 10, 200, 10),\n",
    "    'reg_alpha': hp.loguniform ('x_reg_alpha', 0., 1.),\n",
    "    'reg_lambda': hp.uniform ('x_reg_lambda', 0.7, 1.),\n",
    "    'shift': hp.quniform ('x_shift', 1, 200, 1),\n",
    "}\n",
    "\n",
    "\n",
    "trials = Trials()\n",
    "best_params = fmin(fn=objective,\n",
    "            space=space,\n",
    "            algo=partial(tpe.suggest, n_startup_jobs=1),\n",
    "            max_evals=30,\n",
    "            trials=trials)\n",
    "\n",
    "print(\"The best params: \", best_params)\n",
    "%time"
   ]
  },
  {
   "cell_type": "code",
   "execution_count": null,
   "metadata": {},
   "outputs": [],
   "source": []
  },
  {
   "cell_type": "code",
   "execution_count": null,
   "metadata": {},
   "outputs": [],
   "source": []
  },
  {
   "cell_type": "code",
   "execution_count": null,
   "metadata": {},
   "outputs": [],
   "source": []
  },
  {
   "cell_type": "code",
   "execution_count": null,
   "metadata": {},
   "outputs": [],
   "source": []
  },
  {
   "cell_type": "code",
   "execution_count": null,
   "metadata": {},
   "outputs": [],
   "source": []
  },
  {
   "cell_type": "code",
   "execution_count": null,
   "metadata": {},
   "outputs": [],
   "source": []
  },
  {
   "cell_type": "code",
   "execution_count": null,
   "metadata": {},
   "outputs": [],
   "source": []
  },
  {
   "cell_type": "code",
   "execution_count": null,
   "metadata": {},
   "outputs": [],
   "source": []
  },
  {
   "cell_type": "code",
   "execution_count": null,
   "metadata": {},
   "outputs": [],
   "source": []
  },
  {
   "cell_type": "code",
   "execution_count": null,
   "metadata": {},
   "outputs": [],
   "source": []
  },
  {
   "cell_type": "code",
   "execution_count": null,
   "metadata": {},
   "outputs": [],
   "source": []
  },
  {
   "cell_type": "code",
   "execution_count": null,
   "metadata": {},
   "outputs": [],
   "source": []
  },
  {
   "cell_type": "code",
   "execution_count": null,
   "metadata": {},
   "outputs": [],
   "source": []
  },
  {
   "cell_type": "code",
   "execution_count": null,
   "metadata": {},
   "outputs": [],
   "source": []
  },
  {
   "cell_type": "code",
   "execution_count": null,
   "metadata": {},
   "outputs": [],
   "source": []
  },
  {
   "cell_type": "code",
   "execution_count": null,
   "metadata": {},
   "outputs": [],
   "source": []
  }
 ],
 "metadata": {
  "kernelspec": {
   "display_name": "Python 3",
   "language": "python",
   "name": "python3"
  },
  "language_info": {
   "codemirror_mode": {
    "name": "ipython",
    "version": 3
   },
   "file_extension": ".py",
   "mimetype": "text/x-python",
   "name": "python",
   "nbconvert_exporter": "python",
   "pygments_lexer": "ipython3",
   "version": "3.7.4"
  }
 },
 "nbformat": 4,
 "nbformat_minor": 2
}
