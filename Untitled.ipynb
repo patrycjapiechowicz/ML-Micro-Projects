{
 "cells": [
  {
   "cell_type": "code",
   "execution_count": 2,
   "metadata": {},
   "outputs": [],
   "source": [
    "import numpy as np\n",
    "import pandas as pd\n",
    "import warnings\n",
    "warnings.filterwarnings('ignore')\n",
    "from sklearn.metrics import mean_squared_error\n",
    "\n",
    "from sklearn.preprocessing import StandardScaler, PowerTransformer\n",
    "from sklearn.compose import TransformedTargetRegressor\n",
    "from sklearn.pipeline import FeatureUnion, Pipeline, make_pipeline\n",
    "from sklearn.base import BaseEstimator, TransformerMixin\n",
    "from sklearn.linear_model import LinearRegression\n"
   ]
  },
  {
   "cell_type": "code",
   "execution_count": 3,
   "metadata": {},
   "outputs": [],
   "source": [
    "df = pd.DataFrame(columns=['X1', 'X2', 'y'], data=[\n",
    "                                                   [1,16,9],\n",
    "                                                   [4,36,16],\n",
    "                                                   [1,16,9],\n",
    "                                                   [2,9,8],\n",
    "                                                   [3,36,15],\n",
    "                                                   [2,49,16],\n",
    "                                                   [4,25,14],\n",
    "                                                   [5,36,17]\n",
    "])\n",
    "\n",
    "### y = X1 + 2 * sqrt(X2)\n",
    "\n",
    "train = df.iloc[:6]\n",
    "test = df.iloc[6:]\n",
    "\n",
    "train_X = train.drop('y', axis=1)\n",
    "train_y = train.y\n",
    "\n",
    "test_X = test.drop('y', axis=1)\n",
    "test_y = test.y"
   ]
  },
  {
   "cell_type": "code",
   "execution_count": 4,
   "metadata": {},
   "outputs": [
    {
     "data": {
      "text/html": [
       "<div>\n",
       "<style scoped>\n",
       "    .dataframe tbody tr th:only-of-type {\n",
       "        vertical-align: middle;\n",
       "    }\n",
       "\n",
       "    .dataframe tbody tr th {\n",
       "        vertical-align: top;\n",
       "    }\n",
       "\n",
       "    .dataframe thead th {\n",
       "        text-align: right;\n",
       "    }\n",
       "</style>\n",
       "<table border=\"1\" class=\"dataframe\">\n",
       "  <thead>\n",
       "    <tr style=\"text-align: right;\">\n",
       "      <th></th>\n",
       "      <th>X1</th>\n",
       "      <th>X2</th>\n",
       "      <th>y</th>\n",
       "    </tr>\n",
       "  </thead>\n",
       "  <tbody>\n",
       "    <tr>\n",
       "      <th>0</th>\n",
       "      <td>1</td>\n",
       "      <td>16</td>\n",
       "      <td>9</td>\n",
       "    </tr>\n",
       "    <tr>\n",
       "      <th>1</th>\n",
       "      <td>4</td>\n",
       "      <td>36</td>\n",
       "      <td>16</td>\n",
       "    </tr>\n",
       "    <tr>\n",
       "      <th>2</th>\n",
       "      <td>1</td>\n",
       "      <td>16</td>\n",
       "      <td>9</td>\n",
       "    </tr>\n",
       "    <tr>\n",
       "      <th>3</th>\n",
       "      <td>2</td>\n",
       "      <td>9</td>\n",
       "      <td>8</td>\n",
       "    </tr>\n",
       "    <tr>\n",
       "      <th>4</th>\n",
       "      <td>3</td>\n",
       "      <td>36</td>\n",
       "      <td>15</td>\n",
       "    </tr>\n",
       "    <tr>\n",
       "      <th>5</th>\n",
       "      <td>2</td>\n",
       "      <td>49</td>\n",
       "      <td>16</td>\n",
       "    </tr>\n",
       "    <tr>\n",
       "      <th>6</th>\n",
       "      <td>4</td>\n",
       "      <td>25</td>\n",
       "      <td>14</td>\n",
       "    </tr>\n",
       "    <tr>\n",
       "      <th>7</th>\n",
       "      <td>5</td>\n",
       "      <td>36</td>\n",
       "      <td>17</td>\n",
       "    </tr>\n",
       "  </tbody>\n",
       "</table>\n",
       "</div>"
      ],
      "text/plain": [
       "   X1  X2   y\n",
       "0   1  16   9\n",
       "1   4  36  16\n",
       "2   1  16   9\n",
       "3   2   9   8\n",
       "4   3  36  15\n",
       "5   2  49  16\n",
       "6   4  25  14\n",
       "7   5  36  17"
      ]
     },
     "execution_count": 4,
     "metadata": {},
     "output_type": "execute_result"
    }
   ],
   "source": [
    "df"
   ]
  },
  {
   "cell_type": "code",
   "execution_count": 5,
   "metadata": {},
   "outputs": [
    {
     "name": "stdout",
     "output_type": "stream",
     "text": [
      "\n",
      "[13.72113586 16.93334467]\n",
      "RMSE: 0.20274138822160603\n",
      "\n"
     ]
    }
   ],
   "source": [
    "# let's see if linear regression is able to predict this properly\n",
    "m1 = LinearRegression()\n",
    "fit1 = m1.fit(train_X, train_y)\n",
    "preds = fit1.predict(test_X)\n",
    "print(f\"\\n{preds}\")\n",
    "print(f\"RMSE: {np.sqrt(mean_squared_error(test_y, preds))}\\n\")"
   ]
  },
  {
   "cell_type": "code",
   "execution_count": 6,
   "metadata": {},
   "outputs": [
    {
     "name": "stdout",
     "output_type": "stream",
     "text": [
      "   X1    X2\n",
      "6   4  10.0\n",
      "7   5  12.0\n",
      "\n",
      "[14. 17.]\n",
      "RMSE: 1.2560739669470201e-15\n",
      "\n"
     ]
    }
   ],
   "source": [
    "# what if we square-root X2 and multiply by 2?\n",
    "train_X.X2 = 2 * np.sqrt(train_X.X2)\n",
    "test_X.X2 = 2 * np.sqrt(test_X.X2)\n",
    "print(test_X)\n",
    "m2 = LinearRegression()\n",
    "fit2 = m2.fit(train_X, train_y)\n",
    "preds = fit2.predict(test_X)\n",
    "print(f\"\\n{preds}\")\n",
    "print(f\"RMSE: {np.sqrt(mean_squared_error(test_y, preds))}\\n\")"
   ]
  },
  {
   "cell_type": "code",
   "execution_count": 7,
   "metadata": {},
   "outputs": [
    {
     "name": "stdout",
     "output_type": "stream",
     "text": [
      "create pipeline 1\n",
      "fit pipeline 1\n",
      "predict via pipeline 1\n",
      "\n",
      "[14. 17.]\n",
      "RMSE: 1.2560739669470201e-15\n",
      "\n"
     ]
    }
   ],
   "source": [
    "# without input transformation - to validate that we get the same results as before\n",
    "print(\"create pipeline 1\")\n",
    "pipe1 = Pipeline(steps=[\n",
    "                       ('linear_model', LinearRegression())\n",
    "])\n",
    "print(\"fit pipeline 1\")\n",
    "pipe1.fit(train_X, train_y)\n",
    "print(\"predict via pipeline 1\")\n",
    "preds1 = pipe1.predict(test_X)\n",
    "print(f\"\\n{preds1}\")  # should be [13.72113586 16.93334467]\n",
    "print(f\"RMSE: {np.sqrt(mean_squared_error(test_y, preds1))}\\n\")"
   ]
  },
  {
   "cell_type": "code",
   "execution_count": null,
   "metadata": {},
   "outputs": [],
   "source": []
  }
 ],
 "metadata": {
  "kernelspec": {
   "display_name": "Python 3",
   "language": "python",
   "name": "python3"
  },
  "language_info": {
   "codemirror_mode": {
    "name": "ipython",
    "version": 3
   },
   "file_extension": ".py",
   "mimetype": "text/x-python",
   "name": "python",
   "nbconvert_exporter": "python",
   "pygments_lexer": "ipython3",
   "version": "3.7.4"
  }
 },
 "nbformat": 4,
 "nbformat_minor": 2
}
