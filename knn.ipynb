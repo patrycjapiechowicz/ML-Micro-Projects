{
 "cells": [
  {
   "cell_type": "markdown",
   "metadata": {
    "collapsed": true,
    "pycharm": {
     "name": "#%% md\n"
    }
   },
   "source": [
    "# KNN (k nearest neighbours) - K najbliższych sąsiadów\n",
    "\n",
    "Jeden z algorytmów uczenia nadzorowanego służący do klasyfikacji i regresji.\n",
    "Zasada działania algorytmu w zadaniu klasyfikacji polega na przydzieleniu klasy decyzyjnej, którą obiekty w określonym zasięgu najliczniej reprezentują.\n",
    "W zadaniu regresji predykcja przydzielana jest na podstawie uśrednionej predykcji obiektów znajdujących się w określonym zasięgu.\n",
    "Zasięgiem w przypadku algorytmu KNN jest liczba najbliższych sąsiadów, czyli obiektów pochodzących z systemu decyzyjnego umieszczonych w przestrzeni n-wymiarowej.\n",
    "\n",
    "![knn](img/knn.svg) (źródło: wikimedia)\n",
    "\n",
    "## Metody obliczania podobieństwa między obiektami\n",
    "\n",
    "Do ustalania podobieństwa między obiektami służą metryki odległości.\n",
    "\n",
    "### Metryka Euklidesa\n",
    "$d(x, y) = \\sqrt{\\sum^n_{i=0} (x_i - y_i)^2}$\n",
    "\n",
    "### Metryka Manhattan\n",
    "$d(x, y) = \\sum_{i=0}^n |x_i - y_i|$\n",
    "\n",
    "### Metryka Mahalanobisa\n",
    "$d(x, y) = \\sqrt{\\sum_{i=1}^n \\frac{(x_i - y_i)^2}{s_i^2}}$\n",
    "\n",
    "## Metody wyboru optymalnej wartości K\n",
    "\n",
    "Polega na ustawieniu wartości K na podstawie pewnej wiedzy eksperckiej. Przykładowo, w klasyfikacji aktualnej pogody na podstawie bieżących warunków atmosferycznych k=7 jest dobrym wyborem.\n",
    "### Wybór deterministyczny\n",
    "\n",
    "### Metody heurystyczne\n",
    "- Zastosowanie względnie pierwszych kombinacji liczby klas i wartości K. W tym celu należy dobrać obie wartości w taki sposób, aby ich jedynym wspólnym dzielnikiem była liczba 1.\n",
    "- Wartość K większa lub równa od liczby klas powiększone o 1\n",
    "\n",
    "## Przykład - przewidywanie cen domów\n",
    "\n",
    "Dany jest zbiór zawierający ceny domów wraz z atrybutami takimi jak współrzędne geograficzne, wielkość działki, bliskość centrum miasta itd.\n",
    "Celem przykładu jest przewidywanie cen domów na podstawie atrybutów: szerokość geograficzna, długość geograficzna oraz wielkość działki przy użyciu regresji KNN.\n",
    "\n",
    "### Wczytanie systemu decyzyjnego i wstępna eksploracja"
   ]
  },
  {
   "cell_type": "code",
   "execution_count": 77,
   "metadata": {
    "pycharm": {
     "name": "#%%\n"
    }
   },
   "outputs": [],
   "source": [
    "import random\n",
    "import pandas as pd\n",
    "import numpy as np\n",
    "from scipy.spatial import KDTree\n",
    "from sklearn.metrics import mean_absolute_error\n"
   ]
  },
  {
   "cell_type": "code",
   "execution_count": 78,
   "metadata": {
    "pycharm": {
     "name": "#%%\n"
    }
   },
   "outputs": [
    {
     "data": {
      "text/html": [
       "<div>\n",
       "<style scoped>\n",
       "    .dataframe tbody tr th:only-of-type {\n",
       "        vertical-align: middle;\n",
       "    }\n",
       "\n",
       "    .dataframe tbody tr th {\n",
       "        vertical-align: top;\n",
       "    }\n",
       "\n",
       "    .dataframe thead th {\n",
       "        text-align: right;\n",
       "    }\n",
       "</style>\n",
       "<table border=\"1\" class=\"dataframe\">\n",
       "  <thead>\n",
       "    <tr style=\"text-align: right;\">\n",
       "      <th></th>\n",
       "      <th>AppraisedValue</th>\n",
       "      <th>SqFtLot</th>\n",
       "      <th>WaterSystem</th>\n",
       "      <th>SewerSystem</th>\n",
       "      <th>Access</th>\n",
       "      <th>Topography</th>\n",
       "      <th>StreetSurface</th>\n",
       "      <th>RestrictiveSzShape</th>\n",
       "      <th>InadequateParking</th>\n",
       "      <th>PcntUnusable</th>\n",
       "      <th>...</th>\n",
       "      <th>NativeGrowthProtEsmt</th>\n",
       "      <th>Easements</th>\n",
       "      <th>OtherDesignation</th>\n",
       "      <th>DeedRestrictions</th>\n",
       "      <th>DevelopmentRightsPurch</th>\n",
       "      <th>WaterProblems</th>\n",
       "      <th>TranspConcurrency</th>\n",
       "      <th>OtherProblems</th>\n",
       "      <th>lat</th>\n",
       "      <th>long</th>\n",
       "    </tr>\n",
       "  </thead>\n",
       "  <tbody>\n",
       "    <tr>\n",
       "      <th>0</th>\n",
       "      <td>619000.0</td>\n",
       "      <td>6542712</td>\n",
       "      <td>1</td>\n",
       "      <td>1</td>\n",
       "      <td>4</td>\n",
       "      <td>0</td>\n",
       "      <td>1</td>\n",
       "      <td>0</td>\n",
       "      <td>0</td>\n",
       "      <td>0</td>\n",
       "      <td>...</td>\n",
       "      <td>0</td>\n",
       "      <td>0</td>\n",
       "      <td>0</td>\n",
       "      <td>0</td>\n",
       "      <td>1</td>\n",
       "      <td>0</td>\n",
       "      <td>0</td>\n",
       "      <td>0</td>\n",
       "      <td>47.354019</td>\n",
       "      <td>-122.225166</td>\n",
       "    </tr>\n",
       "    <tr>\n",
       "      <th>1</th>\n",
       "      <td>708000.0</td>\n",
       "      <td>105850</td>\n",
       "      <td>2</td>\n",
       "      <td>1</td>\n",
       "      <td>3</td>\n",
       "      <td>0</td>\n",
       "      <td>2</td>\n",
       "      <td>0</td>\n",
       "      <td>0</td>\n",
       "      <td>0</td>\n",
       "      <td>...</td>\n",
       "      <td>0</td>\n",
       "      <td>0</td>\n",
       "      <td>0</td>\n",
       "      <td>0</td>\n",
       "      <td>0</td>\n",
       "      <td>0</td>\n",
       "      <td>0</td>\n",
       "      <td>0</td>\n",
       "      <td>47.611248</td>\n",
       "      <td>-122.053154</td>\n",
       "    </tr>\n",
       "    <tr>\n",
       "      <th>2</th>\n",
       "      <td>297000.0</td>\n",
       "      <td>1667</td>\n",
       "      <td>2</td>\n",
       "      <td>2</td>\n",
       "      <td>4</td>\n",
       "      <td>0</td>\n",
       "      <td>1</td>\n",
       "      <td>0</td>\n",
       "      <td>2</td>\n",
       "      <td>0</td>\n",
       "      <td>...</td>\n",
       "      <td>0</td>\n",
       "      <td>0</td>\n",
       "      <td>0</td>\n",
       "      <td>0</td>\n",
       "      <td>0</td>\n",
       "      <td>0</td>\n",
       "      <td>0</td>\n",
       "      <td>0</td>\n",
       "      <td>47.701248</td>\n",
       "      <td>-122.365784</td>\n",
       "    </tr>\n",
       "  </tbody>\n",
       "</table>\n",
       "<p>3 rows × 48 columns</p>\n",
       "</div>"
      ],
      "text/plain": [
       "   AppraisedValue  SqFtLot  WaterSystem  SewerSystem  Access  Topography  \\\n",
       "0        619000.0  6542712            1            1       4           0   \n",
       "1        708000.0   105850            2            1       3           0   \n",
       "2        297000.0     1667            2            2       4           0   \n",
       "\n",
       "   StreetSurface  RestrictiveSzShape  InadequateParking  PcntUnusable  ...  \\\n",
       "0              1                   0                  0             0  ...   \n",
       "1              2                   0                  0             0  ...   \n",
       "2              1                   0                  2             0  ...   \n",
       "\n",
       "   NativeGrowthProtEsmt  Easements  OtherDesignation  DeedRestrictions  \\\n",
       "0                     0          0                 0                 0   \n",
       "1                     0          0                 0                 0   \n",
       "2                     0          0                 0                 0   \n",
       "\n",
       "   DevelopmentRightsPurch  WaterProblems  TranspConcurrency  OtherProblems  \\\n",
       "0                       1              0                  0              0   \n",
       "1                       0              0                  0              0   \n",
       "2                       0              0                  0              0   \n",
       "\n",
       "         lat        long  \n",
       "0  47.354019 -122.225166  \n",
       "1  47.611248 -122.053154  \n",
       "2  47.701248 -122.365784  \n",
       "\n",
       "[3 rows x 48 columns]"
      ]
     },
     "execution_count": 78,
     "metadata": {},
     "output_type": "execute_result"
    }
   ],
   "source": [
    "houses = pd.read_csv('data/data.csv')\n",
    "\n",
    "houses.head(3)"
   ]
  },
  {
   "cell_type": "markdown",
   "metadata": {
    "pycharm": {
     "name": "#%% md\n"
    }
   },
   "source": [
    "W obiekcie values umieszczamy atrybut decyzyjny z oryginalnego systemu decyzyjnego,\n",
    "następnie usuwamy atrybut z systemu decyzyjnego uzyskując w ten sposób system informacyjny w obiekcie houses."
   ]
  },
  {
   "cell_type": "code",
   "execution_count": 79,
   "metadata": {
    "pycharm": {
     "name": "#%%\n"
    }
   },
   "outputs": [],
   "source": [
    "values = houses['AppraisedValue']\n",
    "houses.drop('AppraisedValue', 1, inplace=True)"
   ]
  },
  {
   "cell_type": "markdown",
   "metadata": {
    "pycharm": {
     "name": "#%% md\n"
    }
   },
   "source": [
    "Dokonujemy normalizacji danych w systemie informacyjnym (zerowa średnia arytmetyczna i jednostkowe odchylenie standardowe), oraz usuwamy zbędne atrybuty pozostawiając\n",
    "jedynie współrzędne geograficzne i wielkość działki. Na podstawie tych atrybutów będziemy przewidywać docelowe ceny domów."
   ]
  },
  {
   "cell_type": "code",
   "execution_count": 80,
   "metadata": {
    "pycharm": {
     "name": "#%%\n"
    }
   },
   "outputs": [],
   "source": [
    "houses = (houses - houses.mean()) / (houses.max() - houses.min())\n",
    "houses = houses[['lat', 'long', 'SqFtLot']]"
   ]
  },
  {
   "cell_type": "markdown",
   "metadata": {
    "pycharm": {
     "name": "#%% md\n"
    }
   },
   "source": [
    "Tworzymy obiekt regressora KNN"
   ]
  },
  {
   "cell_type": "code",
   "execution_count": 81,
   "metadata": {
    "pycharm": {
     "name": "#%%\n"
    }
   },
   "outputs": [],
   "source": [
    "kdtree = KDTree(houses)\n"
   ]
  },
  {
   "cell_type": "markdown",
   "metadata": {
    "pycharm": {
     "name": "#%% md\n"
    }
   },
   "source": [
    "Następnie tworzymy funkcję, która przydzieli prognozę przekazanemu obiektowi na podstawie liczby najbliższych sąsiadów (parametr k)."
   ]
  },
  {
   "cell_type": "code",
   "execution_count": 82,
   "metadata": {
    "pycharm": {
     "name": "#%%\n"
    }
   },
   "outputs": [],
   "source": [
    "def predict(query_point, k):\n",
    "    _, idx = kdtree.query(query_point, k)\n",
    "    return np.mean(values.iloc[idx])"
   ]
  },
  {
   "cell_type": "markdown",
   "metadata": {
    "pycharm": {
     "name": "#%% md\n"
    }
   },
   "source": [
    "Tworzymy następnie systemy decyzyjne służące do trenowania i testowania modelu.\n",
    "System treningowy będzie zawierał 80% obiektów z oryginalnego systemu decyzyjnego, a system testowy 20%."
   ]
  },
  {
   "cell_type": "code",
   "execution_count": 83,
   "metadata": {
    "pycharm": {
     "name": "#%%\n"
    }
   },
   "outputs": [],
   "source": [
    "test_rows = random.sample(houses.index.tolist(), int(round(len(houses) * .2)))  # 20%\n",
    "train_rows = set(range(len(houses))) - set(test_rows)\n",
    "df_test = houses.loc[test_rows]\n",
    "df_train = houses.drop(test_rows)\n",
    "test_values = values.loc[test_rows]\n",
    "train_values = values.loc[train_rows]\n"
   ]
  },
  {
   "cell_type": "markdown",
   "metadata": {
    "pycharm": {
     "name": "#%% md\n"
    }
   },
   "source": [
    "Dla wartości K (liczba najbliższych sąsiadów) równej 5 dokonujemy regresji obiektów pochodzących z systemu testowego,\n",
    "a następnie porównujemy wyniki z wynikami oryginalnymi przy użyciu funkcji średniego błędu bezwzględnego."
   ]
  },
  {
   "cell_type": "code",
   "execution_count": 84,
   "metadata": {
    "pycharm": {
     "name": "#%%\n"
    }
   },
   "outputs": [],
   "source": [
    "train_predicted_values = []\n",
    "train_actual_values = []\n",
    "\n",
    "for _id, row in df_train.iterrows():\n",
    "    train_predicted_values.append(predict(row, 5))\n",
    "    train_actual_values.append(train_values[_id])"
   ]
  },
  {
   "cell_type": "code",
   "execution_count": 85,
   "metadata": {
    "pycharm": {
     "name": "#%%\n"
    }
   },
   "outputs": [
    {
     "name": "stdout",
     "output_type": "stream",
     "text": [
      "Wartosc sredniego bledu bezwzglednego na systemie treningowym dla k=5 wynosi: 59408.062972148036\n"
     ]
    }
   ],
   "source": [
    "print(f'Wartosc sredniego bledu bezwzglednego na systemie treningowym dla k=5 wynosi: {mean_absolute_error(train_predicted_values, train_actual_values)}')"
   ]
  },
  {
   "cell_type": "code",
   "execution_count": 86,
   "metadata": {},
   "outputs": [],
   "source": [
    "error_k_5=mean_absolute_error(train_predicted_values, train_actual_values)"
   ]
  },
  {
   "cell_type": "markdown",
   "metadata": {},
   "source": [
    "k=3"
   ]
  },
  {
   "cell_type": "code",
   "execution_count": 87,
   "metadata": {},
   "outputs": [],
   "source": [
    "train_predicted_values = []\n",
    "train_actual_values = []\n",
    "\n",
    "for _id, row in df_train.iterrows():\n",
    "    train_predicted_values.append(predict(row, 3))\n",
    "    train_actual_values.append(train_values[_id])"
   ]
  },
  {
   "cell_type": "code",
   "execution_count": 88,
   "metadata": {},
   "outputs": [],
   "source": [
    "error_k_3=mean_absolute_error(train_predicted_values, train_actual_values)"
   ]
  },
  {
   "cell_type": "markdown",
   "metadata": {},
   "source": [
    "k=7"
   ]
  },
  {
   "cell_type": "code",
   "execution_count": 89,
   "metadata": {},
   "outputs": [],
   "source": [
    "train_predicted_values = []\n",
    "train_actual_values = []\n",
    "\n",
    "for _id, row in df_train.iterrows():\n",
    "    train_predicted_values.append(predict(row, 7))\n",
    "    train_actual_values.append(train_values[_id])"
   ]
  },
  {
   "cell_type": "code",
   "execution_count": 90,
   "metadata": {},
   "outputs": [],
   "source": [
    "error_k_7=mean_absolute_error(train_predicted_values, train_actual_values)"
   ]
  },
  {
   "cell_type": "markdown",
   "metadata": {},
   "source": [
    "k=9"
   ]
  },
  {
   "cell_type": "code",
   "execution_count": 91,
   "metadata": {},
   "outputs": [],
   "source": [
    "train_predicted_values = []\n",
    "train_actual_values = []\n",
    "\n",
    "for _id, row in df_train.iterrows():\n",
    "    train_predicted_values.append(predict(row, 9))\n",
    "    train_actual_values.append(train_values[_id])"
   ]
  },
  {
   "cell_type": "code",
   "execution_count": 92,
   "metadata": {},
   "outputs": [],
   "source": [
    "error_k_9=mean_absolute_error(train_predicted_values, train_actual_values)"
   ]
  },
  {
   "cell_type": "markdown",
   "metadata": {},
   "source": [
    "k=11"
   ]
  },
  {
   "cell_type": "code",
   "execution_count": 93,
   "metadata": {},
   "outputs": [],
   "source": [
    "train_predicted_values = []\n",
    "train_actual_values = []\n",
    "\n",
    "for _id, row in df_train.iterrows():\n",
    "    train_predicted_values.append(predict(row, 11))\n",
    "    train_actual_values.append(train_values[_id])"
   ]
  },
  {
   "cell_type": "code",
   "execution_count": 94,
   "metadata": {},
   "outputs": [],
   "source": [
    "error_k_11=mean_absolute_error(train_predicted_values, train_actual_values)"
   ]
  },
  {
   "cell_type": "code",
   "execution_count": 95,
   "metadata": {},
   "outputs": [
    {
     "data": {
      "text/plain": [
       "(52171.881581457455,\n",
       " 59408.062972148036,\n",
       " 63139.980657600696,\n",
       " 65610.62839671032,\n",
       " 67331.57577780861)"
      ]
     },
     "execution_count": 95,
     "metadata": {},
     "output_type": "execute_result"
    }
   ],
   "source": [
    "error_k_3,error_k_5,error_k_7,error_k_9,error_k_11"
   ]
  },
  {
   "cell_type": "code",
   "execution_count": 96,
   "metadata": {},
   "outputs": [],
   "source": [
    "k=[3,5,7,9,11]\n",
    "MAE=[error_k_3,error_k_5,error_k_7,error_k_9,error_k_11]"
   ]
  },
  {
   "cell_type": "code",
   "execution_count": 97,
   "metadata": {},
   "outputs": [
    {
     "data": {
      "image/png": "[encoded data removed]",
      "text/plain": [
       "<Figure size 432x288 with 1 Axes>"
      ]
     },
     "metadata": {
      "needs_background": "light"
     },
     "output_type": "display_data"
    }
   ],
   "source": [
    "import matplotlib.pyplot as plt\n",
    "%matplotlib inline\n",
    "plt.plot(k,MAE,linewidth=2, markersize=12)\n",
    "plt.title(\"Accuracy vs Neighbors\")\n",
    "plt.xlabel(\"k, number of neighbors\")\n",
    "plt.ylabel=(\"Classification accuracy\")\n",
    "plt.show()"
   ]
  },
  {
   "cell_type": "markdown",
   "metadata": {},
   "source": [
    "#### 60% system treningowy i 40% system testowy"
   ]
  },
  {
   "cell_type": "code",
   "execution_count": 98,
   "metadata": {},
   "outputs": [],
   "source": [
    "test_rows = random.sample(houses.index.tolist(), int(round(len(houses) * .4)))  # 40%\n",
    "train_rows = set(range(len(houses))) - set(test_rows)\n",
    "df_test = houses.loc[test_rows]\n",
    "df_train = houses.drop(test_rows)\n",
    "test_values = values.loc[test_rows]\n",
    "train_values = values.loc[train_rows]"
   ]
  },
  {
   "cell_type": "code",
   "execution_count": 99,
   "metadata": {},
   "outputs": [],
   "source": [
    "#k=5\n",
    "train_predicted_values = []\n",
    "train_actual_values = []\n",
    "\n",
    "for _id, row in df_train.iterrows():\n",
    "    train_predicted_values.append(predict(row, 5))\n",
    "    train_actual_values.append(train_values[_id])"
   ]
  },
  {
   "cell_type": "code",
   "execution_count": 100,
   "metadata": {},
   "outputs": [],
   "source": [
    "error_k_5=mean_absolute_error(train_predicted_values, train_actual_values)"
   ]
  },
  {
   "cell_type": "code",
   "execution_count": 101,
   "metadata": {},
   "outputs": [],
   "source": [
    "#k=3\n",
    "train_predicted_values = []\n",
    "train_actual_values = []\n",
    "\n",
    "for _id, row in df_train.iterrows():\n",
    "    train_predicted_values.append(predict(row, 3))\n",
    "    train_actual_values.append(train_values[_id])"
   ]
  },
  {
   "cell_type": "code",
   "execution_count": 102,
   "metadata": {},
   "outputs": [],
   "source": [
    "error_k_3=mean_absolute_error(train_predicted_values, train_actual_values)"
   ]
  },
  {
   "cell_type": "code",
   "execution_count": 103,
   "metadata": {},
   "outputs": [],
   "source": [
    "#k=7\n",
    "train_predicted_values = []\n",
    "train_actual_values = []\n",
    "\n",
    "for _id, row in df_train.iterrows():\n",
    "    train_predicted_values.append(predict(row, 7))\n",
    "    train_actual_values.append(train_values[_id])\n",
    "\n",
    "error_k_7=mean_absolute_error(train_predicted_values, train_actual_values)"
   ]
  },
  {
   "cell_type": "code",
   "execution_count": 104,
   "metadata": {},
   "outputs": [],
   "source": [
    "#k=9\n",
    "train_predicted_values = []\n",
    "train_actual_values = []\n",
    "\n",
    "for _id, row in df_train.iterrows():\n",
    "    train_predicted_values.append(predict(row, 9))\n",
    "    train_actual_values.append(train_values[_id])\n",
    "\n",
    "error_k_9=mean_absolute_error(train_predicted_values, train_actual_values)"
   ]
  },
  {
   "cell_type": "code",
   "execution_count": 105,
   "metadata": {},
   "outputs": [],
   "source": [
    "k=[3,5,7,9,11]\n",
    "MAE=[error_k_3,error_k_5,error_k_7,error_k_9,error_k_11]"
   ]
  },
  {
   "cell_type": "code",
   "execution_count": 106,
   "metadata": {},
   "outputs": [
    {
     "data": {
      "image/png": "[encoded data removed]",
      "text/plain": [
       "<Figure size 432x288 with 1 Axes>"
      ]
     },
     "metadata": {
      "needs_background": "light"
     },
     "output_type": "display_data"
    }
   ],
   "source": [
    "import matplotlib.pyplot as plt\n",
    "%matplotlib inline\n",
    "plt.plot(k,MAE,linewidth=2, markersize=12)\n",
    "plt.title(\"Accuracy vs Neighbors\")\n",
    "plt.xlabel(\"k, number of neighbors\")\n",
    "plt.ylabel=(\"Classification accuracy\")\n",
    "plt.show()"
   ]
  },
  {
   "cell_type": "markdown",
   "metadata": {},
   "source": [
    "#### 65% system treningowy i 35% system testowy"
   ]
  },
  {
   "cell_type": "code",
   "execution_count": 107,
   "metadata": {},
   "outputs": [],
   "source": [
    "test_rows = random.sample(houses.index.tolist(), int(round(len(houses) * .35)))  # 35%\n",
    "train_rows = set(range(len(houses))) - set(test_rows)\n",
    "df_test = houses.loc[test_rows]\n",
    "df_train = houses.drop(test_rows)\n",
    "test_values = values.loc[test_rows]\n",
    "train_values = values.loc[train_rows]"
   ]
  },
  {
   "cell_type": "code",
   "execution_count": 108,
   "metadata": {},
   "outputs": [],
   "source": [
    "#k=3\n",
    "train_predicted_values = []\n",
    "train_actual_values = []\n",
    "\n",
    "for _id, row in df_train.iterrows():\n",
    "    train_predicted_values.append(predict(row, 3))\n",
    "    train_actual_values.append(train_values[_id])\n",
    "\n",
    "error_k_3=mean_absolute_error(train_predicted_values, train_actual_values)"
   ]
  },
  {
   "cell_type": "code",
   "execution_count": 109,
   "metadata": {},
   "outputs": [],
   "source": [
    "#k=5\n",
    "train_predicted_values = []\n",
    "train_actual_values = []\n",
    "\n",
    "for _id, row in df_train.iterrows():\n",
    "    train_predicted_values.append(predict(row, 5))\n",
    "    train_actual_values.append(train_values[_id])\n",
    "\n",
    "error_k_5=mean_absolute_error(train_predicted_values, train_actual_values)"
   ]
  },
  {
   "cell_type": "code",
   "execution_count": 110,
   "metadata": {},
   "outputs": [],
   "source": [
    "#k=7\n",
    "train_predicted_values = []\n",
    "train_actual_values = []\n",
    "\n",
    "for _id, row in df_train.iterrows():\n",
    "    train_predicted_values.append(predict(row, 7))\n",
    "    train_actual_values.append(train_values[_id])\n",
    "\n",
    "error_k_7=mean_absolute_error(train_predicted_values, train_actual_values)"
   ]
  },
  {
   "cell_type": "code",
   "execution_count": 111,
   "metadata": {},
   "outputs": [],
   "source": [
    "#k=9\n",
    "train_predicted_values = []\n",
    "train_actual_values = []\n",
    "\n",
    "for _id, row in df_train.iterrows():\n",
    "    train_predicted_values.append(predict(row, 9))\n",
    "    train_actual_values.append(train_values[_id])\n",
    "\n",
    "error_k_9=mean_absolute_error(train_predicted_values, train_actual_values)"
   ]
  },
  {
   "cell_type": "code",
   "execution_count": 112,
   "metadata": {},
   "outputs": [],
   "source": [
    "k=[3,5,7,9,11]\n",
    "MAE=[error_k_3,error_k_5,error_k_7,error_k_9,error_k_11]"
   ]
  },
  {
   "cell_type": "code",
   "execution_count": 113,
   "metadata": {},
   "outputs": [
    {
     "data": {
      "image/png": "[encoded data removed]",
      "text/plain": [
       "<Figure size 432x288 with 1 Axes>"
      ]
     },
     "metadata": {
      "needs_background": "light"
     },
     "output_type": "display_data"
    }
   ],
   "source": [
    "import matplotlib.pyplot as plt\n",
    "%matplotlib inline\n",
    "plt.plot(k,MAE,linewidth=2, markersize=12)\n",
    "plt.title(\"Accuracy vs Neighbors\")\n",
    "plt.xlabel(\"k, number of neighbors\")\n",
    "plt.ylabel=(\"Classification accuracy\")\n",
    "plt.show()"
   ]
  },
  {
   "cell_type": "markdown",
   "metadata": {},
   "source": [
    "#### 70% system treningowy i 30% system testowy"
   ]
  },
  {
   "cell_type": "code",
   "execution_count": 114,
   "metadata": {},
   "outputs": [],
   "source": [
    "test_rows = random.sample(houses.index.tolist(), int(round(len(houses) * .30)))  # 30%\n",
    "train_rows = set(range(len(houses))) - set(test_rows)\n",
    "df_test = houses.loc[test_rows]\n",
    "df_train = houses.drop(test_rows)\n",
    "test_values = values.loc[test_rows]\n",
    "train_values = values.loc[train_rows]"
   ]
  },
  {
   "cell_type": "code",
   "execution_count": 115,
   "metadata": {},
   "outputs": [],
   "source": [
    "#k=3\n",
    "train_predicted_values = []\n",
    "train_actual_values = []\n",
    "\n",
    "for _id, row in df_train.iterrows():\n",
    "    train_predicted_values.append(predict(row, 3))\n",
    "    train_actual_values.append(train_values[_id])\n",
    "\n",
    "error_k_3=mean_absolute_error(train_predicted_values, train_actual_values)"
   ]
  },
  {
   "cell_type": "code",
   "execution_count": 116,
   "metadata": {},
   "outputs": [],
   "source": [
    "#k=5\n",
    "train_predicted_values = []\n",
    "train_actual_values = []\n",
    "\n",
    "for _id, row in df_train.iterrows():\n",
    "    train_predicted_values.append(predict(row, 5))\n",
    "    train_actual_values.append(train_values[_id])\n",
    "\n",
    "error_k_5=mean_absolute_error(train_predicted_values, train_actual_values)"
   ]
  },
  {
   "cell_type": "code",
   "execution_count": 117,
   "metadata": {},
   "outputs": [],
   "source": [
    "#k=7\n",
    "train_predicted_values = []\n",
    "train_actual_values = []\n",
    "\n",
    "for _id, row in df_train.iterrows():\n",
    "    train_predicted_values.append(predict(row, 7))\n",
    "    train_actual_values.append(train_values[_id])\n",
    "\n",
    "error_k_7=mean_absolute_error(train_predicted_values, train_actual_values)"
   ]
  },
  {
   "cell_type": "code",
   "execution_count": 118,
   "metadata": {},
   "outputs": [],
   "source": [
    "#k=9\n",
    "train_predicted_values = []\n",
    "train_actual_values = []\n",
    "\n",
    "for _id, row in df_train.iterrows():\n",
    "    train_predicted_values.append(predict(row, 9))\n",
    "    train_actual_values.append(train_values[_id])\n",
    "\n",
    "error_k_9=mean_absolute_error(train_predicted_values, train_actual_values)"
   ]
  },
  {
   "cell_type": "code",
   "execution_count": 119,
   "metadata": {},
   "outputs": [],
   "source": [
    "k=[3,5,7,9,11]\n",
    "MAE=[error_k_3,error_k_5,error_k_7,error_k_9,error_k_11]"
   ]
  },
  {
   "cell_type": "code",
   "execution_count": 120,
   "metadata": {},
   "outputs": [
    {
     "data": {
      "image/png": "[encoded data removed]",
      "text/plain": [
       "<Figure size 432x288 with 1 Axes>"
      ]
     },
     "metadata": {
      "needs_background": "light"
     },
     "output_type": "display_data"
    }
   ],
   "source": [
    "import matplotlib.pyplot as plt\n",
    "%matplotlib inline\n",
    "plt.plot(k,MAE,linewidth=2, markersize=12)\n",
    "plt.title(\"Accuracy vs Neighbors\")\n",
    "plt.xlabel(\"k, number of neighbors\")\n",
    "plt.ylabel=(\"Classification accuracy\")\n",
    "plt.show()"
   ]
  },
  {
   "cell_type": "markdown",
   "metadata": {},
   "source": [
    "#### 75% system treningowy i 25% system testowy"
   ]
  },
  {
   "cell_type": "code",
   "execution_count": 123,
   "metadata": {},
   "outputs": [],
   "source": [
    "test_rows = random.sample(houses.index.tolist(), int(round(len(houses) * .25)))  # 25%\n",
    "train_rows = set(range(len(houses))) - set(test_rows)\n",
    "df_test = houses.loc[test_rows]\n",
    "df_train = houses.drop(test_rows)\n",
    "test_values = values.loc[test_rows]\n",
    "train_values = values.loc[train_rows]"
   ]
  },
  {
   "cell_type": "code",
   "execution_count": 124,
   "metadata": {},
   "outputs": [],
   "source": [
    "#k=3\n",
    "train_predicted_values = []\n",
    "train_actual_values = []\n",
    "\n",
    "for _id, row in df_train.iterrows():\n",
    "    train_predicted_values.append(predict(row, 3))\n",
    "    train_actual_values.append(train_values[_id])\n",
    "\n",
    "error_k_3=mean_absolute_error(train_predicted_values, train_actual_values)"
   ]
  },
  {
   "cell_type": "code",
   "execution_count": 125,
   "metadata": {},
   "outputs": [],
   "source": [
    "#k=5\n",
    "train_predicted_values = []\n",
    "train_actual_values = []\n",
    "\n",
    "for _id, row in df_train.iterrows():\n",
    "    train_predicted_values.append(predict(row, 5))\n",
    "    train_actual_values.append(train_values[_id])\n",
    "\n",
    "error_k_5=mean_absolute_error(train_predicted_values, train_actual_values)"
   ]
  },
  {
   "cell_type": "code",
   "execution_count": 126,
   "metadata": {},
   "outputs": [],
   "source": [
    "#k=7\n",
    "train_predicted_values = []\n",
    "train_actual_values = []\n",
    "\n",
    "for _id, row in df_train.iterrows():\n",
    "    train_predicted_values.append(predict(row, 3))\n",
    "    train_actual_values.append(train_values[_id])\n",
    "\n",
    "error_k_7=mean_absolute_error(train_predicted_values, train_actual_values)"
   ]
  },
  {
   "cell_type": "code",
   "execution_count": 127,
   "metadata": {},
   "outputs": [],
   "source": [
    "#k=9\n",
    "train_predicted_values = []\n",
    "train_actual_values = []\n",
    "\n",
    "for _id, row in df_train.iterrows():\n",
    "    train_predicted_values.append(predict(row, 3))\n",
    "    train_actual_values.append(train_values[_id])\n",
    "\n",
    "error_k_9=mean_absolute_error(train_predicted_values, train_actual_values)"
   ]
  },
  {
   "cell_type": "code",
   "execution_count": 128,
   "metadata": {},
   "outputs": [],
   "source": [
    "k=[3,5,7,9,11]\n",
    "MAE=[error_k_3,error_k_5,error_k_7,error_k_9,error_k_11]"
   ]
  },
  {
   "cell_type": "code",
   "execution_count": 129,
   "metadata": {},
   "outputs": [
    {
     "data": {
      "image/png": "[encoded data removed]",
      "text/plain": [
       "<Figure size 432x288 with 1 Axes>"
      ]
     },
     "metadata": {
      "needs_background": "light"
     },
     "output_type": "display_data"
    }
   ],
   "source": [
    "import matplotlib.pyplot as plt\n",
    "%matplotlib inline\n",
    "plt.plot(k,MAE,linewidth=2, markersize=12)\n",
    "plt.title(\"Accuracy vs Neighbors\")\n",
    "plt.xlabel(\"k, number of neighbors\")\n",
    "plt.ylabel=(\"Classification accuracy\")\n",
    "plt.show()"
   ]
  },
  {
   "cell_type": "markdown",
   "metadata": {
    "pycharm": {
     "name": "#%% md\n"
    }
   },
   "source": [
    "## Zadania - regresja KNN\n",
    "\n",
    "1. Wykorzystać powyższy przykład w celu znalezienia takiej wartości K, dla której wartość średniego błędu bezwzględnego na systemie treningowym\n",
    "będzie najmniejsza. W tym celu należy stworzyć wykres liniowy, na którym oś x będzie przedstawiała wartość K,\n",
    "a oś y będzie przedstawiała wartość funkcji błędu. Następnie dla \"najlepszej\" wartości K sprawdzić wartość funkcji błędu\n",
    "na systemie testowym.\n",
    "\n",
    "2. Znaleźć \"najlepszą\" wartość K dla następujących podziałów na system treningowy i testowy:\n",
    "    - 60% system treningowy i 40% system testowy\n",
    "    - 65% system treningowy i 35% system testowy\n",
    "    - 70% system treningowy i 30% system testowy\n",
    "    - 75% system treningowy i 25% system testowy\n",
    "\n",
    "\n",
    "## Klasyfikacja przy użyciu metody KNN\n",
    "\n",
    "Przydział odpowiedniej klasy decyzyjnej w klasyfikatorze KNN polega na sprawdzeniu która klasa decyzyjna występuje\n",
    "najliczniej wśród k najbliższych sąsiadów, co przy użyciu języka python można wyrazić następująco:"
   ]
  },
  {
   "cell_type": "code",
   "execution_count": null,
   "metadata": {},
   "outputs": [],
   "source": []
  },
  {
   "cell_type": "code",
   "execution_count": 122,
   "metadata": {
    "pycharm": {
     "name": "#%%\n"
    }
   },
   "outputs": [],
   "source": [
    "def classify(query_point, k):\n",
    "    _, idx = kdtree.query(query_point, k)\n",
    "    return np.argmax(np.bincount(values.iloc[idx]))"
   ]
  },
  {
   "cell_type": "markdown",
   "metadata": {},
   "source": [
    "Funkcja zwraca dominantę klasy decyzyjnej występującej najczęściej wśród k najbliższych sąsiadów.\n",
    "Atrybut decyzyjny w funkcji należy wskazać samodzielnie.\n",
    "\n",
    "### Pomiar wydajności modeli w zadaniach klasyfikacji\n",
    "\n",
    "#### Binarna entropia krzyżowa\n",
    "\n",
    "Binarna entropia krzyżowa jest miarą błędu w zadaniach klasyfikacji binarnej:\n",
    "\n",
    "$$ Err = - \\frac{1}{N} \\sum_{i=1}^{N} y_i log(\\hat{y}_i) + (1 - y_i) log(1 - \\hat{y}_i) $$\n",
    "\n",
    "gdzie:\n",
    "- $$ y_i $$ oznacza oryginalną klasę decyzyjną\n",
    "- $$ \\hat{y}_i $$ oznacza prawdopodobieństwo przynależności do pozytywnej klasy decyzyjnej przydzielone przez model\n",
    "- $$ N $$ oznacza liczbę obiektów w systemie decyzyjnym\n",
    "\n",
    "#### Kategorialna entropia krzyżowa\n",
    "\n",
    "Binarna entropia krzyżowa jest miarą błędu w zadaniach klasyfikacji wieloklasowej:\n",
    "\n",
    "$$ Err = - \\sum_{i=1}^{N} y_i log(\\hat{y}_i) $$\n",
    "\n",
    "#### Dokładność\n",
    "\n",
    "Dokładność to miara dokładności klasyfikacji wyrażona w formie odsetka obiektów, które otrzymały poprawną decyzję:\n",
    "\n",
    "$$ Acc_{glob} = \\frac{correct}{total} $$\n",
    "\n",
    "gdzie:\n",
    "- $$correct$$ oznacza liczbę obiektów, które otrzymały poprawną decyzję\n",
    "- $$ total $$ oznacza liczbę obiektów w systemie decyzyjnym\n",
    "\n",
    "#### Dokładność zbalansowana\n",
    "\n",
    "Dokładność zbalansowana to miara dokładności stosowana w przypadku gdy liczebności klas w systemie decyzyjnym są różne.\n",
    "Dokładność zbalansowaną można wyrazić jako uśrednioną dokładność klasyfikacji w obrębie każdej klasy decyzyjnej w systemie decyzyjnym.\n",
    "\n",
    "$$ Acc_{balanced} = \\frac{acc_{c_1} + acc_{c_2} + ... + acc_{c_k}}{k} $$\n",
    "\n",
    "gdzie:\n",
    "- k oznacza liczbę wszystkich klas decyzyjnych\n",
    "- $$ acc_{c_k} $$ oznacza dokładność klasy decyzyjnej $$k$$\n",
    "\n",
    "## Zadania - klasyfikacja KNN\n",
    "\n",
    "1. Korzystając ze źródła http://archive.ics.uci.edu/ml/datasets.php wybrać jeden system decyzyjny, a następnie dokonać\n",
    "klasyfikacji metodą KNN dowolnego atrybutu decyzyjnego. Wykorzystując rozwiązanie zadania 1 z regresji KNN znaleźć\n",
    "najlepszą wartość K w następujących podziałach:\n",
    "    - 55% system treningowy i 45% system testowy\n",
    "    - 60% system treningowy i 40% system testowy\n",
    "    - 65% system treningowy i 35% system testowy\n",
    "    - 70% system treningowy i 30% system testowy\n",
    "    - 75% system treningowy i 25% system testowy\n",
    "    - 80% system treningowy i 20% system testowy\n",
    "\n",
    "Dla każdego podziału zaprezentować poznane wartości miar wydajności modeli - w tym celu należy zaimplementować te funkcjonalności."
   ]
  },
  {
   "cell_type": "code",
   "execution_count": null,
   "metadata": {},
   "outputs": [],
   "source": []
  }
 ],
 "metadata": {
  "kernelspec": {
   "display_name": "Python 3",
   "language": "python",
   "name": "python3"
  },
  "language_info": {
   "codemirror_mode": {
    "name": "ipython",
    "version": 3
   },
   "file_extension": ".py",
   "mimetype": "text/x-python",
   "name": "python",
   "nbconvert_exporter": "python",
   "pygments_lexer": "ipython3",
   "version": "3.7.4"
  }
 },
 "nbformat": 4,
 "nbformat_minor": 1
}
