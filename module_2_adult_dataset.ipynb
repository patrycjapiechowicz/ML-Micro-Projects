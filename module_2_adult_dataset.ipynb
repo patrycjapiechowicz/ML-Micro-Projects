{
  "cells": [
    {
      "cell_type": "markdown",
      "metadata": {
        "id": "view-in-github",
        "colab_type": "text"
      },
      "source": [
        "<a href=\"https://colab.research.google.com/github/patrycjapiechowicz/Projects/blob/DataWorkshop/module_2_adult_dataset.ipynb\" target=\"_parent\"><img src=\"https://colab.research.google.com/assets/colab-badge.svg\" alt=\"Open In Colab\"/></a>"
      ]
    },
    {
      "cell_type": "markdown",
      "metadata": {
        "collapsed": true,
        "id": "ieuiyO-TLnkp"
      },
      "source": [
        "# [Adult Income](https://bit.ly/2PKU7u9)\n",
        "\n",
        "### Celem jest zastosowanie zdobytej wiedzy do rozwiązania problemu, który już jest znany.\n",
        "\n",
        "Zbiór treningowy jest w `../input/train.adult.h5`.\n",
        "\n",
        "Twoim zadaniem jest ulepszenie jakości modelu wykorzystując do tego bardziej zaawansowany model, np. lasy losowe (ang. *random forest*).\n",
        "\n",
        "Ale nie chodzi tylko o to, aby zmienić model, spójrz na to szerzej. Już wiesz, na ile jest ważne dobranie metryki sukcesu. Rozważ, która metryka w tym przypadku jest najbardziej odpowiednia (możesz założyć pewne sensowne rzeczy, bo nie masz możliwości zapytać \"biznesu\" co dla nich jest ważniejsze).\n",
        "\n",
        "Miej na uwadze **przeuczenie się** i pamiętaj o pomocnikach w tej walce - krzywa uczenia się, jak również podejście do walidacji.\n",
        "\n",
        "Postaraj się również zbadać dokładniej cechy. Jak najbardziej polecam użyć ważności cech.\n",
        "Na koniec pamiętaj o wizualizacji. Dzięki temu możesz znacznie lepiej poznać dane, więc do głowy mogą Ci przyjść lepsze hipotezy.\n",
        "\n",
        "**Pamiętaj**, że w tym zadaniu nie chodzi tylko o najlepszy wynik, a bardziej o sposób myślenia i branie pod uwagę różnych czynników.\n",
        "\n",
        "Poświęć na to zadanie co najmniej **1-2h**. Najlepiej jeśli spędzisz nad tym zadaniem jeszcze więcej czasu :)\n",
        "\n",
        "Życzę powodzenia!\n",
        "\n",
        "## [Formularz](https://bit.ly/31CvyCq)\n",
        "Proszę odpowiedz na kilka pytań, które pomogą mi lepiej zrozumieć, jak usprawnić kolejne moduły. Dziękuję!"
      ]
    },
    {
      "cell_type": "markdown",
      "metadata": {
        "id": "KkDnOg3gLnkx"
      },
      "source": [
        "### Współpraca 💪 i komunikacja 💬\n",
        "\n",
        "- [#pml8_module2](https://bit.ly/31Jzm4A) \n",
        "\n",
        "Jeśli masz pytanie, to staraj się jak najdokładniej je sprecyzować, najlepiej wrzuć screen z twoim kodem i błędem, który się pojawił ✔️\n",
        "\n",
        "- [#pml8_module2_done](https://bit.ly/31HT6Wk) - dziel się wynikami i dyskutuj z innymi na ich temat :) \n",
        "\n"
      ]
    },
    {
      "cell_type": "code",
      "execution_count": null,
      "metadata": {
        "id": "IR8uIEcHLnky"
      },
      "outputs": [],
      "source": [
        "## YOUR CODE HERE"
      ]
    },
    {
      "cell_type": "markdown",
      "metadata": {
        "id": "BHPPE9gKLnk1"
      },
      "source": [
        "### Podziel się ze światem swoimi nowymi umiejętnościami 👏\n",
        "\n",
        "Za Tobą tydzień nauki i nowe umiejętności / doświadczenia. Pochwal się tym na swoim profilu LinkedIn ✔️\n",
        "\n",
        "Dlaczego warto to zrobić? 🤔 \n",
        "\n",
        "Przede wszystkim jest czym się pochwalić, bo wykonujesz właśnie w swoim życiu fajny krok w kierunku lepszej pracy i możliwości zawodowych, umiesz coś nowego, a więc Twoi potencjalni pracodawcy powinni o tym wiedzieć ;) \n",
        "\n",
        "Dodaj *#dataworkshop #newskills #practicalmachinelearning #datascience*\n",
        "\n",
        "Oznacz nas! Będzie nam miło. Nasz profil znajdziesz [tutaj](https://bit.ly/39CWZ3f) 🥰 "
      ]
    },
    {
      "cell_type": "code",
      "execution_count": null,
      "metadata": {
        "id": "BnNT9AQpLnk2"
      },
      "outputs": [],
      "source": []
    }
  ],
  "metadata": {
    "kernelspec": {
      "display_name": "Python 3",
      "language": "python",
      "name": "python3"
    },
    "language_info": {
      "codemirror_mode": {
        "name": "ipython",
        "version": 3
      },
      "file_extension": ".py",
      "mimetype": "text/x-python",
      "name": "python",
      "nbconvert_exporter": "python",
      "pygments_lexer": "ipython3",
      "version": "3.8.6"
    },
    "colab": {
      "provenance": [],
      "include_colab_link": true
    }
  },
  "nbformat": 4,
  "nbformat_minor": 0
}