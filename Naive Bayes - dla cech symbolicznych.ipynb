{
 "cells": [
  {
   "cell_type": "markdown",
   "metadata": {},
   "source": [
    "Naive Bayes Classifier From Scratch\n",
    "\n",
    "In this notebook I will create a naive bayes classifier from scratch, based on created weather dataset and use it to predict the class of a previously unseen instance.\n",
    "\n",
    "Steps: 1.Compute the class probabilities\n",
    "       2.Compute the conditional probabilities\n",
    "       3.Make Predictions with Naive Bayes\n"
   ]
  },
  {
   "cell_type": "code",
   "execution_count": 246,
   "metadata": {},
   "outputs": [],
   "source": [
    "# Import libraries\n",
    "import pandas as pd\n",
    "import numpy as np"
   ]
  },
  {
   "cell_type": "code",
   "execution_count": 247,
   "metadata": {},
   "outputs": [],
   "source": [
    "# Create dataset\n",
    "df=pd.DataFrame()\n",
    "df['outlook']=['sunny','rainy','rainy', 'rainy','rainy','rainy','sunny','sunny','sunny','rainy','sunny','rainy','rainy', 'rainy']\n",
    "df['temp']=['hot','hot','cool','hot','cool','cool','cool','hot','cool','cool','cool','cool','hot','cool']\n",
    "df['humidity']=['high','high','normal','high','normal','normal','normal','normal','normal','normal','normal','normal','normal','high']\n",
    "df['play']=['yes','no','no','no','no','no','yes','yes','yes','no','yes','yes','no','no']"
   ]
  },
  {
   "cell_type": "code",
   "execution_count": 248,
   "metadata": {},
   "outputs": [
    {
     "data": {
      "text/html": [
       "<div>\n",
       "<style scoped>\n",
       "    .dataframe tbody tr th:only-of-type {\n",
       "        vertical-align: middle;\n",
       "    }\n",
       "\n",
       "    .dataframe tbody tr th {\n",
       "        vertical-align: top;\n",
       "    }\n",
       "\n",
       "    .dataframe thead th {\n",
       "        text-align: right;\n",
       "    }\n",
       "</style>\n",
       "<table border=\"1\" class=\"dataframe\">\n",
       "  <thead>\n",
       "    <tr style=\"text-align: right;\">\n",
       "      <th></th>\n",
       "      <th>outlook</th>\n",
       "      <th>temp</th>\n",
       "      <th>humidity</th>\n",
       "      <th>play</th>\n",
       "    </tr>\n",
       "  </thead>\n",
       "  <tbody>\n",
       "    <tr>\n",
       "      <th>0</th>\n",
       "      <td>sunny</td>\n",
       "      <td>hot</td>\n",
       "      <td>high</td>\n",
       "      <td>yes</td>\n",
       "    </tr>\n",
       "    <tr>\n",
       "      <th>1</th>\n",
       "      <td>rainy</td>\n",
       "      <td>hot</td>\n",
       "      <td>high</td>\n",
       "      <td>no</td>\n",
       "    </tr>\n",
       "    <tr>\n",
       "      <th>2</th>\n",
       "      <td>rainy</td>\n",
       "      <td>cool</td>\n",
       "      <td>normal</td>\n",
       "      <td>no</td>\n",
       "    </tr>\n",
       "    <tr>\n",
       "      <th>3</th>\n",
       "      <td>rainy</td>\n",
       "      <td>hot</td>\n",
       "      <td>high</td>\n",
       "      <td>no</td>\n",
       "    </tr>\n",
       "    <tr>\n",
       "      <th>4</th>\n",
       "      <td>rainy</td>\n",
       "      <td>cool</td>\n",
       "      <td>normal</td>\n",
       "      <td>no</td>\n",
       "    </tr>\n",
       "    <tr>\n",
       "      <th>5</th>\n",
       "      <td>rainy</td>\n",
       "      <td>cool</td>\n",
       "      <td>normal</td>\n",
       "      <td>no</td>\n",
       "    </tr>\n",
       "    <tr>\n",
       "      <th>6</th>\n",
       "      <td>sunny</td>\n",
       "      <td>cool</td>\n",
       "      <td>normal</td>\n",
       "      <td>yes</td>\n",
       "    </tr>\n",
       "    <tr>\n",
       "      <th>7</th>\n",
       "      <td>sunny</td>\n",
       "      <td>hot</td>\n",
       "      <td>normal</td>\n",
       "      <td>yes</td>\n",
       "    </tr>\n",
       "    <tr>\n",
       "      <th>8</th>\n",
       "      <td>sunny</td>\n",
       "      <td>cool</td>\n",
       "      <td>normal</td>\n",
       "      <td>yes</td>\n",
       "    </tr>\n",
       "    <tr>\n",
       "      <th>9</th>\n",
       "      <td>rainy</td>\n",
       "      <td>cool</td>\n",
       "      <td>normal</td>\n",
       "      <td>no</td>\n",
       "    </tr>\n",
       "    <tr>\n",
       "      <th>10</th>\n",
       "      <td>sunny</td>\n",
       "      <td>cool</td>\n",
       "      <td>normal</td>\n",
       "      <td>yes</td>\n",
       "    </tr>\n",
       "    <tr>\n",
       "      <th>11</th>\n",
       "      <td>rainy</td>\n",
       "      <td>cool</td>\n",
       "      <td>normal</td>\n",
       "      <td>yes</td>\n",
       "    </tr>\n",
       "    <tr>\n",
       "      <th>12</th>\n",
       "      <td>rainy</td>\n",
       "      <td>hot</td>\n",
       "      <td>normal</td>\n",
       "      <td>no</td>\n",
       "    </tr>\n",
       "    <tr>\n",
       "      <th>13</th>\n",
       "      <td>rainy</td>\n",
       "      <td>cool</td>\n",
       "      <td>high</td>\n",
       "      <td>no</td>\n",
       "    </tr>\n",
       "  </tbody>\n",
       "</table>\n",
       "</div>"
      ],
      "text/plain": [
       "   outlook  temp humidity play\n",
       "0    sunny   hot     high  yes\n",
       "1    rainy   hot     high   no\n",
       "2    rainy  cool   normal   no\n",
       "3    rainy   hot     high   no\n",
       "4    rainy  cool   normal   no\n",
       "5    rainy  cool   normal   no\n",
       "6    sunny  cool   normal  yes\n",
       "7    sunny   hot   normal  yes\n",
       "8    sunny  cool   normal  yes\n",
       "9    rainy  cool   normal   no\n",
       "10   sunny  cool   normal  yes\n",
       "11   rainy  cool   normal  yes\n",
       "12   rainy   hot   normal   no\n",
       "13   rainy  cool     high   no"
      ]
     },
     "execution_count": 248,
     "metadata": {},
     "output_type": "execute_result"
    }
   ],
   "source": [
    "df"
   ]
  },
  {
   "cell_type": "code",
   "execution_count": 249,
   "metadata": {},
   "outputs": [
    {
     "data": {
      "text/plain": [
       "outlook     object\n",
       "temp        object\n",
       "humidity    object\n",
       "play        object\n",
       "dtype: object"
      ]
     },
     "execution_count": 249,
     "metadata": {},
     "output_type": "execute_result"
    }
   ],
   "source": [
    "# Exploratory data analysis\n",
    "df.dtypes"
   ]
  },
  {
   "cell_type": "code",
   "execution_count": 250,
   "metadata": {},
   "outputs": [
    {
     "name": "stdout",
     "output_type": "stream",
     "text": [
      "Unique values for outlook: ['sunny' 'rainy']\n",
      "Unique values for temp: ['hot' 'cool']\n",
      "Unique values for humidity: ['high' 'normal']\n",
      "Unique values for play: ['yes' 'no']\n"
     ]
    }
   ],
   "source": [
    "# Convert categorical input variables and a class variable into numbers\n",
    "print('Unique values for outlook:', df['outlook'].unique())\n",
    "print('Unique values for temp:', df['temp'].unique())\n",
    "print('Unique values for humidity:', df['humidity'].unique())\n",
    "print('Unique values for play:', df['play'].unique())"
   ]
  },
  {
   "cell_type": "code",
   "execution_count": 251,
   "metadata": {},
   "outputs": [],
   "source": [
    "encoding={'outlook': {'sunny':0, 'rainy':1},\n",
    "          'temp': {'hot' : 0,'cool':1},\n",
    "          'humidity':{'high':0, 'normal':1},\n",
    "          'play' :{'no':0,'yes':1}}\n",
    "df=df.replace(encoding)"
   ]
  },
  {
   "cell_type": "code",
   "execution_count": 252,
   "metadata": {},
   "outputs": [
    {
     "data": {
      "text/html": [
       "<div>\n",
       "<style scoped>\n",
       "    .dataframe tbody tr th:only-of-type {\n",
       "        vertical-align: middle;\n",
       "    }\n",
       "\n",
       "    .dataframe tbody tr th {\n",
       "        vertical-align: top;\n",
       "    }\n",
       "\n",
       "    .dataframe thead th {\n",
       "        text-align: right;\n",
       "    }\n",
       "</style>\n",
       "<table border=\"1\" class=\"dataframe\">\n",
       "  <thead>\n",
       "    <tr style=\"text-align: right;\">\n",
       "      <th></th>\n",
       "      <th>outlook</th>\n",
       "      <th>temp</th>\n",
       "      <th>humidity</th>\n",
       "      <th>play</th>\n",
       "    </tr>\n",
       "  </thead>\n",
       "  <tbody>\n",
       "    <tr>\n",
       "      <th>0</th>\n",
       "      <td>0</td>\n",
       "      <td>0</td>\n",
       "      <td>0</td>\n",
       "      <td>1</td>\n",
       "    </tr>\n",
       "    <tr>\n",
       "      <th>1</th>\n",
       "      <td>1</td>\n",
       "      <td>0</td>\n",
       "      <td>0</td>\n",
       "      <td>0</td>\n",
       "    </tr>\n",
       "    <tr>\n",
       "      <th>2</th>\n",
       "      <td>1</td>\n",
       "      <td>1</td>\n",
       "      <td>1</td>\n",
       "      <td>0</td>\n",
       "    </tr>\n",
       "    <tr>\n",
       "      <th>3</th>\n",
       "      <td>1</td>\n",
       "      <td>0</td>\n",
       "      <td>0</td>\n",
       "      <td>0</td>\n",
       "    </tr>\n",
       "    <tr>\n",
       "      <th>4</th>\n",
       "      <td>1</td>\n",
       "      <td>1</td>\n",
       "      <td>1</td>\n",
       "      <td>0</td>\n",
       "    </tr>\n",
       "  </tbody>\n",
       "</table>\n",
       "</div>"
      ],
      "text/plain": [
       "   outlook  temp  humidity  play\n",
       "0        0     0         0     1\n",
       "1        1     0         0     0\n",
       "2        1     1         1     0\n",
       "3        1     0         0     0\n",
       "4        1     1         1     0"
      ]
     },
     "execution_count": 252,
     "metadata": {},
     "output_type": "execute_result"
    }
   ],
   "source": [
    "df.head()"
   ]
  },
  {
   "cell_type": "code",
   "execution_count": 253,
   "metadata": {},
   "outputs": [],
   "source": [
    "#1. Compute class probabilities\n",
    "P_class0=sum(df['play']==0)/len(df['play'])\n",
    "P_class1=sum(df['play']==1)/len(df['play'])"
   ]
  },
  {
   "cell_type": "code",
   "execution_count": 254,
   "metadata": {},
   "outputs": [
    {
     "data": {
      "text/plain": [
       "0.5714285714285714"
      ]
     },
     "execution_count": 254,
     "metadata": {},
     "output_type": "execute_result"
    }
   ],
   "source": [
    "P_class0"
   ]
  },
  {
   "cell_type": "code",
   "execution_count": 255,
   "metadata": {},
   "outputs": [
    {
     "data": {
      "text/plain": [
       "0.42857142857142855"
      ]
     },
     "execution_count": 255,
     "metadata": {},
     "output_type": "execute_result"
    }
   ],
   "source": [
    "P_class1"
   ]
  },
  {
   "cell_type": "code",
   "execution_count": 256,
   "metadata": {},
   "outputs": [],
   "source": [
    "# 2.Calculate the Conditional Probabilities of each input value given each class value\n",
    "\n",
    "# Example - Outlook Input Variable :\n",
    "#P(outlook=sunny|class=play) = count(outlook=sunny and class=play) / count(class=play)\n",
    "#P(outlook=sunny|class=stay-home) = count(outlook=sunny and class=stay-home) / count(class=stay-home)\n",
    "#P(outlook=rainy|class=play) = count(outlook=rainy and class=play) / count(class=play)\n",
    "#P(outlook=rainy|class=stay_home) = count(outlook=rainy and class=stay_home) / count(class=stay_home)"
   ]
  },
  {
   "cell_type": "code",
   "execution_count": 257,
   "metadata": {},
   "outputs": [],
   "source": [
    "# Outlook Input Variable :\n",
    "p_outlook_sunny_play=(sum(df['outlook']==0)+ sum(df['play']==1))/ sum(df['play']==1)\n",
    "p_outlook_sunny_stayhome=(sum(df['outlook']==0)+ sum(df['play']==0))/ sum(df['play']==0)\n",
    "p_outlook_rainy_play=(sum(df['outlook']==1)+ sum(df['play']==1))/ sum(df['play']==1)\n",
    "p_outlook_rainy_stayhome=(sum(df['outlook']==1)+ sum(df['play']==0))/ sum(df['play']==0)"
   ]
  },
  {
   "cell_type": "code",
   "execution_count": 258,
   "metadata": {},
   "outputs": [
    {
     "name": "stdout",
     "output_type": "stream",
     "text": [
      "The conditional probability for Outlook sunny and play class 1.8333333333333333\n",
      "The conditional probability for Outlook sunny and stay_home class 1.625\n",
      "The conditional probability for Outlook rainy and play class 2.5\n",
      "The conditional probability for Outlook rainy and stay_home class 2.125\n"
     ]
    }
   ],
   "source": [
    "print('The conditional probability for Outlook sunny and play class',p_outlook_sunny_play)\n",
    "print('The conditional probability for Outlook sunny and stay_home class',p_outlook_sunny_stayhome)\n",
    "print('The conditional probability for Outlook rainy and play class',p_outlook_rainy_play)\n",
    "print('The conditional probability for Outlook rainy and stay_home class',p_outlook_rainy_stayhome)"
   ]
  },
  {
   "cell_type": "code",
   "execution_count": 259,
   "metadata": {},
   "outputs": [],
   "source": [
    "# Temp Input Variable :\n",
    "p_temp_hot_play=(sum(df['temp']==0)+ sum(df['play']==1))/ sum(df['play']==1)\n",
    "p_temp_hot_stayhome=(sum(df['temp']==0)+ sum(df['play']==0))/ sum(df['play']==0)\n",
    "p_temp_cool_play=(sum(df['temp']==1)+ sum(df['play']==1))/ sum(df['play']==1)\n",
    "p_temp_cool_stayhome=(sum(df['temp']==1)+ sum(df['play']==0))/ sum(df['play']==0)"
   ]
  },
  {
   "cell_type": "code",
   "execution_count": 260,
   "metadata": {},
   "outputs": [
    {
     "name": "stdout",
     "output_type": "stream",
     "text": [
      "The conditional probability for temp hot and play class 1.8333333333333333\n",
      "The conditional probability for temp hot and stay_home class 1.625\n",
      "The conditional probability for temp cool and play class 2.5\n",
      "The conditional probability for temp cool and stay_home class 2.125\n"
     ]
    }
   ],
   "source": [
    "print('The conditional probability for temp hot and play class',p_temp_hot_play)\n",
    "print('The conditional probability for temp hot and stay_home class',p_temp_hot_stayhome)\n",
    "print('The conditional probability for temp cool and play class',p_temp_cool_play)\n",
    "print('The conditional probability for temp cool and stay_home class',p_temp_cool_stayhome)"
   ]
  },
  {
   "cell_type": "code",
   "execution_count": 261,
   "metadata": {},
   "outputs": [],
   "source": [
    "# Humidity Input Variable :\n",
    "p_humidity_high_play=(sum(df['humidity']==0)+ sum(df['play']==1))/ sum(df['play']==1)\n",
    "p_humidity_high_stayhome=(sum(df['humidity']==0)+ sum(df['play']==0))/ sum(df['play']==0)\n",
    "p_humidity_normal_play=(sum(df['humidity']==1)+ sum(df['play']==1))/ sum(df['play']==1)\n",
    "p_humidity_normal_stayhome=(sum(df['humidity']==1)+ sum(df['play']==0))/ sum(df['play']==0)"
   ]
  },
  {
   "cell_type": "code",
   "execution_count": 262,
   "metadata": {},
   "outputs": [
    {
     "name": "stdout",
     "output_type": "stream",
     "text": [
      "The conditional probability for humidity high and play class 1.6666666666666667\n",
      "The conditional probability for humidity high and stay_home class 1.5\n",
      "The conditional probability for humidity normal and play class 2.6666666666666665\n",
      "The conditional probability for humidity normal and stay_home class 2.25\n"
     ]
    }
   ],
   "source": [
    "print('The conditional probability for humidity high and play class',p_humidity_high_play)\n",
    "print('The conditional probability for humidity high and stay_home class',p_humidity_high_stayhome)\n",
    "print('The conditional probability for humidity normal and play class',p_humidity_normal_play)\n",
    "print('The conditional probability for humidity normal and stay_home class',p_humidity_normal_stayhome)"
   ]
  },
  {
   "cell_type": "code",
   "execution_count": 263,
   "metadata": {},
   "outputs": [],
   "source": [
    "#3. Make Predictions with Naive Bayes"
   ]
  },
  {
   "cell_type": "markdown",
   "metadata": {},
   "source": [
    "## Naive Bayes algorithm intuition\n",
    "\n",
    "Bayes theorem allows us to make predictions based on data. Naïve Bayes Classifier uses the Bayes’ theorem to predict membership probabilities for each class such as the probability that given record or data point belongs to a particular class. The class with the highest probability is considered as the most likely class. Here is the classic version of the Bayes theorem:\n",
    "\n",
    "### P(A∣B)= P(B∣A) * P(A) / P(B)\n",
    "In words:\n",
    "\n",
    "P(class∣data) = P(data∣class) * P(class) / P(data)\n",
    "class - is a particular class (in our example class is 0,1 or 2)\n",
    "\n",
    "data - is an observation’s data\n",
    "\n",
    "p(class∣data) - is called the posterior - this is what we are looking for\n",
    "\n",
    "p(data|class) - is called the likelihood - for real data, like here, we calculate it from probability density function. We need to calculate it for every feature in the dataset. The “gaussian” and “naive” come from two assumptions present in this likelihood:\n",
    "\n",
    "#### Assumption that each feature is uncorrelated from each other. This is obviously not true, and is a “naive” assumption - hence the name “naive bayes.”\n",
    "#### Assumption that the value of the features (e.g. petal_length) are normally (gaussian) distributed. This means that P(data/class) is calculated by inputing the required parameters into the probability density function of the normal distribution:\n",
    "p(class) - is called the prior. This is just the number of instances belonging to particular class in the dataset divided by the total number of instances in the dataset. p(data) - is called the marginal probability, which is the same for all classes and will be ignored.\n",
    "\n",
    "In a bayes classifier, we calculate the numerator of posterior for every class for each observation and of course we pick the largets. This is also known as the Maximum A Posteriori (MAP)\n",
    "\n",
    "## MAP = max(P(B|A) * P(A))\n"
   ]
  },
  {
   "cell_type": "code",
   "execution_count": 264,
   "metadata": {},
   "outputs": [],
   "source": [
    "# Let's take the example - first record from dataset:\n",
    "# outlook=sunny, temp=hot, humidity=high, class=stayhome\n",
    "\n",
    "#play=P(outlook=sunny|class=play) * P(temp=hot|class=play) * P(humidity=high|class=play) * P(class=play)\n",
    "#stayhome==P(outlook=sunny|class=stayhome) * P(temp=hot|class=stayhome) * P(humidity=high|class=stayhome) * P(class=stayhome)"
   ]
  },
  {
   "cell_type": "code",
   "execution_count": 265,
   "metadata": {},
   "outputs": [],
   "source": [
    "play=p_outlook_sunny_play * p_temp_hot_play * p_humidity_high_play *P_class1\n",
    "stayhome=p_outlook_sunny_stayhome * p_temp_hot_stayhome * p_humidity_high_stayhome *P_class0"
   ]
  },
  {
   "cell_type": "code",
   "execution_count": 266,
   "metadata": {},
   "outputs": [
    {
     "name": "stdout",
     "output_type": "stream",
     "text": [
      "Probability for the first row of dataset to play: 2.4007936507936503\n",
      "Probability for the first row of dataset to stayhome: 2.263392857142857\n"
     ]
    }
   ],
   "source": [
    "print('Probability for the first row of dataset to play:', play)\n",
    "print('Probability for the first row of dataset to stayhome:', stayhome)"
   ]
  },
  {
   "cell_type": "code",
   "execution_count": 267,
   "metadata": {},
   "outputs": [],
   "source": [
    "# The highest probability is for the class 1 - play, what is correct according to dataset."
   ]
  },
  {
   "cell_type": "markdown",
   "metadata": {},
   "source": [
    "Below I create a new instance for which we know feature values but not the class. The goal is to predict the class."
   ]
  },
  {
   "cell_type": "code",
   "execution_count": 268,
   "metadata": {},
   "outputs": [],
   "source": [
    "df_test=pd.DataFrame()\n",
    "df_test['outlook']=[0]\n",
    "df_test['temp']=1\n",
    "df_test['humidity']=0"
   ]
  },
  {
   "cell_type": "code",
   "execution_count": 269,
   "metadata": {},
   "outputs": [
    {
     "data": {
      "text/html": [
       "<div>\n",
       "<style scoped>\n",
       "    .dataframe tbody tr th:only-of-type {\n",
       "        vertical-align: middle;\n",
       "    }\n",
       "\n",
       "    .dataframe tbody tr th {\n",
       "        vertical-align: top;\n",
       "    }\n",
       "\n",
       "    .dataframe thead th {\n",
       "        text-align: right;\n",
       "    }\n",
       "</style>\n",
       "<table border=\"1\" class=\"dataframe\">\n",
       "  <thead>\n",
       "    <tr style=\"text-align: right;\">\n",
       "      <th></th>\n",
       "      <th>outlook</th>\n",
       "      <th>temp</th>\n",
       "      <th>humidity</th>\n",
       "    </tr>\n",
       "  </thead>\n",
       "  <tbody>\n",
       "    <tr>\n",
       "      <th>0</th>\n",
       "      <td>0</td>\n",
       "      <td>1</td>\n",
       "      <td>0</td>\n",
       "    </tr>\n",
       "  </tbody>\n",
       "</table>\n",
       "</div>"
      ],
      "text/plain": [
       "   outlook  temp  humidity\n",
       "0        0     1         0"
      ]
     },
     "execution_count": 269,
     "metadata": {},
     "output_type": "execute_result"
    }
   ],
   "source": [
    "df_test"
   ]
  },
  {
   "cell_type": "code",
   "execution_count": 270,
   "metadata": {},
   "outputs": [],
   "source": [
    "test=df_test.to_numpy()"
   ]
  },
  {
   "cell_type": "code",
   "execution_count": 271,
   "metadata": {},
   "outputs": [],
   "source": [
    "test_play=p_outlook_rainy_play * p_temp_hot_play * p_humidity_normal_play *P_class1\n",
    "test_stayhome=p_outlook_rainy_stayhome * p_temp_hot_stayhome * p_humidity_normal_stayhome *P_class0"
   ]
  },
  {
   "cell_type": "code",
   "execution_count": 272,
   "metadata": {},
   "outputs": [
    {
     "name": "stdout",
     "output_type": "stream",
     "text": [
      "Probability for the test row of dataset to play: 5.238095238095237\n",
      "Probability for the test row of dataset to stayhome: 4.439732142857142\n"
     ]
    }
   ],
   "source": [
    "print('Probability for the test row of dataset to play:', test_play)\n",
    "print('Probability for the test row of dataset to stayhome:', test_stayhome)"
   ]
  },
  {
   "cell_type": "code",
   "execution_count": 273,
   "metadata": {},
   "outputs": [],
   "source": [
    "# Because the posteriori for class = 1 is the greatest, then we predict that the class for the test instance is to play."
   ]
  }
 ],
 "metadata": {
  "kernelspec": {
   "display_name": "Python 3",
   "language": "python",
   "name": "python3"
  },
  "language_info": {
   "codemirror_mode": {
    "name": "ipython",
    "version": 3
   },
   "file_extension": ".py",
   "mimetype": "text/x-python",
   "name": "python",
   "nbconvert_exporter": "python",
   "pygments_lexer": "ipython3",
   "version": "3.7.4"
  }
 },
 "nbformat": 4,
 "nbformat_minor": 2
}
