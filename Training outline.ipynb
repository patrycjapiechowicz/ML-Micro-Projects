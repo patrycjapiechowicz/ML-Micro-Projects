{
 "cells": [
  {
   "cell_type": "markdown",
   "metadata": {},
   "source": [
    "# Training outline\n",
    "\n",
    "## 1. Wprowadzenie do architektury GPU – obliczenia równoległe\n",
    "\n",
    "##  Przetwarzanie danych na GPU\n",
    "     Numba - GPU kernel programming\n",
    "     CuPy - Numpy on GPU\n",
    "     cuDF - Pandas on GPU\n",
    "     cuML - Scikit-learn on GPU\n",
    "     DASK - distribute workflow across multiple GPUs\n",
    "    \n",
    "## 3. Machine Learning na GPU\n",
    "     Classification\n",
    "     Regression \n",
    "     Clustering\n",
    "     \n",
    "## 4.  Deep Learning na GPU"
   ]
  }
 ],
 "metadata": {
  "kernelspec": {
   "display_name": "Python 3 (ipykernel)",
   "language": "python",
   "name": "python3"
  },
  "language_info": {
   "codemirror_mode": {
    "name": "ipython",
    "version": 3
   },
   "file_extension": ".py",
   "mimetype": "text/x-python",
   "name": "python",
   "nbconvert_exporter": "python",
   "pygments_lexer": "ipython3",
   "version": "3.9.12"
  }
 },
 "nbformat": 4,
 "nbformat_minor": 2
}
